{
 "cells": [
  {
   "cell_type": "code",
   "execution_count": 1,
   "id": "6dc43539-6566-438f-81f2-3e0a7bbb3eb5",
   "metadata": {},
   "outputs": [],
   "source": [
    "import numpy as np\n",
    "import conformal_ensembles as ce"
   ]
  },
  {
   "cell_type": "code",
   "execution_count": 6,
   "id": "83a02af1-50de-47db-a13e-6c285bd94b6e",
   "metadata": {},
   "outputs": [],
   "source": [
    "# significance level\n",
    "alpha = 0.1\n",
    "\n",
    "# calibration data\n",
    "np.random.seed(1023)\n",
    "y_cal = np.random.randn(500, 30, 30)\n",
    "yhat_cal = np.random.randn(500, 30, 30)\n",
    "\n",
    "# test data\n",
    "y_test = np.random.randn(500, 30, 30)\n",
    "yhat_test = np.random.randn(500, 30, 30)\n",
    "\n",
    "# compute residuals\n",
    "res_val = y_cal - yhat_cal\n",
    "res_test = y_test - yhat_test\n",
    "\n",
    "# cutoff value\n",
    "q_val = ce.conf_quantile(res_val, alpha)\n",
    "depth_test = ce.tukey_depth(res_val, res_test)\n",
    "np.mean(depth_test >= q_val) # 0.90200\n",
    "\n",
    "# full ensemble\n",
    "ens_val = ce.conf_ensemble(res_val, alpha)"
   ]
  },
  {
   "cell_type": "code",
   "execution_count": null,
   "id": "df28d5e1-af51-41a9-96b0-853b1b54eca8",
   "metadata": {},
   "outputs": [],
   "source": []
  }
 ],
 "metadata": {
  "kernelspec": {
   "display_name": "Python 3 (ipykernel)",
   "language": "python",
   "name": "python3"
  },
  "language_info": {
   "codemirror_mode": {
    "name": "ipython",
    "version": 3
   },
   "file_extension": ".py",
   "mimetype": "text/x-python",
   "name": "python",
   "nbconvert_exporter": "python",
   "pygments_lexer": "ipython3",
   "version": "3.12.3"
  }
 },
 "nbformat": 4,
 "nbformat_minor": 5
}
