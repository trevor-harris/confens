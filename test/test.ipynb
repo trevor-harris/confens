{
 "cells": [
  {
   "cell_type": "code",
   "execution_count": null,
   "id": "cf1a9e33-cbd1-4a63-bf59-b4d455012820",
   "metadata": {},
   "outputs": [],
   "source": [
    "# # numpy\n",
    "# import numpy as np\n",
    "# import scipy\n",
    "# np.set_printoptions(suppress=True)\n",
    "\n",
    "# import jax\n",
    "# from jax import vmap, grad, jit, random\n",
    "# import jax.numpy as jnp\n",
    "\n",
    "# # plotting\n",
    "# import matplotlib\n",
    "# import matplotlib.pyplot as plt\n",
    "# from matplotlib import ticker\n",
    "# from matplotlib.ticker import FormatStrFormatter\n",
    "# plt.style.use('default')\n",
    "\n",
    "# from matplotlib.gridspec import GridSpec\n",
    "# from matplotlib import colors\n",
    "# from matplotlib import cm\n",
    "# from matplotlib.colors import ListedColormap, LinearSegmentedColormap\n",
    "\n",
    "# from tqdm.notebook import tqdm\n",
    "# from tqdm.notebook import trange\n",
    "\n",
    "# from scipy.stats import genextreme, norm\n",
    "\n",
    "# from confens.metrics import *"
   ]
  },
  {
   "cell_type": "code",
   "execution_count": 1,
   "id": "afaa6a27-1ea5-478e-b93a-5e2737c035b0",
   "metadata": {},
   "outputs": [],
   "source": [
    "import conformal_ensembles"
   ]
  },
  {
   "cell_type": "code",
   "execution_count": 3,
   "id": "610e6bf3-17d3-4cbf-b156-49eb89e92ab8",
   "metadata": {},
   "outputs": [
    {
     "ename": "SyntaxError",
     "evalue": "invalid syntax (309210680.py, line 1)",
     "output_type": "error",
     "traceback": [
      "\u001b[0;36m  Cell \u001b[0;32mIn[3], line 1\u001b[0;36m\u001b[0m\n\u001b[0;31m    confens.\u001b[0m\n\u001b[0m            ^\u001b[0m\n\u001b[0;31mSyntaxError\u001b[0m\u001b[0;31m:\u001b[0m invalid syntax\n"
     ]
    }
   ],
   "source": [
    "from confens.classifiers import "
   ]
  },
  {
   "cell_type": "code",
   "execution_count": null,
   "id": "df28d5e1-af51-41a9-96b0-853b1b54eca8",
   "metadata": {},
   "outputs": [],
   "source": []
  }
 ],
 "metadata": {
  "kernelspec": {
   "display_name": "Python 3 (ipykernel)",
   "language": "python",
   "name": "python3"
  },
  "language_info": {
   "codemirror_mode": {
    "name": "ipython",
    "version": 3
   },
   "file_extension": ".py",
   "mimetype": "text/x-python",
   "name": "python",
   "nbconvert_exporter": "python",
   "pygments_lexer": "ipython3",
   "version": "3.12.3"
  }
 },
 "nbformat": 4,
 "nbformat_minor": 5
}
