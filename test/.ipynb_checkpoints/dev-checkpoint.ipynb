{
 "cells": [
  {
   "cell_type": "code",
   "execution_count": 17,
   "id": "cd09e2e8-4f42-4185-b427-a1a1f441b582",
   "metadata": {},
   "outputs": [],
   "source": [
    "# numpy\n",
    "import numpy as np\n",
    "import scipy\n",
    "np.set_printoptions(suppress=True)\n",
    "\n",
    "import jax\n",
    "from jax import vmap, grad, jit, random\n",
    "import jax.numpy as jnp\n",
    "\n",
    "# plotting\n",
    "import matplotlib\n",
    "import matplotlib.pyplot as plt\n",
    "from matplotlib import ticker\n",
    "from matplotlib.ticker import FormatStrFormatter\n",
    "plt.style.use('default')\n",
    "\n",
    "from matplotlib.gridspec import GridSpec\n",
    "from matplotlib import colors\n",
    "from matplotlib import cm\n",
    "from matplotlib.colors import ListedColormap, LinearSegmentedColormap\n",
    "\n",
    "from tqdm.notebook import tqdm\n",
    "from tqdm.notebook import trange\n",
    "\n",
    "from scipy.stats import genextreme, norm"
   ]
  },
  {
   "cell_type": "code",
   "execution_count": 223,
   "id": "49a4636c-f87b-4396-afa3-51ce51a8ecc6",
   "metadata": {},
   "outputs": [],
   "source": [
    "def tukey1d(x, y):\n",
    "    f1 = jnp.mean(x < y)\n",
    "    f2 = jnp.mean(x > y)\n",
    "    f = jnp.vstack([f1, f2])\n",
    "    return 2*jnp.min(f)\n",
    "tukey1d = vmap(tukey1d, (None, 0))\n",
    "tukey2d = vmap(vmap(tukey1d, (1, 1)), (1, 1))\n",
    "\n",
    "def tukey_depth(x, y):\n",
    "    depth = tukey2d(x, y)\n",
    "    return jnp.mean(depth, axis = (0, 1))\n",
    "tukey_depth = jit(tukey_depth)"
   ]
  },
  {
   "cell_type": "code",
   "execution_count": null,
   "id": "c33f08ff-8bea-4f94-ab3e-c72e679be261",
   "metadata": {},
   "outputs": [],
   "source": []
  },
  {
   "cell_type": "code",
   "execution_count": null,
   "id": "f15fd9f2-6107-4b39-bf8c-e961aa442997",
   "metadata": {},
   "outputs": [],
   "source": []
  },
  {
   "cell_type": "code",
   "execution_count": 212,
   "id": "1cb4230c-a175-4e97-8b7f-d918f100f1e8",
   "metadata": {},
   "outputs": [],
   "source": [
    "# Estimates the cutoff value conformal inference on spatiotemporal processes. Assumes tukey depth.\n",
    "def conf_quantile(res_val, alpha):\n",
    "    '''\n",
    "    Parameters\n",
    "    ----------\n",
    "\n",
    "    res_val: 3D tensor (n, p1, p2)\n",
    "        n = sample size\n",
    "        p1 = spatial dim 1\n",
    "        p2 = spatial dim 2\n",
    "\n",
    "        Residual fields from the calibration / validation set, i.e. y - y_hat\n",
    "\n",
    "\n",
    "    alpha: float\n",
    "        confidence level between 0 and 1\n",
    "\n",
    "    Returns\n",
    "    -------\n",
    "    Cutoff value for depths to generate an alpha level prediction set.\n",
    "    '''\n",
    "\n",
    "    nval = res_val.shape[0]\n",
    "    adj_alpha = jnp.ceil((1 - alpha) * (nval + 1))/(nval + 1)\n",
    "\n",
    "    # compute the calibration depths\n",
    "    depth_val = tukey_depth(res_val, res_val)\n",
    "\n",
    "    # smoothed quantile estimator\n",
    "    q_val = jnp.sort(depth_val)[nval-int(np.ceil((1 - alpha) * (nval + 1)))]\n",
    "\n",
    "    return q_val\n",
    "    \n",
    "# Generates the conformal ensemble. Assumes tukey depth.\n",
    "def conf_ensemble(res_val, alpha):\n",
    "    '''\n",
    "    Parameters\n",
    "    ----------\n",
    "\n",
    "    res_val: 3D tensor (n, p1, p2)\n",
    "        n = sample size\n",
    "        p1 = spatial dim 1\n",
    "        p2 = spatial dim 2\n",
    "\n",
    "        Residual fields from the calibration / validation set, i.e. y - y_hat\n",
    "\n",
    "\n",
    "    alpha: float\n",
    "        confidence level between 0 and 1\n",
    "\n",
    "    Returns\n",
    "    -------\n",
    "    Full alpha level conformal ensemble. Add these fields onto predictions to generate prediction sets.\n",
    "    '''\n",
    "    \n",
    "    nval = res_val.shape[0]\n",
    "    adj_alpha = jnp.ceil((1 - alpha) * (nval + 1))/(nval + 1)\n",
    "\n",
    "    # compute the calibration depths\n",
    "    depth_val = tukey_depth(res_val, res_val)\n",
    "    \n",
    "    # smoothed quantile estimator\n",
    "    q_val = jnp.sort(depth_val)[nval-int(np.ceil((1 - alpha) * (nval + 1)))]\n",
    "\n",
    "    return res_val[depth_val >= q_val]"
   ]
  },
  {
   "cell_type": "code",
   "execution_count": null,
   "id": "d6bb4003-7038-4aab-b3af-0ee528c691bc",
   "metadata": {},
   "outputs": [],
   "source": []
  },
  {
   "cell_type": "code",
   "execution_count": 256,
   "id": "74c0fdaf-81d1-4f9a-b578-91ce769c9b19",
   "metadata": {},
   "outputs": [],
   "source": [
    "# significance level\n",
    "alpha = 0.1\n",
    "\n",
    "# calibration data\n",
    "np.random.seed(1023)\n",
    "y_cal = np.random.randn(500, 30, 30)\n",
    "yhat_cal = np.random.randn(500, 30, 30)\n",
    "\n",
    "# test data\n",
    "y_test = np.random.randn(500, 30, 30)\n",
    "yhat_test = np.random.randn(500, 30, 30)\n",
    "\n",
    "# compute residuals\n",
    "res_val = y_cal - yhat_cal\n",
    "res_test = y_test - yhat_test\n",
    "\n",
    "# cutoff value\n",
    "q_val = conf_quantile(res_val, alpha)\n",
    "\n",
    "# full ensemble\n",
    "ens_val = conf_ensemble(res_val, alpha)"
   ]
  },
  {
   "cell_type": "code",
   "execution_count": 257,
   "id": "19a25659-8fd3-4662-ab98-6bbe2cecda1b",
   "metadata": {},
   "outputs": [
    {
     "data": {
      "text/plain": [
       "Array(0.48624894, dtype=float32)"
      ]
     },
     "execution_count": 257,
     "metadata": {},
     "output_type": "execute_result"
    }
   ],
   "source": [
    "q_val = conf_quantile(res_val, alpha)\n",
    "q_val"
   ]
  },
  {
   "cell_type": "code",
   "execution_count": 258,
   "id": "c2c2fc3f-b521-41f9-8132-41203e949486",
   "metadata": {},
   "outputs": [],
   "source": [
    "depth_test = tukey_depth(res_val, res_test)\n",
    "jnp.mean(depth_test >= q_val)"
   ]
  },
  {
   "cell_type": "code",
   "execution_count": 259,
   "id": "18e4e7ab-dce7-4f0e-88c6-9f59f86150ca",
   "metadata": {},
   "outputs": [
    {
     "data": {
      "text/plain": [
       "Array(0.90200007, dtype=float32)"
      ]
     },
     "execution_count": 259,
     "metadata": {},
     "output_type": "execute_result"
    }
   ],
   "source": [
    "jnp.mean(depth_test >= q_val)"
   ]
  },
  {
   "cell_type": "code",
   "execution_count": null,
   "id": "d0ea2896-fccc-477e-98c3-3c4f5c98d7e3",
   "metadata": {},
   "outputs": [],
   "source": []
  },
  {
   "cell_type": "code",
   "execution_count": 230,
   "id": "19c1ebf8-732d-4a23-be66-9985161491da",
   "metadata": {},
   "outputs": [],
   "source": [
    "ens_val = conf_ensemble(res_val, alpha)"
   ]
  },
  {
   "cell_type": "code",
   "execution_count": 231,
   "id": "dbc496c4-e199-44ca-8a32-a061e213b5b9",
   "metadata": {},
   "outputs": [
    {
     "data": {
      "text/plain": [
       "(451, 30, 30)"
      ]
     },
     "execution_count": 231,
     "metadata": {},
     "output_type": "execute_result"
    }
   ],
   "source": [
    "ens_val.shape"
   ]
  },
  {
   "cell_type": "code",
   "execution_count": null,
   "id": "5a7ebbfa-00f1-4212-8c5e-af5df7bfd924",
   "metadata": {},
   "outputs": [],
   "source": []
  },
  {
   "cell_type": "code",
   "execution_count": null,
   "id": "1d14f6eb-17d9-4c77-9369-8fa55d246a67",
   "metadata": {},
   "outputs": [],
   "source": []
  }
 ],
 "metadata": {
  "kernelspec": {
   "display_name": "Python 3 (ipykernel)",
   "language": "python",
   "name": "python3"
  },
  "language_info": {
   "codemirror_mode": {
    "name": "ipython",
    "version": 3
   },
   "file_extension": ".py",
   "mimetype": "text/x-python",
   "name": "python",
   "nbconvert_exporter": "python",
   "pygments_lexer": "ipython3",
   "version": "3.12.3"
  }
 },
 "nbformat": 4,
 "nbformat_minor": 5
}
