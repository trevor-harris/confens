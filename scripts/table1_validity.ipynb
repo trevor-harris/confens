{
 "cells": [
  {
   "cell_type": "markdown",
   "id": "6d3f97bb",
   "metadata": {},
   "source": [
    "# Validity testing\n",
    "\n",
    "- Models: ensemble average, reliability average, linear regression, delta method, NNGP, CNN\n",
    "- Depths: l2 depth, linf depth, neighbor depth, \n",
    "- Shift: quantile corrected and uncorrected\n",
    "- Variables: WN, TAS, TASMAX, PR"
   ]
  },
  {
   "cell_type": "code",
   "execution_count": 1,
   "id": "9c2bb662",
   "metadata": {},
   "outputs": [],
   "source": [
    "import os\n",
    "import gc\n",
    "import math\n",
    "\n",
    "# numpy\n",
    "import numpy as np\n",
    "import scipy\n",
    "np.set_printoptions(suppress=True)\n",
    "\n",
    "# from jax\n",
    "import jax\n",
    "from jax import jacfwd, jacrev\n",
    "from jax import vmap, grad, jit, random\n",
    "from jax.config import config\n",
    "import jax.numpy as jnp\n",
    "from jax.tree_util import tree_map, tree_flatten, tree_unflatten, tree_leaves\n",
    "\n",
    "import haiku as hk\n",
    "import flax\n",
    "from flax import linen as nn\n",
    "import optax\n",
    "\n",
    "import properscoring as ps\n",
    "\n",
    "config.update(\"jax_enable_x64\", True)\n",
    "\n",
    "# plotting\n",
    "import matplotlib\n",
    "import matplotlib.pyplot as plt\n",
    "from matplotlib import ticker\n",
    "from matplotlib.ticker import FormatStrFormatter\n",
    "plt.style.use('default')\n",
    "\n",
    "from matplotlib.gridspec import GridSpec\n",
    "from matplotlib import colors\n",
    "from matplotlib import cm\n",
    "from matplotlib.colors import ListedColormap, LinearSegmentedColormap\n",
    "\n",
    "from tqdm.notebook import tqdm\n",
    "from tqdm.notebook import trange\n",
    "\n",
    "# netCDF\n",
    "import netCDF4 as nc\n",
    "import pickle\n",
    "import warnings\n",
    "warnings.filterwarnings('ignore')\n",
    "\n",
    "from sklearn.decomposition import PCA"
   ]
  },
  {
   "cell_type": "code",
   "execution_count": 2,
   "id": "53661bf0",
   "metadata": {},
   "outputs": [],
   "source": [
    "def moving_average(a, n=12):\n",
    "    ret = np.cumsum(a, dtype=float)\n",
    "    ret[n:] = ret[n:] - ret[:-n]\n",
    "    return ret[n - 1:] / n\n",
    "\n",
    "def mse_weighted(x, y):\n",
    "    nlat = x.shape[1]\n",
    "    weight = np.cos(np.linspace(math.pi/2 - 1/nlat, -math.pi/2 + 1/nlat, nlat))\n",
    "    weight /= np.mean(weight)\n",
    "    weight = weight[None,:,None]\n",
    "    \n",
    "    return np.sqrt(np.mean((x - y)**2 * weight, axis = (1, 2)))\n",
    "\n",
    "def resize_model(x, dim1, dim2): \n",
    "    x = np.moveaxis(x, 0, 2)\n",
    "    x = resize(x, (dim1, dim2))\n",
    "    x = np.moveaxis(x, 2, 0)\n",
    "    return x\n",
    "\n",
    "def sliced_wasserstein(x, y, w):\n",
    "    x = x @ w\n",
    "    y = y @ w\n",
    "    \n",
    "    qx = jnp.quantile(x, q = jnp.linspace(0, 1, 100), axis = 0)\n",
    "    qy = jnp.quantile(y, q = jnp.linspace(0, 1, 100), axis = 0)\n",
    "    return jnp.mean(jnp.sqrt(jnp.mean((qx - qy)**2, axis = 0)))\n",
    "\n",
    "sliced_wasserstein = jit(sliced_wasserstein)\n",
    "\n",
    "def sigmoid(x):\n",
    "    return 1 / (1 + np.exp(-x))\n",
    "\n",
    "def logit(x):\n",
    "    return np.log(x/(1-x))\n",
    "\n",
    "def softplus(x):\n",
    "    return np.log(1 + np.exp(x))\n",
    "\n",
    "def inv_softplus(x):\n",
    "    return np.log(np.exp(x) - 1)"
   ]
  },
  {
   "cell_type": "code",
   "execution_count": 3,
   "id": "64dda7ec",
   "metadata": {},
   "outputs": [],
   "source": [
    "def width_weighted(x):\n",
    "    nlat = x.shape[1]\n",
    "    weight = jnp.cos(np.linspace(math.pi/2 - 1/nlat, -math.pi/2 + 1/nlat, nlat))\n",
    "    weight2 = weight/jnp.mean(weight)\n",
    "    weight2 = weight2[:,None]\n",
    "    \n",
    "    width = jnp.max(x, axis = 0) - jnp.min(x, axis = 0)\n",
    "    return jnp.mean(width * weight2)\n",
    "\n",
    "width_weighted = jit(width_weighted)"
   ]
  },
  {
   "cell_type": "code",
   "execution_count": 4,
   "id": "ffc3bd74",
   "metadata": {},
   "outputs": [],
   "source": [
    "def scale_and_split(xtrain, xtest, model_no, nval = 200, reshape = False):\n",
    "    ytrain = xtrain[:,model_no]\n",
    "    ytest = xtest[:,model_no]\n",
    "    xtrain = np.delete(xtrain, model_no, axis=1)\n",
    "    xtest = np.delete(xtest, model_no, axis=1)\n",
    "\n",
    "    ## dimensions\n",
    "    ntrain = xtrain.shape[0]\n",
    "    ntest = xtest.shape[0]\n",
    "    nlat = xtrain.shape[2]\n",
    "    nlon = xtrain.shape[3]\n",
    "\n",
    "    ## rescale\n",
    "    xtrain_mean = np.mean(xtrain, axis = 1)\n",
    "    xtest_mean = np.mean(xtest, axis = 1)\n",
    "    xtrain_sd = np.std(xtrain, axis = 1)\n",
    "    xtest_sd = np.std(xtest, axis = 1)\n",
    "\n",
    "    xtrain_scaled = (xtrain - xtrain_mean[:,None]) / xtrain_sd[:,None]\n",
    "    xtest_scaled = (xtest - xtest_mean[:,None]) / xtest_sd[:,None]\n",
    "    ytrain_scaled = (ytrain - xtrain_mean) / xtrain_sd\n",
    "    ytest_scaled = (ytest - xtest_mean) / xtest_sd\n",
    "\n",
    "    ## convert\n",
    "    if reshape:\n",
    "        xtrain_scaled = xtrain_scaled.reshape(ntrain, -1)\n",
    "        xtest_scaled = xtest_scaled.reshape(ntest, -1)\n",
    "        ytrain_scaled = ytrain_scaled.reshape(ntrain, -1)\n",
    "        ytest_scaled = ytest_scaled.reshape(ntest, -1)\n",
    "\n",
    "    xtrain_scaled = jnp.array(xtrain_scaled)\n",
    "    xtest_scaled = jnp.array(xtest_scaled)\n",
    "    ytrain_scaled = jnp.array(ytrain_scaled)\n",
    "    ytest_scaled = jnp.array(ytest_scaled)\n",
    "\n",
    "    xval_scaled = xtrain_scaled[-nval:]\n",
    "    yval_scaled = ytrain_scaled[-nval:]\n",
    "    xtrain_scaled = xtrain_scaled[:-nval]\n",
    "    ytrain_scaled = ytrain_scaled[:-nval]\n",
    "    \n",
    "    return xtrain_scaled, xval_scaled, xtest_scaled, ytrain_scaled, yval_scaled, ytest_scaled"
   ]
  },
  {
   "cell_type": "markdown",
   "id": "0d3bcb4d",
   "metadata": {},
   "source": [
    "## depths"
   ]
  },
  {
   "cell_type": "code",
   "execution_count": 5,
   "id": "2a8e95e8",
   "metadata": {},
   "outputs": [],
   "source": [
    "def inf_depth(y):\n",
    "    dist = jnp.max(jnp.abs(y), axis = (1, 2))\n",
    "    return 1/(1 + dist)\n",
    "inf_depth = jit(inf_depth)\n",
    "\n",
    "def global_mmd(x, y):\n",
    "    dist = jnp.max(jnp.abs(x - y), axis = (1, 2))\n",
    "    dist = jnp.mean(dist)\n",
    "    return 1/(1 + dist)\n",
    "global_mmd = jit(vmap(global_mmd, (None, 0)))\n",
    "\n",
    "def global_mmd_self(x, y):\n",
    "    dist = jnp.max(jnp.abs(x - y), axis = (1, 2))\n",
    "    dist = jnp.mean(jnp.sort(dist)[1:])\n",
    "    return 1/(1 + dist)\n",
    "global_mmd_self = jit(vmap(global_mmd_self, (None, 0)))\n",
    "\n",
    "# def tukey_depth(x, y):\n",
    "#     fx = jnp.mean(x < y, axis = 0)\n",
    "#     depth = 1 - jnp.abs(1 - 2 * fx)\n",
    "#     return jnp.mean(depth)\n",
    "# tukey_depth = jit(vmap(tukey_depth, (None, 0)))"
   ]
  },
  {
   "cell_type": "code",
   "execution_count": 6,
   "id": "6ed6cd3b",
   "metadata": {},
   "outputs": [],
   "source": [
    "def field_min(x, y):\n",
    "    return jnp.min(jnp.array([x, y]))\n",
    "field_min = jit(vmap(vmap(field_min, (0, 0)), (1, 1)))\n",
    "\n",
    "def tukey_depth(x, y):\n",
    "    fx_left = jnp.mean(x < y, axis = 0)\n",
    "    fx_right = jnp.mean(x > y, axis = 0)\n",
    "    return jnp.mean(2 * field_min(fx_left, fx_right))\n",
    "tukey_depth = jit(vmap(tukey_depth, (None, 0)))\n",
    "\n",
    "def tukey_depth_self(x, y):\n",
    "    fx_left = jnp.sum(x < y, axis = 0)/(x.shape[0] - 1)\n",
    "    fx_right = jnp.sum(x > y, axis = 0)/(x.shape[0] - 1)\n",
    "    return jnp.mean(2 * field_min(fx_left, fx_right))\n",
    "tukey_depth_self = jit(vmap(tukey_depth_self, (None, 0)))"
   ]
  },
  {
   "cell_type": "code",
   "execution_count": 7,
   "id": "25fe299e",
   "metadata": {},
   "outputs": [],
   "source": [
    "def field_width(x):\n",
    "    lower = jnp.min(x, axis = 0)\n",
    "    upper = jnp.max(x, axis = 0)\n",
    "    lower = jnp.clip(lower, -5, 5)\n",
    "    upper = jnp.clip(upper, -5, 5)\n",
    "    return jnp.mean(upper - lower)\n",
    "field_width = jit(field_width)"
   ]
  },
  {
   "cell_type": "code",
   "execution_count": null,
   "id": "fd8dbc6d",
   "metadata": {},
   "outputs": [],
   "source": []
  },
  {
   "cell_type": "markdown",
   "id": "b9e16ccc",
   "metadata": {},
   "source": [
    "## White noise control run"
   ]
  },
  {
   "cell_type": "code",
   "execution_count": 8,
   "id": "44bad42d",
   "metadata": {},
   "outputs": [],
   "source": [
    "nproj = 6\n",
    "nval = 200\n",
    "\n",
    "nmod = 30\n",
    "ntrain = 1000\n",
    "nval = 200\n",
    "ntest = 1000\n",
    "np.random.seed(0)\n",
    "ztrain = np.random.normal(0, 1, [ntrain, nmod, 30, 50])\n",
    "ztest = np.random.normal(0, 1, [ntest, nmod, 30, 50])\n",
    "ntrain = ntrain - nval\n",
    "\n",
    "save_loc = 'trained_models/wn'"
   ]
  },
  {
   "cell_type": "code",
   "execution_count": 9,
   "id": "a5fc1a86",
   "metadata": {},
   "outputs": [
    {
     "data": {
      "application/vnd.jupyter.widget-view+json": {
       "model_id": "9d502ecf35b640bcb2ddd019ed103473",
       "version_major": 2,
       "version_minor": 0
      },
      "text/plain": [
       "  0%|          | 0/30 [00:00<?, ?it/s]"
      ]
     },
     "metadata": {},
     "output_type": "display_data"
    },
    {
     "data": {
      "application/vnd.jupyter.widget-view+json": {
       "model_id": "",
       "version_major": 2,
       "version_minor": 0
      },
      "text/plain": [
       "  0%|          | 0/6 [00:00<?, ?it/s]"
      ]
     },
     "metadata": {},
     "output_type": "display_data"
    },
    {
     "data": {
      "application/vnd.jupyter.widget-view+json": {
       "model_id": "",
       "version_major": 2,
       "version_minor": 0
      },
      "text/plain": [
       "  0%|          | 0/6 [00:00<?, ?it/s]"
      ]
     },
     "metadata": {},
     "output_type": "display_data"
    },
    {
     "data": {
      "application/vnd.jupyter.widget-view+json": {
       "model_id": "",
       "version_major": 2,
       "version_minor": 0
      },
      "text/plain": [
       "  0%|          | 0/6 [00:00<?, ?it/s]"
      ]
     },
     "metadata": {},
     "output_type": "display_data"
    },
    {
     "data": {
      "application/vnd.jupyter.widget-view+json": {
       "model_id": "",
       "version_major": 2,
       "version_minor": 0
      },
      "text/plain": [
       "  0%|          | 0/6 [00:00<?, ?it/s]"
      ]
     },
     "metadata": {},
     "output_type": "display_data"
    },
    {
     "data": {
      "application/vnd.jupyter.widget-view+json": {
       "model_id": "",
       "version_major": 2,
       "version_minor": 0
      },
      "text/plain": [
       "  0%|          | 0/6 [00:00<?, ?it/s]"
      ]
     },
     "metadata": {},
     "output_type": "display_data"
    },
    {
     "data": {
      "application/vnd.jupyter.widget-view+json": {
       "model_id": "",
       "version_major": 2,
       "version_minor": 0
      },
      "text/plain": [
       "  0%|          | 0/6 [00:00<?, ?it/s]"
      ]
     },
     "metadata": {},
     "output_type": "display_data"
    },
    {
     "data": {
      "application/vnd.jupyter.widget-view+json": {
       "model_id": "",
       "version_major": 2,
       "version_minor": 0
      },
      "text/plain": [
       "  0%|          | 0/6 [00:00<?, ?it/s]"
      ]
     },
     "metadata": {},
     "output_type": "display_data"
    },
    {
     "data": {
      "application/vnd.jupyter.widget-view+json": {
       "model_id": "",
       "version_major": 2,
       "version_minor": 0
      },
      "text/plain": [
       "  0%|          | 0/6 [00:00<?, ?it/s]"
      ]
     },
     "metadata": {},
     "output_type": "display_data"
    },
    {
     "data": {
      "application/vnd.jupyter.widget-view+json": {
       "model_id": "",
       "version_major": 2,
       "version_minor": 0
      },
      "text/plain": [
       "  0%|          | 0/6 [00:00<?, ?it/s]"
      ]
     },
     "metadata": {},
     "output_type": "display_data"
    },
    {
     "data": {
      "application/vnd.jupyter.widget-view+json": {
       "model_id": "",
       "version_major": 2,
       "version_minor": 0
      },
      "text/plain": [
       "  0%|          | 0/6 [00:00<?, ?it/s]"
      ]
     },
     "metadata": {},
     "output_type": "display_data"
    },
    {
     "data": {
      "application/vnd.jupyter.widget-view+json": {
       "model_id": "",
       "version_major": 2,
       "version_minor": 0
      },
      "text/plain": [
       "  0%|          | 0/6 [00:00<?, ?it/s]"
      ]
     },
     "metadata": {},
     "output_type": "display_data"
    },
    {
     "data": {
      "application/vnd.jupyter.widget-view+json": {
       "model_id": "",
       "version_major": 2,
       "version_minor": 0
      },
      "text/plain": [
       "  0%|          | 0/6 [00:00<?, ?it/s]"
      ]
     },
     "metadata": {},
     "output_type": "display_data"
    },
    {
     "data": {
      "application/vnd.jupyter.widget-view+json": {
       "model_id": "",
       "version_major": 2,
       "version_minor": 0
      },
      "text/plain": [
       "  0%|          | 0/6 [00:00<?, ?it/s]"
      ]
     },
     "metadata": {},
     "output_type": "display_data"
    },
    {
     "data": {
      "application/vnd.jupyter.widget-view+json": {
       "model_id": "",
       "version_major": 2,
       "version_minor": 0
      },
      "text/plain": [
       "  0%|          | 0/6 [00:00<?, ?it/s]"
      ]
     },
     "metadata": {},
     "output_type": "display_data"
    },
    {
     "data": {
      "application/vnd.jupyter.widget-view+json": {
       "model_id": "",
       "version_major": 2,
       "version_minor": 0
      },
      "text/plain": [
       "  0%|          | 0/6 [00:00<?, ?it/s]"
      ]
     },
     "metadata": {},
     "output_type": "display_data"
    },
    {
     "data": {
      "application/vnd.jupyter.widget-view+json": {
       "model_id": "",
       "version_major": 2,
       "version_minor": 0
      },
      "text/plain": [
       "  0%|          | 0/6 [00:00<?, ?it/s]"
      ]
     },
     "metadata": {},
     "output_type": "display_data"
    },
    {
     "data": {
      "application/vnd.jupyter.widget-view+json": {
       "model_id": "",
       "version_major": 2,
       "version_minor": 0
      },
      "text/plain": [
       "  0%|          | 0/6 [00:00<?, ?it/s]"
      ]
     },
     "metadata": {},
     "output_type": "display_data"
    },
    {
     "data": {
      "application/vnd.jupyter.widget-view+json": {
       "model_id": "",
       "version_major": 2,
       "version_minor": 0
      },
      "text/plain": [
       "  0%|          | 0/6 [00:00<?, ?it/s]"
      ]
     },
     "metadata": {},
     "output_type": "display_data"
    },
    {
     "data": {
      "application/vnd.jupyter.widget-view+json": {
       "model_id": "",
       "version_major": 2,
       "version_minor": 0
      },
      "text/plain": [
       "  0%|          | 0/6 [00:00<?, ?it/s]"
      ]
     },
     "metadata": {},
     "output_type": "display_data"
    },
    {
     "data": {
      "application/vnd.jupyter.widget-view+json": {
       "model_id": "",
       "version_major": 2,
       "version_minor": 0
      },
      "text/plain": [
       "  0%|          | 0/6 [00:00<?, ?it/s]"
      ]
     },
     "metadata": {},
     "output_type": "display_data"
    },
    {
     "data": {
      "application/vnd.jupyter.widget-view+json": {
       "model_id": "",
       "version_major": 2,
       "version_minor": 0
      },
      "text/plain": [
       "  0%|          | 0/6 [00:00<?, ?it/s]"
      ]
     },
     "metadata": {},
     "output_type": "display_data"
    },
    {
     "data": {
      "application/vnd.jupyter.widget-view+json": {
       "model_id": "",
       "version_major": 2,
       "version_minor": 0
      },
      "text/plain": [
       "  0%|          | 0/6 [00:00<?, ?it/s]"
      ]
     },
     "metadata": {},
     "output_type": "display_data"
    },
    {
     "data": {
      "application/vnd.jupyter.widget-view+json": {
       "model_id": "",
       "version_major": 2,
       "version_minor": 0
      },
      "text/plain": [
       "  0%|          | 0/6 [00:00<?, ?it/s]"
      ]
     },
     "metadata": {},
     "output_type": "display_data"
    },
    {
     "data": {
      "application/vnd.jupyter.widget-view+json": {
       "model_id": "",
       "version_major": 2,
       "version_minor": 0
      },
      "text/plain": [
       "  0%|          | 0/6 [00:00<?, ?it/s]"
      ]
     },
     "metadata": {},
     "output_type": "display_data"
    },
    {
     "data": {
      "application/vnd.jupyter.widget-view+json": {
       "model_id": "",
       "version_major": 2,
       "version_minor": 0
      },
      "text/plain": [
       "  0%|          | 0/6 [00:00<?, ?it/s]"
      ]
     },
     "metadata": {},
     "output_type": "display_data"
    },
    {
     "data": {
      "application/vnd.jupyter.widget-view+json": {
       "model_id": "",
       "version_major": 2,
       "version_minor": 0
      },
      "text/plain": [
       "  0%|          | 0/6 [00:00<?, ?it/s]"
      ]
     },
     "metadata": {},
     "output_type": "display_data"
    },
    {
     "data": {
      "application/vnd.jupyter.widget-view+json": {
       "model_id": "",
       "version_major": 2,
       "version_minor": 0
      },
      "text/plain": [
       "  0%|          | 0/6 [00:00<?, ?it/s]"
      ]
     },
     "metadata": {},
     "output_type": "display_data"
    },
    {
     "data": {
      "application/vnd.jupyter.widget-view+json": {
       "model_id": "",
       "version_major": 2,
       "version_minor": 0
      },
      "text/plain": [
       "  0%|          | 0/6 [00:00<?, ?it/s]"
      ]
     },
     "metadata": {},
     "output_type": "display_data"
    },
    {
     "data": {
      "application/vnd.jupyter.widget-view+json": {
       "model_id": "",
       "version_major": 2,
       "version_minor": 0
      },
      "text/plain": [
       "  0%|          | 0/6 [00:00<?, ?it/s]"
      ]
     },
     "metadata": {},
     "output_type": "display_data"
    },
    {
     "data": {
      "application/vnd.jupyter.widget-view+json": {
       "model_id": "",
       "version_major": 2,
       "version_minor": 0
      },
      "text/plain": [
       "  0%|          | 0/6 [00:00<?, ?it/s]"
      ]
     },
     "metadata": {},
     "output_type": "display_data"
    }
   ],
   "source": [
    "analysis = ['ens', 'wa', 'delta', 'lm', 'nngp', 'cnn1']\n",
    "alpha = 0.1\n",
    "\n",
    "cover1 = np.zeros((nmod, nproj))\n",
    "cover2 = np.zeros((nmod, nproj))\n",
    "cover3 = np.zeros((nmod, nproj))\n",
    "width1 = np.zeros((nmod, nproj))\n",
    "width2 = np.zeros((nmod, nproj))\n",
    "width3 = np.zeros((nmod, nproj))\n",
    "level = np.ceil((1 - alpha) * (nval + 1))/(nval + 1)\n",
    "\n",
    "for model_no in trange(nmod):\n",
    "    xtrain, xval, xtest, ytrain, yval, ytest = scale_and_split(ztrain, ztest, model_no = model_no, nval = nval)\n",
    "    \n",
    "    for k in trange(nproj, leave = False):\n",
    "        \n",
    "        yval_hat = np.load(save_loc + f'/yval_{analysis[k]}_{model_no}.npy')\n",
    "        ytest_hat = np.load(save_loc + f'/ytest_{analysis[k]}_{model_no}.npy')\n",
    "        \n",
    "        if analysis[k] == 'lm':\n",
    "            yval_hat = np.clip(yval_hat, -3, 3)\n",
    "            ytest_hat = np.clip(ytest_hat, -3, 3)\n",
    "        \n",
    "        resval = yval - yval_hat.reshape(yval.shape)\n",
    "        restest = ytest - ytest_hat.reshape(ytest.shape)\n",
    "        \n",
    "        dr1a, dr1b = global_mmd_self(resval, resval), global_mmd(resval, restest)\n",
    "        dr2a, dr2b = inf_depth(resval), inf_depth(restest)\n",
    "        dr3a, dr3b = tukey_depth_self(resval, resval), tukey_depth(resval, restest)\n",
    "        \n",
    "        q1 = np.sort(dr1a)[int(np.ceil((1 - alpha) * (nval + 1)))]\n",
    "        q2 = np.sort(dr2a)[int(np.ceil((1 - alpha) * (nval + 1)))]\n",
    "        q3 = np.sort(dr3a)[int(np.ceil((1 - alpha) * (nval + 1)))]\n",
    "        \n",
    "        q1 = (q1 + np.quantile(dr1a, level))/2\n",
    "        q2 = (q2 + np.quantile(dr2a, level))/2\n",
    "        q3 = (q3 + np.quantile(dr3a, level))/2\n",
    "        \n",
    "        cover1[model_no,k] = np.mean(dr1b < q1)\n",
    "        cover2[model_no,k] = np.mean(dr2b < q2)\n",
    "        cover3[model_no,k] = np.mean(dr3b < q3)\n",
    "        \n",
    "        width1[model_no,k] = field_width(resval[dr1a < q1])\n",
    "        width2[model_no,k] = field_width(resval[dr2a < q2])\n",
    "        width3[model_no,k] = field_width(resval[dr3a < q3])"
   ]
  },
  {
   "cell_type": "code",
   "execution_count": 10,
   "id": "3f958dc1",
   "metadata": {},
   "outputs": [],
   "source": [
    "wn_cover1 = np.mean(cover1, axis = 0)\n",
    "wn_cover2 = np.mean(cover2, axis = 0)\n",
    "wn_cover3 = np.mean(cover3, axis = 0)\n",
    "wn_width1 = np.mean(width1, axis = 0)\n",
    "wn_width2 = np.mean(width2, axis = 0)\n",
    "wn_width3 = np.mean(width3, axis = 0)"
   ]
  },
  {
   "cell_type": "code",
   "execution_count": 11,
   "id": "f85a7e86",
   "metadata": {},
   "outputs": [
    {
     "data": {
      "text/plain": [
       "(array([0.902, 0.9  , 0.902, 0.902, 0.902, 0.9  ]),\n",
       " array([0.9  , 0.9  , 0.9  , 0.903, 0.9  , 0.905]),\n",
       " array([0.901, 0.901, 0.9  , 0.901, 0.9  , 0.894]))"
      ]
     },
     "execution_count": 11,
     "metadata": {},
     "output_type": "execute_result"
    }
   ],
   "source": [
    "np.round(wn_cover1, 3),  np.round(wn_cover3, 3), np.round(wn_cover2, 3)"
   ]
  },
  {
   "cell_type": "code",
   "execution_count": 12,
   "id": "fea70ffe",
   "metadata": {},
   "outputs": [
    {
     "data": {
      "text/plain": [
       "(array([0.902, 0.9  , 0.902, 0.902, 0.902, 0.9  ]),\n",
       " array([0.9  , 0.9  , 0.9  , 0.903, 0.9  , 0.905]),\n",
       " array([0.901, 0.901, 0.9  , 0.901, 0.9  , 0.894]))"
      ]
     },
     "execution_count": 12,
     "metadata": {},
     "output_type": "execute_result"
    }
   ],
   "source": [
    "np.round(wn_cover1, 3),  np.round(wn_cover3, 3), np.round(wn_cover2, 3)"
   ]
  },
  {
   "cell_type": "code",
   "execution_count": 13,
   "id": "be102835",
   "metadata": {},
   "outputs": [
    {
     "data": {
      "text/plain": [
       "(array([6.126, 6.22 , 6.126, 6.323, 6.126, 6.353]),\n",
       " array([6.1  , 6.195, 6.1  , 6.33 , 6.1  , 6.326]),\n",
       " array([6.12 , 6.213, 6.12 , 6.332, 6.12 , 6.347]))"
      ]
     },
     "execution_count": 13,
     "metadata": {},
     "output_type": "execute_result"
    }
   ],
   "source": [
    "np.round(wn_width1, 3), np.round(wn_width3, 3), np.round(wn_width2, 3)"
   ]
  },
  {
   "cell_type": "code",
   "execution_count": null,
   "id": "2227b596",
   "metadata": {},
   "outputs": [],
   "source": []
  },
  {
   "cell_type": "markdown",
   "id": "51cc2633",
   "metadata": {},
   "source": [
    "## Temperature (TAS)"
   ]
  },
  {
   "cell_type": "code",
   "execution_count": 14,
   "id": "8ba7e7e4",
   "metadata": {},
   "outputs": [],
   "source": [
    "nproj = 6\n",
    "nval = 200\n",
    "\n",
    "xhist_tas = pickle.load(open('../data/xhist_tas_hr.pkl', 'rb'))\n",
    "xrcp_tas = pickle.load(open('../data/xrcp_tas_hr.pkl', 'rb'))\n",
    "nmod = xhist_tas.shape[1]\n",
    "\n",
    "n = (2015 - 1940) * 12\n",
    "xhist_tas = xhist_tas[-n:]\n",
    "\n",
    "xtrain_orig = np.concatenate([xhist_tas, xrcp_tas[:108]], axis = 0)\n",
    "xtest_orig = xrcp_tas[108:]\n",
    "\n",
    "ntrain = xtrain_orig.shape[0] - nval\n",
    "ntest = xtest_orig.shape[0]\n",
    "\n",
    "save_loc = 'trained_models/tas'"
   ]
  },
  {
   "cell_type": "code",
   "execution_count": 15,
   "id": "847f416e",
   "metadata": {},
   "outputs": [
    {
     "data": {
      "application/vnd.jupyter.widget-view+json": {
       "model_id": "c42fff8f50e641a6a3ef2f804d94342d",
       "version_major": 2,
       "version_minor": 0
      },
      "text/plain": [
       "  0%|          | 0/31 [00:00<?, ?it/s]"
      ]
     },
     "metadata": {},
     "output_type": "display_data"
    },
    {
     "data": {
      "application/vnd.jupyter.widget-view+json": {
       "model_id": "",
       "version_major": 2,
       "version_minor": 0
      },
      "text/plain": [
       "  0%|          | 0/6 [00:00<?, ?it/s]"
      ]
     },
     "metadata": {},
     "output_type": "display_data"
    },
    {
     "data": {
      "application/vnd.jupyter.widget-view+json": {
       "model_id": "",
       "version_major": 2,
       "version_minor": 0
      },
      "text/plain": [
       "  0%|          | 0/6 [00:00<?, ?it/s]"
      ]
     },
     "metadata": {},
     "output_type": "display_data"
    },
    {
     "data": {
      "application/vnd.jupyter.widget-view+json": {
       "model_id": "",
       "version_major": 2,
       "version_minor": 0
      },
      "text/plain": [
       "  0%|          | 0/6 [00:00<?, ?it/s]"
      ]
     },
     "metadata": {},
     "output_type": "display_data"
    },
    {
     "data": {
      "application/vnd.jupyter.widget-view+json": {
       "model_id": "",
       "version_major": 2,
       "version_minor": 0
      },
      "text/plain": [
       "  0%|          | 0/6 [00:00<?, ?it/s]"
      ]
     },
     "metadata": {},
     "output_type": "display_data"
    },
    {
     "data": {
      "application/vnd.jupyter.widget-view+json": {
       "model_id": "",
       "version_major": 2,
       "version_minor": 0
      },
      "text/plain": [
       "  0%|          | 0/6 [00:00<?, ?it/s]"
      ]
     },
     "metadata": {},
     "output_type": "display_data"
    },
    {
     "data": {
      "application/vnd.jupyter.widget-view+json": {
       "model_id": "",
       "version_major": 2,
       "version_minor": 0
      },
      "text/plain": [
       "  0%|          | 0/6 [00:00<?, ?it/s]"
      ]
     },
     "metadata": {},
     "output_type": "display_data"
    },
    {
     "data": {
      "application/vnd.jupyter.widget-view+json": {
       "model_id": "",
       "version_major": 2,
       "version_minor": 0
      },
      "text/plain": [
       "  0%|          | 0/6 [00:00<?, ?it/s]"
      ]
     },
     "metadata": {},
     "output_type": "display_data"
    },
    {
     "data": {
      "application/vnd.jupyter.widget-view+json": {
       "model_id": "",
       "version_major": 2,
       "version_minor": 0
      },
      "text/plain": [
       "  0%|          | 0/6 [00:00<?, ?it/s]"
      ]
     },
     "metadata": {},
     "output_type": "display_data"
    },
    {
     "data": {
      "application/vnd.jupyter.widget-view+json": {
       "model_id": "",
       "version_major": 2,
       "version_minor": 0
      },
      "text/plain": [
       "  0%|          | 0/6 [00:00<?, ?it/s]"
      ]
     },
     "metadata": {},
     "output_type": "display_data"
    },
    {
     "data": {
      "application/vnd.jupyter.widget-view+json": {
       "model_id": "",
       "version_major": 2,
       "version_minor": 0
      },
      "text/plain": [
       "  0%|          | 0/6 [00:00<?, ?it/s]"
      ]
     },
     "metadata": {},
     "output_type": "display_data"
    },
    {
     "data": {
      "application/vnd.jupyter.widget-view+json": {
       "model_id": "",
       "version_major": 2,
       "version_minor": 0
      },
      "text/plain": [
       "  0%|          | 0/6 [00:00<?, ?it/s]"
      ]
     },
     "metadata": {},
     "output_type": "display_data"
    },
    {
     "data": {
      "application/vnd.jupyter.widget-view+json": {
       "model_id": "",
       "version_major": 2,
       "version_minor": 0
      },
      "text/plain": [
       "  0%|          | 0/6 [00:00<?, ?it/s]"
      ]
     },
     "metadata": {},
     "output_type": "display_data"
    },
    {
     "data": {
      "application/vnd.jupyter.widget-view+json": {
       "model_id": "",
       "version_major": 2,
       "version_minor": 0
      },
      "text/plain": [
       "  0%|          | 0/6 [00:00<?, ?it/s]"
      ]
     },
     "metadata": {},
     "output_type": "display_data"
    },
    {
     "data": {
      "application/vnd.jupyter.widget-view+json": {
       "model_id": "",
       "version_major": 2,
       "version_minor": 0
      },
      "text/plain": [
       "  0%|          | 0/6 [00:00<?, ?it/s]"
      ]
     },
     "metadata": {},
     "output_type": "display_data"
    },
    {
     "data": {
      "application/vnd.jupyter.widget-view+json": {
       "model_id": "",
       "version_major": 2,
       "version_minor": 0
      },
      "text/plain": [
       "  0%|          | 0/6 [00:00<?, ?it/s]"
      ]
     },
     "metadata": {},
     "output_type": "display_data"
    },
    {
     "data": {
      "application/vnd.jupyter.widget-view+json": {
       "model_id": "",
       "version_major": 2,
       "version_minor": 0
      },
      "text/plain": [
       "  0%|          | 0/6 [00:00<?, ?it/s]"
      ]
     },
     "metadata": {},
     "output_type": "display_data"
    },
    {
     "data": {
      "application/vnd.jupyter.widget-view+json": {
       "model_id": "",
       "version_major": 2,
       "version_minor": 0
      },
      "text/plain": [
       "  0%|          | 0/6 [00:00<?, ?it/s]"
      ]
     },
     "metadata": {},
     "output_type": "display_data"
    },
    {
     "data": {
      "application/vnd.jupyter.widget-view+json": {
       "model_id": "",
       "version_major": 2,
       "version_minor": 0
      },
      "text/plain": [
       "  0%|          | 0/6 [00:00<?, ?it/s]"
      ]
     },
     "metadata": {},
     "output_type": "display_data"
    },
    {
     "data": {
      "application/vnd.jupyter.widget-view+json": {
       "model_id": "",
       "version_major": 2,
       "version_minor": 0
      },
      "text/plain": [
       "  0%|          | 0/6 [00:00<?, ?it/s]"
      ]
     },
     "metadata": {},
     "output_type": "display_data"
    },
    {
     "data": {
      "application/vnd.jupyter.widget-view+json": {
       "model_id": "",
       "version_major": 2,
       "version_minor": 0
      },
      "text/plain": [
       "  0%|          | 0/6 [00:00<?, ?it/s]"
      ]
     },
     "metadata": {},
     "output_type": "display_data"
    },
    {
     "data": {
      "application/vnd.jupyter.widget-view+json": {
       "model_id": "",
       "version_major": 2,
       "version_minor": 0
      },
      "text/plain": [
       "  0%|          | 0/6 [00:00<?, ?it/s]"
      ]
     },
     "metadata": {},
     "output_type": "display_data"
    },
    {
     "data": {
      "application/vnd.jupyter.widget-view+json": {
       "model_id": "",
       "version_major": 2,
       "version_minor": 0
      },
      "text/plain": [
       "  0%|          | 0/6 [00:00<?, ?it/s]"
      ]
     },
     "metadata": {},
     "output_type": "display_data"
    },
    {
     "data": {
      "application/vnd.jupyter.widget-view+json": {
       "model_id": "",
       "version_major": 2,
       "version_minor": 0
      },
      "text/plain": [
       "  0%|          | 0/6 [00:00<?, ?it/s]"
      ]
     },
     "metadata": {},
     "output_type": "display_data"
    },
    {
     "data": {
      "application/vnd.jupyter.widget-view+json": {
       "model_id": "",
       "version_major": 2,
       "version_minor": 0
      },
      "text/plain": [
       "  0%|          | 0/6 [00:00<?, ?it/s]"
      ]
     },
     "metadata": {},
     "output_type": "display_data"
    },
    {
     "data": {
      "application/vnd.jupyter.widget-view+json": {
       "model_id": "",
       "version_major": 2,
       "version_minor": 0
      },
      "text/plain": [
       "  0%|          | 0/6 [00:00<?, ?it/s]"
      ]
     },
     "metadata": {},
     "output_type": "display_data"
    },
    {
     "data": {
      "application/vnd.jupyter.widget-view+json": {
       "model_id": "",
       "version_major": 2,
       "version_minor": 0
      },
      "text/plain": [
       "  0%|          | 0/6 [00:00<?, ?it/s]"
      ]
     },
     "metadata": {},
     "output_type": "display_data"
    },
    {
     "data": {
      "application/vnd.jupyter.widget-view+json": {
       "model_id": "",
       "version_major": 2,
       "version_minor": 0
      },
      "text/plain": [
       "  0%|          | 0/6 [00:00<?, ?it/s]"
      ]
     },
     "metadata": {},
     "output_type": "display_data"
    },
    {
     "data": {
      "application/vnd.jupyter.widget-view+json": {
       "model_id": "",
       "version_major": 2,
       "version_minor": 0
      },
      "text/plain": [
       "  0%|          | 0/6 [00:00<?, ?it/s]"
      ]
     },
     "metadata": {},
     "output_type": "display_data"
    },
    {
     "data": {
      "application/vnd.jupyter.widget-view+json": {
       "model_id": "",
       "version_major": 2,
       "version_minor": 0
      },
      "text/plain": [
       "  0%|          | 0/6 [00:00<?, ?it/s]"
      ]
     },
     "metadata": {},
     "output_type": "display_data"
    },
    {
     "data": {
      "application/vnd.jupyter.widget-view+json": {
       "model_id": "",
       "version_major": 2,
       "version_minor": 0
      },
      "text/plain": [
       "  0%|          | 0/6 [00:00<?, ?it/s]"
      ]
     },
     "metadata": {},
     "output_type": "display_data"
    },
    {
     "data": {
      "application/vnd.jupyter.widget-view+json": {
       "model_id": "",
       "version_major": 2,
       "version_minor": 0
      },
      "text/plain": [
       "  0%|          | 0/6 [00:00<?, ?it/s]"
      ]
     },
     "metadata": {},
     "output_type": "display_data"
    }
   ],
   "source": [
    "analysis = ['ens', 'wa', 'delta', 'lm', 'nngp', 'cnn1']\n",
    "alpha = 0.1\n",
    "\n",
    "cover1 = np.zeros((nmod, nproj))\n",
    "cover2 = np.zeros((nmod, nproj))\n",
    "cover3 = np.zeros((nmod, nproj))\n",
    "width1 = np.zeros((nmod, nproj))\n",
    "width2 = np.zeros((nmod, nproj))\n",
    "width3 = np.zeros((nmod, nproj))\n",
    "level = np.ceil((1 - alpha) * (nval + 1))/(nval + 1)\n",
    "\n",
    "for model_no in trange(nmod):\n",
    "    xtrain, xval, xtest, ytrain, yval, ytest = scale_and_split(xtrain_orig, xtest_orig, model_no = model_no, nval = nval)\n",
    "    \n",
    "    for k in trange(nproj, leave = False):\n",
    "        \n",
    "        yval_hat = np.load(save_loc + f'/yval_{analysis[k]}_{model_no}.npy')\n",
    "        ytest_hat = np.load(save_loc + f'/ytest_{analysis[k]}_{model_no}.npy')\n",
    "        \n",
    "        if analysis[k] == 'lm':\n",
    "            yval_hat = np.clip(yval_hat, -3, 3)\n",
    "            ytest_hat = np.clip(ytest_hat, -3, 3)\n",
    "        \n",
    "        resval = yval - yval_hat.reshape(yval.shape)\n",
    "        restest = ytest - ytest_hat.reshape(ytest.shape)\n",
    "        \n",
    "        dr1a, dr1b = global_mmd_self(resval, resval), global_mmd(resval, restest)\n",
    "        dr2a, dr2b = inf_depth(resval), inf_depth(restest)\n",
    "        dr3a, dr3b = tukey_depth_self(resval, resval), tukey_depth(resval, restest)\n",
    "        \n",
    "        q1 = np.sort(dr1a)[int(np.ceil((1 - alpha) * (nval + 1)))]\n",
    "        q2 = np.sort(dr2a)[int(np.ceil((1 - alpha) * (nval + 1)))]\n",
    "        q3 = np.sort(dr3a)[int(np.ceil((1 - alpha) * (nval + 1)))]\n",
    "        \n",
    "        q1 = (q1 + np.quantile(dr1a, level))/2\n",
    "        q2 = (q2 + np.quantile(dr2a, level))/2\n",
    "        q3 = (q3 + np.quantile(dr3a, level))/2\n",
    "        \n",
    "        cover1[model_no,k] = np.mean(dr1b < q1)\n",
    "        cover2[model_no,k] = np.mean(dr2b < q2)\n",
    "        cover3[model_no,k] = np.mean(dr3b < q3)\n",
    "        \n",
    "        width1[model_no,k] = field_width(resval[dr1a < q1])\n",
    "        width2[model_no,k] = field_width(resval[dr2a < q2])\n",
    "        width3[model_no,k] = field_width(resval[dr3a < q3])"
   ]
  },
  {
   "cell_type": "code",
   "execution_count": 16,
   "id": "b31556b2",
   "metadata": {},
   "outputs": [],
   "source": [
    "tas_cover1 = np.mean(cover1, axis = 0)\n",
    "tas_cover2 = np.mean(cover2, axis = 0)\n",
    "tas_cover3 = np.mean(cover3, axis = 0)\n",
    "tas_width1 = np.mean(width1, axis = 0)\n",
    "tas_width2 = np.mean(width2, axis = 0)\n",
    "tas_width3 = np.mean(width3, axis = 0)"
   ]
  },
  {
   "cell_type": "code",
   "execution_count": 17,
   "id": "356ea2ab",
   "metadata": {},
   "outputs": [
    {
     "data": {
      "text/plain": [
       "(array([0.89 , 0.921, 0.89 , 0.9  , 0.932, 0.876]),\n",
       " array([0.928, 0.967, 0.928, 0.975, 0.977, 0.936]),\n",
       " array([0.87 , 0.933, 0.904, 0.874, 0.931, 0.895]))"
      ]
     },
     "execution_count": 17,
     "metadata": {},
     "output_type": "execute_result"
    }
   ],
   "source": [
    "np.round(tas_cover1, 3),  np.round(tas_cover3, 3), np.round(tas_cover2, 3)"
   ]
  },
  {
   "cell_type": "code",
   "execution_count": 18,
   "id": "6f312464",
   "metadata": {},
   "outputs": [
    {
     "data": {
      "text/plain": [
       "(array([3.717, 3.563, 3.731, 5.341, 3.376, 3.686]),\n",
       " array([3.717, 3.563, 3.731, 5.346, 3.375, 3.687]),\n",
       " array([3.705, 3.562, 3.73 , 5.328, 3.374, 3.684]))"
      ]
     },
     "execution_count": 18,
     "metadata": {},
     "output_type": "execute_result"
    }
   ],
   "source": [
    "np.round(tas_width1, 3), np.round(tas_width3, 3), np.round(tas_width2, 3)"
   ]
  },
  {
   "cell_type": "markdown",
   "id": "4ef0ae3c",
   "metadata": {},
   "source": [
    "## Temperature max (tmax)"
   ]
  },
  {
   "cell_type": "code",
   "execution_count": 19,
   "id": "736116ad",
   "metadata": {},
   "outputs": [],
   "source": [
    "nproj = 6\n",
    "nval = 200\n",
    "\n",
    "xhist_tas = pickle.load(open('../data/xhist_tasmax_hr.pkl', 'rb'))\n",
    "xrcp_tas = pickle.load(open('../data/xrcp_tasmax_hr.pkl', 'rb'))\n",
    "nmod = xhist_tas.shape[1]\n",
    "\n",
    "n = (2015 - 1940) * 12\n",
    "xhist_tas = xhist_tas[-n:]\n",
    "\n",
    "xtrain_orig = np.concatenate([xhist_tas, xrcp_tas[:108]], axis = 0)\n",
    "xtest_orig = xrcp_tas[108:]\n",
    "\n",
    "ntrain = xtrain_orig.shape[0] - nval\n",
    "ntest = xtest_orig.shape[0]\n",
    "\n",
    "save_loc = 'trained_models/tmax'"
   ]
  },
  {
   "cell_type": "code",
   "execution_count": 20,
   "id": "4f6ad7cb",
   "metadata": {},
   "outputs": [
    {
     "data": {
      "application/vnd.jupyter.widget-view+json": {
       "model_id": "effe8862a19e420691dbdc7acb069260",
       "version_major": 2,
       "version_minor": 0
      },
      "text/plain": [
       "  0%|          | 0/20 [00:00<?, ?it/s]"
      ]
     },
     "metadata": {},
     "output_type": "display_data"
    },
    {
     "data": {
      "application/vnd.jupyter.widget-view+json": {
       "model_id": "",
       "version_major": 2,
       "version_minor": 0
      },
      "text/plain": [
       "  0%|          | 0/6 [00:00<?, ?it/s]"
      ]
     },
     "metadata": {},
     "output_type": "display_data"
    },
    {
     "data": {
      "application/vnd.jupyter.widget-view+json": {
       "model_id": "",
       "version_major": 2,
       "version_minor": 0
      },
      "text/plain": [
       "  0%|          | 0/6 [00:00<?, ?it/s]"
      ]
     },
     "metadata": {},
     "output_type": "display_data"
    },
    {
     "data": {
      "application/vnd.jupyter.widget-view+json": {
       "model_id": "",
       "version_major": 2,
       "version_minor": 0
      },
      "text/plain": [
       "  0%|          | 0/6 [00:00<?, ?it/s]"
      ]
     },
     "metadata": {},
     "output_type": "display_data"
    },
    {
     "data": {
      "application/vnd.jupyter.widget-view+json": {
       "model_id": "",
       "version_major": 2,
       "version_minor": 0
      },
      "text/plain": [
       "  0%|          | 0/6 [00:00<?, ?it/s]"
      ]
     },
     "metadata": {},
     "output_type": "display_data"
    },
    {
     "data": {
      "application/vnd.jupyter.widget-view+json": {
       "model_id": "",
       "version_major": 2,
       "version_minor": 0
      },
      "text/plain": [
       "  0%|          | 0/6 [00:00<?, ?it/s]"
      ]
     },
     "metadata": {},
     "output_type": "display_data"
    },
    {
     "data": {
      "application/vnd.jupyter.widget-view+json": {
       "model_id": "",
       "version_major": 2,
       "version_minor": 0
      },
      "text/plain": [
       "  0%|          | 0/6 [00:00<?, ?it/s]"
      ]
     },
     "metadata": {},
     "output_type": "display_data"
    },
    {
     "data": {
      "application/vnd.jupyter.widget-view+json": {
       "model_id": "",
       "version_major": 2,
       "version_minor": 0
      },
      "text/plain": [
       "  0%|          | 0/6 [00:00<?, ?it/s]"
      ]
     },
     "metadata": {},
     "output_type": "display_data"
    },
    {
     "data": {
      "application/vnd.jupyter.widget-view+json": {
       "model_id": "",
       "version_major": 2,
       "version_minor": 0
      },
      "text/plain": [
       "  0%|          | 0/6 [00:00<?, ?it/s]"
      ]
     },
     "metadata": {},
     "output_type": "display_data"
    },
    {
     "data": {
      "application/vnd.jupyter.widget-view+json": {
       "model_id": "",
       "version_major": 2,
       "version_minor": 0
      },
      "text/plain": [
       "  0%|          | 0/6 [00:00<?, ?it/s]"
      ]
     },
     "metadata": {},
     "output_type": "display_data"
    },
    {
     "data": {
      "application/vnd.jupyter.widget-view+json": {
       "model_id": "",
       "version_major": 2,
       "version_minor": 0
      },
      "text/plain": [
       "  0%|          | 0/6 [00:00<?, ?it/s]"
      ]
     },
     "metadata": {},
     "output_type": "display_data"
    },
    {
     "data": {
      "application/vnd.jupyter.widget-view+json": {
       "model_id": "",
       "version_major": 2,
       "version_minor": 0
      },
      "text/plain": [
       "  0%|          | 0/6 [00:00<?, ?it/s]"
      ]
     },
     "metadata": {},
     "output_type": "display_data"
    },
    {
     "data": {
      "application/vnd.jupyter.widget-view+json": {
       "model_id": "",
       "version_major": 2,
       "version_minor": 0
      },
      "text/plain": [
       "  0%|          | 0/6 [00:00<?, ?it/s]"
      ]
     },
     "metadata": {},
     "output_type": "display_data"
    },
    {
     "data": {
      "application/vnd.jupyter.widget-view+json": {
       "model_id": "",
       "version_major": 2,
       "version_minor": 0
      },
      "text/plain": [
       "  0%|          | 0/6 [00:00<?, ?it/s]"
      ]
     },
     "metadata": {},
     "output_type": "display_data"
    },
    {
     "data": {
      "application/vnd.jupyter.widget-view+json": {
       "model_id": "",
       "version_major": 2,
       "version_minor": 0
      },
      "text/plain": [
       "  0%|          | 0/6 [00:00<?, ?it/s]"
      ]
     },
     "metadata": {},
     "output_type": "display_data"
    },
    {
     "data": {
      "application/vnd.jupyter.widget-view+json": {
       "model_id": "",
       "version_major": 2,
       "version_minor": 0
      },
      "text/plain": [
       "  0%|          | 0/6 [00:00<?, ?it/s]"
      ]
     },
     "metadata": {},
     "output_type": "display_data"
    },
    {
     "data": {
      "application/vnd.jupyter.widget-view+json": {
       "model_id": "",
       "version_major": 2,
       "version_minor": 0
      },
      "text/plain": [
       "  0%|          | 0/6 [00:00<?, ?it/s]"
      ]
     },
     "metadata": {},
     "output_type": "display_data"
    },
    {
     "data": {
      "application/vnd.jupyter.widget-view+json": {
       "model_id": "",
       "version_major": 2,
       "version_minor": 0
      },
      "text/plain": [
       "  0%|          | 0/6 [00:00<?, ?it/s]"
      ]
     },
     "metadata": {},
     "output_type": "display_data"
    },
    {
     "data": {
      "application/vnd.jupyter.widget-view+json": {
       "model_id": "",
       "version_major": 2,
       "version_minor": 0
      },
      "text/plain": [
       "  0%|          | 0/6 [00:00<?, ?it/s]"
      ]
     },
     "metadata": {},
     "output_type": "display_data"
    },
    {
     "data": {
      "application/vnd.jupyter.widget-view+json": {
       "model_id": "",
       "version_major": 2,
       "version_minor": 0
      },
      "text/plain": [
       "  0%|          | 0/6 [00:00<?, ?it/s]"
      ]
     },
     "metadata": {},
     "output_type": "display_data"
    },
    {
     "data": {
      "application/vnd.jupyter.widget-view+json": {
       "model_id": "",
       "version_major": 2,
       "version_minor": 0
      },
      "text/plain": [
       "  0%|          | 0/6 [00:00<?, ?it/s]"
      ]
     },
     "metadata": {},
     "output_type": "display_data"
    }
   ],
   "source": [
    "analysis = ['ens', 'wa', 'delta', 'lm', 'nngp', 'cnn1']\n",
    "alpha = 0.1\n",
    "\n",
    "cover1 = np.zeros((nmod, nproj))\n",
    "cover2 = np.zeros((nmod, nproj))\n",
    "cover3 = np.zeros((nmod, nproj))\n",
    "width1 = np.zeros((nmod, nproj))\n",
    "width2 = np.zeros((nmod, nproj))\n",
    "width3 = np.zeros((nmod, nproj))\n",
    "level = np.ceil((1 - alpha) * (nval + 1))/(nval + 1)\n",
    "\n",
    "for model_no in trange(nmod):\n",
    "    xtrain, xval, xtest, ytrain, yval, ytest = scale_and_split(xtrain_orig, xtest_orig, model_no = model_no, nval = nval)\n",
    "    \n",
    "    for k in trange(nproj, leave = False):\n",
    "        \n",
    "        yval_hat = np.load(save_loc + f'/yval_{analysis[k]}_{model_no}.npy')\n",
    "        ytest_hat = np.load(save_loc + f'/ytest_{analysis[k]}_{model_no}.npy')\n",
    "        \n",
    "        if analysis[k] == 'lm':\n",
    "            yval_hat = np.clip(yval_hat, -3, 3)\n",
    "            ytest_hat = np.clip(ytest_hat, -3, 3)\n",
    "        \n",
    "        resval = yval - yval_hat.reshape(yval.shape)\n",
    "        restest = ytest - ytest_hat.reshape(ytest.shape)\n",
    "        \n",
    "        dr1a, dr1b = global_mmd_self(resval, resval), global_mmd(resval, restest)\n",
    "        dr2a, dr2b = inf_depth(resval), inf_depth(restest)\n",
    "        dr3a, dr3b = tukey_depth_self(resval, resval), tukey_depth(resval, restest)\n",
    "        \n",
    "        q1 = np.sort(dr1a)[int(np.ceil((1 - alpha) * (nval + 1)))]\n",
    "        q2 = np.sort(dr2a)[int(np.ceil((1 - alpha) * (nval + 1)))]\n",
    "        q3 = np.sort(dr3a)[int(np.ceil((1 - alpha) * (nval + 1)))]\n",
    "        \n",
    "        q1 = (q1 + np.quantile(dr1a, level))/2\n",
    "        q2 = (q2 + np.quantile(dr2a, level))/2\n",
    "        q3 = (q3 + np.quantile(dr3a, level))/2\n",
    "        \n",
    "        cover1[model_no,k] = np.mean(dr1b < q1)\n",
    "        cover2[model_no,k] = np.mean(dr2b < q2)\n",
    "        cover3[model_no,k] = np.mean(dr3b < q3)\n",
    "        \n",
    "        width1[model_no,k] = field_width(resval[dr1a < q1])\n",
    "        width2[model_no,k] = field_width(resval[dr2a < q2])\n",
    "        width3[model_no,k] = field_width(resval[dr3a < q3])"
   ]
  },
  {
   "cell_type": "code",
   "execution_count": 21,
   "id": "005201d5",
   "metadata": {},
   "outputs": [],
   "source": [
    "tmax_cover1 = np.mean(cover1, axis = 0)\n",
    "tmax_cover2 = np.mean(cover2, axis = 0)\n",
    "tmax_cover3 = np.mean(cover3, axis = 0)\n",
    "tmax_width1 = np.mean(width1, axis = 0)\n",
    "tmax_width2 = np.mean(width2, axis = 0)\n",
    "tmax_width3 = np.mean(width3, axis = 0)"
   ]
  },
  {
   "cell_type": "code",
   "execution_count": 22,
   "id": "71faa101",
   "metadata": {},
   "outputs": [
    {
     "data": {
      "text/plain": [
       "(array([0.893, 0.922, 0.893, 0.913, 0.933, 0.856]),\n",
       " array([0.929, 0.964, 0.929, 0.969, 0.975, 0.935]),\n",
       " array([0.831, 0.925, 0.893, 0.868, 0.926, 0.882]))"
      ]
     },
     "execution_count": 22,
     "metadata": {},
     "output_type": "execute_result"
    }
   ],
   "source": [
    "np.round(tmax_cover1, 3), np.round(tmax_cover3, 3), np.round(tmax_cover2, 3)"
   ]
  },
  {
   "cell_type": "code",
   "execution_count": 23,
   "id": "1a9134ee",
   "metadata": {},
   "outputs": [
    {
     "data": {
      "text/plain": [
       "(array([3.532, 3.474, 3.605, 4.831, 3.295, 3.646]),\n",
       " array([3.534, 3.472, 3.605, 4.837, 3.293, 3.644]),\n",
       " array([3.524, 3.474, 3.604, 4.816, 3.295, 3.645]))"
      ]
     },
     "execution_count": 23,
     "metadata": {},
     "output_type": "execute_result"
    }
   ],
   "source": [
    "np.round(tmax_width1, 3), np.round(tmax_width3, 3), np.round(tmax_width2, 3)"
   ]
  },
  {
   "cell_type": "markdown",
   "id": "d2a7bc62",
   "metadata": {},
   "source": [
    "## Precipitation (pr)"
   ]
  },
  {
   "cell_type": "code",
   "execution_count": 24,
   "id": "6238e786",
   "metadata": {},
   "outputs": [],
   "source": [
    "nproj = 6\n",
    "nval = 200\n",
    "\n",
    "xhist_tas = pickle.load(open('../data/xhist_pr_hr.pkl', 'rb'))\n",
    "xrcp_tas = pickle.load(open('../data/xrcp_pr_hr.pkl', 'rb'))\n",
    "nmod = xhist_tas.shape[1]\n",
    "\n",
    "n = (2015 - 1940) * 12\n",
    "xhist_tas = xhist_tas[-n:]\n",
    "\n",
    "xtrain_orig = np.concatenate([xhist_tas, xrcp_tas[:108]], axis = 0)\n",
    "xtest_orig = xrcp_tas[108:]\n",
    "\n",
    "ntrain = xtrain_orig.shape[0] - nval\n",
    "ntest = xtest_orig.shape[0]\n",
    "\n",
    "xtrain_orig = np.log(np.abs(xtrain_orig) + 1e-3)\n",
    "xtest_orig = np.log(np.abs(xtest_orig) + 1e-3)\n",
    "\n",
    "save_loc = 'trained_models/pr'"
   ]
  },
  {
   "cell_type": "code",
   "execution_count": 25,
   "id": "a6cdde6a",
   "metadata": {},
   "outputs": [
    {
     "data": {
      "application/vnd.jupyter.widget-view+json": {
       "model_id": "c631b883985f44a88d5d44299498679f",
       "version_major": 2,
       "version_minor": 0
      },
      "text/plain": [
       "  0%|          | 0/30 [00:00<?, ?it/s]"
      ]
     },
     "metadata": {},
     "output_type": "display_data"
    },
    {
     "data": {
      "application/vnd.jupyter.widget-view+json": {
       "model_id": "",
       "version_major": 2,
       "version_minor": 0
      },
      "text/plain": [
       "  0%|          | 0/6 [00:00<?, ?it/s]"
      ]
     },
     "metadata": {},
     "output_type": "display_data"
    },
    {
     "data": {
      "application/vnd.jupyter.widget-view+json": {
       "model_id": "",
       "version_major": 2,
       "version_minor": 0
      },
      "text/plain": [
       "  0%|          | 0/6 [00:00<?, ?it/s]"
      ]
     },
     "metadata": {},
     "output_type": "display_data"
    },
    {
     "data": {
      "application/vnd.jupyter.widget-view+json": {
       "model_id": "",
       "version_major": 2,
       "version_minor": 0
      },
      "text/plain": [
       "  0%|          | 0/6 [00:00<?, ?it/s]"
      ]
     },
     "metadata": {},
     "output_type": "display_data"
    },
    {
     "data": {
      "application/vnd.jupyter.widget-view+json": {
       "model_id": "",
       "version_major": 2,
       "version_minor": 0
      },
      "text/plain": [
       "  0%|          | 0/6 [00:00<?, ?it/s]"
      ]
     },
     "metadata": {},
     "output_type": "display_data"
    },
    {
     "data": {
      "application/vnd.jupyter.widget-view+json": {
       "model_id": "",
       "version_major": 2,
       "version_minor": 0
      },
      "text/plain": [
       "  0%|          | 0/6 [00:00<?, ?it/s]"
      ]
     },
     "metadata": {},
     "output_type": "display_data"
    },
    {
     "data": {
      "application/vnd.jupyter.widget-view+json": {
       "model_id": "",
       "version_major": 2,
       "version_minor": 0
      },
      "text/plain": [
       "  0%|          | 0/6 [00:00<?, ?it/s]"
      ]
     },
     "metadata": {},
     "output_type": "display_data"
    },
    {
     "data": {
      "application/vnd.jupyter.widget-view+json": {
       "model_id": "",
       "version_major": 2,
       "version_minor": 0
      },
      "text/plain": [
       "  0%|          | 0/6 [00:00<?, ?it/s]"
      ]
     },
     "metadata": {},
     "output_type": "display_data"
    },
    {
     "data": {
      "application/vnd.jupyter.widget-view+json": {
       "model_id": "",
       "version_major": 2,
       "version_minor": 0
      },
      "text/plain": [
       "  0%|          | 0/6 [00:00<?, ?it/s]"
      ]
     },
     "metadata": {},
     "output_type": "display_data"
    },
    {
     "data": {
      "application/vnd.jupyter.widget-view+json": {
       "model_id": "",
       "version_major": 2,
       "version_minor": 0
      },
      "text/plain": [
       "  0%|          | 0/6 [00:00<?, ?it/s]"
      ]
     },
     "metadata": {},
     "output_type": "display_data"
    },
    {
     "data": {
      "application/vnd.jupyter.widget-view+json": {
       "model_id": "",
       "version_major": 2,
       "version_minor": 0
      },
      "text/plain": [
       "  0%|          | 0/6 [00:00<?, ?it/s]"
      ]
     },
     "metadata": {},
     "output_type": "display_data"
    },
    {
     "data": {
      "application/vnd.jupyter.widget-view+json": {
       "model_id": "",
       "version_major": 2,
       "version_minor": 0
      },
      "text/plain": [
       "  0%|          | 0/6 [00:00<?, ?it/s]"
      ]
     },
     "metadata": {},
     "output_type": "display_data"
    },
    {
     "data": {
      "application/vnd.jupyter.widget-view+json": {
       "model_id": "",
       "version_major": 2,
       "version_minor": 0
      },
      "text/plain": [
       "  0%|          | 0/6 [00:00<?, ?it/s]"
      ]
     },
     "metadata": {},
     "output_type": "display_data"
    },
    {
     "data": {
      "application/vnd.jupyter.widget-view+json": {
       "model_id": "",
       "version_major": 2,
       "version_minor": 0
      },
      "text/plain": [
       "  0%|          | 0/6 [00:00<?, ?it/s]"
      ]
     },
     "metadata": {},
     "output_type": "display_data"
    },
    {
     "data": {
      "application/vnd.jupyter.widget-view+json": {
       "model_id": "",
       "version_major": 2,
       "version_minor": 0
      },
      "text/plain": [
       "  0%|          | 0/6 [00:00<?, ?it/s]"
      ]
     },
     "metadata": {},
     "output_type": "display_data"
    },
    {
     "data": {
      "application/vnd.jupyter.widget-view+json": {
       "model_id": "",
       "version_major": 2,
       "version_minor": 0
      },
      "text/plain": [
       "  0%|          | 0/6 [00:00<?, ?it/s]"
      ]
     },
     "metadata": {},
     "output_type": "display_data"
    },
    {
     "data": {
      "application/vnd.jupyter.widget-view+json": {
       "model_id": "",
       "version_major": 2,
       "version_minor": 0
      },
      "text/plain": [
       "  0%|          | 0/6 [00:00<?, ?it/s]"
      ]
     },
     "metadata": {},
     "output_type": "display_data"
    },
    {
     "data": {
      "application/vnd.jupyter.widget-view+json": {
       "model_id": "",
       "version_major": 2,
       "version_minor": 0
      },
      "text/plain": [
       "  0%|          | 0/6 [00:00<?, ?it/s]"
      ]
     },
     "metadata": {},
     "output_type": "display_data"
    },
    {
     "data": {
      "application/vnd.jupyter.widget-view+json": {
       "model_id": "",
       "version_major": 2,
       "version_minor": 0
      },
      "text/plain": [
       "  0%|          | 0/6 [00:00<?, ?it/s]"
      ]
     },
     "metadata": {},
     "output_type": "display_data"
    },
    {
     "data": {
      "application/vnd.jupyter.widget-view+json": {
       "model_id": "",
       "version_major": 2,
       "version_minor": 0
      },
      "text/plain": [
       "  0%|          | 0/6 [00:00<?, ?it/s]"
      ]
     },
     "metadata": {},
     "output_type": "display_data"
    },
    {
     "data": {
      "application/vnd.jupyter.widget-view+json": {
       "model_id": "",
       "version_major": 2,
       "version_minor": 0
      },
      "text/plain": [
       "  0%|          | 0/6 [00:00<?, ?it/s]"
      ]
     },
     "metadata": {},
     "output_type": "display_data"
    },
    {
     "data": {
      "application/vnd.jupyter.widget-view+json": {
       "model_id": "",
       "version_major": 2,
       "version_minor": 0
      },
      "text/plain": [
       "  0%|          | 0/6 [00:00<?, ?it/s]"
      ]
     },
     "metadata": {},
     "output_type": "display_data"
    },
    {
     "data": {
      "application/vnd.jupyter.widget-view+json": {
       "model_id": "",
       "version_major": 2,
       "version_minor": 0
      },
      "text/plain": [
       "  0%|          | 0/6 [00:00<?, ?it/s]"
      ]
     },
     "metadata": {},
     "output_type": "display_data"
    },
    {
     "data": {
      "application/vnd.jupyter.widget-view+json": {
       "model_id": "",
       "version_major": 2,
       "version_minor": 0
      },
      "text/plain": [
       "  0%|          | 0/6 [00:00<?, ?it/s]"
      ]
     },
     "metadata": {},
     "output_type": "display_data"
    },
    {
     "data": {
      "application/vnd.jupyter.widget-view+json": {
       "model_id": "",
       "version_major": 2,
       "version_minor": 0
      },
      "text/plain": [
       "  0%|          | 0/6 [00:00<?, ?it/s]"
      ]
     },
     "metadata": {},
     "output_type": "display_data"
    },
    {
     "data": {
      "application/vnd.jupyter.widget-view+json": {
       "model_id": "",
       "version_major": 2,
       "version_minor": 0
      },
      "text/plain": [
       "  0%|          | 0/6 [00:00<?, ?it/s]"
      ]
     },
     "metadata": {},
     "output_type": "display_data"
    },
    {
     "data": {
      "application/vnd.jupyter.widget-view+json": {
       "model_id": "",
       "version_major": 2,
       "version_minor": 0
      },
      "text/plain": [
       "  0%|          | 0/6 [00:00<?, ?it/s]"
      ]
     },
     "metadata": {},
     "output_type": "display_data"
    },
    {
     "data": {
      "application/vnd.jupyter.widget-view+json": {
       "model_id": "",
       "version_major": 2,
       "version_minor": 0
      },
      "text/plain": [
       "  0%|          | 0/6 [00:00<?, ?it/s]"
      ]
     },
     "metadata": {},
     "output_type": "display_data"
    },
    {
     "data": {
      "application/vnd.jupyter.widget-view+json": {
       "model_id": "",
       "version_major": 2,
       "version_minor": 0
      },
      "text/plain": [
       "  0%|          | 0/6 [00:00<?, ?it/s]"
      ]
     },
     "metadata": {},
     "output_type": "display_data"
    },
    {
     "data": {
      "application/vnd.jupyter.widget-view+json": {
       "model_id": "",
       "version_major": 2,
       "version_minor": 0
      },
      "text/plain": [
       "  0%|          | 0/6 [00:00<?, ?it/s]"
      ]
     },
     "metadata": {},
     "output_type": "display_data"
    },
    {
     "data": {
      "application/vnd.jupyter.widget-view+json": {
       "model_id": "",
       "version_major": 2,
       "version_minor": 0
      },
      "text/plain": [
       "  0%|          | 0/6 [00:00<?, ?it/s]"
      ]
     },
     "metadata": {},
     "output_type": "display_data"
    }
   ],
   "source": [
    "analysis = ['ens', 'wa', 'delta', 'lm', 'nngp', 'cnn1']\n",
    "alpha = 0.1\n",
    "\n",
    "cover1 = np.zeros((nmod, nproj))\n",
    "cover2 = np.zeros((nmod, nproj))\n",
    "cover3 = np.zeros((nmod, nproj))\n",
    "width1 = np.zeros((nmod, nproj))\n",
    "width2 = np.zeros((nmod, nproj))\n",
    "width3 = np.zeros((nmod, nproj))\n",
    "level = np.ceil((1 - alpha) * (nval + 1))/(nval + 1)\n",
    "\n",
    "for model_no in trange(nmod):\n",
    "    xtrain, xval, xtest, ytrain, yval, ytest = scale_and_split(xtrain_orig, xtest_orig, model_no = model_no, nval = nval)\n",
    "    \n",
    "    for k in trange(nproj, leave = False):\n",
    "        \n",
    "        yval_hat = np.load(save_loc + f'/yval_{analysis[k]}_{model_no}.npy')\n",
    "        ytest_hat = np.load(save_loc + f'/ytest_{analysis[k]}_{model_no}.npy')\n",
    "        \n",
    "        if analysis[k] == 'lm':\n",
    "            yval_hat = np.clip(yval_hat, -3, 3)\n",
    "            ytest_hat = np.clip(ytest_hat, -3, 3)\n",
    "        \n",
    "        resval = yval - yval_hat.reshape(yval.shape)\n",
    "        restest = ytest - ytest_hat.reshape(ytest.shape)\n",
    "        \n",
    "        dr1a, dr1b = global_mmd_self(resval, resval), global_mmd(resval, restest)\n",
    "        dr2a, dr2b = inf_depth(resval), inf_depth(restest)\n",
    "        dr3a, dr3b = tukey_depth_self(resval, resval), tukey_depth(resval, restest)\n",
    "        \n",
    "        q1 = np.sort(dr1a)[int(np.ceil((1 - alpha) * (nval + 1)))]\n",
    "        q2 = np.sort(dr2a)[int(np.ceil((1 - alpha) * (nval + 1)))]\n",
    "        q3 = np.sort(dr3a)[int(np.ceil((1 - alpha) * (nval + 1)))]\n",
    "        \n",
    "        q1 = (q1 + np.quantile(dr1a, level))/2\n",
    "        q2 = (q2 + np.quantile(dr2a, level))/2\n",
    "        q3 = (q3 + np.quantile(dr3a, level))/2\n",
    "        \n",
    "        cover1[model_no,k] = np.mean(dr1b < q1)\n",
    "        cover2[model_no,k] = np.mean(dr2b < q2)\n",
    "        cover3[model_no,k] = np.mean(dr3b < q3)\n",
    "        \n",
    "        width1[model_no,k] = field_width(resval[dr1a < q1])\n",
    "        width2[model_no,k] = field_width(resval[dr2a < q2])\n",
    "        width3[model_no,k] = field_width(resval[dr3a < q3])"
   ]
  },
  {
   "cell_type": "code",
   "execution_count": 26,
   "id": "8454b1f3",
   "metadata": {},
   "outputs": [],
   "source": [
    "pr_cover1 = np.mean(cover1, axis = 0)\n",
    "pr_cover2 = np.mean(cover2, axis = 0)\n",
    "pr_cover3 = np.mean(cover3, axis = 0)\n",
    "pr_width1 = np.mean(width1, axis = 0)\n",
    "pr_width2 = np.mean(width2, axis = 0)\n",
    "pr_width3 = np.mean(width3, axis = 0)\n"
   ]
  },
  {
   "cell_type": "code",
   "execution_count": 27,
   "id": "1427cc6b",
   "metadata": {},
   "outputs": [
    {
     "data": {
      "text/plain": [
       "(array([0.906, 0.91 , 0.906, 0.912, 0.908, 0.901]),\n",
       " array([0.929, 0.938, 0.929, 0.945, 0.949, 0.928]),\n",
       " array([0.906, 0.92 , 0.906, 0.903, 0.916, 0.909]))"
      ]
     },
     "execution_count": 27,
     "metadata": {},
     "output_type": "execute_result"
    }
   ],
   "source": [
    "np.round(pr_cover1, 3), np.round(pr_cover3, 3), np.round(pr_cover2, 3)"
   ]
  },
  {
   "cell_type": "code",
   "execution_count": 28,
   "id": "1b076c69",
   "metadata": {},
   "outputs": [
    {
     "data": {
      "text/plain": [
       "(array([2.611, 2.884, 2.871, 3.121, 2.805, 2.952]),\n",
       " array([2.617, 2.887, 2.877, 3.128, 2.809, 2.958]),\n",
       " array([2.612, 2.885, 2.872, 3.119, 2.806, 2.955]))"
      ]
     },
     "execution_count": 28,
     "metadata": {},
     "output_type": "execute_result"
    }
   ],
   "source": [
    "np.round(pr_width1, 3), np.round(pr_width3, 3), np.round(pr_width2, 3)"
   ]
  },
  {
   "cell_type": "code",
   "execution_count": 29,
   "id": "08b638dd",
   "metadata": {},
   "outputs": [
    {
     "data": {
      "text/plain": [
       "array([[0.90635965, 0.92923977, 0.90566521],\n",
       "       [0.90950293, 0.9381579 , 0.92035819],\n",
       "       [0.90635965, 0.92923977, 0.90566521],\n",
       "       [0.91209796, 0.94510235, 0.90307018],\n",
       "       [0.90774854, 0.94883042, 0.91578948],\n",
       "       [0.901462  , 0.92774124, 0.90891814]])"
      ]
     },
     "execution_count": 29,
     "metadata": {},
     "output_type": "execute_result"
    }
   ],
   "source": [
    "np.stack([pr_cover1, pr_cover3, pr_cover2]).T"
   ]
  },
  {
   "cell_type": "code",
   "execution_count": 30,
   "id": "1a64df98",
   "metadata": {},
   "outputs": [
    {
     "data": {
      "text/plain": [
       "array([[0.90635965, 0.90566521, 0.92923977],\n",
       "       [0.90950293, 0.92035819, 0.9381579 ],\n",
       "       [0.90635965, 0.90566521, 0.92923977],\n",
       "       [0.91209796, 0.90307018, 0.94510235],\n",
       "       [0.90774854, 0.91578948, 0.94883042],\n",
       "       [0.901462  , 0.90891814, 0.92774124]])"
      ]
     },
     "execution_count": 30,
     "metadata": {},
     "output_type": "execute_result"
    }
   ],
   "source": [
    "np.stack([pr_cover1, pr_cover2, pr_cover3]).T"
   ]
  },
  {
   "cell_type": "code",
   "execution_count": null,
   "id": "ed01e9d4",
   "metadata": {},
   "outputs": [],
   "source": []
  },
  {
   "cell_type": "code",
   "execution_count": 31,
   "id": "f860afd1",
   "metadata": {},
   "outputs": [],
   "source": [
    "wn_cover = np.round(np.vstack([wn_cover1, wn_cover3, wn_cover2]).T.reshape(-1), 3)\n",
    "tas_cover = np.round(np.vstack([tas_cover1, tas_cover3, tas_cover2]).T.reshape(-1), 3)\n",
    "tmax_cover = np.round(np.vstack([tmax_cover1, tmax_cover3, tmax_cover2]).T.reshape(-1), 3)\n",
    "pr_cover = np.round(np.vstack([pr_cover1, pr_cover3, pr_cover2]).T.reshape(-1), 3)\n",
    "cover = np.vstack([wn_cover, tas_cover, tmax_cover, pr_cover]).T\n",
    "\n",
    "wn_width = np.round(np.vstack([wn_width1, wn_width3, wn_width2]).T.reshape(-1), 3)\n",
    "tas_width = np.round(np.vstack([tas_width1, tas_width3, tas_width2]).T.reshape(-1), 3)\n",
    "tmax_width = np.round(np.vstack([tmax_width1, tmax_width3, tmax_width2]).T.reshape(-1), 3)\n",
    "pr_width = np.round(np.vstack([pr_width1, pr_width3, pr_width2]).T.reshape(-1), 3)\n",
    "width = np.vstack([wn_width, tas_width, tmax_width, pr_width]).T"
   ]
  },
  {
   "cell_type": "code",
   "execution_count": 78,
   "id": "aed6d640",
   "metadata": {},
   "outputs": [],
   "source": [
    "np.set_printoptions(precision=3, floatmode = 'fixed')\n",
    "table = np.hstack([cover, width])"
   ]
  },
  {
   "cell_type": "code",
   "execution_count": 79,
   "id": "94c55cf7",
   "metadata": {},
   "outputs": [
    {
     "name": "stdout",
     "output_type": "stream",
     "text": [
      "0.902 & 0.890 & 0.893 & 0.906 & 6.126 & 3.717 & 3.532 & 2.611\n",
      "0.900 & 0.928 & 0.929 & 0.929 & 6.100 & 3.717 & 3.534 & 2.617\n",
      "0.901 & 0.870 & 0.831 & 0.906 & 6.120 & 3.705 & 3.524 & 2.612\n",
      "0.900 & 0.921 & 0.922 & 0.910 & 6.220 & 3.563 & 3.474 & 2.884\n",
      "0.900 & 0.967 & 0.964 & 0.938 & 6.195 & 3.563 & 3.472 & 2.887\n",
      "0.901 & 0.933 & 0.925 & 0.920 & 6.213 & 3.562 & 3.474 & 2.885\n",
      "0.902 & 0.890 & 0.893 & 0.906 & 6.126 & 3.731 & 3.605 & 2.871\n",
      "0.900 & 0.928 & 0.929 & 0.929 & 6.100 & 3.731 & 3.605 & 2.877\n",
      "0.900 & 0.904 & 0.893 & 0.906 & 6.120 & 3.730 & 3.604 & 2.872\n",
      "0.902 & 0.900 & 0.913 & 0.912 & 6.323 & 5.341 & 4.831 & 3.121\n",
      "0.903 & 0.975 & 0.969 & 0.945 & 6.330 & 5.346 & 4.837 & 3.128\n",
      "0.901 & 0.874 & 0.868 & 0.903 & 6.332 & 5.328 & 4.816 & 3.119\n",
      "0.902 & 0.932 & 0.933 & 0.908 & 6.126 & 3.376 & 3.295 & 2.805\n",
      "0.900 & 0.977 & 0.975 & 0.949 & 6.100 & 3.375 & 3.293 & 2.809\n",
      "0.900 & 0.931 & 0.926 & 0.916 & 6.120 & 3.374 & 3.295 & 2.806\n",
      "0.900 & 0.876 & 0.856 & 0.901 & 6.353 & 3.686 & 3.646 & 2.952\n",
      "0.905 & 0.936 & 0.935 & 0.928 & 6.326 & 3.687 & 3.644 & 2.958\n",
      "0.894 & 0.895 & 0.882 & 0.909 & 6.347 & 3.684 & 3.645 & 2.955\n"
     ]
    }
   ],
   "source": [
    "for row in table:\n",
    "    x = [f\"{i:1.3f}\" for i in row]\n",
    "    print(' & '.join(x))"
   ]
  },
  {
   "cell_type": "code",
   "execution_count": 82,
   "id": "12cff982",
   "metadata": {},
   "outputs": [
    {
     "name": "stdout",
     "output_type": "stream",
     "text": [
      "EA \t 0.902 & 0.890 & 0.893 & 0.906 & 6.126 & 3.717 & 3.532 & 2.611\n",
      "EA \t 0.900 & 0.928 & 0.929 & 0.929 & 6.100 & 3.717 & 3.534 & 2.617\n",
      "EA \t 0.901 & 0.870 & 0.831 & 0.906 & 6.120 & 3.705 & 3.524 & 2.612\n",
      "WA \t 0.900 & 0.921 & 0.922 & 0.910 & 6.220 & 3.563 & 3.474 & 2.884\n",
      "WA \t 0.900 & 0.967 & 0.964 & 0.938 & 6.195 & 3.563 & 3.472 & 2.887\n",
      "WA \t 0.901 & 0.933 & 0.925 & 0.920 & 6.213 & 3.562 & 3.474 & 2.885\n",
      "Delta \t 0.902 & 0.890 & 0.893 & 0.906 & 6.126 & 3.731 & 3.605 & 2.871\n",
      "Delta \t 0.900 & 0.928 & 0.929 & 0.929 & 6.100 & 3.731 & 3.605 & 2.877\n",
      "Delta \t 0.900 & 0.904 & 0.893 & 0.906 & 6.120 & 3.730 & 3.604 & 2.872\n",
      "LM \t 0.902 & 0.900 & 0.913 & 0.912 & 6.323 & 5.341 & 4.831 & 3.121\n",
      "LM \t 0.903 & 0.975 & 0.969 & 0.945 & 6.330 & 5.346 & 4.837 & 3.128\n",
      "LM \t 0.901 & 0.874 & 0.868 & 0.903 & 6.332 & 5.328 & 4.816 & 3.119\n",
      "GP \t 0.902 & 0.932 & 0.933 & 0.908 & 6.126 & 3.376 & 3.295 & 2.805\n",
      "GP \t 0.900 & 0.977 & 0.975 & 0.949 & 6.100 & 3.375 & 3.293 & 2.809\n",
      "GP \t 0.900 & 0.931 & 0.926 & 0.916 & 6.120 & 3.374 & 3.295 & 2.806\n",
      "CNN \t 0.900 & 0.876 & 0.856 & 0.901 & 6.353 & 3.686 & 3.646 & 2.952\n",
      "CNN \t 0.905 & 0.936 & 0.935 & 0.928 & 6.326 & 3.687 & 3.644 & 2.958\n",
      "CNN \t 0.894 & 0.895 & 0.882 & 0.909 & 6.347 & 3.684 & 3.645 & 2.955\n"
     ]
    }
   ],
   "source": [
    "analysis = ['EA', 'WA', 'Delta', 'LM', 'GP', 'CNN']\n",
    "for i, row in enumerate(table):\n",
    "    x = [f\"{i:1.3f}\" for i in row]\n",
    "    print(analysis[i//3], '\\t', ' & '.join(x))"
   ]
  },
  {
   "cell_type": "code",
   "execution_count": null,
   "id": "143e3f17",
   "metadata": {},
   "outputs": [],
   "source": []
  }
 ],
 "metadata": {
  "kernelspec": {
   "display_name": "Python 3 (ipykernel)",
   "language": "python",
   "name": "python3"
  },
  "language_info": {
   "codemirror_mode": {
    "name": "ipython",
    "version": 3
   },
   "file_extension": ".py",
   "mimetype": "text/x-python",
   "name": "python",
   "nbconvert_exporter": "python",
   "pygments_lexer": "ipython3",
   "version": "3.9.12"
  }
 },
 "nbformat": 4,
 "nbformat_minor": 5
}
