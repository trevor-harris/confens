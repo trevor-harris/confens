{
 "cells": [
  {
   "cell_type": "markdown",
   "id": "6d3f97bb",
   "metadata": {},
   "source": [
    "# Model training "
   ]
  },
  {
   "cell_type": "code",
   "execution_count": 1,
   "id": "9c2bb662",
   "metadata": {},
   "outputs": [],
   "source": [
    "import os\n",
    "import gc\n",
    "import math\n",
    "\n",
    "# numpy\n",
    "import numpy as np\n",
    "import scipy\n",
    "\n",
    "# from jax\n",
    "import jax\n",
    "from jax import jacfwd, jacrev\n",
    "from jax import vmap, grad, jit, random\n",
    "from jax.config import config\n",
    "import jax.numpy as jnp\n",
    "from jax.tree_util import tree_map, tree_flatten, tree_unflatten, tree_leaves\n",
    "\n",
    "import haiku as hk\n",
    "import flax\n",
    "from flax import linen as nn\n",
    "import optax\n",
    "\n",
    "import properscoring as ps\n",
    "\n",
    "config.update(\"jax_enable_x64\", True)\n",
    "\n",
    "# plotting\n",
    "import matplotlib\n",
    "import matplotlib.pyplot as plt\n",
    "from matplotlib import ticker\n",
    "from matplotlib.ticker import FormatStrFormatter\n",
    "plt.style.use('default')\n",
    "\n",
    "from matplotlib.gridspec import GridSpec\n",
    "from matplotlib import colors\n",
    "from matplotlib import cm\n",
    "from matplotlib.colors import ListedColormap, LinearSegmentedColormap\n",
    "\n",
    "from tqdm.notebook import tqdm\n",
    "from tqdm.notebook import trange\n",
    "\n",
    "# netCDF\n",
    "import netCDF4 as nc\n",
    "import pickle\n",
    "import warnings\n",
    "warnings.filterwarnings('ignore')\n",
    "\n",
    "from sklearn.decomposition import PCA"
   ]
  },
  {
   "cell_type": "code",
   "execution_count": 2,
   "id": "53661bf0",
   "metadata": {},
   "outputs": [],
   "source": [
    "def mse_weighted(x, y):\n",
    "    nlat = x.shape[1]\n",
    "    weight = np.cos(np.linspace(math.pi/2 - 1/nlat, -math.pi/2 + 1/nlat, nlat))\n",
    "    weight /= np.mean(weight)\n",
    "    weight = weight[None,:,None]\n",
    "    \n",
    "    return np.sqrt(np.mean((x - y)**2 * weight, axis = (1, 2)))\n",
    "\n",
    "def resize_model(x, dim1, dim2): \n",
    "    x = np.moveaxis(x, 0, 2)\n",
    "    x = resize(x, (dim1, dim2))\n",
    "    x = np.moveaxis(x, 2, 0)\n",
    "    return x"
   ]
  },
  {
   "cell_type": "code",
   "execution_count": 3,
   "id": "ffc3bd74",
   "metadata": {},
   "outputs": [],
   "source": [
    "def scale_and_split(xtrain, xtest, model_no, nval = 200, reshape = False):\n",
    "    ytrain = xtrain[:,model_no]\n",
    "    ytest = xtest[:,model_no]\n",
    "    xtrain = np.delete(xtrain, model_no, axis=1)\n",
    "    xtest = np.delete(xtest, model_no, axis=1)\n",
    "\n",
    "    ## dimensions\n",
    "    ntrain = xtrain.shape[0]\n",
    "    ntest = xtest.shape[0]\n",
    "    nlat = xtrain.shape[2]\n",
    "    nlon = xtrain.shape[3]\n",
    "\n",
    "    ## rescale\n",
    "    xtrain_mean = np.mean(xtrain, axis = 1)\n",
    "    xtest_mean = np.mean(xtest, axis = 1)\n",
    "    xtrain_sd = np.std(xtrain, axis = 1)\n",
    "    xtest_sd = np.std(xtest, axis = 1)\n",
    "\n",
    "    xtrain_scaled = (xtrain - xtrain_mean[:,None]) / xtrain_sd[:,None]\n",
    "    xtest_scaled = (xtest - xtest_mean[:,None]) / xtest_sd[:,None]\n",
    "    ytrain_scaled = (ytrain - xtrain_mean) / xtrain_sd\n",
    "    ytest_scaled = (ytest - xtest_mean) / xtest_sd\n",
    "\n",
    "    ## convert\n",
    "    if reshape:\n",
    "        xtrain_scaled = xtrain_scaled.reshape(ntrain, -1)\n",
    "        xtest_scaled = xtest_scaled.reshape(ntest, -1)\n",
    "        ytrain_scaled = ytrain_scaled.reshape(ntrain, -1)\n",
    "        ytest_scaled = ytest_scaled.reshape(ntest, -1)\n",
    "\n",
    "    xtrain_scaled = jnp.array(xtrain_scaled)\n",
    "    xtest_scaled = jnp.array(xtest_scaled)\n",
    "    ytrain_scaled = jnp.array(ytrain_scaled)\n",
    "    ytest_scaled = jnp.array(ytest_scaled)\n",
    "\n",
    "    xval_scaled = xtrain_scaled[-nval:]\n",
    "    yval_scaled = ytrain_scaled[-nval:]\n",
    "    xtrain_scaled = xtrain_scaled[:-nval]\n",
    "    ytrain_scaled = ytrain_scaled[:-nval]\n",
    "    \n",
    "    return [xtrain_scaled, xval_scaled, xtest_scaled,\n",
    "            ytrain_scaled, yval_scaled, ytest_scaled,\n",
    "            xtrain_mean, xtest_mean, xtrain_sd, xtest_sd]\n",
    "\n",
    "def anomalize(xtrain, xtest):\n",
    "    xtrain_anom = np.zeros_like(xtrain)\n",
    "    xtest_anom = np.zeros_like(xtest)\n",
    "\n",
    "    ntrain = xtrain.shape[0]\n",
    "    ntest = xtest.shape[0]\n",
    "\n",
    "    monthly_means = np.array([np.mean(xtrain[(12*20):(12*50)][i::12], axis = 0) for i in range(12)])\n",
    "    for k in trange(ntrain, leave = False):\n",
    "        xtrain_anom[k] = xtrain[k] - monthly_means[k % 12]\n",
    "\n",
    "    for k in trange(ntest, leave = False):\n",
    "        xtest_anom[k] = xtest[k] - monthly_means[k % 12]\n",
    "    \n",
    "    return np.array(xtrain_anom), np.array(xtest_anom)"
   ]
  },
  {
   "cell_type": "markdown",
   "id": "33da6133",
   "metadata": {},
   "source": [
    "## model definitions"
   ]
  },
  {
   "cell_type": "code",
   "execution_count": 4,
   "id": "af3997d2",
   "metadata": {},
   "outputs": [],
   "source": [
    "## regression\n",
    "def ols(x, y):\n",
    "    return jnp.matmul(jnp.matmul(jnp.linalg.inv(jnp.matmul(x.T, x)), x.T), y)\n",
    "\n",
    "ols = jit(ols)\n",
    "v_ols = vmap(vmap(ols, (2, 1)), (3, 2))\n",
    "v_ols = jit(v_ols)\n",
    "\n",
    "def reg_pred(x, beta):\n",
    "    return jnp.sum(x * beta[None,:,:,:], axis = 1)\n",
    "\n",
    "reg_pred = jit(reg_pred)"
   ]
  },
  {
   "cell_type": "code",
   "execution_count": 5,
   "id": "f62fa23d",
   "metadata": {},
   "outputs": [],
   "source": [
    "### delta\n",
    "def delta_pred(xtest, xtrain, ytrain):\n",
    "    delta = jnp.mean(xtest - xtrain, axis = 1)\n",
    "    return jnp.median(ytrain + delta, axis = 0)\n",
    "\n",
    "delta_pred = jit(vmap(delta_pred, (0, None, None)))\n",
    "\n",
    "# def delta_var(xtest, xtrain, ytrain):\n",
    "#     delta = jnp.mean(xtest - xtrain, axis = 3)\n",
    "#     return jnp.std(ytrain + delta, axis = 0)\n",
    "\n",
    "# delta_var = jit(delta_var)"
   ]
  },
  {
   "cell_type": "code",
   "execution_count": 6,
   "id": "3d9ea72d",
   "metadata": {},
   "outputs": [],
   "source": [
    "### model init\n",
    "\n",
    "def nngp_params(key, depth = 1):\n",
    "\n",
    "    subkeys = random.split(key, 3 + 2 * (depth - 1))\n",
    "\n",
    "    base_layer = jnp.array([random.uniform(subkeys[0], minval = 0.75, maxval = 1.25), \n",
    "                            random.uniform(subkeys[1], minval = 0.1, maxval = 0.5),\n",
    "                            random.uniform(subkeys[2], minval = 0.2, maxval = 0.7)])\n",
    "    base_layer = [tuple(base_layer)]\n",
    "\n",
    "    return base_layer\n",
    "parallel_nngp_params = vmap(nngp_params, in_axes=(0, None))\n",
    "\n",
    "\n",
    "def random_params(key, depth):\n",
    "    nngp_par = nngp_params(key, depth)\n",
    "    trend_par = trend_params(key)\n",
    "    \n",
    "    return [nngp_par, trend_par]\n",
    "parallel_params = vmap(random_params, in_axes=(0, None))\n",
    "\n",
    "@jit\n",
    "def random_init(params):\n",
    "    return opt_init(params)\n",
    "parallel_init = vmap(random_init)\n",
    "\n",
    "@jit\n",
    "def param_abs(x):\n",
    "    return jnp.abs(x)\n",
    "\n",
    "@jit\n",
    "def param_select(param_list, i):\n",
    "    return tree_map(lambda x: x[i], param_list)\n",
    "\n",
    "\n",
    "### model specification\n",
    "\n",
    "depth = 7\n",
    "\n",
    "## nngp functions\n",
    "def nngp_kernel(params, x, y):\n",
    "    x = jnp.array(x)\n",
    "    y = jnp.array(y)\n",
    "    \n",
    "    kxx = params[0][1] + params[0][0] * (jnp.dot(x, x.T) / x.shape[0])\n",
    "    kyy = params[0][1] + params[0][0] * (jnp.dot(y, y.T) / x.shape[0])\n",
    "    kxy = params[0][1] + params[0][0] * (jnp.dot(x, y.T) / x.shape[0])\n",
    "    \n",
    "    for i in range(depth):\n",
    "        \n",
    "        ## kxy\n",
    "        cor = jnp.clip(kxy / jnp.sqrt(kxx * kyy), -1.0 + 1e-16, 1.0 - 1e-16)\n",
    "        theta = jnp.arccos(cor)\n",
    "        trig = jnp.sin(theta) + (math.pi - theta) * jnp.cos(theta)\n",
    "        kxy = params[0][1] + (params[0][0] / (2 * math.pi)) * jnp.sqrt(kxx * kyy) * trig\n",
    "                \n",
    "        ## kxx\n",
    "        kxx = params[0][1] + (params[0][0] / 2) * kxx\n",
    "    \n",
    "        ## kyy\n",
    "        kyy = params[0][1] + (params[0][0] / 2) * kyy\n",
    "        \n",
    "    return kxy\n",
    "\n",
    "nngp_kernel = jit(nngp_kernel)\n",
    "nngp_cov = jit(vmap(vmap(nngp_kernel, (None, None, 0)), (None, 0, None)))\n",
    "nngp_var = jit(vmap(nngp_kernel, (None, 0, 0)))\n",
    "\n",
    "\n",
    "def nngp_predict(params, xtest, xtrain, ytrain):\n",
    "    n, p = ytrain.shape\n",
    "        \n",
    "    k_DD0 = nngp_cov(params, xtrain, xtrain)\n",
    "    k_DD0 += jnp.diag(jnp.repeat(params[0][2], n))\n",
    "    prec0 = jnp.linalg.inv(k_DD0)\n",
    "    \n",
    "    k_xD0 = nngp_cov(params, xtest, xtrain)\n",
    "    \n",
    "    proj0 = jnp.matmul(k_xD0, prec0)\n",
    "    return jnp.matmul(proj0, ytrain)\n",
    "nngp_predict = jit(nngp_predict)\n",
    "\n",
    "\n",
    "def nngp_dist(params, xtest, xtrain, ytrain):\n",
    "    n, p = ytrain.shape\n",
    "        \n",
    "    k_DD0 = nngp_cov(params, xtrain, xtrain)\n",
    "    k_DD0 += jnp.diag(jnp.repeat(params[0][2], n))\n",
    "    prec0 = jnp.linalg.inv(k_DD0)\n",
    "    \n",
    "    k_xD0 = nngp_cov(params, xtest, xtrain)\n",
    "    proj0 = jnp.matmul(k_xD0, prec0)\n",
    "    \n",
    "    mu = jnp.matmul(proj0, ytrain)\n",
    "    \n",
    "    k_xx = nngp_var(params, xtest, xtest)\n",
    "    sig = k_xx - jnp.sum(proj0 * k_xD0, axis = 1)\n",
    "    \n",
    "    return mu, sig\n",
    "nngp_dist = jit(nngp_dist)\n",
    "\n",
    "\n",
    "#### loss functions\n",
    "\n",
    "def compute_lr(pgrad, scale = 2):\n",
    "    leaves = jnp.array(tree_leaves(pgrad))\n",
    "    lrs = 10**(-jnp.floor(jnp.log10(jnp.abs(leaves))) - scale)\n",
    "    return lrs\n",
    "\n",
    "def weighted_mse(k_inv, ytrain):\n",
    "    return jnp.matmul(jnp.matmul(ytrain.T, k_inv), ytrain)\n",
    "weighted_mse = jit(vmap(weighted_mse, (None, 1)))\n",
    "\n",
    "\n",
    "def full_nll_loss(params, xtrain, ytrain):\n",
    "    n, p = ytrain.shape\n",
    "\n",
    "    k = nngp_cov(params, xtrain, xtrain)\n",
    "    k += jnp.diag(jnp.repeat(params[0][2], n))\n",
    "    k_inv = jnp.linalg.inv(k)\n",
    "    \n",
    "    mse = jnp.sum(weighted_mse(k_inv, ytrain))\n",
    "    pen = p * jnp.linalg.slogdet(k)[1]\n",
    "    nor = p/2 * jnp.log(2 * math.pi)\n",
    "    return (0.5*mse + 0.5*pen + nor) / p\n",
    "full_grad_loss = jit(grad(full_nll_loss))\n",
    "\n",
    "\n",
    "def gradient_step(params, xtrain, ytrain):\n",
    "        \n",
    "    param, tdef = tree_flatten(params)\n",
    "    pgrad = tree_flatten(full_grad_loss(params, xtrain, ytrain))[0]\n",
    "    \n",
    "    lrs = compute_lr(pgrad, 3)\n",
    "    param = [a - lr * b for a, b, lr in zip(tree_leaves(param), pgrad, lrs)]\n",
    "\n",
    "    params = tree_unflatten(tdef, param)\n",
    "    params = tree_map(param_abs, params)\n",
    "    return params\n",
    "gradient_step = jit(gradient_step)\n",
    "# parallel_gradient_step = vmap(gradient_step, in_axes = (0, None, None))"
   ]
  },
  {
   "cell_type": "code",
   "execution_count": 7,
   "id": "546e80c5",
   "metadata": {},
   "outputs": [],
   "source": [
    "class encoder(nn.Module):\n",
    "    @nn.compact\n",
    "    def __call__(self, x):\n",
    "        x = nn.Conv(64, kernel_size=(3,3))(x)\n",
    "        x = nn.selu(x)\n",
    "        x = nn.Conv(64, kernel_size=(3,3))(x)\n",
    "        x = nn.selu(x)\n",
    "        x1 = x\n",
    "        x = nn.Conv(64, kernel_size=(3,3))(x)\n",
    "        x = nn.selu(x)\n",
    "        x = nn.Conv(64, kernel_size=(3,3))(x)\n",
    "        x = x1 + x\n",
    "        x = nn.Conv(1, kernel_size=(3,3))(x)\n",
    "        return x\n",
    "    \n",
    "def mse_loss(model, theta, x, y):\n",
    "    z = model.apply(theta, x).squeeze()\n",
    "    return jnp.mean((z - y)**2)\n",
    "grad_mse_loss = jit(grad(mse_loss, argnums=1), static_argnames=['model'])\n",
    "\n",
    "def optim_update(model, theta, opt_state, x, y):\n",
    "    grads = grad_mse_loss(model, theta, x, y)\n",
    "    updates, opt_state = opt_update(grads, opt_state)\n",
    "    return optax.apply_updates(theta, updates), opt_state\n",
    "optim_update = jit(optim_update, static_argnames=['model'])"
   ]
  },
  {
   "cell_type": "code",
   "execution_count": 8,
   "id": "65d4ab3c",
   "metadata": {},
   "outputs": [],
   "source": [
    "def init_wa(x):\n",
    "    return [jnp.zeros(x.shape[2:]), jnp.ones(x.shape[1:]) / x.shape[1]]\n",
    "\n",
    "def weighted_average(theta, x):\n",
    "    b = theta[0]\n",
    "    w = theta[1]\n",
    "    return jnp.sum(x * w[None], axis = 1) + b\n",
    "    \n",
    "def wa_loss(theta, x, y):\n",
    "    z = weighted_average(theta, x).squeeze()\n",
    "    return jnp.sqrt(jnp.mean((z - y)**2))\n",
    "grad_wa_loss = jit(grad(wa_loss))\n",
    "\n",
    "def optim_wa_update(theta, opt_state, x, y):\n",
    "    grads = grad_wa_loss(theta, x, y)\n",
    "    updates, opt_state = opt_update(grads, opt_state)\n",
    "    return optax.apply_updates(theta, updates), opt_state\n",
    "optim_wa_update = jit(optim_wa_update)"
   ]
  },
  {
   "cell_type": "code",
   "execution_count": 9,
   "id": "a8650aec",
   "metadata": {},
   "outputs": [],
   "source": [
    "# nmod = 30\n",
    "# ntrain = 1000\n",
    "# nval = 200\n",
    "# ntest = 1000\n",
    "# np.random.seed(0)\n",
    "# ztrain = np.random.normal(0, 1, [ntrain, nmod, 30, 50])\n",
    "# ztest = np.random.normal(0, 1, [ntest, nmod, 30, 50])\n",
    "# ntrain = ntrain - nval"
   ]
  },
  {
   "cell_type": "code",
   "execution_count": 10,
   "id": "32f86d69",
   "metadata": {},
   "outputs": [],
   "source": [
    "# class encoder2(nn.Module):\n",
    "#     @nn.compact\n",
    "#     def __call__(self, x):\n",
    "#         x = nn.Conv(32, kernel_size=(11,11))(x)\n",
    "#         x = nn.selu(x)\n",
    "#         x = nn.Conv(32, kernel_size=(7,7))(x)\n",
    "# #         x = nn.selu(x)\n",
    "# #         x = nn.Conv(32, kernel_size=(1,1))(x)\n",
    "# #         x = nn.selu(x)\n",
    "# #         x = nn.Conv(32, kernel_size=(1,1))(x)\n",
    "# #         x = nn.selu(x)\n",
    "# #         x = nn.Conv(32, kernel_size=(1,1))(x)\n",
    "# #         x = nn.selu(x)\n",
    "#         x = nn.Conv(1, kernel_size=(1,1))(x)\n",
    "#         return x\n",
    "    \n",
    "# def mse_loss(model, theta, x, y):\n",
    "#     z = model.apply(theta, x).squeeze()\n",
    "#     return jnp.mean((z - y)**2)\n",
    "# grad_mse_loss = jit(grad(mse_loss, argnums=1), static_argnames=['model'])\n",
    "\n",
    "# def optim_update(model, theta, opt_state, x, y):\n",
    "#     grads = grad_mse_loss(model, theta, x, y)\n",
    "#     updates, opt_state = opt_update(grads, opt_state)\n",
    "#     return optax.apply_updates(theta, updates), opt_state\n",
    "# optim_update = jit(optim_update, static_argnames=['model'])"
   ]
  },
  {
   "cell_type": "markdown",
   "id": "32a7f1f4",
   "metadata": {},
   "source": [
    "## testing and eval"
   ]
  },
  {
   "cell_type": "code",
   "execution_count": 11,
   "id": "33f47d4a",
   "metadata": {},
   "outputs": [],
   "source": [
    "def global_mmd(x, y):\n",
    "    dist = jnp.max(jnp.abs(x - y), axis = (1, 2))\n",
    "    dist = jnp.mean(dist)\n",
    "    return 1/(1 + dist)\n",
    "global_mmd = jit(vmap(global_mmd, (None, 0)))\n",
    "\n",
    "def global_mmd_self(x, y):\n",
    "    dist = jnp.max(jnp.abs(x - y), axis = (1, 2))\n",
    "    dist = jnp.mean(jnp.sort(dist)[1:])\n",
    "    return 1/(1 + dist)\n",
    "global_mmd_self = jit(vmap(global_mmd_self, (None, 0)))\n",
    "\n",
    "def conformal_ensemble(resval, depth_fn, alpha):\n",
    "    nval = resval.shape[0]\n",
    "    level = np.ceil((1 - alpha) * (nval + 1))/(nval + 1)\n",
    "    dr1 = 1 - depth_fn(resval, resval)\n",
    "    q = np.sort(dr1)[int(np.ceil((1 - alpha) * (nval + 1)))]\n",
    "    q = (q + np.quantile(dr1, level))/2\n",
    "    return resval[dr1 < q]"
   ]
  },
  {
   "cell_type": "code",
   "execution_count": 12,
   "id": "d761e323",
   "metadata": {},
   "outputs": [],
   "source": [
    "def quantile_interp(model, model_quant, ref_quant):\n",
    "    return jnp.interp(model, model_quant, ref_quant)\n",
    "quantile_interp = vmap(quantile_interp, (1, 1, 1))\n",
    "quantile_interp = vmap(quantile_interp, (1, 1, 1))\n",
    "quantile_interp = jit(quantile_interp)\n",
    "\n",
    "def quantile_map(ref, model, n):\n",
    "    ref_quant = jnp.quantile(ref, jnp.linspace(0, 1, n), axis = 0)\n",
    "    model_quant = jnp.quantile(model, jnp.linspace(0, 1, n), axis = 0)\n",
    "    corrected_model = quantile_interp(model, model_quant, ref_quant)\n",
    "    return jnp.moveaxis(corrected_model, 2, 0)\n",
    "\n",
    "def quantile_map(ref, model_hist, model_future, n):\n",
    "    ref_quant = jnp.quantile(ref, jnp.linspace(0, 1, n), axis = 0)\n",
    "    model_quant = jnp.quantile(model_hist, jnp.linspace(0, 1, n), axis = 0)\n",
    "    corrected_model = quantile_interp(model_future, model_quant, ref_quant)\n",
    "    return jnp.moveaxis(corrected_model, 2, 0)\n",
    "\n",
    "def quantile_map(ref, model_hist, model_future):\n",
    "    ref_quant = jnp.quantile(ref, jnp.linspace(0, 1, 20), axis = 0)\n",
    "    model_quant = jnp.quantile(model_hist, jnp.linspace(0, 1, 20), axis = 0)\n",
    "    corrected_model = quantile_interp(model_future, model_quant, ref_quant)\n",
    "    return jnp.moveaxis(corrected_model, 2, 0)\n",
    "quantile_map = jit(quantile_map)"
   ]
  },
  {
   "cell_type": "code",
   "execution_count": 13,
   "id": "832c8089",
   "metadata": {},
   "outputs": [],
   "source": [
    "def slices(nlat, nlon, seed = 0):\n",
    "    np.random.seed(seed)\n",
    "    w = np.random.normal(0,1, [500, nlat*nlon])\n",
    "    w = w / np.sqrt(np.sum(w**2, axis = 1))[:,None]\n",
    "    return w\n",
    "\n",
    "def sw2(x, y, w):\n",
    "    x = x.reshape(-1, nlat*nlon)\n",
    "    y = y.reshape(-1, nlat*nlon)\n",
    "    \n",
    "    x = x @ w.T\n",
    "    y = y @ w.T\n",
    "    \n",
    "    qx = jnp.quantile(x, jnp.linspace(0, 1, 50), axis = 0)\n",
    "    qy = jnp.quantile(y, jnp.linspace(0, 1, 50), axis = 0)\n",
    "    return jnp.mean(jnp.sqrt(jnp.mean((qx - qy)**2, axis = 0)))\n",
    "\n",
    "sw2 = jit(sw2)\n",
    "\n",
    "\n",
    "def w2(x, y):\n",
    "    qx = jnp.quantile(x, jnp.linspace(0.005, 0.995, 100), axis = 0)\n",
    "    qy = jnp.quantile(y, jnp.linspace(0.005, 0.995, 100), axis = 0)\n",
    "    return jnp.sqrt(jnp.mean((qx - qy)**2))\n",
    "\n",
    "w2 = vmap(w2, (1, 1))\n",
    "w2 = vmap(w2, (1, 1))\n",
    "w2 = jit(w2)\n",
    "\n",
    "def pointwise_crps(ensemble, y): \n",
    "    n = ensemble.shape[0]//2\n",
    "    a = 0.5 * jnp.mean(jnp.abs(ensemble[:n] - ensemble[n:]), axis = 0)\n",
    "    b = jnp.mean(jnp.abs(ensemble - y), axis = 0)\n",
    "    return b - a\n",
    "single_ens_crps = jit(vmap(pointwise_crps, (None, 0)))\n",
    "\n",
    "def _pit(ensemble, y):\n",
    "    pit = jnp.mean(jnp.array(ensemble[None,:] < y[:,None]).squeeze(), axis = 1)\n",
    "    pit_cdf = jnp.array([jnp.mean(pit < x, axis = 0) for x in np.linspace(0, 1, 50)])\n",
    "    uni_cdf = jnp.linspace(0, 1, 50)[:,None,None]\n",
    "    pit_score = jnp.sqrt(jnp.mean((pit_cdf - uni_cdf)**2, axis = 0))\n",
    "    return pit_score\n",
    "\n",
    "pit = jit(_pit)\n",
    "\n",
    "def boot(x):\n",
    "    n = x.shape[0]\n",
    "    idx = np.random.choice(n, n, replace = True)\n",
    "    return x[idx]\n",
    "\n",
    "def shuffle(x):\n",
    "    n = x.shape[0]\n",
    "    idx = np.random.choice(n, n, replace = False)\n",
    "    return x[idx]\n",
    "\n",
    "def moving_average(a, n=12):\n",
    "    ret = np.cumsum(a, dtype=float)\n",
    "    ret[n:] = ret[n:] - ret[:-n]\n",
    "    return ret[n - 1:] / n\n",
    "\n",
    "def mse_weighted(x, y):\n",
    "    nlat = x.shape[1]\n",
    "    weight = np.cos(np.linspace(math.pi/2 - 1/nlat, -math.pi/2 + 1/nlat, nlat))\n",
    "    weight /= np.mean(weight)\n",
    "    weight = weight[None,:,None]\n",
    "    \n",
    "    return np.sqrt(np.mean((x - y)**2 * weight, axis = (1, 2)))"
   ]
  },
  {
   "cell_type": "code",
   "execution_count": 14,
   "id": "32fa74e6",
   "metadata": {},
   "outputs": [
    {
     "data": {
      "application/vnd.jupyter.widget-view+json": {
       "model_id": "",
       "version_major": 2,
       "version_minor": 0
      },
      "text/plain": [
       "  0%|          | 0/1008 [00:00<?, ?it/s]"
      ]
     },
     "metadata": {},
     "output_type": "display_data"
    },
    {
     "data": {
      "application/vnd.jupyter.widget-view+json": {
       "model_id": "",
       "version_major": 2,
       "version_minor": 0
      },
      "text/plain": [
       "  0%|          | 0/912 [00:00<?, ?it/s]"
      ]
     },
     "metadata": {},
     "output_type": "display_data"
    }
   ],
   "source": [
    "nproj = 6\n",
    "nval = 200\n",
    "\n",
    "xhist_tas = pickle.load(open('../data/xhist_tas_hr.pkl', 'rb'))\n",
    "xrcp_tas = pickle.load(open('../data/xrcp_tas_hr.pkl', 'rb'))\n",
    "nmod = xhist_tas.shape[1]\n",
    "nlat, nlon = xhist_tas[0].shape[1:]\n",
    "\n",
    "n = (2015 - 1940) * 12\n",
    "xhist_tas = xhist_tas[-n:]\n",
    "\n",
    "xtrain_orig = np.concatenate([xhist_tas, xrcp_tas[:108]], axis = 0)\n",
    "xtest_orig = xrcp_tas[108:]\n",
    "\n",
    "ntrain = xtrain_orig.shape[0] - nval\n",
    "ntest = xtest_orig.shape[0]\n",
    "\n",
    "save_loc = 'trained_models/tas'\n",
    "\n",
    "xtrain_anom, xtest_anom = anomalize(xtrain_orig, xtest_orig)\n",
    "xtrain_anom = jnp.array(xtrain_anom)\n",
    "xtest_anom = jnp.array(xtest_anom)\n",
    "del xtrain_orig, xtest_orig"
   ]
  },
  {
   "cell_type": "code",
   "execution_count": 15,
   "id": "7992bcbf",
   "metadata": {},
   "outputs": [
    {
     "data": {
      "application/vnd.jupyter.widget-view+json": {
       "model_id": "",
       "version_major": 2,
       "version_minor": 0
      },
      "text/plain": [
       "  0%|          | 0/300 [00:00<?, ?it/s]"
      ]
     },
     "metadata": {},
     "output_type": "display_data"
    }
   ],
   "source": [
    "model_no = 12\n",
    "_data = scale_and_split(xtrain_anom, xtest_anom, model_no = model_no, nval = nval)\n",
    "\n",
    "xtrain = _data[0]\n",
    "xval = _data[1]\n",
    "xtest = _data[2]\n",
    "ytrain = _data[3]\n",
    "yval = _data[4]\n",
    "ytest = _data[5]\n",
    "xtrain_mean = _data[6]\n",
    "xtest_mean = _data[7]\n",
    "xtrain_sd = _data[8]\n",
    "xtest_sd = _data[9]\n",
    "\n",
    "ntrain = xtrain.shape[0]\n",
    "nval = xval.shape[0]\n",
    "ntest = xtest.shape[0]\n",
    "\n",
    "del _data\n",
    "\n",
    "weight = jnp.cos(jnp.linspace(math.pi/2 - 1/nlat, -math.pi/2 + 1/nlat, nlat))\n",
    "weight = weight / jnp.mean(weight)\n",
    "weight = weight[None,:,None]\n",
    "\n",
    "#### NNGP\n",
    "key = random.PRNGKey(1023)\n",
    "params = nngp_params(key, depth)\n",
    "for _ in trange(300, leave = False):\n",
    "    params = gradient_step(params, xtrain.reshape(ntrain, -1), ytrain.reshape(ntrain, -1))"
   ]
  },
  {
   "cell_type": "code",
   "execution_count": 16,
   "id": "d0141e40",
   "metadata": {},
   "outputs": [],
   "source": [
    "yval_hat = nngp_predict(params, xval.reshape(nval, -1), xtrain.reshape(ntrain, -1), ytrain.reshape(ntrain, -1))\n",
    "ytest_hat = nngp_predict(params, xtest.reshape(ntest, -1), xtrain.reshape(ntrain, -1), ytrain.reshape(ntrain, -1))\n",
    "yval_hat = yval_hat.reshape(-1, nlat, nlon)\n",
    "ytest_hat = ytest_hat.reshape(-1, nlat, nlon)\n",
    "\n",
    "xtrain2 = xtrain_sd[:-nval,None] * xtrain + xtrain_mean[:-nval,None]\n",
    "ytrain2 = xtrain_sd[:-nval] * ytrain + xtrain_mean[:-nval]\n",
    "\n",
    "yval2 = xtrain_sd[-nval:] * yval + xtrain_mean[-nval:]\n",
    "yval_hat = xtrain_sd[-nval:] * yval_hat + xtrain_mean[-nval:]\n",
    "\n",
    "xtest2 = xtest_sd[:,None] * xtest + xtest_mean[:,None]\n",
    "ytest2 = xtest_sd * ytest + xtest_mean\n",
    "ytest_hat = xtest_sd * ytest_hat + xtest_mean"
   ]
  },
  {
   "cell_type": "code",
   "execution_count": 17,
   "id": "3bda4c95",
   "metadata": {},
   "outputs": [
    {
     "data": {
      "text/plain": [
       "(Array(1.62861029, dtype=float64),\n",
       " Array(1.67079928, dtype=float64),\n",
       " Array(1.14943193, dtype=float64))"
      ]
     },
     "execution_count": 17,
     "metadata": {},
     "output_type": "execute_result"
    }
   ],
   "source": [
    "resval = yval2 - yval_hat\n",
    "restest = ytest2 - ytest_hat\n",
    "\n",
    "imv_ens = xtest2\n",
    "imv_ens = imv_ens - ytest_hat[:,None]\n",
    "\n",
    "qc_ens = jnp.array([quantile_map(ytrain2, xtrain2[:,j], xtest2[:,j]) for j in range(nmod)])\n",
    "qc_ens = np.moveaxis(qc_ens, 0, 1)\n",
    "qc_ens = qc_ens - ytest_hat[:,None]\n",
    "\n",
    "depth_fns = [global_mmd_self]\n",
    "conf_ens1 = conformal_ensemble(resval, depth_fns[0], 0.1)\n",
    "\n",
    "w = slices(nlat, nlon)\n",
    "imv_sw = sw2(imv_ens, restest, w)\n",
    "qmc_sw = sw2(qc_ens, restest, w)\n",
    "cnf_sw = sw2(conf_ens1, restest, w)\n",
    "imv_sw, qmc_sw, cnf_sw"
   ]
  },
  {
   "cell_type": "code",
   "execution_count": null,
   "id": "8a35eeb3",
   "metadata": {},
   "outputs": [],
   "source": []
  },
  {
   "cell_type": "markdown",
   "id": "b9e16ccc",
   "metadata": {},
   "source": [
    "## White noise control run"
   ]
  },
  {
   "cell_type": "code",
   "execution_count": 11,
   "id": "1e4259b6",
   "metadata": {},
   "outputs": [],
   "source": [
    "# nmod = 30\n",
    "# ntrain = 1000\n",
    "# nval = 200\n",
    "# ntest = 1000\n",
    "# np.random.seed(0)\n",
    "# ztrain = np.random.normal(0, 1, [ntrain, nmod, 30, 50])\n",
    "# ztest = np.random.normal(0, 1, [ntest, nmod, 30, 50])\n",
    "# ntrain = ntrain - nval\n",
    "\n",
    "# save_loc = 'trained_models/wn'"
   ]
  },
  {
   "cell_type": "code",
   "execution_count": 12,
   "id": "cdb2589f",
   "metadata": {},
   "outputs": [],
   "source": [
    "# for model_no in trange(nmod):\n",
    "#     xtrain, xval, xtest, ytrain, yval, ytest = scale_and_split(ztrain, ztest, model_no = model_no, nval = nval)\n",
    "    \n",
    "#     #### Ens average\n",
    "#     yval_hat = np.mean(xval, axis = 1)\n",
    "#     ytest_hat = np.mean(xtest, axis = 1)\n",
    "#     np.save(save_loc + f'/yval_ens_{model_no}', yval_hat)\n",
    "#     np.save(save_loc + f'/ytest_ens_{model_no}', ytest_hat)\n",
    "\n",
    "#     #### Delta\n",
    "#     yval_hat = jnp.vstack([delta_pred(xval[n:(n+10)], xtrain, ytrain) for n in trange(nval//10, leave = False)])\n",
    "#     ytest_hat = jnp.vstack([delta_pred(xtest[n:(n+10)], xtrain, ytrain) for n in trange(ntest//10, leave = False)])\n",
    "#     np.save(save_loc + f'/yval_delta_{model_no}', yval_hat)\n",
    "#     np.save(save_loc + f'/ytest_delta_{model_no}', ytest_hat)\n",
    "    \n",
    "#     #### linear regression\n",
    "#     beta = v_ols(xtrain, ytrain)\n",
    "#     beta = jnp.nan_to_num(beta)\n",
    "#     beta = jnp.moveaxis(beta, (0, 1, 2), (2, 1, 0))\n",
    "#     yval_hat = reg_pred(xval, beta)\n",
    "#     ytest_hat = reg_pred(xtest, beta)\n",
    "#     np.save(save_loc + f'/yval_lm_{model_no}', yval_hat)\n",
    "#     np.save(save_loc + f'/ytest_lm_{model_no}', ytest_hat)\n",
    "\n",
    "#     #### NNGP\n",
    "#     key = random.PRNGKey(1023)\n",
    "#     params = nngp_params(key, depth)\n",
    "#     for _ in trange(300, leave = False):\n",
    "#         params = gradient_step(params, xtrain.reshape(ntrain, -1), ytrain.reshape(ntrain, -1))\n",
    "\n",
    "#     yval_hat = nngp_predict(params, xval.reshape(nval, -1), xtrain.reshape(ntrain, -1), ytrain.reshape(ntrain, -1))\n",
    "#     ytest_hat = nngp_predict(params, xtest.reshape(ntest, -1), xtrain.reshape(ntrain, -1), ytrain.reshape(ntrain, -1))\n",
    "#     np.save(save_loc + f'/yval_nngp_{model_no}', yval_hat)\n",
    "#     np.save(save_loc + f'/ytest_nngp_{model_no}', ytest_hat)\n",
    "    \n",
    "#     #### WA\n",
    "#     theta = init_wa(xtrain)\n",
    "#     opt_init, opt_update = optax.adam(1e-1)\n",
    "#     opt_state = opt_init(theta)\n",
    "\n",
    "#     for i in trange(1000, leave = False):\n",
    "#         theta, opt_state = optim_wa_update(theta, opt_state, xtrain, ytrain)\n",
    "    \n",
    "#     yval_hat = weighted_average(theta, xval)\n",
    "#     ytest_hat = weighted_average(theta, xtest)\n",
    "#     np.save(save_loc + f'/yval_wa_{model_no}', yval_hat)\n",
    "#     np.save(save_loc + f'/ytest_wa_{model_no}', ytest_hat)\n",
    "    \n",
    "#     #### CNN\n",
    "#     xtrain = jnp.moveaxis(xtrain, 1, 3)\n",
    "#     xval = jnp.moveaxis(xval, 1, 3)\n",
    "#     xtest = jnp.moveaxis(xtest, 1, 3)\n",
    "#     key = random.key(0)\n",
    "#     enc = encoder()\n",
    "#     theta = enc.init(key, xtrain[0:5])\n",
    "#     opt_init, opt_update = optax.adam(1e-3)\n",
    "#     opt_state = opt_init(theta)\n",
    "\n",
    "#     for i in trange(2000, leave = False):\n",
    "#         idx = np.random.choice(ntrain, 32)\n",
    "#         theta, opt_state = optim_update(enc, theta, opt_state, xtrain[idx], ytrain[idx])\n",
    "\n",
    "#     yval_hat = enc.apply(theta, xval).squeeze()\n",
    "#     ytest_hat = np.vstack([enc.apply(theta, xtest[(30*i):(30*(i+1))]) for i in range(ntest//30 + 1)]).squeeze()\n",
    "#     np.save(save_loc + f'/yval_cnn1_{model_no}', yval_hat)\n",
    "#     np.save(save_loc + f'/ytest_cnn1_{model_no}', ytest_hat)"
   ]
  },
  {
   "cell_type": "code",
   "execution_count": null,
   "id": "22a7d60d",
   "metadata": {},
   "outputs": [],
   "source": []
  },
  {
   "cell_type": "markdown",
   "id": "13b4b33d",
   "metadata": {},
   "source": [
    "## Temperature (TAS)"
   ]
  },
  {
   "cell_type": "code",
   "execution_count": 9,
   "id": "581a2712",
   "metadata": {},
   "outputs": [],
   "source": [
    "nproj = 5\n",
    "nval = 200\n",
    "\n",
    "xhist_tas = pickle.load(open('../data/xhist_tas_hr.pkl', 'rb'))\n",
    "xrcp_tas = pickle.load(open('../data/xrcp_tas_hr.pkl', 'rb'))\n",
    "\n",
    "# xhist_tas = np.moveaxis(np.array(xhist_tas), 0, 1)\n",
    "# xrcp_tas = np.moveaxis(np.array(xrcp_tas), 0, 1)\n",
    "nmod = xhist_tas.shape[1]\n",
    "nlat = xhist_tas.shape[2]\n",
    "nlon = xhist_tas.shape[3]\n",
    "\n",
    "n = (2015 - 1940) * 12\n",
    "xhist_tas = xhist_tas[-n:]\n",
    "\n",
    "xtrain_orig = np.concatenate([xhist_tas, xrcp_tas[:108]], axis = 0)\n",
    "xtest_orig = xrcp_tas[108:]\n",
    "\n",
    "ntrain = xtrain_orig.shape[0] - nval\n",
    "ntest = xtest_orig.shape[0]\n",
    "\n",
    "save_loc = 'trained_models/tas'"
   ]
  },
  {
   "cell_type": "code",
   "execution_count": 11,
   "id": "04eacd69",
   "metadata": {},
   "outputs": [
    {
     "data": {
      "application/vnd.jupyter.widget-view+json": {
       "model_id": "",
       "version_major": 2,
       "version_minor": 0
      },
      "text/plain": [
       "  0%|          | 0/1008 [00:00<?, ?it/s]"
      ]
     },
     "metadata": {},
     "output_type": "display_data"
    },
    {
     "data": {
      "application/vnd.jupyter.widget-view+json": {
       "model_id": "",
       "version_major": 2,
       "version_minor": 0
      },
      "text/plain": [
       "  0%|          | 0/912 [00:00<?, ?it/s]"
      ]
     },
     "metadata": {},
     "output_type": "display_data"
    }
   ],
   "source": [
    "xtrain_anom, xtest_anom = anomalize(xtrain_orig, xtest_orig)"
   ]
  },
  {
   "cell_type": "code",
   "execution_count": 12,
   "id": "9e7668b4",
   "metadata": {},
   "outputs": [
    {
     "data": {
      "application/vnd.jupyter.widget-view+json": {
       "model_id": "670b9c98776b46c491108087454f5d9a",
       "version_major": 2,
       "version_minor": 0
      },
      "text/plain": [
       "  0%|          | 0/31 [00:00<?, ?it/s]"
      ]
     },
     "metadata": {},
     "output_type": "display_data"
    },
    {
     "data": {
      "application/vnd.jupyter.widget-view+json": {
       "model_id": "",
       "version_major": 2,
       "version_minor": 0
      },
      "text/plain": [
       "  0%|          | 0/20 [00:00<?, ?it/s]"
      ]
     },
     "metadata": {},
     "output_type": "display_data"
    },
    {
     "data": {
      "application/vnd.jupyter.widget-view+json": {
       "model_id": "",
       "version_major": 2,
       "version_minor": 0
      },
      "text/plain": [
       "  0%|          | 0/76 [00:00<?, ?it/s]"
      ]
     },
     "metadata": {},
     "output_type": "display_data"
    },
    {
     "data": {
      "application/vnd.jupyter.widget-view+json": {
       "model_id": "",
       "version_major": 2,
       "version_minor": 0
      },
      "text/plain": [
       "  0%|          | 0/300 [00:00<?, ?it/s]"
      ]
     },
     "metadata": {},
     "output_type": "display_data"
    },
    {
     "data": {
      "application/vnd.jupyter.widget-view+json": {
       "model_id": "",
       "version_major": 2,
       "version_minor": 0
      },
      "text/plain": [
       "  0%|          | 0/1000 [00:00<?, ?it/s]"
      ]
     },
     "metadata": {},
     "output_type": "display_data"
    },
    {
     "data": {
      "application/vnd.jupyter.widget-view+json": {
       "model_id": "",
       "version_major": 2,
       "version_minor": 0
      },
      "text/plain": [
       "  0%|          | 0/2000 [00:00<?, ?it/s]"
      ]
     },
     "metadata": {},
     "output_type": "display_data"
    },
    {
     "data": {
      "application/vnd.jupyter.widget-view+json": {
       "model_id": "",
       "version_major": 2,
       "version_minor": 0
      },
      "text/plain": [
       "  0%|          | 0/20 [00:00<?, ?it/s]"
      ]
     },
     "metadata": {},
     "output_type": "display_data"
    },
    {
     "data": {
      "application/vnd.jupyter.widget-view+json": {
       "model_id": "",
       "version_major": 2,
       "version_minor": 0
      },
      "text/plain": [
       "  0%|          | 0/76 [00:00<?, ?it/s]"
      ]
     },
     "metadata": {},
     "output_type": "display_data"
    },
    {
     "data": {
      "application/vnd.jupyter.widget-view+json": {
       "model_id": "",
       "version_major": 2,
       "version_minor": 0
      },
      "text/plain": [
       "  0%|          | 0/300 [00:00<?, ?it/s]"
      ]
     },
     "metadata": {},
     "output_type": "display_data"
    },
    {
     "data": {
      "application/vnd.jupyter.widget-view+json": {
       "model_id": "",
       "version_major": 2,
       "version_minor": 0
      },
      "text/plain": [
       "  0%|          | 0/1000 [00:00<?, ?it/s]"
      ]
     },
     "metadata": {},
     "output_type": "display_data"
    },
    {
     "data": {
      "application/vnd.jupyter.widget-view+json": {
       "model_id": "",
       "version_major": 2,
       "version_minor": 0
      },
      "text/plain": [
       "  0%|          | 0/2000 [00:00<?, ?it/s]"
      ]
     },
     "metadata": {},
     "output_type": "display_data"
    },
    {
     "data": {
      "application/vnd.jupyter.widget-view+json": {
       "model_id": "",
       "version_major": 2,
       "version_minor": 0
      },
      "text/plain": [
       "  0%|          | 0/20 [00:00<?, ?it/s]"
      ]
     },
     "metadata": {},
     "output_type": "display_data"
    },
    {
     "data": {
      "application/vnd.jupyter.widget-view+json": {
       "model_id": "",
       "version_major": 2,
       "version_minor": 0
      },
      "text/plain": [
       "  0%|          | 0/76 [00:00<?, ?it/s]"
      ]
     },
     "metadata": {},
     "output_type": "display_data"
    },
    {
     "data": {
      "application/vnd.jupyter.widget-view+json": {
       "model_id": "",
       "version_major": 2,
       "version_minor": 0
      },
      "text/plain": [
       "  0%|          | 0/300 [00:00<?, ?it/s]"
      ]
     },
     "metadata": {},
     "output_type": "display_data"
    },
    {
     "data": {
      "application/vnd.jupyter.widget-view+json": {
       "model_id": "",
       "version_major": 2,
       "version_minor": 0
      },
      "text/plain": [
       "  0%|          | 0/1000 [00:00<?, ?it/s]"
      ]
     },
     "metadata": {},
     "output_type": "display_data"
    },
    {
     "data": {
      "application/vnd.jupyter.widget-view+json": {
       "model_id": "",
       "version_major": 2,
       "version_minor": 0
      },
      "text/plain": [
       "  0%|          | 0/2000 [00:00<?, ?it/s]"
      ]
     },
     "metadata": {},
     "output_type": "display_data"
    },
    {
     "data": {
      "application/vnd.jupyter.widget-view+json": {
       "model_id": "",
       "version_major": 2,
       "version_minor": 0
      },
      "text/plain": [
       "  0%|          | 0/20 [00:00<?, ?it/s]"
      ]
     },
     "metadata": {},
     "output_type": "display_data"
    },
    {
     "data": {
      "application/vnd.jupyter.widget-view+json": {
       "model_id": "",
       "version_major": 2,
       "version_minor": 0
      },
      "text/plain": [
       "  0%|          | 0/76 [00:00<?, ?it/s]"
      ]
     },
     "metadata": {},
     "output_type": "display_data"
    },
    {
     "data": {
      "application/vnd.jupyter.widget-view+json": {
       "model_id": "",
       "version_major": 2,
       "version_minor": 0
      },
      "text/plain": [
       "  0%|          | 0/300 [00:00<?, ?it/s]"
      ]
     },
     "metadata": {},
     "output_type": "display_data"
    },
    {
     "data": {
      "application/vnd.jupyter.widget-view+json": {
       "model_id": "",
       "version_major": 2,
       "version_minor": 0
      },
      "text/plain": [
       "  0%|          | 0/1000 [00:00<?, ?it/s]"
      ]
     },
     "metadata": {},
     "output_type": "display_data"
    },
    {
     "data": {
      "application/vnd.jupyter.widget-view+json": {
       "model_id": "",
       "version_major": 2,
       "version_minor": 0
      },
      "text/plain": [
       "  0%|          | 0/2000 [00:00<?, ?it/s]"
      ]
     },
     "metadata": {},
     "output_type": "display_data"
    },
    {
     "data": {
      "application/vnd.jupyter.widget-view+json": {
       "model_id": "",
       "version_major": 2,
       "version_minor": 0
      },
      "text/plain": [
       "  0%|          | 0/20 [00:00<?, ?it/s]"
      ]
     },
     "metadata": {},
     "output_type": "display_data"
    },
    {
     "data": {
      "application/vnd.jupyter.widget-view+json": {
       "model_id": "",
       "version_major": 2,
       "version_minor": 0
      },
      "text/plain": [
       "  0%|          | 0/76 [00:00<?, ?it/s]"
      ]
     },
     "metadata": {},
     "output_type": "display_data"
    },
    {
     "data": {
      "application/vnd.jupyter.widget-view+json": {
       "model_id": "",
       "version_major": 2,
       "version_minor": 0
      },
      "text/plain": [
       "  0%|          | 0/300 [00:00<?, ?it/s]"
      ]
     },
     "metadata": {},
     "output_type": "display_data"
    },
    {
     "data": {
      "application/vnd.jupyter.widget-view+json": {
       "model_id": "",
       "version_major": 2,
       "version_minor": 0
      },
      "text/plain": [
       "  0%|          | 0/1000 [00:00<?, ?it/s]"
      ]
     },
     "metadata": {},
     "output_type": "display_data"
    },
    {
     "data": {
      "application/vnd.jupyter.widget-view+json": {
       "model_id": "",
       "version_major": 2,
       "version_minor": 0
      },
      "text/plain": [
       "  0%|          | 0/2000 [00:00<?, ?it/s]"
      ]
     },
     "metadata": {},
     "output_type": "display_data"
    },
    {
     "data": {
      "application/vnd.jupyter.widget-view+json": {
       "model_id": "",
       "version_major": 2,
       "version_minor": 0
      },
      "text/plain": [
       "  0%|          | 0/20 [00:00<?, ?it/s]"
      ]
     },
     "metadata": {},
     "output_type": "display_data"
    },
    {
     "data": {
      "application/vnd.jupyter.widget-view+json": {
       "model_id": "",
       "version_major": 2,
       "version_minor": 0
      },
      "text/plain": [
       "  0%|          | 0/76 [00:00<?, ?it/s]"
      ]
     },
     "metadata": {},
     "output_type": "display_data"
    },
    {
     "data": {
      "application/vnd.jupyter.widget-view+json": {
       "model_id": "",
       "version_major": 2,
       "version_minor": 0
      },
      "text/plain": [
       "  0%|          | 0/300 [00:00<?, ?it/s]"
      ]
     },
     "metadata": {},
     "output_type": "display_data"
    },
    {
     "data": {
      "application/vnd.jupyter.widget-view+json": {
       "model_id": "",
       "version_major": 2,
       "version_minor": 0
      },
      "text/plain": [
       "  0%|          | 0/1000 [00:00<?, ?it/s]"
      ]
     },
     "metadata": {},
     "output_type": "display_data"
    },
    {
     "data": {
      "application/vnd.jupyter.widget-view+json": {
       "model_id": "",
       "version_major": 2,
       "version_minor": 0
      },
      "text/plain": [
       "  0%|          | 0/2000 [00:00<?, ?it/s]"
      ]
     },
     "metadata": {},
     "output_type": "display_data"
    },
    {
     "data": {
      "application/vnd.jupyter.widget-view+json": {
       "model_id": "",
       "version_major": 2,
       "version_minor": 0
      },
      "text/plain": [
       "  0%|          | 0/20 [00:00<?, ?it/s]"
      ]
     },
     "metadata": {},
     "output_type": "display_data"
    },
    {
     "data": {
      "application/vnd.jupyter.widget-view+json": {
       "model_id": "",
       "version_major": 2,
       "version_minor": 0
      },
      "text/plain": [
       "  0%|          | 0/76 [00:00<?, ?it/s]"
      ]
     },
     "metadata": {},
     "output_type": "display_data"
    },
    {
     "data": {
      "application/vnd.jupyter.widget-view+json": {
       "model_id": "",
       "version_major": 2,
       "version_minor": 0
      },
      "text/plain": [
       "  0%|          | 0/300 [00:00<?, ?it/s]"
      ]
     },
     "metadata": {},
     "output_type": "display_data"
    },
    {
     "data": {
      "application/vnd.jupyter.widget-view+json": {
       "model_id": "",
       "version_major": 2,
       "version_minor": 0
      },
      "text/plain": [
       "  0%|          | 0/1000 [00:00<?, ?it/s]"
      ]
     },
     "metadata": {},
     "output_type": "display_data"
    },
    {
     "data": {
      "application/vnd.jupyter.widget-view+json": {
       "model_id": "",
       "version_major": 2,
       "version_minor": 0
      },
      "text/plain": [
       "  0%|          | 0/2000 [00:00<?, ?it/s]"
      ]
     },
     "metadata": {},
     "output_type": "display_data"
    },
    {
     "data": {
      "application/vnd.jupyter.widget-view+json": {
       "model_id": "",
       "version_major": 2,
       "version_minor": 0
      },
      "text/plain": [
       "  0%|          | 0/20 [00:00<?, ?it/s]"
      ]
     },
     "metadata": {},
     "output_type": "display_data"
    },
    {
     "data": {
      "application/vnd.jupyter.widget-view+json": {
       "model_id": "",
       "version_major": 2,
       "version_minor": 0
      },
      "text/plain": [
       "  0%|          | 0/76 [00:00<?, ?it/s]"
      ]
     },
     "metadata": {},
     "output_type": "display_data"
    },
    {
     "data": {
      "application/vnd.jupyter.widget-view+json": {
       "model_id": "",
       "version_major": 2,
       "version_minor": 0
      },
      "text/plain": [
       "  0%|          | 0/300 [00:00<?, ?it/s]"
      ]
     },
     "metadata": {},
     "output_type": "display_data"
    },
    {
     "data": {
      "application/vnd.jupyter.widget-view+json": {
       "model_id": "",
       "version_major": 2,
       "version_minor": 0
      },
      "text/plain": [
       "  0%|          | 0/1000 [00:00<?, ?it/s]"
      ]
     },
     "metadata": {},
     "output_type": "display_data"
    },
    {
     "data": {
      "application/vnd.jupyter.widget-view+json": {
       "model_id": "",
       "version_major": 2,
       "version_minor": 0
      },
      "text/plain": [
       "  0%|          | 0/2000 [00:00<?, ?it/s]"
      ]
     },
     "metadata": {},
     "output_type": "display_data"
    },
    {
     "data": {
      "application/vnd.jupyter.widget-view+json": {
       "model_id": "",
       "version_major": 2,
       "version_minor": 0
      },
      "text/plain": [
       "  0%|          | 0/20 [00:00<?, ?it/s]"
      ]
     },
     "metadata": {},
     "output_type": "display_data"
    },
    {
     "data": {
      "application/vnd.jupyter.widget-view+json": {
       "model_id": "",
       "version_major": 2,
       "version_minor": 0
      },
      "text/plain": [
       "  0%|          | 0/76 [00:00<?, ?it/s]"
      ]
     },
     "metadata": {},
     "output_type": "display_data"
    },
    {
     "data": {
      "application/vnd.jupyter.widget-view+json": {
       "model_id": "",
       "version_major": 2,
       "version_minor": 0
      },
      "text/plain": [
       "  0%|          | 0/300 [00:00<?, ?it/s]"
      ]
     },
     "metadata": {},
     "output_type": "display_data"
    },
    {
     "data": {
      "application/vnd.jupyter.widget-view+json": {
       "model_id": "",
       "version_major": 2,
       "version_minor": 0
      },
      "text/plain": [
       "  0%|          | 0/1000 [00:00<?, ?it/s]"
      ]
     },
     "metadata": {},
     "output_type": "display_data"
    },
    {
     "data": {
      "application/vnd.jupyter.widget-view+json": {
       "model_id": "",
       "version_major": 2,
       "version_minor": 0
      },
      "text/plain": [
       "  0%|          | 0/2000 [00:00<?, ?it/s]"
      ]
     },
     "metadata": {},
     "output_type": "display_data"
    },
    {
     "data": {
      "application/vnd.jupyter.widget-view+json": {
       "model_id": "",
       "version_major": 2,
       "version_minor": 0
      },
      "text/plain": [
       "  0%|          | 0/20 [00:00<?, ?it/s]"
      ]
     },
     "metadata": {},
     "output_type": "display_data"
    },
    {
     "data": {
      "application/vnd.jupyter.widget-view+json": {
       "model_id": "",
       "version_major": 2,
       "version_minor": 0
      },
      "text/plain": [
       "  0%|          | 0/76 [00:00<?, ?it/s]"
      ]
     },
     "metadata": {},
     "output_type": "display_data"
    },
    {
     "data": {
      "application/vnd.jupyter.widget-view+json": {
       "model_id": "",
       "version_major": 2,
       "version_minor": 0
      },
      "text/plain": [
       "  0%|          | 0/300 [00:00<?, ?it/s]"
      ]
     },
     "metadata": {},
     "output_type": "display_data"
    },
    {
     "data": {
      "application/vnd.jupyter.widget-view+json": {
       "model_id": "",
       "version_major": 2,
       "version_minor": 0
      },
      "text/plain": [
       "  0%|          | 0/1000 [00:00<?, ?it/s]"
      ]
     },
     "metadata": {},
     "output_type": "display_data"
    },
    {
     "data": {
      "application/vnd.jupyter.widget-view+json": {
       "model_id": "",
       "version_major": 2,
       "version_minor": 0
      },
      "text/plain": [
       "  0%|          | 0/2000 [00:00<?, ?it/s]"
      ]
     },
     "metadata": {},
     "output_type": "display_data"
    },
    {
     "data": {
      "application/vnd.jupyter.widget-view+json": {
       "model_id": "",
       "version_major": 2,
       "version_minor": 0
      },
      "text/plain": [
       "  0%|          | 0/20 [00:00<?, ?it/s]"
      ]
     },
     "metadata": {},
     "output_type": "display_data"
    },
    {
     "data": {
      "application/vnd.jupyter.widget-view+json": {
       "model_id": "",
       "version_major": 2,
       "version_minor": 0
      },
      "text/plain": [
       "  0%|          | 0/76 [00:00<?, ?it/s]"
      ]
     },
     "metadata": {},
     "output_type": "display_data"
    },
    {
     "data": {
      "application/vnd.jupyter.widget-view+json": {
       "model_id": "",
       "version_major": 2,
       "version_minor": 0
      },
      "text/plain": [
       "  0%|          | 0/300 [00:00<?, ?it/s]"
      ]
     },
     "metadata": {},
     "output_type": "display_data"
    },
    {
     "data": {
      "application/vnd.jupyter.widget-view+json": {
       "model_id": "",
       "version_major": 2,
       "version_minor": 0
      },
      "text/plain": [
       "  0%|          | 0/1000 [00:00<?, ?it/s]"
      ]
     },
     "metadata": {},
     "output_type": "display_data"
    },
    {
     "data": {
      "application/vnd.jupyter.widget-view+json": {
       "model_id": "",
       "version_major": 2,
       "version_minor": 0
      },
      "text/plain": [
       "  0%|          | 0/2000 [00:00<?, ?it/s]"
      ]
     },
     "metadata": {},
     "output_type": "display_data"
    },
    {
     "data": {
      "application/vnd.jupyter.widget-view+json": {
       "model_id": "",
       "version_major": 2,
       "version_minor": 0
      },
      "text/plain": [
       "  0%|          | 0/20 [00:00<?, ?it/s]"
      ]
     },
     "metadata": {},
     "output_type": "display_data"
    },
    {
     "data": {
      "application/vnd.jupyter.widget-view+json": {
       "model_id": "",
       "version_major": 2,
       "version_minor": 0
      },
      "text/plain": [
       "  0%|          | 0/76 [00:00<?, ?it/s]"
      ]
     },
     "metadata": {},
     "output_type": "display_data"
    },
    {
     "data": {
      "application/vnd.jupyter.widget-view+json": {
       "model_id": "",
       "version_major": 2,
       "version_minor": 0
      },
      "text/plain": [
       "  0%|          | 0/300 [00:00<?, ?it/s]"
      ]
     },
     "metadata": {},
     "output_type": "display_data"
    },
    {
     "data": {
      "application/vnd.jupyter.widget-view+json": {
       "model_id": "",
       "version_major": 2,
       "version_minor": 0
      },
      "text/plain": [
       "  0%|          | 0/1000 [00:00<?, ?it/s]"
      ]
     },
     "metadata": {},
     "output_type": "display_data"
    },
    {
     "data": {
      "application/vnd.jupyter.widget-view+json": {
       "model_id": "",
       "version_major": 2,
       "version_minor": 0
      },
      "text/plain": [
       "  0%|          | 0/2000 [00:00<?, ?it/s]"
      ]
     },
     "metadata": {},
     "output_type": "display_data"
    },
    {
     "data": {
      "application/vnd.jupyter.widget-view+json": {
       "model_id": "",
       "version_major": 2,
       "version_minor": 0
      },
      "text/plain": [
       "  0%|          | 0/20 [00:00<?, ?it/s]"
      ]
     },
     "metadata": {},
     "output_type": "display_data"
    },
    {
     "data": {
      "application/vnd.jupyter.widget-view+json": {
       "model_id": "",
       "version_major": 2,
       "version_minor": 0
      },
      "text/plain": [
       "  0%|          | 0/76 [00:00<?, ?it/s]"
      ]
     },
     "metadata": {},
     "output_type": "display_data"
    },
    {
     "data": {
      "application/vnd.jupyter.widget-view+json": {
       "model_id": "",
       "version_major": 2,
       "version_minor": 0
      },
      "text/plain": [
       "  0%|          | 0/300 [00:00<?, ?it/s]"
      ]
     },
     "metadata": {},
     "output_type": "display_data"
    },
    {
     "data": {
      "application/vnd.jupyter.widget-view+json": {
       "model_id": "",
       "version_major": 2,
       "version_minor": 0
      },
      "text/plain": [
       "  0%|          | 0/1000 [00:00<?, ?it/s]"
      ]
     },
     "metadata": {},
     "output_type": "display_data"
    },
    {
     "data": {
      "application/vnd.jupyter.widget-view+json": {
       "model_id": "",
       "version_major": 2,
       "version_minor": 0
      },
      "text/plain": [
       "  0%|          | 0/2000 [00:00<?, ?it/s]"
      ]
     },
     "metadata": {},
     "output_type": "display_data"
    },
    {
     "data": {
      "application/vnd.jupyter.widget-view+json": {
       "model_id": "",
       "version_major": 2,
       "version_minor": 0
      },
      "text/plain": [
       "  0%|          | 0/20 [00:00<?, ?it/s]"
      ]
     },
     "metadata": {},
     "output_type": "display_data"
    },
    {
     "data": {
      "application/vnd.jupyter.widget-view+json": {
       "model_id": "",
       "version_major": 2,
       "version_minor": 0
      },
      "text/plain": [
       "  0%|          | 0/76 [00:00<?, ?it/s]"
      ]
     },
     "metadata": {},
     "output_type": "display_data"
    },
    {
     "data": {
      "application/vnd.jupyter.widget-view+json": {
       "model_id": "",
       "version_major": 2,
       "version_minor": 0
      },
      "text/plain": [
       "  0%|          | 0/300 [00:00<?, ?it/s]"
      ]
     },
     "metadata": {},
     "output_type": "display_data"
    },
    {
     "data": {
      "application/vnd.jupyter.widget-view+json": {
       "model_id": "",
       "version_major": 2,
       "version_minor": 0
      },
      "text/plain": [
       "  0%|          | 0/1000 [00:00<?, ?it/s]"
      ]
     },
     "metadata": {},
     "output_type": "display_data"
    },
    {
     "data": {
      "application/vnd.jupyter.widget-view+json": {
       "model_id": "",
       "version_major": 2,
       "version_minor": 0
      },
      "text/plain": [
       "  0%|          | 0/2000 [00:00<?, ?it/s]"
      ]
     },
     "metadata": {},
     "output_type": "display_data"
    },
    {
     "data": {
      "application/vnd.jupyter.widget-view+json": {
       "model_id": "",
       "version_major": 2,
       "version_minor": 0
      },
      "text/plain": [
       "  0%|          | 0/20 [00:00<?, ?it/s]"
      ]
     },
     "metadata": {},
     "output_type": "display_data"
    },
    {
     "data": {
      "application/vnd.jupyter.widget-view+json": {
       "model_id": "",
       "version_major": 2,
       "version_minor": 0
      },
      "text/plain": [
       "  0%|          | 0/76 [00:00<?, ?it/s]"
      ]
     },
     "metadata": {},
     "output_type": "display_data"
    },
    {
     "data": {
      "application/vnd.jupyter.widget-view+json": {
       "model_id": "",
       "version_major": 2,
       "version_minor": 0
      },
      "text/plain": [
       "  0%|          | 0/300 [00:00<?, ?it/s]"
      ]
     },
     "metadata": {},
     "output_type": "display_data"
    },
    {
     "data": {
      "application/vnd.jupyter.widget-view+json": {
       "model_id": "",
       "version_major": 2,
       "version_minor": 0
      },
      "text/plain": [
       "  0%|          | 0/1000 [00:00<?, ?it/s]"
      ]
     },
     "metadata": {},
     "output_type": "display_data"
    },
    {
     "data": {
      "application/vnd.jupyter.widget-view+json": {
       "model_id": "",
       "version_major": 2,
       "version_minor": 0
      },
      "text/plain": [
       "  0%|          | 0/2000 [00:00<?, ?it/s]"
      ]
     },
     "metadata": {},
     "output_type": "display_data"
    },
    {
     "data": {
      "application/vnd.jupyter.widget-view+json": {
       "model_id": "",
       "version_major": 2,
       "version_minor": 0
      },
      "text/plain": [
       "  0%|          | 0/20 [00:00<?, ?it/s]"
      ]
     },
     "metadata": {},
     "output_type": "display_data"
    },
    {
     "data": {
      "application/vnd.jupyter.widget-view+json": {
       "model_id": "",
       "version_major": 2,
       "version_minor": 0
      },
      "text/plain": [
       "  0%|          | 0/76 [00:00<?, ?it/s]"
      ]
     },
     "metadata": {},
     "output_type": "display_data"
    },
    {
     "data": {
      "application/vnd.jupyter.widget-view+json": {
       "model_id": "",
       "version_major": 2,
       "version_minor": 0
      },
      "text/plain": [
       "  0%|          | 0/300 [00:00<?, ?it/s]"
      ]
     },
     "metadata": {},
     "output_type": "display_data"
    },
    {
     "data": {
      "application/vnd.jupyter.widget-view+json": {
       "model_id": "",
       "version_major": 2,
       "version_minor": 0
      },
      "text/plain": [
       "  0%|          | 0/1000 [00:00<?, ?it/s]"
      ]
     },
     "metadata": {},
     "output_type": "display_data"
    },
    {
     "data": {
      "application/vnd.jupyter.widget-view+json": {
       "model_id": "",
       "version_major": 2,
       "version_minor": 0
      },
      "text/plain": [
       "  0%|          | 0/2000 [00:00<?, ?it/s]"
      ]
     },
     "metadata": {},
     "output_type": "display_data"
    },
    {
     "data": {
      "application/vnd.jupyter.widget-view+json": {
       "model_id": "",
       "version_major": 2,
       "version_minor": 0
      },
      "text/plain": [
       "  0%|          | 0/20 [00:00<?, ?it/s]"
      ]
     },
     "metadata": {},
     "output_type": "display_data"
    },
    {
     "data": {
      "application/vnd.jupyter.widget-view+json": {
       "model_id": "",
       "version_major": 2,
       "version_minor": 0
      },
      "text/plain": [
       "  0%|          | 0/76 [00:00<?, ?it/s]"
      ]
     },
     "metadata": {},
     "output_type": "display_data"
    },
    {
     "data": {
      "application/vnd.jupyter.widget-view+json": {
       "model_id": "",
       "version_major": 2,
       "version_minor": 0
      },
      "text/plain": [
       "  0%|          | 0/300 [00:00<?, ?it/s]"
      ]
     },
     "metadata": {},
     "output_type": "display_data"
    },
    {
     "data": {
      "application/vnd.jupyter.widget-view+json": {
       "model_id": "",
       "version_major": 2,
       "version_minor": 0
      },
      "text/plain": [
       "  0%|          | 0/1000 [00:00<?, ?it/s]"
      ]
     },
     "metadata": {},
     "output_type": "display_data"
    },
    {
     "data": {
      "application/vnd.jupyter.widget-view+json": {
       "model_id": "",
       "version_major": 2,
       "version_minor": 0
      },
      "text/plain": [
       "  0%|          | 0/2000 [00:00<?, ?it/s]"
      ]
     },
     "metadata": {},
     "output_type": "display_data"
    },
    {
     "data": {
      "application/vnd.jupyter.widget-view+json": {
       "model_id": "",
       "version_major": 2,
       "version_minor": 0
      },
      "text/plain": [
       "  0%|          | 0/20 [00:00<?, ?it/s]"
      ]
     },
     "metadata": {},
     "output_type": "display_data"
    },
    {
     "data": {
      "application/vnd.jupyter.widget-view+json": {
       "model_id": "",
       "version_major": 2,
       "version_minor": 0
      },
      "text/plain": [
       "  0%|          | 0/76 [00:00<?, ?it/s]"
      ]
     },
     "metadata": {},
     "output_type": "display_data"
    },
    {
     "data": {
      "application/vnd.jupyter.widget-view+json": {
       "model_id": "",
       "version_major": 2,
       "version_minor": 0
      },
      "text/plain": [
       "  0%|          | 0/300 [00:00<?, ?it/s]"
      ]
     },
     "metadata": {},
     "output_type": "display_data"
    },
    {
     "data": {
      "application/vnd.jupyter.widget-view+json": {
       "model_id": "",
       "version_major": 2,
       "version_minor": 0
      },
      "text/plain": [
       "  0%|          | 0/1000 [00:00<?, ?it/s]"
      ]
     },
     "metadata": {},
     "output_type": "display_data"
    },
    {
     "data": {
      "application/vnd.jupyter.widget-view+json": {
       "model_id": "",
       "version_major": 2,
       "version_minor": 0
      },
      "text/plain": [
       "  0%|          | 0/2000 [00:00<?, ?it/s]"
      ]
     },
     "metadata": {},
     "output_type": "display_data"
    },
    {
     "data": {
      "application/vnd.jupyter.widget-view+json": {
       "model_id": "",
       "version_major": 2,
       "version_minor": 0
      },
      "text/plain": [
       "  0%|          | 0/20 [00:00<?, ?it/s]"
      ]
     },
     "metadata": {},
     "output_type": "display_data"
    },
    {
     "data": {
      "application/vnd.jupyter.widget-view+json": {
       "model_id": "",
       "version_major": 2,
       "version_minor": 0
      },
      "text/plain": [
       "  0%|          | 0/76 [00:00<?, ?it/s]"
      ]
     },
     "metadata": {},
     "output_type": "display_data"
    },
    {
     "data": {
      "application/vnd.jupyter.widget-view+json": {
       "model_id": "",
       "version_major": 2,
       "version_minor": 0
      },
      "text/plain": [
       "  0%|          | 0/300 [00:00<?, ?it/s]"
      ]
     },
     "metadata": {},
     "output_type": "display_data"
    },
    {
     "data": {
      "application/vnd.jupyter.widget-view+json": {
       "model_id": "",
       "version_major": 2,
       "version_minor": 0
      },
      "text/plain": [
       "  0%|          | 0/1000 [00:00<?, ?it/s]"
      ]
     },
     "metadata": {},
     "output_type": "display_data"
    },
    {
     "data": {
      "application/vnd.jupyter.widget-view+json": {
       "model_id": "",
       "version_major": 2,
       "version_minor": 0
      },
      "text/plain": [
       "  0%|          | 0/2000 [00:00<?, ?it/s]"
      ]
     },
     "metadata": {},
     "output_type": "display_data"
    },
    {
     "data": {
      "application/vnd.jupyter.widget-view+json": {
       "model_id": "",
       "version_major": 2,
       "version_minor": 0
      },
      "text/plain": [
       "  0%|          | 0/20 [00:00<?, ?it/s]"
      ]
     },
     "metadata": {},
     "output_type": "display_data"
    },
    {
     "data": {
      "application/vnd.jupyter.widget-view+json": {
       "model_id": "",
       "version_major": 2,
       "version_minor": 0
      },
      "text/plain": [
       "  0%|          | 0/76 [00:00<?, ?it/s]"
      ]
     },
     "metadata": {},
     "output_type": "display_data"
    },
    {
     "data": {
      "application/vnd.jupyter.widget-view+json": {
       "model_id": "",
       "version_major": 2,
       "version_minor": 0
      },
      "text/plain": [
       "  0%|          | 0/300 [00:00<?, ?it/s]"
      ]
     },
     "metadata": {},
     "output_type": "display_data"
    },
    {
     "data": {
      "application/vnd.jupyter.widget-view+json": {
       "model_id": "",
       "version_major": 2,
       "version_minor": 0
      },
      "text/plain": [
       "  0%|          | 0/1000 [00:00<?, ?it/s]"
      ]
     },
     "metadata": {},
     "output_type": "display_data"
    },
    {
     "data": {
      "application/vnd.jupyter.widget-view+json": {
       "model_id": "",
       "version_major": 2,
       "version_minor": 0
      },
      "text/plain": [
       "  0%|          | 0/2000 [00:00<?, ?it/s]"
      ]
     },
     "metadata": {},
     "output_type": "display_data"
    },
    {
     "data": {
      "application/vnd.jupyter.widget-view+json": {
       "model_id": "",
       "version_major": 2,
       "version_minor": 0
      },
      "text/plain": [
       "  0%|          | 0/20 [00:00<?, ?it/s]"
      ]
     },
     "metadata": {},
     "output_type": "display_data"
    },
    {
     "data": {
      "application/vnd.jupyter.widget-view+json": {
       "model_id": "",
       "version_major": 2,
       "version_minor": 0
      },
      "text/plain": [
       "  0%|          | 0/76 [00:00<?, ?it/s]"
      ]
     },
     "metadata": {},
     "output_type": "display_data"
    },
    {
     "data": {
      "application/vnd.jupyter.widget-view+json": {
       "model_id": "",
       "version_major": 2,
       "version_minor": 0
      },
      "text/plain": [
       "  0%|          | 0/300 [00:00<?, ?it/s]"
      ]
     },
     "metadata": {},
     "output_type": "display_data"
    },
    {
     "data": {
      "application/vnd.jupyter.widget-view+json": {
       "model_id": "",
       "version_major": 2,
       "version_minor": 0
      },
      "text/plain": [
       "  0%|          | 0/1000 [00:00<?, ?it/s]"
      ]
     },
     "metadata": {},
     "output_type": "display_data"
    },
    {
     "data": {
      "application/vnd.jupyter.widget-view+json": {
       "model_id": "",
       "version_major": 2,
       "version_minor": 0
      },
      "text/plain": [
       "  0%|          | 0/2000 [00:00<?, ?it/s]"
      ]
     },
     "metadata": {},
     "output_type": "display_data"
    },
    {
     "data": {
      "application/vnd.jupyter.widget-view+json": {
       "model_id": "",
       "version_major": 2,
       "version_minor": 0
      },
      "text/plain": [
       "  0%|          | 0/20 [00:00<?, ?it/s]"
      ]
     },
     "metadata": {},
     "output_type": "display_data"
    },
    {
     "data": {
      "application/vnd.jupyter.widget-view+json": {
       "model_id": "",
       "version_major": 2,
       "version_minor": 0
      },
      "text/plain": [
       "  0%|          | 0/76 [00:00<?, ?it/s]"
      ]
     },
     "metadata": {},
     "output_type": "display_data"
    },
    {
     "data": {
      "application/vnd.jupyter.widget-view+json": {
       "model_id": "",
       "version_major": 2,
       "version_minor": 0
      },
      "text/plain": [
       "  0%|          | 0/300 [00:00<?, ?it/s]"
      ]
     },
     "metadata": {},
     "output_type": "display_data"
    },
    {
     "data": {
      "application/vnd.jupyter.widget-view+json": {
       "model_id": "",
       "version_major": 2,
       "version_minor": 0
      },
      "text/plain": [
       "  0%|          | 0/1000 [00:00<?, ?it/s]"
      ]
     },
     "metadata": {},
     "output_type": "display_data"
    },
    {
     "data": {
      "application/vnd.jupyter.widget-view+json": {
       "model_id": "",
       "version_major": 2,
       "version_minor": 0
      },
      "text/plain": [
       "  0%|          | 0/2000 [00:00<?, ?it/s]"
      ]
     },
     "metadata": {},
     "output_type": "display_data"
    },
    {
     "data": {
      "application/vnd.jupyter.widget-view+json": {
       "model_id": "",
       "version_major": 2,
       "version_minor": 0
      },
      "text/plain": [
       "  0%|          | 0/20 [00:00<?, ?it/s]"
      ]
     },
     "metadata": {},
     "output_type": "display_data"
    },
    {
     "data": {
      "application/vnd.jupyter.widget-view+json": {
       "model_id": "",
       "version_major": 2,
       "version_minor": 0
      },
      "text/plain": [
       "  0%|          | 0/76 [00:00<?, ?it/s]"
      ]
     },
     "metadata": {},
     "output_type": "display_data"
    },
    {
     "data": {
      "application/vnd.jupyter.widget-view+json": {
       "model_id": "",
       "version_major": 2,
       "version_minor": 0
      },
      "text/plain": [
       "  0%|          | 0/300 [00:00<?, ?it/s]"
      ]
     },
     "metadata": {},
     "output_type": "display_data"
    },
    {
     "data": {
      "application/vnd.jupyter.widget-view+json": {
       "model_id": "",
       "version_major": 2,
       "version_minor": 0
      },
      "text/plain": [
       "  0%|          | 0/1000 [00:00<?, ?it/s]"
      ]
     },
     "metadata": {},
     "output_type": "display_data"
    },
    {
     "data": {
      "application/vnd.jupyter.widget-view+json": {
       "model_id": "",
       "version_major": 2,
       "version_minor": 0
      },
      "text/plain": [
       "  0%|          | 0/2000 [00:00<?, ?it/s]"
      ]
     },
     "metadata": {},
     "output_type": "display_data"
    },
    {
     "data": {
      "application/vnd.jupyter.widget-view+json": {
       "model_id": "",
       "version_major": 2,
       "version_minor": 0
      },
      "text/plain": [
       "  0%|          | 0/20 [00:00<?, ?it/s]"
      ]
     },
     "metadata": {},
     "output_type": "display_data"
    },
    {
     "data": {
      "application/vnd.jupyter.widget-view+json": {
       "model_id": "",
       "version_major": 2,
       "version_minor": 0
      },
      "text/plain": [
       "  0%|          | 0/76 [00:00<?, ?it/s]"
      ]
     },
     "metadata": {},
     "output_type": "display_data"
    },
    {
     "data": {
      "application/vnd.jupyter.widget-view+json": {
       "model_id": "",
       "version_major": 2,
       "version_minor": 0
      },
      "text/plain": [
       "  0%|          | 0/300 [00:00<?, ?it/s]"
      ]
     },
     "metadata": {},
     "output_type": "display_data"
    },
    {
     "data": {
      "application/vnd.jupyter.widget-view+json": {
       "model_id": "",
       "version_major": 2,
       "version_minor": 0
      },
      "text/plain": [
       "  0%|          | 0/1000 [00:00<?, ?it/s]"
      ]
     },
     "metadata": {},
     "output_type": "display_data"
    },
    {
     "data": {
      "application/vnd.jupyter.widget-view+json": {
       "model_id": "",
       "version_major": 2,
       "version_minor": 0
      },
      "text/plain": [
       "  0%|          | 0/2000 [00:00<?, ?it/s]"
      ]
     },
     "metadata": {},
     "output_type": "display_data"
    },
    {
     "data": {
      "application/vnd.jupyter.widget-view+json": {
       "model_id": "",
       "version_major": 2,
       "version_minor": 0
      },
      "text/plain": [
       "  0%|          | 0/20 [00:00<?, ?it/s]"
      ]
     },
     "metadata": {},
     "output_type": "display_data"
    },
    {
     "data": {
      "application/vnd.jupyter.widget-view+json": {
       "model_id": "",
       "version_major": 2,
       "version_minor": 0
      },
      "text/plain": [
       "  0%|          | 0/76 [00:00<?, ?it/s]"
      ]
     },
     "metadata": {},
     "output_type": "display_data"
    },
    {
     "data": {
      "application/vnd.jupyter.widget-view+json": {
       "model_id": "",
       "version_major": 2,
       "version_minor": 0
      },
      "text/plain": [
       "  0%|          | 0/300 [00:00<?, ?it/s]"
      ]
     },
     "metadata": {},
     "output_type": "display_data"
    },
    {
     "data": {
      "application/vnd.jupyter.widget-view+json": {
       "model_id": "",
       "version_major": 2,
       "version_minor": 0
      },
      "text/plain": [
       "  0%|          | 0/1000 [00:00<?, ?it/s]"
      ]
     },
     "metadata": {},
     "output_type": "display_data"
    },
    {
     "data": {
      "application/vnd.jupyter.widget-view+json": {
       "model_id": "",
       "version_major": 2,
       "version_minor": 0
      },
      "text/plain": [
       "  0%|          | 0/2000 [00:00<?, ?it/s]"
      ]
     },
     "metadata": {},
     "output_type": "display_data"
    },
    {
     "data": {
      "application/vnd.jupyter.widget-view+json": {
       "model_id": "",
       "version_major": 2,
       "version_minor": 0
      },
      "text/plain": [
       "  0%|          | 0/20 [00:00<?, ?it/s]"
      ]
     },
     "metadata": {},
     "output_type": "display_data"
    },
    {
     "data": {
      "application/vnd.jupyter.widget-view+json": {
       "model_id": "",
       "version_major": 2,
       "version_minor": 0
      },
      "text/plain": [
       "  0%|          | 0/76 [00:00<?, ?it/s]"
      ]
     },
     "metadata": {},
     "output_type": "display_data"
    },
    {
     "data": {
      "application/vnd.jupyter.widget-view+json": {
       "model_id": "",
       "version_major": 2,
       "version_minor": 0
      },
      "text/plain": [
       "  0%|          | 0/300 [00:00<?, ?it/s]"
      ]
     },
     "metadata": {},
     "output_type": "display_data"
    },
    {
     "data": {
      "application/vnd.jupyter.widget-view+json": {
       "model_id": "",
       "version_major": 2,
       "version_minor": 0
      },
      "text/plain": [
       "  0%|          | 0/1000 [00:00<?, ?it/s]"
      ]
     },
     "metadata": {},
     "output_type": "display_data"
    },
    {
     "data": {
      "application/vnd.jupyter.widget-view+json": {
       "model_id": "",
       "version_major": 2,
       "version_minor": 0
      },
      "text/plain": [
       "  0%|          | 0/2000 [00:00<?, ?it/s]"
      ]
     },
     "metadata": {},
     "output_type": "display_data"
    },
    {
     "data": {
      "application/vnd.jupyter.widget-view+json": {
       "model_id": "",
       "version_major": 2,
       "version_minor": 0
      },
      "text/plain": [
       "  0%|          | 0/20 [00:00<?, ?it/s]"
      ]
     },
     "metadata": {},
     "output_type": "display_data"
    },
    {
     "data": {
      "application/vnd.jupyter.widget-view+json": {
       "model_id": "",
       "version_major": 2,
       "version_minor": 0
      },
      "text/plain": [
       "  0%|          | 0/76 [00:00<?, ?it/s]"
      ]
     },
     "metadata": {},
     "output_type": "display_data"
    },
    {
     "data": {
      "application/vnd.jupyter.widget-view+json": {
       "model_id": "",
       "version_major": 2,
       "version_minor": 0
      },
      "text/plain": [
       "  0%|          | 0/300 [00:00<?, ?it/s]"
      ]
     },
     "metadata": {},
     "output_type": "display_data"
    },
    {
     "data": {
      "application/vnd.jupyter.widget-view+json": {
       "model_id": "",
       "version_major": 2,
       "version_minor": 0
      },
      "text/plain": [
       "  0%|          | 0/1000 [00:00<?, ?it/s]"
      ]
     },
     "metadata": {},
     "output_type": "display_data"
    },
    {
     "data": {
      "application/vnd.jupyter.widget-view+json": {
       "model_id": "",
       "version_major": 2,
       "version_minor": 0
      },
      "text/plain": [
       "  0%|          | 0/2000 [00:00<?, ?it/s]"
      ]
     },
     "metadata": {},
     "output_type": "display_data"
    },
    {
     "data": {
      "application/vnd.jupyter.widget-view+json": {
       "model_id": "",
       "version_major": 2,
       "version_minor": 0
      },
      "text/plain": [
       "  0%|          | 0/20 [00:00<?, ?it/s]"
      ]
     },
     "metadata": {},
     "output_type": "display_data"
    },
    {
     "data": {
      "application/vnd.jupyter.widget-view+json": {
       "model_id": "",
       "version_major": 2,
       "version_minor": 0
      },
      "text/plain": [
       "  0%|          | 0/76 [00:00<?, ?it/s]"
      ]
     },
     "metadata": {},
     "output_type": "display_data"
    },
    {
     "data": {
      "application/vnd.jupyter.widget-view+json": {
       "model_id": "",
       "version_major": 2,
       "version_minor": 0
      },
      "text/plain": [
       "  0%|          | 0/300 [00:00<?, ?it/s]"
      ]
     },
     "metadata": {},
     "output_type": "display_data"
    },
    {
     "data": {
      "application/vnd.jupyter.widget-view+json": {
       "model_id": "",
       "version_major": 2,
       "version_minor": 0
      },
      "text/plain": [
       "  0%|          | 0/1000 [00:00<?, ?it/s]"
      ]
     },
     "metadata": {},
     "output_type": "display_data"
    },
    {
     "data": {
      "application/vnd.jupyter.widget-view+json": {
       "model_id": "",
       "version_major": 2,
       "version_minor": 0
      },
      "text/plain": [
       "  0%|          | 0/2000 [00:00<?, ?it/s]"
      ]
     },
     "metadata": {},
     "output_type": "display_data"
    },
    {
     "data": {
      "application/vnd.jupyter.widget-view+json": {
       "model_id": "",
       "version_major": 2,
       "version_minor": 0
      },
      "text/plain": [
       "  0%|          | 0/20 [00:00<?, ?it/s]"
      ]
     },
     "metadata": {},
     "output_type": "display_data"
    },
    {
     "data": {
      "application/vnd.jupyter.widget-view+json": {
       "model_id": "",
       "version_major": 2,
       "version_minor": 0
      },
      "text/plain": [
       "  0%|          | 0/76 [00:00<?, ?it/s]"
      ]
     },
     "metadata": {},
     "output_type": "display_data"
    },
    {
     "data": {
      "application/vnd.jupyter.widget-view+json": {
       "model_id": "",
       "version_major": 2,
       "version_minor": 0
      },
      "text/plain": [
       "  0%|          | 0/300 [00:00<?, ?it/s]"
      ]
     },
     "metadata": {},
     "output_type": "display_data"
    },
    {
     "data": {
      "application/vnd.jupyter.widget-view+json": {
       "model_id": "",
       "version_major": 2,
       "version_minor": 0
      },
      "text/plain": [
       "  0%|          | 0/1000 [00:00<?, ?it/s]"
      ]
     },
     "metadata": {},
     "output_type": "display_data"
    },
    {
     "data": {
      "application/vnd.jupyter.widget-view+json": {
       "model_id": "",
       "version_major": 2,
       "version_minor": 0
      },
      "text/plain": [
       "  0%|          | 0/2000 [00:00<?, ?it/s]"
      ]
     },
     "metadata": {},
     "output_type": "display_data"
    },
    {
     "data": {
      "application/vnd.jupyter.widget-view+json": {
       "model_id": "",
       "version_major": 2,
       "version_minor": 0
      },
      "text/plain": [
       "  0%|          | 0/20 [00:00<?, ?it/s]"
      ]
     },
     "metadata": {},
     "output_type": "display_data"
    },
    {
     "data": {
      "application/vnd.jupyter.widget-view+json": {
       "model_id": "",
       "version_major": 2,
       "version_minor": 0
      },
      "text/plain": [
       "  0%|          | 0/76 [00:00<?, ?it/s]"
      ]
     },
     "metadata": {},
     "output_type": "display_data"
    },
    {
     "data": {
      "application/vnd.jupyter.widget-view+json": {
       "model_id": "",
       "version_major": 2,
       "version_minor": 0
      },
      "text/plain": [
       "  0%|          | 0/300 [00:00<?, ?it/s]"
      ]
     },
     "metadata": {},
     "output_type": "display_data"
    },
    {
     "data": {
      "application/vnd.jupyter.widget-view+json": {
       "model_id": "",
       "version_major": 2,
       "version_minor": 0
      },
      "text/plain": [
       "  0%|          | 0/1000 [00:00<?, ?it/s]"
      ]
     },
     "metadata": {},
     "output_type": "display_data"
    },
    {
     "data": {
      "application/vnd.jupyter.widget-view+json": {
       "model_id": "",
       "version_major": 2,
       "version_minor": 0
      },
      "text/plain": [
       "  0%|          | 0/2000 [00:00<?, ?it/s]"
      ]
     },
     "metadata": {},
     "output_type": "display_data"
    },
    {
     "data": {
      "application/vnd.jupyter.widget-view+json": {
       "model_id": "",
       "version_major": 2,
       "version_minor": 0
      },
      "text/plain": [
       "  0%|          | 0/20 [00:00<?, ?it/s]"
      ]
     },
     "metadata": {},
     "output_type": "display_data"
    },
    {
     "data": {
      "application/vnd.jupyter.widget-view+json": {
       "model_id": "",
       "version_major": 2,
       "version_minor": 0
      },
      "text/plain": [
       "  0%|          | 0/76 [00:00<?, ?it/s]"
      ]
     },
     "metadata": {},
     "output_type": "display_data"
    },
    {
     "data": {
      "application/vnd.jupyter.widget-view+json": {
       "model_id": "",
       "version_major": 2,
       "version_minor": 0
      },
      "text/plain": [
       "  0%|          | 0/300 [00:00<?, ?it/s]"
      ]
     },
     "metadata": {},
     "output_type": "display_data"
    },
    {
     "data": {
      "application/vnd.jupyter.widget-view+json": {
       "model_id": "",
       "version_major": 2,
       "version_minor": 0
      },
      "text/plain": [
       "  0%|          | 0/1000 [00:00<?, ?it/s]"
      ]
     },
     "metadata": {},
     "output_type": "display_data"
    },
    {
     "data": {
      "application/vnd.jupyter.widget-view+json": {
       "model_id": "",
       "version_major": 2,
       "version_minor": 0
      },
      "text/plain": [
       "  0%|          | 0/2000 [00:00<?, ?it/s]"
      ]
     },
     "metadata": {},
     "output_type": "display_data"
    }
   ],
   "source": [
    "for model_no in trange(nmod):\n",
    "    _data = scale_and_split(xtrain_anom, xtest_anom, model_no = model_no, nval = nval)\n",
    "\n",
    "    xtrain = _data[0]\n",
    "    xval = _data[1]\n",
    "    xtest = _data[2]\n",
    "    ytrain = _data[3]\n",
    "    yval = _data[4]\n",
    "    ytest = _data[5]\n",
    "    xtrain_mean = _data[6]\n",
    "    xtest_mean = _data[7]\n",
    "    xtrain_sd = _data[8]\n",
    "    xtest_sd = _data[9]\n",
    "\n",
    "    ntrain = xtrain.shape[0]\n",
    "    nval = xval.shape[0]\n",
    "    ntest = xtest.shape[0]\n",
    "\n",
    "    del _data\n",
    "\n",
    "    weight = jnp.cos(jnp.linspace(math.pi/2 - 1/nlat, -math.pi/2 + 1/nlat, nlat))\n",
    "    weight = weight / jnp.mean(weight)\n",
    "    weight = weight[None,:,None]\n",
    "    \n",
    "    #### Ens average\n",
    "    yval_hat = np.mean(xval, axis = 1)\n",
    "    ytest_hat = np.mean(xtest, axis = 1)\n",
    "    np.save(save_loc + f'/yval_ens_{model_no}', yval_hat)\n",
    "    np.save(save_loc + f'/ytest_ens_{model_no}', ytest_hat)\n",
    "\n",
    "    #### Delta\n",
    "    yval_hat = jnp.vstack([delta_pred(xval[n:(n+10)], xtrain, ytrain) for n in trange(nval//10, leave = False)])\n",
    "    ytest_hat = jnp.vstack([delta_pred(xtest[n:(n+12)], xtrain, ytrain) for n in trange(ntest//12, leave = False)])\n",
    "    np.save(save_loc + f'/yval_delta_{model_no}', yval_hat)\n",
    "    np.save(save_loc + f'/ytest_delta_{model_no}', ytest_hat)\n",
    "    \n",
    "    #### linear regression\n",
    "    beta = v_ols(xtrain, ytrain)\n",
    "    beta = jnp.nan_to_num(beta)\n",
    "    beta = jnp.moveaxis(beta, (0, 1, 2), (2, 1, 0))\n",
    "    yval_hat = reg_pred(xval, beta)\n",
    "    ytest_hat = reg_pred(xtest, beta)\n",
    "    np.save(save_loc + f'/yval_lm_{model_no}', yval_hat)\n",
    "    np.save(save_loc + f'/ytest_lm_{model_no}', ytest_hat)\n",
    "\n",
    "    #### NNGP\n",
    "    key = random.PRNGKey(1023)\n",
    "    params = nngp_params(key, depth)\n",
    "    for _ in trange(300, leave = False):\n",
    "        params = gradient_step(params, xtrain.reshape(ntrain, -1), ytrain.reshape(ntrain, -1))\n",
    "\n",
    "    yval_hat = nngp_predict(params, xval.reshape(nval, -1), xtrain.reshape(ntrain, -1), ytrain.reshape(ntrain, -1))\n",
    "    ytest_hat = nngp_predict(params, xtest.reshape(ntest, -1), xtrain.reshape(ntrain, -1), ytrain.reshape(ntrain, -1))\n",
    "    yval_hat = yval_hat.reshape(-1, nlat, nlon)\n",
    "    ytest_hat = ytest_hat.reshape(-1, nlat, nlon)\n",
    "    np.save(save_loc + f'/yval_nngp_{model_no}', yval_hat)\n",
    "    np.save(save_loc + f'/ytest_nngp_{model_no}', ytest_hat)\n",
    "    \n",
    "    #### WA\n",
    "    theta = init_wa(xtrain)\n",
    "    opt_init, opt_update = optax.adam(1e-1)\n",
    "    opt_state = opt_init(theta)\n",
    "\n",
    "    for i in trange(1000, leave = False):\n",
    "        theta, opt_state = optim_wa_update(theta, opt_state, xtrain, ytrain)\n",
    "    \n",
    "    yval_hat = weighted_average(theta, xval)\n",
    "    ytest_hat = weighted_average(theta, xtest)\n",
    "    np.save(save_loc + f'/yval_wa_{model_no}', yval_hat)\n",
    "    np.save(save_loc + f'/ytest_wa_{model_no}', ytest_hat)\n",
    "    \n",
    "    #### CNN\n",
    "    xtrain = jnp.moveaxis(xtrain, 1, 3)\n",
    "    xval = jnp.moveaxis(xval, 1, 3)\n",
    "    xtest = jnp.moveaxis(xtest, 1, 3)\n",
    "    key = random.PRNGKey(0)\n",
    "    enc = encoder()\n",
    "    theta = enc.init(key, xtrain[0:5])\n",
    "    opt_init, opt_update = optax.adam(1e-3)\n",
    "    opt_state = opt_init(theta)\n",
    "\n",
    "    for i in trange(2000, leave = False):\n",
    "        idx = np.random.choice(ntrain, 32)\n",
    "        theta, opt_state = optim_update(enc, theta, opt_state, xtrain[idx], ytrain[idx])\n",
    "\n",
    "    yval_hat = enc.apply(theta, xval).squeeze()\n",
    "    ytest_hat = np.vstack([enc.apply(theta, xtest[(30*i):(30*(i+1))]) for i in range(ntest//30 + 1)]).squeeze()\n",
    "    np.save(save_loc + f'/yval_cnn1_{model_no}', yval_hat)\n",
    "    np.save(save_loc + f'/ytest_cnn1_{model_no}', ytest_hat)"
   ]
  },
  {
   "cell_type": "code",
   "execution_count": null,
   "id": "58915a34",
   "metadata": {},
   "outputs": [],
   "source": []
  },
  {
   "cell_type": "code",
   "execution_count": null,
   "id": "8eb76048",
   "metadata": {},
   "outputs": [],
   "source": []
  },
  {
   "cell_type": "markdown",
   "id": "eca2898d",
   "metadata": {},
   "source": [
    "## Max Temp (TASMAX)"
   ]
  },
  {
   "cell_type": "code",
   "execution_count": 13,
   "id": "bd96138c",
   "metadata": {},
   "outputs": [],
   "source": [
    "nproj = 5\n",
    "nval = 200\n",
    "\n",
    "xhist_tas = pickle.load(open('../data/xhist_tasmax_hr.pkl', 'rb'))\n",
    "xrcp_tas = pickle.load(open('../data/xrcp_tasmax_hr.pkl', 'rb'))\n",
    "nmod = xhist_tas.shape[1]\n",
    "nlat = xhist_tas.shape[2]\n",
    "nlon = xhist_tas.shape[3]\n",
    "\n",
    "n = (2015 - 1940) * 12\n",
    "xhist_tas = xhist_tas[-n:]\n",
    "\n",
    "xtrain_orig = np.concatenate([xhist_tas, xrcp_tas[:108]], axis = 0)\n",
    "xtest_orig = xrcp_tas[108:]\n",
    "\n",
    "ntrain = xtrain_orig.shape[0] - nval\n",
    "ntest = xtest_orig.shape[0]\n",
    "\n",
    "save_loc = 'trained_models/tmax'"
   ]
  },
  {
   "cell_type": "code",
   "execution_count": 14,
   "id": "835689a4",
   "metadata": {},
   "outputs": [
    {
     "data": {
      "application/vnd.jupyter.widget-view+json": {
       "model_id": "",
       "version_major": 2,
       "version_minor": 0
      },
      "text/plain": [
       "  0%|          | 0/1008 [00:00<?, ?it/s]"
      ]
     },
     "metadata": {},
     "output_type": "display_data"
    },
    {
     "data": {
      "application/vnd.jupyter.widget-view+json": {
       "model_id": "",
       "version_major": 2,
       "version_minor": 0
      },
      "text/plain": [
       "  0%|          | 0/924 [00:00<?, ?it/s]"
      ]
     },
     "metadata": {},
     "output_type": "display_data"
    }
   ],
   "source": [
    "xtrain_anom, xtest_anom = anomalize(xtrain_orig, xtest_orig)"
   ]
  },
  {
   "cell_type": "code",
   "execution_count": 15,
   "id": "481d61ef",
   "metadata": {},
   "outputs": [
    {
     "data": {
      "application/vnd.jupyter.widget-view+json": {
       "model_id": "f11985f09c0d400295085125daa4aa4b",
       "version_major": 2,
       "version_minor": 0
      },
      "text/plain": [
       "  0%|          | 0/20 [00:00<?, ?it/s]"
      ]
     },
     "metadata": {},
     "output_type": "display_data"
    },
    {
     "data": {
      "application/vnd.jupyter.widget-view+json": {
       "model_id": "",
       "version_major": 2,
       "version_minor": 0
      },
      "text/plain": [
       "  0%|          | 0/20 [00:00<?, ?it/s]"
      ]
     },
     "metadata": {},
     "output_type": "display_data"
    },
    {
     "data": {
      "application/vnd.jupyter.widget-view+json": {
       "model_id": "",
       "version_major": 2,
       "version_minor": 0
      },
      "text/plain": [
       "  0%|          | 0/77 [00:00<?, ?it/s]"
      ]
     },
     "metadata": {},
     "output_type": "display_data"
    },
    {
     "data": {
      "application/vnd.jupyter.widget-view+json": {
       "model_id": "",
       "version_major": 2,
       "version_minor": 0
      },
      "text/plain": [
       "  0%|          | 0/300 [00:00<?, ?it/s]"
      ]
     },
     "metadata": {},
     "output_type": "display_data"
    },
    {
     "data": {
      "application/vnd.jupyter.widget-view+json": {
       "model_id": "",
       "version_major": 2,
       "version_minor": 0
      },
      "text/plain": [
       "  0%|          | 0/1000 [00:00<?, ?it/s]"
      ]
     },
     "metadata": {},
     "output_type": "display_data"
    },
    {
     "data": {
      "application/vnd.jupyter.widget-view+json": {
       "model_id": "",
       "version_major": 2,
       "version_minor": 0
      },
      "text/plain": [
       "  0%|          | 0/2000 [00:00<?, ?it/s]"
      ]
     },
     "metadata": {},
     "output_type": "display_data"
    },
    {
     "data": {
      "application/vnd.jupyter.widget-view+json": {
       "model_id": "",
       "version_major": 2,
       "version_minor": 0
      },
      "text/plain": [
       "  0%|          | 0/20 [00:00<?, ?it/s]"
      ]
     },
     "metadata": {},
     "output_type": "display_data"
    },
    {
     "data": {
      "application/vnd.jupyter.widget-view+json": {
       "model_id": "",
       "version_major": 2,
       "version_minor": 0
      },
      "text/plain": [
       "  0%|          | 0/77 [00:00<?, ?it/s]"
      ]
     },
     "metadata": {},
     "output_type": "display_data"
    },
    {
     "data": {
      "application/vnd.jupyter.widget-view+json": {
       "model_id": "",
       "version_major": 2,
       "version_minor": 0
      },
      "text/plain": [
       "  0%|          | 0/300 [00:00<?, ?it/s]"
      ]
     },
     "metadata": {},
     "output_type": "display_data"
    },
    {
     "data": {
      "application/vnd.jupyter.widget-view+json": {
       "model_id": "",
       "version_major": 2,
       "version_minor": 0
      },
      "text/plain": [
       "  0%|          | 0/1000 [00:00<?, ?it/s]"
      ]
     },
     "metadata": {},
     "output_type": "display_data"
    },
    {
     "data": {
      "application/vnd.jupyter.widget-view+json": {
       "model_id": "",
       "version_major": 2,
       "version_minor": 0
      },
      "text/plain": [
       "  0%|          | 0/2000 [00:00<?, ?it/s]"
      ]
     },
     "metadata": {},
     "output_type": "display_data"
    },
    {
     "data": {
      "application/vnd.jupyter.widget-view+json": {
       "model_id": "",
       "version_major": 2,
       "version_minor": 0
      },
      "text/plain": [
       "  0%|          | 0/20 [00:00<?, ?it/s]"
      ]
     },
     "metadata": {},
     "output_type": "display_data"
    },
    {
     "data": {
      "application/vnd.jupyter.widget-view+json": {
       "model_id": "",
       "version_major": 2,
       "version_minor": 0
      },
      "text/plain": [
       "  0%|          | 0/77 [00:00<?, ?it/s]"
      ]
     },
     "metadata": {},
     "output_type": "display_data"
    },
    {
     "data": {
      "application/vnd.jupyter.widget-view+json": {
       "model_id": "",
       "version_major": 2,
       "version_minor": 0
      },
      "text/plain": [
       "  0%|          | 0/300 [00:00<?, ?it/s]"
      ]
     },
     "metadata": {},
     "output_type": "display_data"
    },
    {
     "data": {
      "application/vnd.jupyter.widget-view+json": {
       "model_id": "",
       "version_major": 2,
       "version_minor": 0
      },
      "text/plain": [
       "  0%|          | 0/1000 [00:00<?, ?it/s]"
      ]
     },
     "metadata": {},
     "output_type": "display_data"
    },
    {
     "data": {
      "application/vnd.jupyter.widget-view+json": {
       "model_id": "",
       "version_major": 2,
       "version_minor": 0
      },
      "text/plain": [
       "  0%|          | 0/2000 [00:00<?, ?it/s]"
      ]
     },
     "metadata": {},
     "output_type": "display_data"
    },
    {
     "data": {
      "application/vnd.jupyter.widget-view+json": {
       "model_id": "",
       "version_major": 2,
       "version_minor": 0
      },
      "text/plain": [
       "  0%|          | 0/20 [00:00<?, ?it/s]"
      ]
     },
     "metadata": {},
     "output_type": "display_data"
    },
    {
     "data": {
      "application/vnd.jupyter.widget-view+json": {
       "model_id": "",
       "version_major": 2,
       "version_minor": 0
      },
      "text/plain": [
       "  0%|          | 0/77 [00:00<?, ?it/s]"
      ]
     },
     "metadata": {},
     "output_type": "display_data"
    },
    {
     "data": {
      "application/vnd.jupyter.widget-view+json": {
       "model_id": "",
       "version_major": 2,
       "version_minor": 0
      },
      "text/plain": [
       "  0%|          | 0/300 [00:00<?, ?it/s]"
      ]
     },
     "metadata": {},
     "output_type": "display_data"
    },
    {
     "data": {
      "application/vnd.jupyter.widget-view+json": {
       "model_id": "",
       "version_major": 2,
       "version_minor": 0
      },
      "text/plain": [
       "  0%|          | 0/1000 [00:00<?, ?it/s]"
      ]
     },
     "metadata": {},
     "output_type": "display_data"
    },
    {
     "data": {
      "application/vnd.jupyter.widget-view+json": {
       "model_id": "",
       "version_major": 2,
       "version_minor": 0
      },
      "text/plain": [
       "  0%|          | 0/2000 [00:00<?, ?it/s]"
      ]
     },
     "metadata": {},
     "output_type": "display_data"
    },
    {
     "data": {
      "application/vnd.jupyter.widget-view+json": {
       "model_id": "",
       "version_major": 2,
       "version_minor": 0
      },
      "text/plain": [
       "  0%|          | 0/20 [00:00<?, ?it/s]"
      ]
     },
     "metadata": {},
     "output_type": "display_data"
    },
    {
     "data": {
      "application/vnd.jupyter.widget-view+json": {
       "model_id": "",
       "version_major": 2,
       "version_minor": 0
      },
      "text/plain": [
       "  0%|          | 0/77 [00:00<?, ?it/s]"
      ]
     },
     "metadata": {},
     "output_type": "display_data"
    },
    {
     "data": {
      "application/vnd.jupyter.widget-view+json": {
       "model_id": "",
       "version_major": 2,
       "version_minor": 0
      },
      "text/plain": [
       "  0%|          | 0/300 [00:00<?, ?it/s]"
      ]
     },
     "metadata": {},
     "output_type": "display_data"
    },
    {
     "data": {
      "application/vnd.jupyter.widget-view+json": {
       "model_id": "",
       "version_major": 2,
       "version_minor": 0
      },
      "text/plain": [
       "  0%|          | 0/1000 [00:00<?, ?it/s]"
      ]
     },
     "metadata": {},
     "output_type": "display_data"
    },
    {
     "data": {
      "application/vnd.jupyter.widget-view+json": {
       "model_id": "",
       "version_major": 2,
       "version_minor": 0
      },
      "text/plain": [
       "  0%|          | 0/2000 [00:00<?, ?it/s]"
      ]
     },
     "metadata": {},
     "output_type": "display_data"
    },
    {
     "data": {
      "application/vnd.jupyter.widget-view+json": {
       "model_id": "",
       "version_major": 2,
       "version_minor": 0
      },
      "text/plain": [
       "  0%|          | 0/20 [00:00<?, ?it/s]"
      ]
     },
     "metadata": {},
     "output_type": "display_data"
    },
    {
     "data": {
      "application/vnd.jupyter.widget-view+json": {
       "model_id": "",
       "version_major": 2,
       "version_minor": 0
      },
      "text/plain": [
       "  0%|          | 0/77 [00:00<?, ?it/s]"
      ]
     },
     "metadata": {},
     "output_type": "display_data"
    },
    {
     "data": {
      "application/vnd.jupyter.widget-view+json": {
       "model_id": "",
       "version_major": 2,
       "version_minor": 0
      },
      "text/plain": [
       "  0%|          | 0/300 [00:00<?, ?it/s]"
      ]
     },
     "metadata": {},
     "output_type": "display_data"
    },
    {
     "data": {
      "application/vnd.jupyter.widget-view+json": {
       "model_id": "",
       "version_major": 2,
       "version_minor": 0
      },
      "text/plain": [
       "  0%|          | 0/1000 [00:00<?, ?it/s]"
      ]
     },
     "metadata": {},
     "output_type": "display_data"
    },
    {
     "data": {
      "application/vnd.jupyter.widget-view+json": {
       "model_id": "",
       "version_major": 2,
       "version_minor": 0
      },
      "text/plain": [
       "  0%|          | 0/2000 [00:00<?, ?it/s]"
      ]
     },
     "metadata": {},
     "output_type": "display_data"
    },
    {
     "data": {
      "application/vnd.jupyter.widget-view+json": {
       "model_id": "",
       "version_major": 2,
       "version_minor": 0
      },
      "text/plain": [
       "  0%|          | 0/20 [00:00<?, ?it/s]"
      ]
     },
     "metadata": {},
     "output_type": "display_data"
    },
    {
     "data": {
      "application/vnd.jupyter.widget-view+json": {
       "model_id": "",
       "version_major": 2,
       "version_minor": 0
      },
      "text/plain": [
       "  0%|          | 0/77 [00:00<?, ?it/s]"
      ]
     },
     "metadata": {},
     "output_type": "display_data"
    },
    {
     "data": {
      "application/vnd.jupyter.widget-view+json": {
       "model_id": "",
       "version_major": 2,
       "version_minor": 0
      },
      "text/plain": [
       "  0%|          | 0/300 [00:00<?, ?it/s]"
      ]
     },
     "metadata": {},
     "output_type": "display_data"
    },
    {
     "data": {
      "application/vnd.jupyter.widget-view+json": {
       "model_id": "",
       "version_major": 2,
       "version_minor": 0
      },
      "text/plain": [
       "  0%|          | 0/1000 [00:00<?, ?it/s]"
      ]
     },
     "metadata": {},
     "output_type": "display_data"
    },
    {
     "data": {
      "application/vnd.jupyter.widget-view+json": {
       "model_id": "",
       "version_major": 2,
       "version_minor": 0
      },
      "text/plain": [
       "  0%|          | 0/2000 [00:00<?, ?it/s]"
      ]
     },
     "metadata": {},
     "output_type": "display_data"
    },
    {
     "data": {
      "application/vnd.jupyter.widget-view+json": {
       "model_id": "",
       "version_major": 2,
       "version_minor": 0
      },
      "text/plain": [
       "  0%|          | 0/20 [00:00<?, ?it/s]"
      ]
     },
     "metadata": {},
     "output_type": "display_data"
    },
    {
     "data": {
      "application/vnd.jupyter.widget-view+json": {
       "model_id": "",
       "version_major": 2,
       "version_minor": 0
      },
      "text/plain": [
       "  0%|          | 0/77 [00:00<?, ?it/s]"
      ]
     },
     "metadata": {},
     "output_type": "display_data"
    },
    {
     "data": {
      "application/vnd.jupyter.widget-view+json": {
       "model_id": "",
       "version_major": 2,
       "version_minor": 0
      },
      "text/plain": [
       "  0%|          | 0/300 [00:00<?, ?it/s]"
      ]
     },
     "metadata": {},
     "output_type": "display_data"
    },
    {
     "data": {
      "application/vnd.jupyter.widget-view+json": {
       "model_id": "",
       "version_major": 2,
       "version_minor": 0
      },
      "text/plain": [
       "  0%|          | 0/1000 [00:00<?, ?it/s]"
      ]
     },
     "metadata": {},
     "output_type": "display_data"
    },
    {
     "data": {
      "application/vnd.jupyter.widget-view+json": {
       "model_id": "",
       "version_major": 2,
       "version_minor": 0
      },
      "text/plain": [
       "  0%|          | 0/2000 [00:00<?, ?it/s]"
      ]
     },
     "metadata": {},
     "output_type": "display_data"
    },
    {
     "data": {
      "application/vnd.jupyter.widget-view+json": {
       "model_id": "",
       "version_major": 2,
       "version_minor": 0
      },
      "text/plain": [
       "  0%|          | 0/20 [00:00<?, ?it/s]"
      ]
     },
     "metadata": {},
     "output_type": "display_data"
    },
    {
     "data": {
      "application/vnd.jupyter.widget-view+json": {
       "model_id": "",
       "version_major": 2,
       "version_minor": 0
      },
      "text/plain": [
       "  0%|          | 0/77 [00:00<?, ?it/s]"
      ]
     },
     "metadata": {},
     "output_type": "display_data"
    },
    {
     "data": {
      "application/vnd.jupyter.widget-view+json": {
       "model_id": "",
       "version_major": 2,
       "version_minor": 0
      },
      "text/plain": [
       "  0%|          | 0/300 [00:00<?, ?it/s]"
      ]
     },
     "metadata": {},
     "output_type": "display_data"
    },
    {
     "data": {
      "application/vnd.jupyter.widget-view+json": {
       "model_id": "",
       "version_major": 2,
       "version_minor": 0
      },
      "text/plain": [
       "  0%|          | 0/1000 [00:00<?, ?it/s]"
      ]
     },
     "metadata": {},
     "output_type": "display_data"
    },
    {
     "data": {
      "application/vnd.jupyter.widget-view+json": {
       "model_id": "",
       "version_major": 2,
       "version_minor": 0
      },
      "text/plain": [
       "  0%|          | 0/2000 [00:00<?, ?it/s]"
      ]
     },
     "metadata": {},
     "output_type": "display_data"
    },
    {
     "data": {
      "application/vnd.jupyter.widget-view+json": {
       "model_id": "",
       "version_major": 2,
       "version_minor": 0
      },
      "text/plain": [
       "  0%|          | 0/20 [00:00<?, ?it/s]"
      ]
     },
     "metadata": {},
     "output_type": "display_data"
    },
    {
     "data": {
      "application/vnd.jupyter.widget-view+json": {
       "model_id": "",
       "version_major": 2,
       "version_minor": 0
      },
      "text/plain": [
       "  0%|          | 0/77 [00:00<?, ?it/s]"
      ]
     },
     "metadata": {},
     "output_type": "display_data"
    },
    {
     "data": {
      "application/vnd.jupyter.widget-view+json": {
       "model_id": "",
       "version_major": 2,
       "version_minor": 0
      },
      "text/plain": [
       "  0%|          | 0/300 [00:00<?, ?it/s]"
      ]
     },
     "metadata": {},
     "output_type": "display_data"
    },
    {
     "data": {
      "application/vnd.jupyter.widget-view+json": {
       "model_id": "",
       "version_major": 2,
       "version_minor": 0
      },
      "text/plain": [
       "  0%|          | 0/1000 [00:00<?, ?it/s]"
      ]
     },
     "metadata": {},
     "output_type": "display_data"
    },
    {
     "data": {
      "application/vnd.jupyter.widget-view+json": {
       "model_id": "",
       "version_major": 2,
       "version_minor": 0
      },
      "text/plain": [
       "  0%|          | 0/2000 [00:00<?, ?it/s]"
      ]
     },
     "metadata": {},
     "output_type": "display_data"
    },
    {
     "data": {
      "application/vnd.jupyter.widget-view+json": {
       "model_id": "",
       "version_major": 2,
       "version_minor": 0
      },
      "text/plain": [
       "  0%|          | 0/20 [00:00<?, ?it/s]"
      ]
     },
     "metadata": {},
     "output_type": "display_data"
    },
    {
     "data": {
      "application/vnd.jupyter.widget-view+json": {
       "model_id": "",
       "version_major": 2,
       "version_minor": 0
      },
      "text/plain": [
       "  0%|          | 0/77 [00:00<?, ?it/s]"
      ]
     },
     "metadata": {},
     "output_type": "display_data"
    },
    {
     "data": {
      "application/vnd.jupyter.widget-view+json": {
       "model_id": "",
       "version_major": 2,
       "version_minor": 0
      },
      "text/plain": [
       "  0%|          | 0/300 [00:00<?, ?it/s]"
      ]
     },
     "metadata": {},
     "output_type": "display_data"
    },
    {
     "data": {
      "application/vnd.jupyter.widget-view+json": {
       "model_id": "",
       "version_major": 2,
       "version_minor": 0
      },
      "text/plain": [
       "  0%|          | 0/1000 [00:00<?, ?it/s]"
      ]
     },
     "metadata": {},
     "output_type": "display_data"
    },
    {
     "data": {
      "application/vnd.jupyter.widget-view+json": {
       "model_id": "",
       "version_major": 2,
       "version_minor": 0
      },
      "text/plain": [
       "  0%|          | 0/2000 [00:00<?, ?it/s]"
      ]
     },
     "metadata": {},
     "output_type": "display_data"
    },
    {
     "data": {
      "application/vnd.jupyter.widget-view+json": {
       "model_id": "",
       "version_major": 2,
       "version_minor": 0
      },
      "text/plain": [
       "  0%|          | 0/20 [00:00<?, ?it/s]"
      ]
     },
     "metadata": {},
     "output_type": "display_data"
    },
    {
     "data": {
      "application/vnd.jupyter.widget-view+json": {
       "model_id": "",
       "version_major": 2,
       "version_minor": 0
      },
      "text/plain": [
       "  0%|          | 0/77 [00:00<?, ?it/s]"
      ]
     },
     "metadata": {},
     "output_type": "display_data"
    },
    {
     "data": {
      "application/vnd.jupyter.widget-view+json": {
       "model_id": "",
       "version_major": 2,
       "version_minor": 0
      },
      "text/plain": [
       "  0%|          | 0/300 [00:00<?, ?it/s]"
      ]
     },
     "metadata": {},
     "output_type": "display_data"
    },
    {
     "data": {
      "application/vnd.jupyter.widget-view+json": {
       "model_id": "",
       "version_major": 2,
       "version_minor": 0
      },
      "text/plain": [
       "  0%|          | 0/1000 [00:00<?, ?it/s]"
      ]
     },
     "metadata": {},
     "output_type": "display_data"
    },
    {
     "data": {
      "application/vnd.jupyter.widget-view+json": {
       "model_id": "",
       "version_major": 2,
       "version_minor": 0
      },
      "text/plain": [
       "  0%|          | 0/2000 [00:00<?, ?it/s]"
      ]
     },
     "metadata": {},
     "output_type": "display_data"
    },
    {
     "data": {
      "application/vnd.jupyter.widget-view+json": {
       "model_id": "",
       "version_major": 2,
       "version_minor": 0
      },
      "text/plain": [
       "  0%|          | 0/20 [00:00<?, ?it/s]"
      ]
     },
     "metadata": {},
     "output_type": "display_data"
    },
    {
     "data": {
      "application/vnd.jupyter.widget-view+json": {
       "model_id": "",
       "version_major": 2,
       "version_minor": 0
      },
      "text/plain": [
       "  0%|          | 0/77 [00:00<?, ?it/s]"
      ]
     },
     "metadata": {},
     "output_type": "display_data"
    },
    {
     "data": {
      "application/vnd.jupyter.widget-view+json": {
       "model_id": "",
       "version_major": 2,
       "version_minor": 0
      },
      "text/plain": [
       "  0%|          | 0/300 [00:00<?, ?it/s]"
      ]
     },
     "metadata": {},
     "output_type": "display_data"
    },
    {
     "data": {
      "application/vnd.jupyter.widget-view+json": {
       "model_id": "",
       "version_major": 2,
       "version_minor": 0
      },
      "text/plain": [
       "  0%|          | 0/1000 [00:00<?, ?it/s]"
      ]
     },
     "metadata": {},
     "output_type": "display_data"
    },
    {
     "data": {
      "application/vnd.jupyter.widget-view+json": {
       "model_id": "",
       "version_major": 2,
       "version_minor": 0
      },
      "text/plain": [
       "  0%|          | 0/2000 [00:00<?, ?it/s]"
      ]
     },
     "metadata": {},
     "output_type": "display_data"
    },
    {
     "data": {
      "application/vnd.jupyter.widget-view+json": {
       "model_id": "",
       "version_major": 2,
       "version_minor": 0
      },
      "text/plain": [
       "  0%|          | 0/20 [00:00<?, ?it/s]"
      ]
     },
     "metadata": {},
     "output_type": "display_data"
    },
    {
     "data": {
      "application/vnd.jupyter.widget-view+json": {
       "model_id": "",
       "version_major": 2,
       "version_minor": 0
      },
      "text/plain": [
       "  0%|          | 0/77 [00:00<?, ?it/s]"
      ]
     },
     "metadata": {},
     "output_type": "display_data"
    },
    {
     "data": {
      "application/vnd.jupyter.widget-view+json": {
       "model_id": "",
       "version_major": 2,
       "version_minor": 0
      },
      "text/plain": [
       "  0%|          | 0/300 [00:00<?, ?it/s]"
      ]
     },
     "metadata": {},
     "output_type": "display_data"
    },
    {
     "data": {
      "application/vnd.jupyter.widget-view+json": {
       "model_id": "",
       "version_major": 2,
       "version_minor": 0
      },
      "text/plain": [
       "  0%|          | 0/1000 [00:00<?, ?it/s]"
      ]
     },
     "metadata": {},
     "output_type": "display_data"
    },
    {
     "data": {
      "application/vnd.jupyter.widget-view+json": {
       "model_id": "",
       "version_major": 2,
       "version_minor": 0
      },
      "text/plain": [
       "  0%|          | 0/2000 [00:00<?, ?it/s]"
      ]
     },
     "metadata": {},
     "output_type": "display_data"
    },
    {
     "data": {
      "application/vnd.jupyter.widget-view+json": {
       "model_id": "",
       "version_major": 2,
       "version_minor": 0
      },
      "text/plain": [
       "  0%|          | 0/20 [00:00<?, ?it/s]"
      ]
     },
     "metadata": {},
     "output_type": "display_data"
    },
    {
     "data": {
      "application/vnd.jupyter.widget-view+json": {
       "model_id": "",
       "version_major": 2,
       "version_minor": 0
      },
      "text/plain": [
       "  0%|          | 0/77 [00:00<?, ?it/s]"
      ]
     },
     "metadata": {},
     "output_type": "display_data"
    },
    {
     "data": {
      "application/vnd.jupyter.widget-view+json": {
       "model_id": "",
       "version_major": 2,
       "version_minor": 0
      },
      "text/plain": [
       "  0%|          | 0/300 [00:00<?, ?it/s]"
      ]
     },
     "metadata": {},
     "output_type": "display_data"
    },
    {
     "data": {
      "application/vnd.jupyter.widget-view+json": {
       "model_id": "",
       "version_major": 2,
       "version_minor": 0
      },
      "text/plain": [
       "  0%|          | 0/1000 [00:00<?, ?it/s]"
      ]
     },
     "metadata": {},
     "output_type": "display_data"
    },
    {
     "data": {
      "application/vnd.jupyter.widget-view+json": {
       "model_id": "",
       "version_major": 2,
       "version_minor": 0
      },
      "text/plain": [
       "  0%|          | 0/2000 [00:00<?, ?it/s]"
      ]
     },
     "metadata": {},
     "output_type": "display_data"
    },
    {
     "data": {
      "application/vnd.jupyter.widget-view+json": {
       "model_id": "",
       "version_major": 2,
       "version_minor": 0
      },
      "text/plain": [
       "  0%|          | 0/20 [00:00<?, ?it/s]"
      ]
     },
     "metadata": {},
     "output_type": "display_data"
    },
    {
     "data": {
      "application/vnd.jupyter.widget-view+json": {
       "model_id": "",
       "version_major": 2,
       "version_minor": 0
      },
      "text/plain": [
       "  0%|          | 0/77 [00:00<?, ?it/s]"
      ]
     },
     "metadata": {},
     "output_type": "display_data"
    },
    {
     "data": {
      "application/vnd.jupyter.widget-view+json": {
       "model_id": "",
       "version_major": 2,
       "version_minor": 0
      },
      "text/plain": [
       "  0%|          | 0/300 [00:00<?, ?it/s]"
      ]
     },
     "metadata": {},
     "output_type": "display_data"
    },
    {
     "data": {
      "application/vnd.jupyter.widget-view+json": {
       "model_id": "",
       "version_major": 2,
       "version_minor": 0
      },
      "text/plain": [
       "  0%|          | 0/1000 [00:00<?, ?it/s]"
      ]
     },
     "metadata": {},
     "output_type": "display_data"
    },
    {
     "data": {
      "application/vnd.jupyter.widget-view+json": {
       "model_id": "",
       "version_major": 2,
       "version_minor": 0
      },
      "text/plain": [
       "  0%|          | 0/2000 [00:00<?, ?it/s]"
      ]
     },
     "metadata": {},
     "output_type": "display_data"
    },
    {
     "data": {
      "application/vnd.jupyter.widget-view+json": {
       "model_id": "",
       "version_major": 2,
       "version_minor": 0
      },
      "text/plain": [
       "  0%|          | 0/20 [00:00<?, ?it/s]"
      ]
     },
     "metadata": {},
     "output_type": "display_data"
    },
    {
     "data": {
      "application/vnd.jupyter.widget-view+json": {
       "model_id": "",
       "version_major": 2,
       "version_minor": 0
      },
      "text/plain": [
       "  0%|          | 0/77 [00:00<?, ?it/s]"
      ]
     },
     "metadata": {},
     "output_type": "display_data"
    },
    {
     "data": {
      "application/vnd.jupyter.widget-view+json": {
       "model_id": "",
       "version_major": 2,
       "version_minor": 0
      },
      "text/plain": [
       "  0%|          | 0/300 [00:00<?, ?it/s]"
      ]
     },
     "metadata": {},
     "output_type": "display_data"
    },
    {
     "data": {
      "application/vnd.jupyter.widget-view+json": {
       "model_id": "",
       "version_major": 2,
       "version_minor": 0
      },
      "text/plain": [
       "  0%|          | 0/1000 [00:00<?, ?it/s]"
      ]
     },
     "metadata": {},
     "output_type": "display_data"
    },
    {
     "data": {
      "application/vnd.jupyter.widget-view+json": {
       "model_id": "",
       "version_major": 2,
       "version_minor": 0
      },
      "text/plain": [
       "  0%|          | 0/2000 [00:00<?, ?it/s]"
      ]
     },
     "metadata": {},
     "output_type": "display_data"
    },
    {
     "data": {
      "application/vnd.jupyter.widget-view+json": {
       "model_id": "",
       "version_major": 2,
       "version_minor": 0
      },
      "text/plain": [
       "  0%|          | 0/20 [00:00<?, ?it/s]"
      ]
     },
     "metadata": {},
     "output_type": "display_data"
    },
    {
     "data": {
      "application/vnd.jupyter.widget-view+json": {
       "model_id": "",
       "version_major": 2,
       "version_minor": 0
      },
      "text/plain": [
       "  0%|          | 0/77 [00:00<?, ?it/s]"
      ]
     },
     "metadata": {},
     "output_type": "display_data"
    },
    {
     "data": {
      "application/vnd.jupyter.widget-view+json": {
       "model_id": "",
       "version_major": 2,
       "version_minor": 0
      },
      "text/plain": [
       "  0%|          | 0/300 [00:00<?, ?it/s]"
      ]
     },
     "metadata": {},
     "output_type": "display_data"
    },
    {
     "data": {
      "application/vnd.jupyter.widget-view+json": {
       "model_id": "",
       "version_major": 2,
       "version_minor": 0
      },
      "text/plain": [
       "  0%|          | 0/1000 [00:00<?, ?it/s]"
      ]
     },
     "metadata": {},
     "output_type": "display_data"
    },
    {
     "data": {
      "application/vnd.jupyter.widget-view+json": {
       "model_id": "",
       "version_major": 2,
       "version_minor": 0
      },
      "text/plain": [
       "  0%|          | 0/2000 [00:00<?, ?it/s]"
      ]
     },
     "metadata": {},
     "output_type": "display_data"
    },
    {
     "data": {
      "application/vnd.jupyter.widget-view+json": {
       "model_id": "",
       "version_major": 2,
       "version_minor": 0
      },
      "text/plain": [
       "  0%|          | 0/20 [00:00<?, ?it/s]"
      ]
     },
     "metadata": {},
     "output_type": "display_data"
    },
    {
     "data": {
      "application/vnd.jupyter.widget-view+json": {
       "model_id": "",
       "version_major": 2,
       "version_minor": 0
      },
      "text/plain": [
       "  0%|          | 0/77 [00:00<?, ?it/s]"
      ]
     },
     "metadata": {},
     "output_type": "display_data"
    },
    {
     "data": {
      "application/vnd.jupyter.widget-view+json": {
       "model_id": "",
       "version_major": 2,
       "version_minor": 0
      },
      "text/plain": [
       "  0%|          | 0/300 [00:00<?, ?it/s]"
      ]
     },
     "metadata": {},
     "output_type": "display_data"
    },
    {
     "data": {
      "application/vnd.jupyter.widget-view+json": {
       "model_id": "",
       "version_major": 2,
       "version_minor": 0
      },
      "text/plain": [
       "  0%|          | 0/1000 [00:00<?, ?it/s]"
      ]
     },
     "metadata": {},
     "output_type": "display_data"
    },
    {
     "data": {
      "application/vnd.jupyter.widget-view+json": {
       "model_id": "",
       "version_major": 2,
       "version_minor": 0
      },
      "text/plain": [
       "  0%|          | 0/2000 [00:00<?, ?it/s]"
      ]
     },
     "metadata": {},
     "output_type": "display_data"
    },
    {
     "data": {
      "application/vnd.jupyter.widget-view+json": {
       "model_id": "",
       "version_major": 2,
       "version_minor": 0
      },
      "text/plain": [
       "  0%|          | 0/20 [00:00<?, ?it/s]"
      ]
     },
     "metadata": {},
     "output_type": "display_data"
    },
    {
     "data": {
      "application/vnd.jupyter.widget-view+json": {
       "model_id": "",
       "version_major": 2,
       "version_minor": 0
      },
      "text/plain": [
       "  0%|          | 0/77 [00:00<?, ?it/s]"
      ]
     },
     "metadata": {},
     "output_type": "display_data"
    },
    {
     "data": {
      "application/vnd.jupyter.widget-view+json": {
       "model_id": "",
       "version_major": 2,
       "version_minor": 0
      },
      "text/plain": [
       "  0%|          | 0/300 [00:00<?, ?it/s]"
      ]
     },
     "metadata": {},
     "output_type": "display_data"
    },
    {
     "data": {
      "application/vnd.jupyter.widget-view+json": {
       "model_id": "",
       "version_major": 2,
       "version_minor": 0
      },
      "text/plain": [
       "  0%|          | 0/1000 [00:00<?, ?it/s]"
      ]
     },
     "metadata": {},
     "output_type": "display_data"
    },
    {
     "data": {
      "application/vnd.jupyter.widget-view+json": {
       "model_id": "",
       "version_major": 2,
       "version_minor": 0
      },
      "text/plain": [
       "  0%|          | 0/2000 [00:00<?, ?it/s]"
      ]
     },
     "metadata": {},
     "output_type": "display_data"
    }
   ],
   "source": [
    "for model_no in trange(nmod):\n",
    "    _data = scale_and_split(xtrain_anom, xtest_anom, model_no = model_no, nval = nval)\n",
    "\n",
    "    xtrain = _data[0]\n",
    "    xval = _data[1]\n",
    "    xtest = _data[2]\n",
    "    ytrain = _data[3]\n",
    "    yval = _data[4]\n",
    "    ytest = _data[5]\n",
    "    xtrain_mean = _data[6]\n",
    "    xtest_mean = _data[7]\n",
    "    xtrain_sd = _data[8]\n",
    "    xtest_sd = _data[9]\n",
    "\n",
    "    ntrain = xtrain.shape[0]\n",
    "    nval = xval.shape[0]\n",
    "    ntest = xtest.shape[0]\n",
    "\n",
    "    del _data\n",
    "\n",
    "    weight = jnp.cos(jnp.linspace(math.pi/2 - 1/nlat, -math.pi/2 + 1/nlat, nlat))\n",
    "    weight = weight / jnp.mean(weight)\n",
    "    weight = weight[None,:,None]\n",
    "    \n",
    "    #### Ens average\n",
    "    yval_hat = np.mean(xval, axis = 1)\n",
    "    ytest_hat = np.mean(xtest, axis = 1)\n",
    "    np.save(save_loc + f'/yval_ens_{model_no}', yval_hat)\n",
    "    np.save(save_loc + f'/ytest_ens_{model_no}', ytest_hat)\n",
    "\n",
    "    #### Delta\n",
    "    yval_hat = jnp.vstack([delta_pred(xval[n:(n+10)], xtrain, ytrain) for n in trange(nval//10, leave = False)])\n",
    "    ytest_hat = jnp.vstack([delta_pred(xtest[n:(n+12)], xtrain, ytrain) for n in trange(ntest//12, leave = False)])\n",
    "    np.save(save_loc + f'/yval_delta_{model_no}', yval_hat)\n",
    "    np.save(save_loc + f'/ytest_delta_{model_no}', ytest_hat)\n",
    "    \n",
    "    #### linear regression\n",
    "    beta = v_ols(xtrain, ytrain)\n",
    "    beta = jnp.nan_to_num(beta)\n",
    "    beta = jnp.moveaxis(beta, (0, 1, 2), (2, 1, 0))\n",
    "    yval_hat = reg_pred(xval, beta)\n",
    "    ytest_hat = reg_pred(xtest, beta)\n",
    "    np.save(save_loc + f'/yval_lm_{model_no}', yval_hat)\n",
    "    np.save(save_loc + f'/ytest_lm_{model_no}', ytest_hat)\n",
    "\n",
    "    #### NNGP\n",
    "    key = random.PRNGKey(1023)\n",
    "    params = nngp_params(key, depth)\n",
    "    for _ in trange(300, leave = False):\n",
    "        params = gradient_step(params, xtrain.reshape(ntrain, -1), ytrain.reshape(ntrain, -1))\n",
    "\n",
    "    yval_hat = nngp_predict(params, xval.reshape(nval, -1), xtrain.reshape(ntrain, -1), ytrain.reshape(ntrain, -1))\n",
    "    ytest_hat = nngp_predict(params, xtest.reshape(ntest, -1), xtrain.reshape(ntrain, -1), ytrain.reshape(ntrain, -1))\n",
    "    yval_hat = yval_hat.reshape(-1, nlat, nlon)\n",
    "    ytest_hat = ytest_hat.reshape(-1, nlat, nlon)\n",
    "    np.save(save_loc + f'/yval_nngp_{model_no}', yval_hat)\n",
    "    np.save(save_loc + f'/ytest_nngp_{model_no}', ytest_hat)\n",
    "    \n",
    "    #### WA\n",
    "    theta = init_wa(xtrain)\n",
    "    opt_init, opt_update = optax.adam(1e-1)\n",
    "    opt_state = opt_init(theta)\n",
    "\n",
    "    for i in trange(1000, leave = False):\n",
    "        theta, opt_state = optim_wa_update(theta, opt_state, xtrain, ytrain)\n",
    "    \n",
    "    yval_hat = weighted_average(theta, xval)\n",
    "    ytest_hat = weighted_average(theta, xtest)\n",
    "    np.save(save_loc + f'/yval_wa_{model_no}', yval_hat)\n",
    "    np.save(save_loc + f'/ytest_wa_{model_no}', ytest_hat)\n",
    "    \n",
    "    #### CNN\n",
    "    xtrain = jnp.moveaxis(xtrain, 1, 3)\n",
    "    xval = jnp.moveaxis(xval, 1, 3)\n",
    "    xtest = jnp.moveaxis(xtest, 1, 3)\n",
    "    key = random.PRNGKey(0)\n",
    "    enc = encoder()\n",
    "    theta = enc.init(key, xtrain[0:5])\n",
    "    opt_init, opt_update = optax.adam(1e-3)\n",
    "    opt_state = opt_init(theta)\n",
    "\n",
    "    for i in trange(2000, leave = False):\n",
    "        idx = np.random.choice(ntrain, 32)\n",
    "        theta, opt_state = optim_update(enc, theta, opt_state, xtrain[idx], ytrain[idx])\n",
    "\n",
    "    yval_hat = enc.apply(theta, xval).squeeze()\n",
    "    ytest_hat = np.vstack([enc.apply(theta, xtest[(30*i):(30*(i+1))]) for i in range(ntest//30 + 1)]).squeeze()\n",
    "    np.save(save_loc + f'/yval_cnn1_{model_no}', yval_hat)\n",
    "    np.save(save_loc + f'/ytest_cnn1_{model_no}', ytest_hat)"
   ]
  },
  {
   "cell_type": "markdown",
   "id": "3394a18a",
   "metadata": {},
   "source": [
    "## Precipitation (PR)"
   ]
  },
  {
   "cell_type": "code",
   "execution_count": 14,
   "id": "c0ed1de2",
   "metadata": {},
   "outputs": [],
   "source": [
    "nproj = 5\n",
    "nval = 200\n",
    "\n",
    "xhist_tas = pickle.load(open('../data/xhist_pr_hr.pkl', 'rb'))\n",
    "xrcp_tas = pickle.load(open('../data/xrcp_pr_hr.pkl', 'rb'))\n",
    "nmod = xhist_tas.shape[1]\n",
    "nlat = xhist_tas.shape[2]\n",
    "nlon = xhist_tas.shape[3]\n",
    "\n",
    "n = (2015 - 1940) * 12\n",
    "xhist_tas = xhist_tas[-n:]\n",
    "\n",
    "xtrain_orig = np.concatenate([xhist_tas, xrcp_tas[:108]], axis = 0)\n",
    "xtest_orig = xrcp_tas[108:]\n",
    "\n",
    "ntrain = xtrain_orig.shape[0] - nval\n",
    "ntest = xtest_orig.shape[0]\n",
    "\n",
    "xtrain_orig = np.log(np.abs(xtrain_orig) + 1e-3)\n",
    "xtest_orig = np.log(np.abs(xtest_orig) + 1e-3)\n",
    "\n",
    "save_loc = 'trained_models/pr'"
   ]
  },
  {
   "cell_type": "code",
   "execution_count": 15,
   "id": "c0a40026",
   "metadata": {},
   "outputs": [
    {
     "data": {
      "application/vnd.jupyter.widget-view+json": {
       "model_id": "",
       "version_major": 2,
       "version_minor": 0
      },
      "text/plain": [
       "  0%|          | 0/1008 [00:00<?, ?it/s]"
      ]
     },
     "metadata": {},
     "output_type": "display_data"
    },
    {
     "data": {
      "application/vnd.jupyter.widget-view+json": {
       "model_id": "",
       "version_major": 2,
       "version_minor": 0
      },
      "text/plain": [
       "  0%|          | 0/912 [00:00<?, ?it/s]"
      ]
     },
     "metadata": {},
     "output_type": "display_data"
    }
   ],
   "source": [
    "xtrain_anom, xtest_anom = anomalize(xtrain_orig, xtest_orig)"
   ]
  },
  {
   "cell_type": "code",
   "execution_count": 16,
   "id": "9c25ef78",
   "metadata": {},
   "outputs": [
    {
     "data": {
      "application/vnd.jupyter.widget-view+json": {
       "model_id": "100ea675f9074c8b980b67587d9c4852",
       "version_major": 2,
       "version_minor": 0
      },
      "text/plain": [
       "  0%|          | 0/12 [00:00<?, ?it/s]"
      ]
     },
     "metadata": {},
     "output_type": "display_data"
    },
    {
     "data": {
      "application/vnd.jupyter.widget-view+json": {
       "model_id": "",
       "version_major": 2,
       "version_minor": 0
      },
      "text/plain": [
       "  0%|          | 0/20 [00:00<?, ?it/s]"
      ]
     },
     "metadata": {},
     "output_type": "display_data"
    },
    {
     "data": {
      "application/vnd.jupyter.widget-view+json": {
       "model_id": "",
       "version_major": 2,
       "version_minor": 0
      },
      "text/plain": [
       "  0%|          | 0/76 [00:00<?, ?it/s]"
      ]
     },
     "metadata": {},
     "output_type": "display_data"
    },
    {
     "data": {
      "application/vnd.jupyter.widget-view+json": {
       "model_id": "",
       "version_major": 2,
       "version_minor": 0
      },
      "text/plain": [
       "  0%|          | 0/300 [00:00<?, ?it/s]"
      ]
     },
     "metadata": {},
     "output_type": "display_data"
    },
    {
     "data": {
      "application/vnd.jupyter.widget-view+json": {
       "model_id": "",
       "version_major": 2,
       "version_minor": 0
      },
      "text/plain": [
       "  0%|          | 0/1000 [00:00<?, ?it/s]"
      ]
     },
     "metadata": {},
     "output_type": "display_data"
    },
    {
     "data": {
      "application/vnd.jupyter.widget-view+json": {
       "model_id": "",
       "version_major": 2,
       "version_minor": 0
      },
      "text/plain": [
       "  0%|          | 0/2000 [00:00<?, ?it/s]"
      ]
     },
     "metadata": {},
     "output_type": "display_data"
    },
    {
     "name": "stderr",
     "output_type": "stream",
     "text": [
      "2024-06-25 09:53:08.868604: W external/tsl/tsl/framework/bfc_allocator.cc:296] Allocator (GPU_0_bfc) ran out of memory trying to allocate 13.92GiB with freed_by_count=0. The caller indicates that this is not a failure, but this may mean that there could be performance gains if more memory were available.\n",
      "2024-06-25 09:53:43.948242: W external/tsl/tsl/framework/bfc_allocator.cc:296] Allocator (GPU_0_bfc) ran out of memory trying to allocate 13.92GiB with freed_by_count=0. The caller indicates that this is not a failure, but this may mean that there could be performance gains if more memory were available.\n"
     ]
    },
    {
     "data": {
      "application/vnd.jupyter.widget-view+json": {
       "model_id": "",
       "version_major": 2,
       "version_minor": 0
      },
      "text/plain": [
       "  0%|          | 0/20 [00:00<?, ?it/s]"
      ]
     },
     "metadata": {},
     "output_type": "display_data"
    },
    {
     "data": {
      "application/vnd.jupyter.widget-view+json": {
       "model_id": "",
       "version_major": 2,
       "version_minor": 0
      },
      "text/plain": [
       "  0%|          | 0/76 [00:00<?, ?it/s]"
      ]
     },
     "metadata": {},
     "output_type": "display_data"
    },
    {
     "data": {
      "application/vnd.jupyter.widget-view+json": {
       "model_id": "",
       "version_major": 2,
       "version_minor": 0
      },
      "text/plain": [
       "  0%|          | 0/300 [00:00<?, ?it/s]"
      ]
     },
     "metadata": {},
     "output_type": "display_data"
    },
    {
     "data": {
      "application/vnd.jupyter.widget-view+json": {
       "model_id": "",
       "version_major": 2,
       "version_minor": 0
      },
      "text/plain": [
       "  0%|          | 0/1000 [00:00<?, ?it/s]"
      ]
     },
     "metadata": {},
     "output_type": "display_data"
    },
    {
     "data": {
      "application/vnd.jupyter.widget-view+json": {
       "model_id": "",
       "version_major": 2,
       "version_minor": 0
      },
      "text/plain": [
       "  0%|          | 0/2000 [00:00<?, ?it/s]"
      ]
     },
     "metadata": {},
     "output_type": "display_data"
    },
    {
     "data": {
      "application/vnd.jupyter.widget-view+json": {
       "model_id": "",
       "version_major": 2,
       "version_minor": 0
      },
      "text/plain": [
       "  0%|          | 0/20 [00:00<?, ?it/s]"
      ]
     },
     "metadata": {},
     "output_type": "display_data"
    },
    {
     "data": {
      "application/vnd.jupyter.widget-view+json": {
       "model_id": "",
       "version_major": 2,
       "version_minor": 0
      },
      "text/plain": [
       "  0%|          | 0/76 [00:00<?, ?it/s]"
      ]
     },
     "metadata": {},
     "output_type": "display_data"
    },
    {
     "data": {
      "application/vnd.jupyter.widget-view+json": {
       "model_id": "",
       "version_major": 2,
       "version_minor": 0
      },
      "text/plain": [
       "  0%|          | 0/300 [00:00<?, ?it/s]"
      ]
     },
     "metadata": {},
     "output_type": "display_data"
    },
    {
     "data": {
      "application/vnd.jupyter.widget-view+json": {
       "model_id": "",
       "version_major": 2,
       "version_minor": 0
      },
      "text/plain": [
       "  0%|          | 0/1000 [00:00<?, ?it/s]"
      ]
     },
     "metadata": {},
     "output_type": "display_data"
    },
    {
     "data": {
      "application/vnd.jupyter.widget-view+json": {
       "model_id": "",
       "version_major": 2,
       "version_minor": 0
      },
      "text/plain": [
       "  0%|          | 0/2000 [00:00<?, ?it/s]"
      ]
     },
     "metadata": {},
     "output_type": "display_data"
    },
    {
     "data": {
      "application/vnd.jupyter.widget-view+json": {
       "model_id": "",
       "version_major": 2,
       "version_minor": 0
      },
      "text/plain": [
       "  0%|          | 0/20 [00:00<?, ?it/s]"
      ]
     },
     "metadata": {},
     "output_type": "display_data"
    },
    {
     "data": {
      "application/vnd.jupyter.widget-view+json": {
       "model_id": "",
       "version_major": 2,
       "version_minor": 0
      },
      "text/plain": [
       "  0%|          | 0/76 [00:00<?, ?it/s]"
      ]
     },
     "metadata": {},
     "output_type": "display_data"
    },
    {
     "data": {
      "application/vnd.jupyter.widget-view+json": {
       "model_id": "",
       "version_major": 2,
       "version_minor": 0
      },
      "text/plain": [
       "  0%|          | 0/300 [00:00<?, ?it/s]"
      ]
     },
     "metadata": {},
     "output_type": "display_data"
    },
    {
     "data": {
      "application/vnd.jupyter.widget-view+json": {
       "model_id": "",
       "version_major": 2,
       "version_minor": 0
      },
      "text/plain": [
       "  0%|          | 0/1000 [00:00<?, ?it/s]"
      ]
     },
     "metadata": {},
     "output_type": "display_data"
    },
    {
     "data": {
      "application/vnd.jupyter.widget-view+json": {
       "model_id": "",
       "version_major": 2,
       "version_minor": 0
      },
      "text/plain": [
       "  0%|          | 0/2000 [00:00<?, ?it/s]"
      ]
     },
     "metadata": {},
     "output_type": "display_data"
    },
    {
     "data": {
      "application/vnd.jupyter.widget-view+json": {
       "model_id": "",
       "version_major": 2,
       "version_minor": 0
      },
      "text/plain": [
       "  0%|          | 0/20 [00:00<?, ?it/s]"
      ]
     },
     "metadata": {},
     "output_type": "display_data"
    },
    {
     "data": {
      "application/vnd.jupyter.widget-view+json": {
       "model_id": "",
       "version_major": 2,
       "version_minor": 0
      },
      "text/plain": [
       "  0%|          | 0/76 [00:00<?, ?it/s]"
      ]
     },
     "metadata": {},
     "output_type": "display_data"
    },
    {
     "data": {
      "application/vnd.jupyter.widget-view+json": {
       "model_id": "",
       "version_major": 2,
       "version_minor": 0
      },
      "text/plain": [
       "  0%|          | 0/300 [00:00<?, ?it/s]"
      ]
     },
     "metadata": {},
     "output_type": "display_data"
    },
    {
     "data": {
      "application/vnd.jupyter.widget-view+json": {
       "model_id": "",
       "version_major": 2,
       "version_minor": 0
      },
      "text/plain": [
       "  0%|          | 0/1000 [00:00<?, ?it/s]"
      ]
     },
     "metadata": {},
     "output_type": "display_data"
    },
    {
     "data": {
      "application/vnd.jupyter.widget-view+json": {
       "model_id": "",
       "version_major": 2,
       "version_minor": 0
      },
      "text/plain": [
       "  0%|          | 0/2000 [00:00<?, ?it/s]"
      ]
     },
     "metadata": {},
     "output_type": "display_data"
    },
    {
     "data": {
      "application/vnd.jupyter.widget-view+json": {
       "model_id": "",
       "version_major": 2,
       "version_minor": 0
      },
      "text/plain": [
       "  0%|          | 0/20 [00:00<?, ?it/s]"
      ]
     },
     "metadata": {},
     "output_type": "display_data"
    },
    {
     "data": {
      "application/vnd.jupyter.widget-view+json": {
       "model_id": "",
       "version_major": 2,
       "version_minor": 0
      },
      "text/plain": [
       "  0%|          | 0/76 [00:00<?, ?it/s]"
      ]
     },
     "metadata": {},
     "output_type": "display_data"
    },
    {
     "data": {
      "application/vnd.jupyter.widget-view+json": {
       "model_id": "",
       "version_major": 2,
       "version_minor": 0
      },
      "text/plain": [
       "  0%|          | 0/300 [00:00<?, ?it/s]"
      ]
     },
     "metadata": {},
     "output_type": "display_data"
    },
    {
     "data": {
      "application/vnd.jupyter.widget-view+json": {
       "model_id": "",
       "version_major": 2,
       "version_minor": 0
      },
      "text/plain": [
       "  0%|          | 0/1000 [00:00<?, ?it/s]"
      ]
     },
     "metadata": {},
     "output_type": "display_data"
    },
    {
     "data": {
      "application/vnd.jupyter.widget-view+json": {
       "model_id": "",
       "version_major": 2,
       "version_minor": 0
      },
      "text/plain": [
       "  0%|          | 0/2000 [00:00<?, ?it/s]"
      ]
     },
     "metadata": {},
     "output_type": "display_data"
    },
    {
     "data": {
      "application/vnd.jupyter.widget-view+json": {
       "model_id": "",
       "version_major": 2,
       "version_minor": 0
      },
      "text/plain": [
       "  0%|          | 0/20 [00:00<?, ?it/s]"
      ]
     },
     "metadata": {},
     "output_type": "display_data"
    },
    {
     "data": {
      "application/vnd.jupyter.widget-view+json": {
       "model_id": "",
       "version_major": 2,
       "version_minor": 0
      },
      "text/plain": [
       "  0%|          | 0/76 [00:00<?, ?it/s]"
      ]
     },
     "metadata": {},
     "output_type": "display_data"
    },
    {
     "data": {
      "application/vnd.jupyter.widget-view+json": {
       "model_id": "",
       "version_major": 2,
       "version_minor": 0
      },
      "text/plain": [
       "  0%|          | 0/300 [00:00<?, ?it/s]"
      ]
     },
     "metadata": {},
     "output_type": "display_data"
    },
    {
     "data": {
      "application/vnd.jupyter.widget-view+json": {
       "model_id": "",
       "version_major": 2,
       "version_minor": 0
      },
      "text/plain": [
       "  0%|          | 0/1000 [00:00<?, ?it/s]"
      ]
     },
     "metadata": {},
     "output_type": "display_data"
    },
    {
     "data": {
      "application/vnd.jupyter.widget-view+json": {
       "model_id": "",
       "version_major": 2,
       "version_minor": 0
      },
      "text/plain": [
       "  0%|          | 0/2000 [00:00<?, ?it/s]"
      ]
     },
     "metadata": {},
     "output_type": "display_data"
    },
    {
     "data": {
      "application/vnd.jupyter.widget-view+json": {
       "model_id": "",
       "version_major": 2,
       "version_minor": 0
      },
      "text/plain": [
       "  0%|          | 0/20 [00:00<?, ?it/s]"
      ]
     },
     "metadata": {},
     "output_type": "display_data"
    },
    {
     "data": {
      "application/vnd.jupyter.widget-view+json": {
       "model_id": "",
       "version_major": 2,
       "version_minor": 0
      },
      "text/plain": [
       "  0%|          | 0/76 [00:00<?, ?it/s]"
      ]
     },
     "metadata": {},
     "output_type": "display_data"
    },
    {
     "data": {
      "application/vnd.jupyter.widget-view+json": {
       "model_id": "",
       "version_major": 2,
       "version_minor": 0
      },
      "text/plain": [
       "  0%|          | 0/300 [00:00<?, ?it/s]"
      ]
     },
     "metadata": {},
     "output_type": "display_data"
    },
    {
     "data": {
      "application/vnd.jupyter.widget-view+json": {
       "model_id": "",
       "version_major": 2,
       "version_minor": 0
      },
      "text/plain": [
       "  0%|          | 0/1000 [00:00<?, ?it/s]"
      ]
     },
     "metadata": {},
     "output_type": "display_data"
    },
    {
     "data": {
      "application/vnd.jupyter.widget-view+json": {
       "model_id": "",
       "version_major": 2,
       "version_minor": 0
      },
      "text/plain": [
       "  0%|          | 0/2000 [00:00<?, ?it/s]"
      ]
     },
     "metadata": {},
     "output_type": "display_data"
    },
    {
     "data": {
      "application/vnd.jupyter.widget-view+json": {
       "model_id": "",
       "version_major": 2,
       "version_minor": 0
      },
      "text/plain": [
       "  0%|          | 0/20 [00:00<?, ?it/s]"
      ]
     },
     "metadata": {},
     "output_type": "display_data"
    },
    {
     "data": {
      "application/vnd.jupyter.widget-view+json": {
       "model_id": "",
       "version_major": 2,
       "version_minor": 0
      },
      "text/plain": [
       "  0%|          | 0/76 [00:00<?, ?it/s]"
      ]
     },
     "metadata": {},
     "output_type": "display_data"
    },
    {
     "data": {
      "application/vnd.jupyter.widget-view+json": {
       "model_id": "",
       "version_major": 2,
       "version_minor": 0
      },
      "text/plain": [
       "  0%|          | 0/300 [00:00<?, ?it/s]"
      ]
     },
     "metadata": {},
     "output_type": "display_data"
    },
    {
     "data": {
      "application/vnd.jupyter.widget-view+json": {
       "model_id": "",
       "version_major": 2,
       "version_minor": 0
      },
      "text/plain": [
       "  0%|          | 0/1000 [00:00<?, ?it/s]"
      ]
     },
     "metadata": {},
     "output_type": "display_data"
    },
    {
     "data": {
      "application/vnd.jupyter.widget-view+json": {
       "model_id": "",
       "version_major": 2,
       "version_minor": 0
      },
      "text/plain": [
       "  0%|          | 0/2000 [00:00<?, ?it/s]"
      ]
     },
     "metadata": {},
     "output_type": "display_data"
    },
    {
     "data": {
      "application/vnd.jupyter.widget-view+json": {
       "model_id": "",
       "version_major": 2,
       "version_minor": 0
      },
      "text/plain": [
       "  0%|          | 0/20 [00:00<?, ?it/s]"
      ]
     },
     "metadata": {},
     "output_type": "display_data"
    },
    {
     "data": {
      "application/vnd.jupyter.widget-view+json": {
       "model_id": "",
       "version_major": 2,
       "version_minor": 0
      },
      "text/plain": [
       "  0%|          | 0/76 [00:00<?, ?it/s]"
      ]
     },
     "metadata": {},
     "output_type": "display_data"
    },
    {
     "data": {
      "application/vnd.jupyter.widget-view+json": {
       "model_id": "",
       "version_major": 2,
       "version_minor": 0
      },
      "text/plain": [
       "  0%|          | 0/300 [00:00<?, ?it/s]"
      ]
     },
     "metadata": {},
     "output_type": "display_data"
    },
    {
     "data": {
      "application/vnd.jupyter.widget-view+json": {
       "model_id": "",
       "version_major": 2,
       "version_minor": 0
      },
      "text/plain": [
       "  0%|          | 0/1000 [00:00<?, ?it/s]"
      ]
     },
     "metadata": {},
     "output_type": "display_data"
    },
    {
     "data": {
      "application/vnd.jupyter.widget-view+json": {
       "model_id": "",
       "version_major": 2,
       "version_minor": 0
      },
      "text/plain": [
       "  0%|          | 0/2000 [00:00<?, ?it/s]"
      ]
     },
     "metadata": {},
     "output_type": "display_data"
    },
    {
     "data": {
      "application/vnd.jupyter.widget-view+json": {
       "model_id": "",
       "version_major": 2,
       "version_minor": 0
      },
      "text/plain": [
       "  0%|          | 0/20 [00:00<?, ?it/s]"
      ]
     },
     "metadata": {},
     "output_type": "display_data"
    },
    {
     "data": {
      "application/vnd.jupyter.widget-view+json": {
       "model_id": "",
       "version_major": 2,
       "version_minor": 0
      },
      "text/plain": [
       "  0%|          | 0/76 [00:00<?, ?it/s]"
      ]
     },
     "metadata": {},
     "output_type": "display_data"
    },
    {
     "data": {
      "application/vnd.jupyter.widget-view+json": {
       "model_id": "",
       "version_major": 2,
       "version_minor": 0
      },
      "text/plain": [
       "  0%|          | 0/300 [00:00<?, ?it/s]"
      ]
     },
     "metadata": {},
     "output_type": "display_data"
    },
    {
     "data": {
      "application/vnd.jupyter.widget-view+json": {
       "model_id": "",
       "version_major": 2,
       "version_minor": 0
      },
      "text/plain": [
       "  0%|          | 0/1000 [00:00<?, ?it/s]"
      ]
     },
     "metadata": {},
     "output_type": "display_data"
    },
    {
     "data": {
      "application/vnd.jupyter.widget-view+json": {
       "model_id": "",
       "version_major": 2,
       "version_minor": 0
      },
      "text/plain": [
       "  0%|          | 0/2000 [00:00<?, ?it/s]"
      ]
     },
     "metadata": {},
     "output_type": "display_data"
    },
    {
     "data": {
      "application/vnd.jupyter.widget-view+json": {
       "model_id": "",
       "version_major": 2,
       "version_minor": 0
      },
      "text/plain": [
       "  0%|          | 0/20 [00:00<?, ?it/s]"
      ]
     },
     "metadata": {},
     "output_type": "display_data"
    },
    {
     "data": {
      "application/vnd.jupyter.widget-view+json": {
       "model_id": "",
       "version_major": 2,
       "version_minor": 0
      },
      "text/plain": [
       "  0%|          | 0/76 [00:00<?, ?it/s]"
      ]
     },
     "metadata": {},
     "output_type": "display_data"
    },
    {
     "data": {
      "application/vnd.jupyter.widget-view+json": {
       "model_id": "",
       "version_major": 2,
       "version_minor": 0
      },
      "text/plain": [
       "  0%|          | 0/300 [00:00<?, ?it/s]"
      ]
     },
     "metadata": {},
     "output_type": "display_data"
    },
    {
     "data": {
      "application/vnd.jupyter.widget-view+json": {
       "model_id": "",
       "version_major": 2,
       "version_minor": 0
      },
      "text/plain": [
       "  0%|          | 0/1000 [00:00<?, ?it/s]"
      ]
     },
     "metadata": {},
     "output_type": "display_data"
    },
    {
     "data": {
      "application/vnd.jupyter.widget-view+json": {
       "model_id": "",
       "version_major": 2,
       "version_minor": 0
      },
      "text/plain": [
       "  0%|          | 0/2000 [00:00<?, ?it/s]"
      ]
     },
     "metadata": {},
     "output_type": "display_data"
    }
   ],
   "source": [
    "for model_no in trange(18, nmod):\n",
    "    _data = scale_and_split(xtrain_anom, xtest_anom, model_no = model_no, nval = nval)\n",
    "\n",
    "    xtrain = _data[0]\n",
    "    xval = _data[1]\n",
    "    xtest = _data[2]\n",
    "    ytrain = _data[3]\n",
    "    yval = _data[4]\n",
    "    ytest = _data[5]\n",
    "    xtrain_mean = _data[6]\n",
    "    xtest_mean = _data[7]\n",
    "    xtrain_sd = _data[8]\n",
    "    xtest_sd = _data[9]\n",
    "\n",
    "    ntrain = xtrain.shape[0]\n",
    "    nval = xval.shape[0]\n",
    "    ntest = xtest.shape[0]\n",
    "\n",
    "    del _data\n",
    "\n",
    "    weight = jnp.cos(jnp.linspace(math.pi/2 - 1/nlat, -math.pi/2 + 1/nlat, nlat))\n",
    "    weight = weight / jnp.mean(weight)\n",
    "    weight = weight[None,:,None]\n",
    "    \n",
    "    #### Ens average\n",
    "    yval_hat = np.mean(xval, axis = 1)\n",
    "    ytest_hat = np.mean(xtest, axis = 1)\n",
    "    np.save(save_loc + f'/yval_ens_{model_no}', yval_hat)\n",
    "    np.save(save_loc + f'/ytest_ens_{model_no}', ytest_hat)\n",
    "\n",
    "    #### Delta\n",
    "    yval_hat = jnp.vstack([delta_pred(xval[n:(n+10)], xtrain, ytrain) for n in trange(nval//10, leave = False)])\n",
    "    ytest_hat = jnp.vstack([delta_pred(xtest[n:(n+12)], xtrain, ytrain) for n in trange(ntest//12, leave = False)])\n",
    "    np.save(save_loc + f'/yval_delta_{model_no}', yval_hat)\n",
    "    np.save(save_loc + f'/ytest_delta_{model_no}', ytest_hat)\n",
    "    \n",
    "    #### linear regression\n",
    "    beta = v_ols(xtrain, ytrain)\n",
    "    beta = jnp.nan_to_num(beta)\n",
    "    beta = jnp.moveaxis(beta, (0, 1, 2), (2, 1, 0))\n",
    "    yval_hat = reg_pred(xval, beta)\n",
    "    ytest_hat = reg_pred(xtest, beta)\n",
    "    np.save(save_loc + f'/yval_lm_{model_no}', yval_hat)\n",
    "    np.save(save_loc + f'/ytest_lm_{model_no}', ytest_hat)\n",
    "\n",
    "    #### NNGP\n",
    "    key = random.PRNGKey(1023)\n",
    "    params = nngp_params(key, depth)\n",
    "    for _ in trange(300, leave = False):\n",
    "        params = gradient_step(params, xtrain.reshape(ntrain, -1), ytrain.reshape(ntrain, -1))\n",
    "\n",
    "    yval_hat = nngp_predict(params, xval.reshape(nval, -1), xtrain.reshape(ntrain, -1), ytrain.reshape(ntrain, -1))\n",
    "    ytest_hat = nngp_predict(params, xtest.reshape(ntest, -1), xtrain.reshape(ntrain, -1), ytrain.reshape(ntrain, -1))\n",
    "    yval_hat = yval_hat.reshape(-1, nlat, nlon)\n",
    "    ytest_hat = ytest_hat.reshape(-1, nlat, nlon)\n",
    "    np.save(save_loc + f'/yval_nngp_{model_no}', yval_hat)\n",
    "    np.save(save_loc + f'/ytest_nngp_{model_no}', ytest_hat)\n",
    "    \n",
    "    #### WA\n",
    "    theta = init_wa(xtrain)\n",
    "    opt_init, opt_update = optax.adam(1e-1)\n",
    "    opt_state = opt_init(theta)\n",
    "\n",
    "    for i in trange(1000, leave = False):\n",
    "        theta, opt_state = optim_wa_update(theta, opt_state, xtrain, ytrain)\n",
    "    \n",
    "    yval_hat = weighted_average(theta, xval)\n",
    "    ytest_hat = weighted_average(theta, xtest)\n",
    "    np.save(save_loc + f'/yval_wa_{model_no}', yval_hat)\n",
    "    np.save(save_loc + f'/ytest_wa_{model_no}', ytest_hat)\n",
    "    \n",
    "    #### CNN\n",
    "    xtrain = jnp.moveaxis(xtrain, 1, 3)\n",
    "    xval = jnp.moveaxis(xval, 1, 3)\n",
    "    xtest = jnp.moveaxis(xtest, 1, 3)\n",
    "    key = random.PRNGKey(0)\n",
    "    enc = encoder()\n",
    "    theta = enc.init(key, xtrain[0:5])\n",
    "    opt_init, opt_update = optax.adam(1e-3)\n",
    "    opt_state = opt_init(theta)\n",
    "\n",
    "    for i in trange(2000, leave = False):\n",
    "        idx = np.random.choice(ntrain, 32)\n",
    "        theta, opt_state = optim_update(enc, theta, opt_state, xtrain[idx], ytrain[idx])\n",
    "\n",
    "    yval_hat = enc.apply(theta, xval).squeeze()\n",
    "    ytest_hat = np.vstack([enc.apply(theta, xtest[(30*i):(30*(i+1))]) for i in range(ntest//30 + 1)]).squeeze()\n",
    "    np.save(save_loc + f'/yval_cnn1_{model_no}', yval_hat)\n",
    "    np.save(save_loc + f'/ytest_cnn1_{model_no}', ytest_hat)"
   ]
  },
  {
   "cell_type": "code",
   "execution_count": null,
   "id": "13957eea",
   "metadata": {},
   "outputs": [],
   "source": []
  },
  {
   "cell_type": "markdown",
   "id": "d93d988e",
   "metadata": {},
   "source": [
    "# Quantile mapping"
   ]
  },
  {
   "cell_type": "code",
   "execution_count": 53,
   "id": "d9e90375",
   "metadata": {},
   "outputs": [],
   "source": [
    "nproj = 5\n",
    "nval = 200\n",
    "\n",
    "xhist_tas = pickle.load(open('../data/xhist_tas_hr.pkl', 'rb'))\n",
    "xrcp_tas = pickle.load(open('../data/xrcp_tas_hr.pkl', 'rb'))\n",
    "\n",
    "# xhist_tas = np.moveaxis(np.array(xhist_tas), 0, 1)\n",
    "# xrcp_tas = np.moveaxis(np.array(xrcp_tas), 0, 1)\n",
    "nmod = xhist_tas.shape[1]\n",
    "\n",
    "n = (2015 - 1940) * 12\n",
    "xhist_tas = xhist_tas[-n:]\n",
    "\n",
    "xtrain_orig = np.concatenate([xhist_tas, xrcp_tas[:108]], axis = 0)\n",
    "xtest_orig = xrcp_tas[108:]\n",
    "\n",
    "ntrain = xtrain_orig.shape[0] - nval\n",
    "ntest = xtest_orig.shape[0]\n",
    "\n",
    "save_loc = 'trained_models/tas'"
   ]
  },
  {
   "cell_type": "code",
   "execution_count": 238,
   "id": "2f161e52",
   "metadata": {},
   "outputs": [],
   "source": [
    "def quantile_interp(model, model_quant, ref_quant):\n",
    "    return jnp.interp(model, model_quant, ref_quant)\n",
    "quantile_interp = vmap(quantile_interp, (1, 1, 1))\n",
    "quantile_interp = vmap(quantile_interp, (1, 1, 1))\n",
    "quantile_interp = jit(quantile_interp)\n",
    "\n",
    "def quantile_map(ref, model, n):\n",
    "    ref_quant = jnp.quantile(ref, jnp.linspace(0, 1, n), axis = 0)\n",
    "    model_quant = jnp.quantile(model, jnp.linspace(0, 1, n), axis = 0)\n",
    "    corrected_model = quantile_interp(model, model_quant, ref_quant)\n",
    "    return jnp.moveaxis(corrected_model, 2, 0)\n",
    "\n",
    "def quantile_map(ref, model_hist, model_future, n):\n",
    "    ref_quant = jnp.quantile(ref, jnp.linspace(0, 1, n), axis = 0)\n",
    "    model_quant = jnp.quantile(model_hist, jnp.linspace(0, 1, n), axis = 0)\n",
    "    corrected_model = quantile_interp(model_future, model_quant, ref_quant)\n",
    "    return jnp.moveaxis(corrected_model, 2, 0)"
   ]
  },
  {
   "cell_type": "code",
   "execution_count": 210,
   "id": "6d627aea",
   "metadata": {},
   "outputs": [],
   "source": [
    "ref = xtrain_orig[:,0]\n",
    "model = xtrain_orig[:,1]\n",
    "\n",
    "n = 20\n",
    "ref_quant = jnp.quantile(ref, jnp.linspace(0, 1, n), axis = 0)\n",
    "model_quant = jnp.quantile(model, jnp.linspace(0, 1, n), axis = 0)"
   ]
  },
  {
   "cell_type": "code",
   "execution_count": 212,
   "id": "d46952be",
   "metadata": {},
   "outputs": [],
   "source": [
    "model_bc = quantile_map(ref, model, 20)"
   ]
  },
  {
   "cell_type": "code",
   "execution_count": 244,
   "id": "2183383b",
   "metadata": {},
   "outputs": [
    {
     "data": {
      "application/vnd.jupyter.widget-view+json": {
       "model_id": "29032156a4f044ecbf94c73eb4c32e11",
       "version_major": 2,
       "version_minor": 0
      },
      "text/plain": [
       "  0%|          | 0/2 [00:00<?, ?it/s]"
      ]
     },
     "metadata": {},
     "output_type": "display_data"
    }
   ],
   "source": [
    "for model_no in trange(2):\n",
    "    xtrain, xval, xtest, ytrain, yval, ytest = scale_and_split(xtrain_orig, xtest_orig, model_no = model_no, nval = nval)"
   ]
  },
  {
   "cell_type": "code",
   "execution_count": 259,
   "id": "4b321a33",
   "metadata": {},
   "outputs": [
    {
     "data": {
      "text/plain": [
       "((1008, 31, 80, 120), (912, 31, 80, 120))"
      ]
     },
     "execution_count": 259,
     "metadata": {},
     "output_type": "execute_result"
    }
   ],
   "source": [
    "xtrain_orig.shape, xtest_orig.shape"
   ]
  },
  {
   "cell_type": "code",
   "execution_count": 260,
   "id": "92e1222b",
   "metadata": {},
   "outputs": [
    {
     "data": {
      "application/vnd.jupyter.widget-view+json": {
       "model_id": "c7e8c7da4ce144e39ed0cde28882bc5e",
       "version_major": 2,
       "version_minor": 0
      },
      "text/plain": [
       "  0%|          | 0/30 [00:00<?, ?it/s]"
      ]
     },
     "metadata": {},
     "output_type": "display_data"
    }
   ],
   "source": [
    "xtest_bc = jnp.array([quantile_map(yval, xval[:,j], xtest[:,j], 20) for j in trange(nmod - 1)])\n",
    "xtest_bc = jnp.moveaxis(xtest_bc, 0, 1)"
   ]
  },
  {
   "cell_type": "code",
   "execution_count": 250,
   "id": "b0efa780",
   "metadata": {},
   "outputs": [],
   "source": [
    "def pointwise_error(y):\n",
    "    return y**2\n",
    "pointwise_error = jit(pointwise_error)\n",
    "\n",
    "def pointwise_sharpness(ensemble):\n",
    "    return jnp.abs(jnp.max(ensemble, axis = 0) - jnp.min(ensemble, axis = 0))\n",
    "single_ens_sharpness = jit(pointwise_sharpness)\n",
    "multi_ens_sharpness = jit(vmap(pointwise_sharpness, 0))\n",
    "\n",
    "def pointwise_crps(ensemble, y): \n",
    "    n = ensemble.shape[0]//2\n",
    "    a = 0.5 * jnp.mean(jnp.abs(ensemble[:n] - ensemble[n:]), axis = 0)\n",
    "    b = jnp.mean(jnp.abs(ensemble - y), axis = 0)\n",
    "    return b - a\n",
    "single_ens_crps = jit(vmap(pointwise_crps, (None, 0)))\n",
    "multi_ens_crps = jit(vmap(pointwise_crps, (0, 0)))\n",
    "\n",
    "def pointwise_pit(ensemble, y):\n",
    "    pit = np.mean(np.array(ensemble[None,:] < y[:,None]).squeeze(), axis = 1)\n",
    "    pit_cdf = np.array([np.mean(pit < x, axis = 0) for x in np.linspace(0, 1, 50)])\n",
    "    uni_cdf = np.linspace(0, 1, 50)[:,None,None]\n",
    "    pit_score = np.mean((pit_cdf - uni_cdf)**2, axis = 0)\n",
    "    dis_score = (1/12 - np.var(pit_cdf, axis = 0))\n",
    "    return pit_score, dis_score\n",
    "\n",
    "def pointwise_pit(ensemble, y):\n",
    "    pit = jnp.mean(jnp.array(ensemble[None,:] < y[:,None]).squeeze(), axis = 1)\n",
    "    pit_cdf = jnp.array([jnp.mean(pit < x, axis = 0) for x in np.linspace(0, 1, 50)])\n",
    "    uni_cdf = jnp.linspace(0, 1, 50)[:,None,None]\n",
    "    pit_score = jnp.mean((pit_cdf - uni_cdf)**2, axis = 0)\n",
    "    return pit_score\n",
    "\n",
    "def metrics(ensemble, y):\n",
    "    ntest = y.shape[0]\n",
    "    nlat = y.shape[1]\n",
    "    w = jnp.cos(jnp.linspace(math.pi/2 - 1/nlat, -math.pi/2 + 1/nlat, nlat))\n",
    "    weight = w / jnp.mean(w)\n",
    "\n",
    "    # rmse\n",
    "    _rmse = pointwise_error(y)\n",
    "    _rmse = jnp.sqrt(jnp.mean(_rmse * weight[None,:,None]))\n",
    "\n",
    "    # crps\n",
    "    if len(ensemble.shape) == 3:\n",
    "        _crps = single_ens_crps(ensemble, y)\n",
    "    else:\n",
    "        _crps = multi_ens_crps(ensemble, y)\n",
    "\n",
    "    _crps = np.mean(_crps * weight[None,:,None])\n",
    "    # PIT\n",
    "    _pit_score = pointwise_pit(ensemble, y)\n",
    "    _pit_score = jnp.mean(_pit_score * weight[:,None])\n",
    "    return _rmse, _crps, _pit_score\n",
    "\n",
    "metrics = jit(metrics)\n",
    "\n",
    "def sw2(x, y, w):\n",
    "    x = x.reshape(-1, nlat*nlon)\n",
    "    y = y.reshape(-1, nlat*nlon)\n",
    "    \n",
    "    x = x @ w.T\n",
    "    y = y @ w.T\n",
    "    \n",
    "    qx = jnp.quantile(x, jnp.linspace(0, 1, 50), axis = 0)\n",
    "    qy = jnp.quantile(y, jnp.linspace(0, 1, 50), axis = 0)\n",
    "    return jnp.mean(jnp.sqrt(jnp.mean((qx - qy)**2, axis = 0)))\n",
    "\n",
    "sw2 = jit(sw2)"
   ]
  },
  {
   "cell_type": "code",
   "execution_count": 248,
   "id": "13f77a67",
   "metadata": {},
   "outputs": [
    {
     "data": {
      "text/plain": [
       "(Array(0.98708157, dtype=float64),\n",
       " Array(0.51559381, dtype=float64),\n",
       " Array(0.05693089, dtype=float64))"
      ]
     },
     "execution_count": 248,
     "metadata": {},
     "output_type": "execute_result"
    }
   ],
   "source": [
    "metrics(xtest, ytest)"
   ]
  },
  {
   "cell_type": "code",
   "execution_count": 249,
   "id": "5f1e6c71",
   "metadata": {},
   "outputs": [
    {
     "data": {
      "text/plain": [
       "(Array(0.98708157, dtype=float64),\n",
       " Array(0.36672001, dtype=float64),\n",
       " Array(0.00603064, dtype=float64))"
      ]
     },
     "execution_count": 249,
     "metadata": {},
     "output_type": "execute_result"
    }
   ],
   "source": [
    "metrics(xtest_bc, ytest)"
   ]
  },
  {
   "cell_type": "code",
   "execution_count": 267,
   "id": "02e0674a",
   "metadata": {},
   "outputs": [],
   "source": [
    "nproj = 6\n",
    "nval = 200\n",
    "\n",
    "xhist_tas = pickle.load(open('../data/xhist_tas_hr.pkl', 'rb'))\n",
    "xrcp_tas = pickle.load(open('../data/xrcp_tas_hr.pkl', 'rb'))\n",
    "nmod = xhist_tas.shape[1]\n",
    "nlat, nlon = xhist_tas[0].shape[1:]\n",
    "\n",
    "n = (2015 - 1940) * 12\n",
    "xhist_tas = xhist_tas[-n:]\n",
    "\n",
    "xtrain_orig = np.concatenate([xhist_tas, xrcp_tas[:108]], axis = 0)\n",
    "xtest_orig = xrcp_tas[108:]\n",
    "\n",
    "ntrain = xtrain_orig.shape[0] - nval\n",
    "ntest = xtest_orig.shape[0]\n",
    "\n",
    "save_loc = 'trained_models/tas'\n",
    "\n",
    "# level = 1 - np.ceil((1-0.1) * (nval + 1))/(nval + 1)\n",
    "alpha = 0.1\n",
    "level = 1 - np.ceil((1 - alpha) * (nval + 1))/(nval + 1)"
   ]
  },
  {
   "cell_type": "code",
   "execution_count": 297,
   "id": "272d9c04",
   "metadata": {},
   "outputs": [
    {
     "data": {
      "application/vnd.jupyter.widget-view+json": {
       "model_id": "42aaa707f06c48cfb00b79410547dbca",
       "version_major": 2,
       "version_minor": 0
      },
      "text/plain": [
       "  0%|          | 0/30 [00:00<?, ?it/s]"
      ]
     },
     "metadata": {},
     "output_type": "display_data"
    }
   ],
   "source": [
    "analysis = ['ens', 'wa', 'delta', 'lm', 'nngp', 'cnn1']\n",
    "results = np.zeros([nmod, 2 * nproj, 4])\n",
    "\n",
    "np.random.seed(0)\n",
    "w = np.random.normal(0,1, [500, nlat*nlon])\n",
    "w = w / np.sqrt(np.sum(w**2, axis = 1))[:,None]\n",
    "\n",
    "model_no = 0\n",
    "k = 8\n",
    "xtrain, xval, xtest, ytrain, yval, ytest = scale_and_split(xtrain_orig, xtest_orig, model_no = model_no, nval = nval)\n",
    "        \n",
    "yval_hat = np.load(save_loc + f'/yval_{analysis[k//2]}_{model_no}.npy')\n",
    "ytest_hat = np.load(save_loc + f'/ytest_{analysis[k//2]}_{model_no}.npy')\n",
    "\n",
    "if analysis[k//2] == 'lm':\n",
    "    yval_hat = np.clip(yval_hat, -3, 3)\n",
    "    ytest_hat = np.clip(ytest_hat, -3, 3)\n",
    "\n",
    "resval = yval - yval_hat.reshape(yval.shape)\n",
    "restest = ytest - ytest_hat.reshape(ytest.shape)\n",
    "# dr1 = global_mmd_self(resval, resval)\n",
    "# q = np.quantile(dr1, level)\n",
    "\n",
    "## IMV\n",
    "imv_ens = np.delete(xtest_orig, model_no, 1)\n",
    "imv_ens = imv_ens - np.mean(imv_ens, axis = 1)[:,None,:,:]\n",
    "\n",
    "bc_ens = jnp.array([quantile_map(xtrain_orig[:,0], xtrain_orig[:,j], xtest_orig[:,j], 20) for j in trange(1, nmod)])\n",
    "bc_ens = jnp.moveaxis(bc_ens, 0, 1)\n",
    "bc_ens = bc_ens - np.mean(bc_ens, axis = 1)[:,None,:,:]"
   ]
  },
  {
   "cell_type": "code",
   "execution_count": 304,
   "id": "1b8b714e",
   "metadata": {},
   "outputs": [
    {
     "data": {
      "application/vnd.jupyter.widget-view+json": {
       "model_id": "50a13f49b88e4192bcd778d3deae37fc",
       "version_major": 2,
       "version_minor": 0
      },
      "text/plain": [
       "  0%|          | 0/30 [00:00<?, ?it/s]"
      ]
     },
     "metadata": {},
     "output_type": "display_data"
    }
   ],
   "source": [
    "imv_ens = xtest\n",
    "imv_ens = imv_ens - np.mean(imv_ens, axis = 1)[:,None,:,:]\n",
    "\n",
    "bc_ens = jnp.array([quantile_map(yval, xval[:,j], xtest[:,j], 20) for j in trange(1, nmod)])\n",
    "bc_ens = jnp.moveaxis(bc_ens, 0, 1)\n",
    "bc_ens = bc_ens - np.mean(bc_ens, axis = 1)[:,None,:,:]"
   ]
  },
  {
   "cell_type": "code",
   "execution_count": 305,
   "id": "b623162f",
   "metadata": {},
   "outputs": [
    {
     "data": {
      "text/plain": [
       "(Array(0.61676607, dtype=float64),\n",
       " Array(0.3380705, dtype=float64),\n",
       " Array(0.01735841, dtype=float64))"
      ]
     },
     "execution_count": 305,
     "metadata": {},
     "output_type": "execute_result"
    }
   ],
   "source": [
    "metrics(imv_ens, restest)"
   ]
  },
  {
   "cell_type": "code",
   "execution_count": 306,
   "id": "f9d5e856",
   "metadata": {},
   "outputs": [
    {
     "data": {
      "text/plain": [
       "(Array(0.61676607, dtype=float64),\n",
       " Array(0.33083619, dtype=float64),\n",
       " Array(0.01340928, dtype=float64))"
      ]
     },
     "execution_count": 306,
     "metadata": {},
     "output_type": "execute_result"
    }
   ],
   "source": [
    "metrics(bc_ens, restest)"
   ]
  },
  {
   "cell_type": "code",
   "execution_count": null,
   "id": "f2fc05f0",
   "metadata": {},
   "outputs": [],
   "source": []
  },
  {
   "cell_type": "code",
   "execution_count": null,
   "id": "18253558",
   "metadata": {},
   "outputs": [],
   "source": []
  },
  {
   "cell_type": "code",
   "execution_count": null,
   "id": "12b2e2be",
   "metadata": {},
   "outputs": [],
   "source": []
  }
 ],
 "metadata": {
  "kernelspec": {
   "display_name": "Python 3 (ipykernel)",
   "language": "python",
   "name": "python3"
  },
  "language_info": {
   "codemirror_mode": {
    "name": "ipython",
    "version": 3
   },
   "file_extension": ".py",
   "mimetype": "text/x-python",
   "name": "python",
   "nbconvert_exporter": "python",
   "pygments_lexer": "ipython3",
   "version": "3.9.12"
  }
 },
 "nbformat": 4,
 "nbformat_minor": 5
}
