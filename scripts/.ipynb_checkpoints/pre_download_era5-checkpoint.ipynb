{
 "cells": [
  {
   "cell_type": "code",
   "execution_count": 1,
   "id": "a2a5a2d7",
   "metadata": {},
   "outputs": [],
   "source": [
    "## operation get more reanalysis data\n",
    "\n",
    "import os\n",
    "import pickle\n",
    "\n",
    "# numpy\n",
    "import numpy as np\n",
    "import numpy.ma as ma\n",
    "\n",
    "from skimage.transform import resize\n",
    "from math import pi\n",
    "\n",
    "# plotting\n",
    "import matplotlib\n",
    "import matplotlib.pyplot as plt\n",
    "plt.style.use('default')\n",
    "\n",
    "# netCDF\n",
    "import netCDF4 as nc\n",
    "\n",
    "from tqdm.notebook import tqdm\n",
    "from tqdm.notebook import trange"
   ]
  },
  {
   "cell_type": "code",
   "execution_count": 2,
   "id": "9ebf2893",
   "metadata": {},
   "outputs": [
    {
     "name": "stdout",
     "output_type": "stream",
     "text": [
      "Collecting cdsapi\n",
      "  Downloading cdsapi-0.6.1.tar.gz (13 kB)\n",
      "Requirement already satisfied: requests>=2.5.0 in /home/trevorh2/anaconda3/lib/python3.9/site-packages (from cdsapi) (2.27.1)\n",
      "Requirement already satisfied: tqdm in /home/trevorh2/anaconda3/lib/python3.9/site-packages (from cdsapi) (4.64.0)\n",
      "Requirement already satisfied: urllib3<1.27,>=1.21.1 in /home/trevorh2/anaconda3/lib/python3.9/site-packages (from requests>=2.5.0->cdsapi) (1.26.9)\n",
      "Requirement already satisfied: idna<4,>=2.5 in /home/trevorh2/anaconda3/lib/python3.9/site-packages (from requests>=2.5.0->cdsapi) (3.3)\n",
      "Requirement already satisfied: charset-normalizer~=2.0.0 in /home/trevorh2/anaconda3/lib/python3.9/site-packages (from requests>=2.5.0->cdsapi) (2.0.4)\n",
      "Requirement already satisfied: certifi>=2017.4.17 in /home/trevorh2/anaconda3/lib/python3.9/site-packages (from requests>=2.5.0->cdsapi) (2021.10.8)\n",
      "Building wheels for collected packages: cdsapi\n",
      "  Building wheel for cdsapi (setup.py) ... \u001b[?25ldone\n",
      "\u001b[?25h  Created wheel for cdsapi: filename=cdsapi-0.6.1-py2.py3-none-any.whl size=12009 sha256=aee20b3a5c0aa4a8af067963979f994f9853141302fa676e948f8a9ab93f1197\n",
      "  Stored in directory: /home/trevorh2/.cache/pip/wheels/4d/b6/82/16fe50c5ba1bc796d79375fabe24c0a5f99340d50fea2bc4bb\n",
      "Successfully built cdsapi\n",
      "Installing collected packages: cdsapi\n",
      "Successfully installed cdsapi-0.6.1\n"
     ]
    }
   ],
   "source": [
    "# !pip install cdsapi"
   ]
  },
  {
   "cell_type": "code",
   "execution_count": 3,
   "id": "1774b6f2",
   "metadata": {},
   "outputs": [
    {
     "name": "stderr",
     "output_type": "stream",
     "text": [
      "2024-04-19 11:20:00,659 INFO Welcome to the CDS\n",
      "2024-04-19 11:20:00,660 INFO Sending request to https://cds.climate.copernicus.eu/api/v2/resources/reanalysis-era5-single-levels-monthly-means\n",
      "2024-04-19 11:20:01,022 INFO Request is completed\n",
      "2024-04-19 11:20:01,023 INFO Downloading https://download-0003-clone.copernicus-climate.eu/cache-compute-0003/cache/data6/adaptor.mars.internal-1713443101.1284378-31960-10-31f3dd9a-49ac-4791-be32-0484b7f29436.nc to download.nc (7.8G)\n",
      "2024-04-19 11:36:14,002 INFO Download rate 8.2M/s      \n"
     ]
    },
    {
     "data": {
      "text/plain": [
       "Result(content_length=8397299232,content_type=application/x-netcdf,location=https://download-0003-clone.copernicus-climate.eu/cache-compute-0003/cache/data6/adaptor.mars.internal-1713443101.1284378-31960-10-31f3dd9a-49ac-4791-be32-0484b7f29436.nc)"
      ]
     },
     "execution_count": 3,
     "metadata": {},
     "output_type": "execute_result"
    }
   ],
   "source": [
    "import cdsapi\n",
    "\n",
    "c = cdsapi.Client()\n",
    "\n",
    "c.retrieve(\n",
    "    'reanalysis-era5-single-levels-monthly-means',\n",
    "    {\n",
    "        'format': 'netcdf',\n",
    "        'variable': [\n",
    "            '2m_temperature', 'total_precipitation',\n",
    "        ],\n",
    "        'year': [\n",
    "            '1940', '1941', '1942',\n",
    "            '1943', '1944', '1945',\n",
    "            '1946', '1947', '1948',\n",
    "            '1949', '1950', '1951',\n",
    "            '1952', '1953', '1954',\n",
    "            '1955', '1956', '1957',\n",
    "            '1958', '1959', '1960',\n",
    "            '1961', '1962', '1963',\n",
    "            '1964', '1965', '1966',\n",
    "            '1967', '1968', '1969',\n",
    "            '1970', '1971', '1972',\n",
    "            '1973', '1974', '1975',\n",
    "            '1976', '1977', '1978',\n",
    "            '1979', '1980', '1981',\n",
    "            '1982', '1983', '1984',\n",
    "            '1985', '1986', '1987',\n",
    "            '1988', '1989', '1990',\n",
    "            '1991', '1992', '1993',\n",
    "            '1994', '1995', '1996',\n",
    "            '1997', '1998', '1999',\n",
    "            '2000', '2001', '2002',\n",
    "            '2003', '2004', '2005',\n",
    "            '2006', '2007', '2008',\n",
    "            '2009', '2010', '2011',\n",
    "            '2012', '2013', '2014',\n",
    "            '2015', '2016', '2017',\n",
    "            '2018', '2019', '2020',\n",
    "            '2021', '2022', '2023',\n",
    "            '2024',\n",
    "        ],\n",
    "        'month': [\n",
    "            '01', '02', '03',\n",
    "            '04', '05', '06',\n",
    "            '07', '08', '09',\n",
    "            '10', '11', '12',\n",
    "        ],\n",
    "        'time': '00:00',\n",
    "        'product_type': 'monthly_averaged_reanalysis',\n",
    "    },\n",
    "    'download.nc')"
   ]
  },
  {
   "cell_type": "code",
   "execution_count": null,
   "id": "06486d07",
   "metadata": {},
   "outputs": [],
   "source": []
  },
  {
   "cell_type": "code",
   "execution_count": 17,
   "id": "8c185049",
   "metadata": {},
   "outputs": [],
   "source": [
    "ncdata = nc.Dataset('./download.nc', \"r\")\n",
    "tas = ncdata.variables['t2m']\n",
    "tas = np.array(tas) - 272.15"
   ]
  },
  {
   "cell_type": "code",
   "execution_count": 18,
   "id": "e371bb38",
   "metadata": {},
   "outputs": [],
   "source": [
    "np.save('../data/tas', tas[:,0])"
   ]
  },
  {
   "cell_type": "code",
   "execution_count": 19,
   "id": "9e1e0bf3",
   "metadata": {},
   "outputs": [],
   "source": [
    "del tas"
   ]
  },
  {
   "cell_type": "code",
   "execution_count": 2,
   "id": "b27fbd1a",
   "metadata": {},
   "outputs": [],
   "source": [
    "ncdata = nc.Dataset('./download.nc', \"r\")\n",
    "pr = ncdata.variables['tp']\n",
    "pr = np.array(pr)\n",
    "pr = pr[:, 0]\n",
    "pr[pr < 1e-16] = 1e-16\n",
    "pr = pr * 1000"
   ]
  },
  {
   "cell_type": "code",
   "execution_count": 9,
   "id": "7ea87508",
   "metadata": {},
   "outputs": [],
   "source": [
    "np.save('../data/pr', pr)"
   ]
  },
  {
   "cell_type": "code",
   "execution_count": 10,
   "id": "c378f467",
   "metadata": {},
   "outputs": [],
   "source": [
    "del pr"
   ]
  },
  {
   "cell_type": "code",
   "execution_count": null,
   "id": "4acca325",
   "metadata": {},
   "outputs": [],
   "source": []
  }
 ],
 "metadata": {
  "kernelspec": {
   "display_name": "Python 3 (ipykernel)",
   "language": "python",
   "name": "python3"
  },
  "language_info": {
   "codemirror_mode": {
    "name": "ipython",
    "version": 3
   },
   "file_extension": ".py",
   "mimetype": "text/x-python",
   "name": "python",
   "nbconvert_exporter": "python",
   "pygments_lexer": "ipython3",
   "version": "3.9.12"
  }
 },
 "nbformat": 4,
 "nbformat_minor": 5
}
