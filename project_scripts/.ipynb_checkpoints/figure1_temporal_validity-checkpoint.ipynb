{
 "cells": [
  {
   "cell_type": "markdown",
   "id": "6d3f97bb",
   "metadata": {},
   "source": [
    "# Validity testing\n",
    "\n",
    "- Models: ensemble average, reliability average, linear regression, delta method, NNGP, CNN\n",
    "- Depths: l2 depth, linf depth, neighbor depth, \n",
    "- Shift: quantile corrected and uncorrected\n",
    "- Variables: WN, TAS, TASMAX, PR"
   ]
  },
  {
   "cell_type": "code",
   "execution_count": 1,
   "id": "9c2bb662",
   "metadata": {},
   "outputs": [],
   "source": [
    "import os\n",
    "import gc\n",
    "import math\n",
    "\n",
    "# numpy\n",
    "import numpy as np\n",
    "import scipy\n",
    "np.set_printoptions(suppress=True)\n",
    "\n",
    "# from jax\n",
    "import jax\n",
    "from jax import jacfwd, jacrev\n",
    "from jax import vmap, grad, jit, random\n",
    "from jax.config import config\n",
    "import jax.numpy as jnp\n",
    "from jax.tree_util import tree_map, tree_flatten, tree_unflatten, tree_leaves\n",
    "\n",
    "import haiku as hk\n",
    "import flax\n",
    "from flax import linen as nn\n",
    "import optax\n",
    "\n",
    "import properscoring as ps\n",
    "\n",
    "config.update(\"jax_enable_x64\", True)\n",
    "\n",
    "# plotting\n",
    "import matplotlib\n",
    "import matplotlib.pyplot as plt\n",
    "from matplotlib import ticker\n",
    "from matplotlib.ticker import FormatStrFormatter\n",
    "plt.style.use('default')\n",
    "\n",
    "from matplotlib.gridspec import GridSpec\n",
    "from matplotlib import colors\n",
    "from matplotlib import cm\n",
    "from matplotlib.colors import ListedColormap, LinearSegmentedColormap\n",
    "\n",
    "from tqdm.notebook import tqdm\n",
    "from tqdm.notebook import trange\n",
    "\n",
    "# netCDF\n",
    "import netCDF4 as nc\n",
    "import pickle\n",
    "import warnings\n",
    "warnings.filterwarnings('ignore')\n",
    "\n",
    "from sklearn.decomposition import PCA"
   ]
  },
  {
   "cell_type": "code",
   "execution_count": 2,
   "id": "53661bf0",
   "metadata": {},
   "outputs": [],
   "source": [
    "def moving_average(a, n=12):\n",
    "    ret = np.cumsum(a, dtype=float)\n",
    "    ret[n:] = ret[n:] - ret[:-n]\n",
    "    return ret[n - 1:] / n\n",
    "\n",
    "def mse_weighted(x, y):\n",
    "    nlat = x.shape[1]\n",
    "    weight = np.cos(np.linspace(math.pi/2 - 1/nlat, -math.pi/2 + 1/nlat, nlat))\n",
    "    weight /= np.mean(weight)\n",
    "    weight = weight[None,:,None]\n",
    "    \n",
    "    return np.sqrt(np.mean((x - y)**2 * weight, axis = (1, 2)))\n",
    "\n",
    "def resize_model(x, dim1, dim2): \n",
    "    x = np.moveaxis(x, 0, 2)\n",
    "    x = resize(x, (dim1, dim2))\n",
    "    x = np.moveaxis(x, 2, 0)\n",
    "    return x\n",
    "\n",
    "def sliced_wasserstein(x, y, w):\n",
    "    x = x @ w\n",
    "    y = y @ w\n",
    "    \n",
    "    qx = jnp.quantile(x, q = jnp.linspace(0, 1, 100), axis = 0)\n",
    "    qy = jnp.quantile(y, q = jnp.linspace(0, 1, 100), axis = 0)\n",
    "    return jnp.mean(jnp.sqrt(jnp.mean((qx - qy)**2, axis = 0)))\n",
    "\n",
    "sliced_wasserstein = jit(sliced_wasserstein)\n",
    "\n",
    "def sigmoid(x):\n",
    "    return 1 / (1 + np.exp(-x))\n",
    "\n",
    "def logit(x):\n",
    "    return np.log(x/(1-x))\n",
    "\n",
    "def softplus(x):\n",
    "    return np.log(1 + np.exp(x))\n",
    "\n",
    "def inv_softplus(x):\n",
    "    return np.log(np.exp(x) - 1)"
   ]
  },
  {
   "cell_type": "code",
   "execution_count": 3,
   "id": "64dda7ec",
   "metadata": {},
   "outputs": [],
   "source": [
    "def width_weighted(x):\n",
    "    nlat = x.shape[1]\n",
    "    weight = jnp.cos(np.linspace(math.pi/2 - 1/nlat, -math.pi/2 + 1/nlat, nlat))\n",
    "    weight2 = weight/jnp.mean(weight)\n",
    "    weight2 = weight2[:,None]\n",
    "    \n",
    "    width = jnp.max(x, axis = 0) - jnp.min(x, axis = 0)\n",
    "    return jnp.mean(width * weight2)\n",
    "\n",
    "width_weighted = jit(width_weighted)"
   ]
  },
  {
   "cell_type": "code",
   "execution_count": 4,
   "id": "ffc3bd74",
   "metadata": {},
   "outputs": [],
   "source": [
    "def scale_and_split(xtrain, xtest, model_no, nval = 200, reshape = False):\n",
    "    ytrain = xtrain[:,model_no]\n",
    "    ytest = xtest[:,model_no]\n",
    "    xtrain = np.delete(xtrain, model_no, axis=1)\n",
    "    xtest = np.delete(xtest, model_no, axis=1)\n",
    "\n",
    "    ## dimensions\n",
    "    ntrain = xtrain.shape[0]\n",
    "    ntest = xtest.shape[0]\n",
    "    nlat = xtrain.shape[2]\n",
    "    nlon = xtrain.shape[3]\n",
    "\n",
    "    ## rescale\n",
    "    xtrain_mean = np.mean(xtrain, axis = 1)\n",
    "    xtest_mean = np.mean(xtest, axis = 1)\n",
    "    xtrain_sd = np.std(xtrain, axis = 1)\n",
    "    xtest_sd = np.std(xtest, axis = 1)\n",
    "\n",
    "    xtrain_scaled = (xtrain - xtrain_mean[:,None]) / xtrain_sd[:,None]\n",
    "    xtest_scaled = (xtest - xtest_mean[:,None]) / xtest_sd[:,None]\n",
    "    ytrain_scaled = (ytrain - xtrain_mean) / xtrain_sd\n",
    "    ytest_scaled = (ytest - xtest_mean) / xtest_sd\n",
    "\n",
    "    ## convert\n",
    "    if reshape:\n",
    "        xtrain_scaled = xtrain_scaled.reshape(ntrain, -1)\n",
    "        xtest_scaled = xtest_scaled.reshape(ntest, -1)\n",
    "        ytrain_scaled = ytrain_scaled.reshape(ntrain, -1)\n",
    "        ytest_scaled = ytest_scaled.reshape(ntest, -1)\n",
    "\n",
    "    xtrain_scaled = jnp.array(xtrain_scaled)\n",
    "    xtest_scaled = jnp.array(xtest_scaled)\n",
    "    ytrain_scaled = jnp.array(ytrain_scaled)\n",
    "    ytest_scaled = jnp.array(ytest_scaled)\n",
    "\n",
    "    xval_scaled = xtrain_scaled[-nval:]\n",
    "    yval_scaled = ytrain_scaled[-nval:]\n",
    "    xtrain_scaled = xtrain_scaled[:-nval]\n",
    "    ytrain_scaled = ytrain_scaled[:-nval]\n",
    "    \n",
    "    return xtrain_scaled, xval_scaled, xtest_scaled, ytrain_scaled, yval_scaled, ytest_scaled"
   ]
  },
  {
   "cell_type": "markdown",
   "id": "0d3bcb4d",
   "metadata": {},
   "source": [
    "## depths"
   ]
  },
  {
   "cell_type": "code",
   "execution_count": 5,
   "id": "2a8e95e8",
   "metadata": {},
   "outputs": [],
   "source": [
    "def inf_depth(y):\n",
    "    dist = jnp.max(jnp.abs(y), axis = (1, 2))\n",
    "    return 1/(1 + dist)\n",
    "inf_depth = jit(inf_depth)\n",
    "\n",
    "def global_mmd(x, y):\n",
    "    dist = jnp.max(jnp.abs(x - y), axis = (1, 2))\n",
    "    dist = jnp.mean(dist)\n",
    "    return 1/(1 + dist)\n",
    "global_mmd = jit(vmap(global_mmd, (None, 0)))\n",
    "\n",
    "def global_mmd_self(x, y):\n",
    "    dist = jnp.max(jnp.abs(x - y), axis = (1, 2))\n",
    "    dist = jnp.mean(jnp.sort(dist)[1:])\n",
    "    return 1/(1 + dist)\n",
    "global_mmd_self = jit(vmap(global_mmd_self, (None, 0)))\n",
    "\n",
    "# def tukey_depth(x, y):\n",
    "#     fx = jnp.mean(x < y, axis = 0)\n",
    "#     depth = 1 - jnp.abs(1 - 2 * fx)\n",
    "#     return jnp.mean(depth)\n",
    "# tukey_depth = jit(vmap(tukey_depth, (None, 0)))"
   ]
  },
  {
   "cell_type": "code",
   "execution_count": 6,
   "id": "6ed6cd3b",
   "metadata": {},
   "outputs": [],
   "source": [
    "def field_min(x, y):\n",
    "    return jnp.min(jnp.array([x, y]))\n",
    "field_min = jit(vmap(vmap(field_min, (0, 0)), (1, 1)))\n",
    "\n",
    "def tukey_depth(x, y):\n",
    "    fx_left = jnp.mean(x < y, axis = 0)\n",
    "    fx_right = jnp.mean(x > y, axis = 0)\n",
    "    return jnp.mean(2 * field_min(fx_left, fx_right))\n",
    "tukey_depth = jit(vmap(tukey_depth, (None, 0)))\n",
    "\n",
    "def tukey_depth_self(x, y):\n",
    "    fx_left = jnp.sum(x < y, axis = 0)/(x.shape[0] - 1)\n",
    "    fx_right = jnp.sum(x > y, axis = 0)/(x.shape[0] - 1)\n",
    "    return jnp.mean(2 * field_min(fx_left, fx_right))\n",
    "tukey_depth_self = jit(vmap(tukey_depth_self, (None, 0)))"
   ]
  },
  {
   "cell_type": "code",
   "execution_count": 7,
   "id": "25fe299e",
   "metadata": {},
   "outputs": [],
   "source": [
    "def field_width(x):\n",
    "    lower = jnp.min(x, axis = 0)\n",
    "    upper = jnp.max(x, axis = 0)\n",
    "    lower = jnp.clip(lower, -5, 5)\n",
    "    upper = jnp.clip(upper, -5, 5)\n",
    "    return jnp.mean(upper - lower)\n",
    "field_width = jit(field_width)"
   ]
  },
  {
   "cell_type": "code",
   "execution_count": null,
   "id": "fd8dbc6d",
   "metadata": {},
   "outputs": [],
   "source": []
  },
  {
   "cell_type": "markdown",
   "id": "51cc2633",
   "metadata": {},
   "source": [
    "## Temperature (TAS)"
   ]
  },
  {
   "cell_type": "code",
   "execution_count": 8,
   "id": "8ba7e7e4",
   "metadata": {},
   "outputs": [],
   "source": [
    "nproj = 6\n",
    "nval = 200\n",
    "\n",
    "xhist_tas = pickle.load(open('../data/xhist_tas_hr.pkl', 'rb'))\n",
    "xrcp_tas = pickle.load(open('../data/xrcp_tas_hr.pkl', 'rb'))\n",
    "nmod = xhist_tas.shape[1]\n",
    "\n",
    "n = (2015 - 1940) * 12\n",
    "xhist_tas = xhist_tas[-n:]\n",
    "\n",
    "xtrain_orig = np.concatenate([xhist_tas, xrcp_tas[:108]], axis = 0)\n",
    "xtest_orig = xrcp_tas[108:]\n",
    "\n",
    "ntrain = xtrain_orig.shape[0] - nval\n",
    "ntest = xtest_orig.shape[0]\n",
    "\n",
    "save_loc = 'trained_models/tas'"
   ]
  },
  {
   "cell_type": "code",
   "execution_count": 9,
   "id": "847f416e",
   "metadata": {},
   "outputs": [
    {
     "data": {
      "application/vnd.jupyter.widget-view+json": {
       "model_id": "d106ff60e79a4a858f9e106fca302614",
       "version_major": 2,
       "version_minor": 0
      },
      "text/plain": [
       "  0%|          | 0/31 [00:00<?, ?it/s]"
      ]
     },
     "metadata": {},
     "output_type": "display_data"
    },
    {
     "data": {
      "application/vnd.jupyter.widget-view+json": {
       "model_id": "",
       "version_major": 2,
       "version_minor": 0
      },
      "text/plain": [
       "  0%|          | 0/6 [00:00<?, ?it/s]"
      ]
     },
     "metadata": {},
     "output_type": "display_data"
    },
    {
     "data": {
      "application/vnd.jupyter.widget-view+json": {
       "model_id": "",
       "version_major": 2,
       "version_minor": 0
      },
      "text/plain": [
       "  0%|          | 0/6 [00:00<?, ?it/s]"
      ]
     },
     "metadata": {},
     "output_type": "display_data"
    },
    {
     "data": {
      "application/vnd.jupyter.widget-view+json": {
       "model_id": "",
       "version_major": 2,
       "version_minor": 0
      },
      "text/plain": [
       "  0%|          | 0/6 [00:00<?, ?it/s]"
      ]
     },
     "metadata": {},
     "output_type": "display_data"
    },
    {
     "data": {
      "application/vnd.jupyter.widget-view+json": {
       "model_id": "",
       "version_major": 2,
       "version_minor": 0
      },
      "text/plain": [
       "  0%|          | 0/6 [00:00<?, ?it/s]"
      ]
     },
     "metadata": {},
     "output_type": "display_data"
    },
    {
     "data": {
      "application/vnd.jupyter.widget-view+json": {
       "model_id": "",
       "version_major": 2,
       "version_minor": 0
      },
      "text/plain": [
       "  0%|          | 0/6 [00:00<?, ?it/s]"
      ]
     },
     "metadata": {},
     "output_type": "display_data"
    },
    {
     "data": {
      "application/vnd.jupyter.widget-view+json": {
       "model_id": "",
       "version_major": 2,
       "version_minor": 0
      },
      "text/plain": [
       "  0%|          | 0/6 [00:00<?, ?it/s]"
      ]
     },
     "metadata": {},
     "output_type": "display_data"
    },
    {
     "data": {
      "application/vnd.jupyter.widget-view+json": {
       "model_id": "",
       "version_major": 2,
       "version_minor": 0
      },
      "text/plain": [
       "  0%|          | 0/6 [00:00<?, ?it/s]"
      ]
     },
     "metadata": {},
     "output_type": "display_data"
    },
    {
     "data": {
      "application/vnd.jupyter.widget-view+json": {
       "model_id": "",
       "version_major": 2,
       "version_minor": 0
      },
      "text/plain": [
       "  0%|          | 0/6 [00:00<?, ?it/s]"
      ]
     },
     "metadata": {},
     "output_type": "display_data"
    },
    {
     "data": {
      "application/vnd.jupyter.widget-view+json": {
       "model_id": "",
       "version_major": 2,
       "version_minor": 0
      },
      "text/plain": [
       "  0%|          | 0/6 [00:00<?, ?it/s]"
      ]
     },
     "metadata": {},
     "output_type": "display_data"
    },
    {
     "data": {
      "application/vnd.jupyter.widget-view+json": {
       "model_id": "",
       "version_major": 2,
       "version_minor": 0
      },
      "text/plain": [
       "  0%|          | 0/6 [00:00<?, ?it/s]"
      ]
     },
     "metadata": {},
     "output_type": "display_data"
    },
    {
     "data": {
      "application/vnd.jupyter.widget-view+json": {
       "model_id": "",
       "version_major": 2,
       "version_minor": 0
      },
      "text/plain": [
       "  0%|          | 0/6 [00:00<?, ?it/s]"
      ]
     },
     "metadata": {},
     "output_type": "display_data"
    },
    {
     "data": {
      "application/vnd.jupyter.widget-view+json": {
       "model_id": "",
       "version_major": 2,
       "version_minor": 0
      },
      "text/plain": [
       "  0%|          | 0/6 [00:00<?, ?it/s]"
      ]
     },
     "metadata": {},
     "output_type": "display_data"
    },
    {
     "data": {
      "application/vnd.jupyter.widget-view+json": {
       "model_id": "",
       "version_major": 2,
       "version_minor": 0
      },
      "text/plain": [
       "  0%|          | 0/6 [00:00<?, ?it/s]"
      ]
     },
     "metadata": {},
     "output_type": "display_data"
    },
    {
     "data": {
      "application/vnd.jupyter.widget-view+json": {
       "model_id": "",
       "version_major": 2,
       "version_minor": 0
      },
      "text/plain": [
       "  0%|          | 0/6 [00:00<?, ?it/s]"
      ]
     },
     "metadata": {},
     "output_type": "display_data"
    },
    {
     "data": {
      "application/vnd.jupyter.widget-view+json": {
       "model_id": "",
       "version_major": 2,
       "version_minor": 0
      },
      "text/plain": [
       "  0%|          | 0/6 [00:00<?, ?it/s]"
      ]
     },
     "metadata": {},
     "output_type": "display_data"
    },
    {
     "data": {
      "application/vnd.jupyter.widget-view+json": {
       "model_id": "",
       "version_major": 2,
       "version_minor": 0
      },
      "text/plain": [
       "  0%|          | 0/6 [00:00<?, ?it/s]"
      ]
     },
     "metadata": {},
     "output_type": "display_data"
    },
    {
     "data": {
      "application/vnd.jupyter.widget-view+json": {
       "model_id": "",
       "version_major": 2,
       "version_minor": 0
      },
      "text/plain": [
       "  0%|          | 0/6 [00:00<?, ?it/s]"
      ]
     },
     "metadata": {},
     "output_type": "display_data"
    },
    {
     "data": {
      "application/vnd.jupyter.widget-view+json": {
       "model_id": "",
       "version_major": 2,
       "version_minor": 0
      },
      "text/plain": [
       "  0%|          | 0/6 [00:00<?, ?it/s]"
      ]
     },
     "metadata": {},
     "output_type": "display_data"
    },
    {
     "data": {
      "application/vnd.jupyter.widget-view+json": {
       "model_id": "",
       "version_major": 2,
       "version_minor": 0
      },
      "text/plain": [
       "  0%|          | 0/6 [00:00<?, ?it/s]"
      ]
     },
     "metadata": {},
     "output_type": "display_data"
    },
    {
     "data": {
      "application/vnd.jupyter.widget-view+json": {
       "model_id": "",
       "version_major": 2,
       "version_minor": 0
      },
      "text/plain": [
       "  0%|          | 0/6 [00:00<?, ?it/s]"
      ]
     },
     "metadata": {},
     "output_type": "display_data"
    },
    {
     "data": {
      "application/vnd.jupyter.widget-view+json": {
       "model_id": "",
       "version_major": 2,
       "version_minor": 0
      },
      "text/plain": [
       "  0%|          | 0/6 [00:00<?, ?it/s]"
      ]
     },
     "metadata": {},
     "output_type": "display_data"
    },
    {
     "data": {
      "application/vnd.jupyter.widget-view+json": {
       "model_id": "",
       "version_major": 2,
       "version_minor": 0
      },
      "text/plain": [
       "  0%|          | 0/6 [00:00<?, ?it/s]"
      ]
     },
     "metadata": {},
     "output_type": "display_data"
    },
    {
     "data": {
      "application/vnd.jupyter.widget-view+json": {
       "model_id": "",
       "version_major": 2,
       "version_minor": 0
      },
      "text/plain": [
       "  0%|          | 0/6 [00:00<?, ?it/s]"
      ]
     },
     "metadata": {},
     "output_type": "display_data"
    },
    {
     "data": {
      "application/vnd.jupyter.widget-view+json": {
       "model_id": "",
       "version_major": 2,
       "version_minor": 0
      },
      "text/plain": [
       "  0%|          | 0/6 [00:00<?, ?it/s]"
      ]
     },
     "metadata": {},
     "output_type": "display_data"
    },
    {
     "data": {
      "application/vnd.jupyter.widget-view+json": {
       "model_id": "",
       "version_major": 2,
       "version_minor": 0
      },
      "text/plain": [
       "  0%|          | 0/6 [00:00<?, ?it/s]"
      ]
     },
     "metadata": {},
     "output_type": "display_data"
    },
    {
     "data": {
      "application/vnd.jupyter.widget-view+json": {
       "model_id": "",
       "version_major": 2,
       "version_minor": 0
      },
      "text/plain": [
       "  0%|          | 0/6 [00:00<?, ?it/s]"
      ]
     },
     "metadata": {},
     "output_type": "display_data"
    },
    {
     "data": {
      "application/vnd.jupyter.widget-view+json": {
       "model_id": "",
       "version_major": 2,
       "version_minor": 0
      },
      "text/plain": [
       "  0%|          | 0/6 [00:00<?, ?it/s]"
      ]
     },
     "metadata": {},
     "output_type": "display_data"
    },
    {
     "data": {
      "application/vnd.jupyter.widget-view+json": {
       "model_id": "",
       "version_major": 2,
       "version_minor": 0
      },
      "text/plain": [
       "  0%|          | 0/6 [00:00<?, ?it/s]"
      ]
     },
     "metadata": {},
     "output_type": "display_data"
    },
    {
     "data": {
      "application/vnd.jupyter.widget-view+json": {
       "model_id": "",
       "version_major": 2,
       "version_minor": 0
      },
      "text/plain": [
       "  0%|          | 0/6 [00:00<?, ?it/s]"
      ]
     },
     "metadata": {},
     "output_type": "display_data"
    },
    {
     "data": {
      "application/vnd.jupyter.widget-view+json": {
       "model_id": "",
       "version_major": 2,
       "version_minor": 0
      },
      "text/plain": [
       "  0%|          | 0/6 [00:00<?, ?it/s]"
      ]
     },
     "metadata": {},
     "output_type": "display_data"
    },
    {
     "data": {
      "application/vnd.jupyter.widget-view+json": {
       "model_id": "",
       "version_major": 2,
       "version_minor": 0
      },
      "text/plain": [
       "  0%|          | 0/6 [00:00<?, ?it/s]"
      ]
     },
     "metadata": {},
     "output_type": "display_data"
    }
   ],
   "source": [
    "analysis = ['ens', 'wa', 'delta', 'lm', 'nngp', 'cnn1']\n",
    "alpha = 0.1\n",
    "\n",
    "cover1 = np.zeros((nmod, nproj, 8))\n",
    "cover2 = np.zeros((nmod, nproj, 8))\n",
    "cover3 = np.zeros((nmod, nproj, 8))\n",
    "\n",
    "level = np.ceil((1 - alpha) * (nval + 1))/(nval + 1)\n",
    "\n",
    "\n",
    "for model_no in trange(nmod):\n",
    "    xtrain, xval, xtest, ytrain, yval, ytest = scale_and_split(xtrain_orig, xtest_orig, model_no = model_no, nval = nval)\n",
    "    \n",
    "    for k in trange(nproj, leave = False):\n",
    "        \n",
    "        yval_hat = np.load(save_loc + f'/yval_{analysis[k]}_{model_no}.npy')\n",
    "        ytest_hat = np.load(save_loc + f'/ytest_{analysis[k]}_{model_no}.npy')\n",
    "        \n",
    "        if analysis[k] == 'lm':\n",
    "            yval_hat = np.clip(yval_hat, -3, 3)\n",
    "            ytest_hat = np.clip(ytest_hat, -3, 3)\n",
    "        \n",
    "        resval = yval - yval_hat.reshape(yval.shape)\n",
    "        restest = ytest - ytest_hat.reshape(ytest.shape)\n",
    "\n",
    "        \n",
    "        dr1a, dr1b = 1-global_mmd_self(resval, resval), 1-global_mmd(resval, restest)\n",
    "        dr2a, dr2b = 1-inf_depth(resval), 1-inf_depth(restest)\n",
    "        dr3a, dr3b = 1-tukey_depth_self(resval, resval), 1-tukey_depth(resval, restest)\n",
    "        \n",
    "        q1 = np.sort(dr1a)[int(np.ceil((1 - alpha) * (nval + 1)))]\n",
    "        q2 = np.sort(dr2a)[int(np.ceil((1 - alpha) * (nval + 1)))]\n",
    "        q3 = np.sort(dr3a)[int(np.ceil((1 - alpha) * (nval + 1)))]\n",
    "        \n",
    "        q1 = (q1 + np.quantile(dr1a, level))/2\n",
    "        q2 = (q2 + np.quantile(dr2a, level))/2\n",
    "        q3 = (q3 + np.quantile(dr3a, level))/2\n",
    "        \n",
    "        cover1[model_no,k] = np.array([np.mean(dr1b[(120*i):(120*(i+1))] < q1) for i in range(8)])\n",
    "        cover2[model_no,k] = np.array([np.mean(dr2b[(120*i):(120*(i+1))] < q2) for i in range(8)])\n",
    "        cover3[model_no,k] = np.array([np.mean(dr3b[(120*i):(120*(i+1))] < q3) for i in range(8)])\n",
    "    "
   ]
  },
  {
   "cell_type": "code",
   "execution_count": 10,
   "id": "981e1488",
   "metadata": {},
   "outputs": [],
   "source": [
    "# plt.plot(np.median(cover1, axis = 0).T, c = 'C0')\n",
    "# plt.plot(np.median(cover2, axis = 0).T, c = 'C1')\n",
    "# plt.plot(np.median(cover3, axis = 0).T, c = 'C2')"
   ]
  },
  {
   "cell_type": "code",
   "execution_count": 11,
   "id": "4c43bfae",
   "metadata": {},
   "outputs": [],
   "source": [
    "tas_mean_cover1 = np.median(cover1, axis = 0).T\n",
    "tas_sd_cover1 = np.std(cover1, axis = 0).T/np.sqrt(cover1.shape[0])\n",
    "tas_lower_cover1 = tas_mean_cover1 - 2 * tas_sd_cover1\n",
    "tas_upper_cover1 = tas_mean_cover1 + 2 * tas_sd_cover1\n",
    "\n",
    "tas_mean_cover2 = np.median(cover2, axis = 0).T\n",
    "tas_sd_cover2 = np.std(cover2, axis = 0).T/np.sqrt(cover2.shape[0])\n",
    "tas_lower_cover2 = tas_mean_cover2 - 2 * tas_sd_cover2\n",
    "tas_upper_cover2 = tas_mean_cover2 + 2 * tas_sd_cover2\n",
    "\n",
    "tas_mean_cover3 = np.median(cover3, axis = 0).T\n",
    "tas_sd_cover3 = np.std(cover3, axis = 0).T/np.sqrt(cover3.shape[0])\n",
    "tas_lower_cover3 = tas_mean_cover3 - 2 * tas_sd_cover3\n",
    "tas_upper_cover3 = tas_mean_cover3 + 2 * tas_sd_cover3\n",
    "\n",
    "# s = np.arange(8)\n",
    "# for i in range(nproj):\n",
    "#     plt.fill_between(s, lower_cover1[:,i], upper_cover1[:,i], alpha = 0.07, color = 'C0')\n",
    "#     plt.plot(mean_cover1, c = 'C0')\n",
    "    \n",
    "#     plt.fill_between(s, lower_cover2[:,i], upper_cover2[:,i], alpha = 0.07, color = 'C1')\n",
    "#     plt.plot(mean_cover2, c = 'C1')    \n",
    "    \n",
    "# #     plt.fill_between(s, lower_cover3[:,i], upper_cover3[:,i], alpha = 0.07, color = 'C3')\n",
    "# #     plt.plot(mean_cover3, c = 'C3')\n",
    "    \n",
    "# plt.axhline(0.9, c='black')\n",
    "# # # ax[i].set_xticks(s, years, fontsize = 16, rotation=45)"
   ]
  },
  {
   "cell_type": "markdown",
   "id": "4ef0ae3c",
   "metadata": {},
   "source": [
    "## Temperature max (tmax)"
   ]
  },
  {
   "cell_type": "code",
   "execution_count": 12,
   "id": "736116ad",
   "metadata": {},
   "outputs": [],
   "source": [
    "nproj = 6\n",
    "nval = 200\n",
    "\n",
    "xhist_tas = pickle.load(open('../data/xhist_tasmax_hr.pkl', 'rb'))\n",
    "xrcp_tas = pickle.load(open('../data/xrcp_tasmax_hr.pkl', 'rb'))\n",
    "nmod = xhist_tas.shape[1]\n",
    "\n",
    "n = (2015 - 1940) * 12\n",
    "xhist_tas = xhist_tas[-n:]\n",
    "\n",
    "xtrain_orig = np.concatenate([xhist_tas, xrcp_tas[:108]], axis = 0)\n",
    "xtest_orig = xrcp_tas[108:]\n",
    "\n",
    "ntrain = xtrain_orig.shape[0] - nval\n",
    "ntest = xtest_orig.shape[0]\n",
    "\n",
    "save_loc = 'trained_models/tmax'"
   ]
  },
  {
   "cell_type": "code",
   "execution_count": 13,
   "id": "4f6ad7cb",
   "metadata": {},
   "outputs": [
    {
     "data": {
      "application/vnd.jupyter.widget-view+json": {
       "model_id": "7062c7549dd74bf0b3f6c39cea767979",
       "version_major": 2,
       "version_minor": 0
      },
      "text/plain": [
       "  0%|          | 0/20 [00:00<?, ?it/s]"
      ]
     },
     "metadata": {},
     "output_type": "display_data"
    },
    {
     "data": {
      "application/vnd.jupyter.widget-view+json": {
       "model_id": "",
       "version_major": 2,
       "version_minor": 0
      },
      "text/plain": [
       "  0%|          | 0/6 [00:00<?, ?it/s]"
      ]
     },
     "metadata": {},
     "output_type": "display_data"
    },
    {
     "data": {
      "application/vnd.jupyter.widget-view+json": {
       "model_id": "",
       "version_major": 2,
       "version_minor": 0
      },
      "text/plain": [
       "  0%|          | 0/6 [00:00<?, ?it/s]"
      ]
     },
     "metadata": {},
     "output_type": "display_data"
    },
    {
     "data": {
      "application/vnd.jupyter.widget-view+json": {
       "model_id": "",
       "version_major": 2,
       "version_minor": 0
      },
      "text/plain": [
       "  0%|          | 0/6 [00:00<?, ?it/s]"
      ]
     },
     "metadata": {},
     "output_type": "display_data"
    },
    {
     "data": {
      "application/vnd.jupyter.widget-view+json": {
       "model_id": "",
       "version_major": 2,
       "version_minor": 0
      },
      "text/plain": [
       "  0%|          | 0/6 [00:00<?, ?it/s]"
      ]
     },
     "metadata": {},
     "output_type": "display_data"
    },
    {
     "data": {
      "application/vnd.jupyter.widget-view+json": {
       "model_id": "",
       "version_major": 2,
       "version_minor": 0
      },
      "text/plain": [
       "  0%|          | 0/6 [00:00<?, ?it/s]"
      ]
     },
     "metadata": {},
     "output_type": "display_data"
    },
    {
     "data": {
      "application/vnd.jupyter.widget-view+json": {
       "model_id": "",
       "version_major": 2,
       "version_minor": 0
      },
      "text/plain": [
       "  0%|          | 0/6 [00:00<?, ?it/s]"
      ]
     },
     "metadata": {},
     "output_type": "display_data"
    },
    {
     "data": {
      "application/vnd.jupyter.widget-view+json": {
       "model_id": "",
       "version_major": 2,
       "version_minor": 0
      },
      "text/plain": [
       "  0%|          | 0/6 [00:00<?, ?it/s]"
      ]
     },
     "metadata": {},
     "output_type": "display_data"
    },
    {
     "data": {
      "application/vnd.jupyter.widget-view+json": {
       "model_id": "",
       "version_major": 2,
       "version_minor": 0
      },
      "text/plain": [
       "  0%|          | 0/6 [00:00<?, ?it/s]"
      ]
     },
     "metadata": {},
     "output_type": "display_data"
    },
    {
     "data": {
      "application/vnd.jupyter.widget-view+json": {
       "model_id": "",
       "version_major": 2,
       "version_minor": 0
      },
      "text/plain": [
       "  0%|          | 0/6 [00:00<?, ?it/s]"
      ]
     },
     "metadata": {},
     "output_type": "display_data"
    },
    {
     "data": {
      "application/vnd.jupyter.widget-view+json": {
       "model_id": "",
       "version_major": 2,
       "version_minor": 0
      },
      "text/plain": [
       "  0%|          | 0/6 [00:00<?, ?it/s]"
      ]
     },
     "metadata": {},
     "output_type": "display_data"
    },
    {
     "data": {
      "application/vnd.jupyter.widget-view+json": {
       "model_id": "",
       "version_major": 2,
       "version_minor": 0
      },
      "text/plain": [
       "  0%|          | 0/6 [00:00<?, ?it/s]"
      ]
     },
     "metadata": {},
     "output_type": "display_data"
    },
    {
     "data": {
      "application/vnd.jupyter.widget-view+json": {
       "model_id": "",
       "version_major": 2,
       "version_minor": 0
      },
      "text/plain": [
       "  0%|          | 0/6 [00:00<?, ?it/s]"
      ]
     },
     "metadata": {},
     "output_type": "display_data"
    },
    {
     "data": {
      "application/vnd.jupyter.widget-view+json": {
       "model_id": "",
       "version_major": 2,
       "version_minor": 0
      },
      "text/plain": [
       "  0%|          | 0/6 [00:00<?, ?it/s]"
      ]
     },
     "metadata": {},
     "output_type": "display_data"
    },
    {
     "data": {
      "application/vnd.jupyter.widget-view+json": {
       "model_id": "",
       "version_major": 2,
       "version_minor": 0
      },
      "text/plain": [
       "  0%|          | 0/6 [00:00<?, ?it/s]"
      ]
     },
     "metadata": {},
     "output_type": "display_data"
    },
    {
     "data": {
      "application/vnd.jupyter.widget-view+json": {
       "model_id": "",
       "version_major": 2,
       "version_minor": 0
      },
      "text/plain": [
       "  0%|          | 0/6 [00:00<?, ?it/s]"
      ]
     },
     "metadata": {},
     "output_type": "display_data"
    },
    {
     "data": {
      "application/vnd.jupyter.widget-view+json": {
       "model_id": "",
       "version_major": 2,
       "version_minor": 0
      },
      "text/plain": [
       "  0%|          | 0/6 [00:00<?, ?it/s]"
      ]
     },
     "metadata": {},
     "output_type": "display_data"
    },
    {
     "data": {
      "application/vnd.jupyter.widget-view+json": {
       "model_id": "",
       "version_major": 2,
       "version_minor": 0
      },
      "text/plain": [
       "  0%|          | 0/6 [00:00<?, ?it/s]"
      ]
     },
     "metadata": {},
     "output_type": "display_data"
    },
    {
     "data": {
      "application/vnd.jupyter.widget-view+json": {
       "model_id": "",
       "version_major": 2,
       "version_minor": 0
      },
      "text/plain": [
       "  0%|          | 0/6 [00:00<?, ?it/s]"
      ]
     },
     "metadata": {},
     "output_type": "display_data"
    },
    {
     "data": {
      "application/vnd.jupyter.widget-view+json": {
       "model_id": "",
       "version_major": 2,
       "version_minor": 0
      },
      "text/plain": [
       "  0%|          | 0/6 [00:00<?, ?it/s]"
      ]
     },
     "metadata": {},
     "output_type": "display_data"
    },
    {
     "data": {
      "application/vnd.jupyter.widget-view+json": {
       "model_id": "",
       "version_major": 2,
       "version_minor": 0
      },
      "text/plain": [
       "  0%|          | 0/6 [00:00<?, ?it/s]"
      ]
     },
     "metadata": {},
     "output_type": "display_data"
    }
   ],
   "source": [
    "analysis = ['ens', 'wa', 'delta', 'lm', 'nngp', 'cnn1']\n",
    "alpha = 0.1\n",
    "\n",
    "cover1 = np.zeros((nmod, nproj, 8))\n",
    "cover2 = np.zeros((nmod, nproj, 8))\n",
    "cover3 = np.zeros((nmod, nproj, 8))\n",
    "\n",
    "level = np.ceil((1 - alpha) * (nval + 1))/(nval + 1)\n",
    "\n",
    "\n",
    "for model_no in trange(nmod):\n",
    "    xtrain, xval, xtest, ytrain, yval, ytest = scale_and_split(xtrain_orig, xtest_orig, model_no = model_no, nval = nval)\n",
    "    \n",
    "    for k in trange(nproj, leave = False):\n",
    "        \n",
    "        yval_hat = np.load(save_loc + f'/yval_{analysis[k]}_{model_no}.npy')\n",
    "        ytest_hat = np.load(save_loc + f'/ytest_{analysis[k]}_{model_no}.npy')\n",
    "        \n",
    "        if analysis[k] == 'lm':\n",
    "            yval_hat = np.clip(yval_hat, -3, 3)\n",
    "            ytest_hat = np.clip(ytest_hat, -3, 3)\n",
    "        \n",
    "        resval = yval - yval_hat.reshape(yval.shape)\n",
    "        restest = ytest - ytest_hat.reshape(ytest.shape)\n",
    "\n",
    "        \n",
    "        dr1a, dr1b = 1-global_mmd_self(resval, resval), 1-global_mmd(resval, restest)\n",
    "        dr2a, dr2b = 1-inf_depth(resval), 1-inf_depth(restest)\n",
    "        dr3a, dr3b = 1-tukey_depth_self(resval, resval), 1-tukey_depth(resval, restest)\n",
    "        \n",
    "        q1 = np.sort(dr1a)[int(np.ceil((1 - alpha) * (nval + 1)))]\n",
    "        q2 = np.sort(dr2a)[int(np.ceil((1 - alpha) * (nval + 1)))]\n",
    "        q3 = np.sort(dr3a)[int(np.ceil((1 - alpha) * (nval + 1)))]\n",
    "        \n",
    "        q1 = (q1 + np.quantile(dr1a, level))/2\n",
    "        q2 = (q2 + np.quantile(dr2a, level))/2\n",
    "        q3 = (q3 + np.quantile(dr3a, level))/2\n",
    "        \n",
    "        cover1[model_no,k] = np.array([np.mean(dr1b[(120*i):(120*(i+1))] < q1) for i in range(8)])\n",
    "        cover2[model_no,k] = np.array([np.mean(dr2b[(120*i):(120*(i+1))] < q2) for i in range(8)])\n",
    "        cover3[model_no,k] = np.array([np.mean(dr3b[(120*i):(120*(i+1))] < q3) for i in range(8)])\n",
    "    "
   ]
  },
  {
   "cell_type": "code",
   "execution_count": 14,
   "id": "005201d5",
   "metadata": {},
   "outputs": [],
   "source": [
    "tmax_mean_cover1 = np.median(cover1, axis = 0).T\n",
    "tmax_sd_cover1 = np.std(cover1, axis = 0).T/np.sqrt(cover1.shape[0])\n",
    "tmax_lower_cover1 = tmax_mean_cover1 - 2 * tmax_sd_cover1\n",
    "tmax_upper_cover1 = tmax_mean_cover1 + 2 * tmax_sd_cover1\n",
    "\n",
    "tmax_mean_cover2 = np.median(cover2, axis = 0).T\n",
    "tmax_sd_cover2 = np.std(cover2, axis = 0).T/np.sqrt(cover2.shape[0])\n",
    "tmax_lower_cover2 = tmax_mean_cover2 - 2 * tmax_sd_cover2\n",
    "tmax_upper_cover2 = tmax_mean_cover2 + 2 * tmax_sd_cover2\n",
    "\n",
    "tmax_mean_cover3 = np.median(cover3, axis = 0).T\n",
    "tmax_sd_cover3 = np.std(cover3, axis = 0).T/np.sqrt(cover3.shape[0])\n",
    "tmax_lower_cover3 = tmax_mean_cover3 - 2 * tmax_sd_cover3\n",
    "tmax_upper_cover3 = tmax_mean_cover3 + 2 * tmax_sd_cover3"
   ]
  },
  {
   "cell_type": "markdown",
   "id": "d2a7bc62",
   "metadata": {},
   "source": [
    "## Precipitation (pr)"
   ]
  },
  {
   "cell_type": "code",
   "execution_count": 15,
   "id": "6238e786",
   "metadata": {},
   "outputs": [],
   "source": [
    "nproj = 6\n",
    "nval = 200\n",
    "\n",
    "xhist_tas = pickle.load(open('../data/xhist_pr_hr.pkl', 'rb'))\n",
    "xrcp_tas = pickle.load(open('../data/xrcp_pr_hr.pkl', 'rb'))\n",
    "nmod = xhist_tas.shape[1]\n",
    "\n",
    "n = (2015 - 1940) * 12\n",
    "xhist_tas = xhist_tas[-n:]\n",
    "\n",
    "xtrain_orig = np.concatenate([xhist_tas, xrcp_tas[:108]], axis = 0)\n",
    "xtest_orig = xrcp_tas[108:]\n",
    "\n",
    "ntrain = xtrain_orig.shape[0] - nval\n",
    "ntest = xtest_orig.shape[0]\n",
    "\n",
    "xtrain_orig = np.log(np.abs(xtrain_orig) + 1e-3)\n",
    "xtest_orig = np.log(np.abs(xtest_orig) + 1e-3)\n",
    "\n",
    "save_loc = 'trained_models/pr'"
   ]
  },
  {
   "cell_type": "code",
   "execution_count": 16,
   "id": "a6cdde6a",
   "metadata": {},
   "outputs": [
    {
     "data": {
      "application/vnd.jupyter.widget-view+json": {
       "model_id": "6b5266771beb4a0e80a04cc3a5a7dce3",
       "version_major": 2,
       "version_minor": 0
      },
      "text/plain": [
       "  0%|          | 0/30 [00:00<?, ?it/s]"
      ]
     },
     "metadata": {},
     "output_type": "display_data"
    },
    {
     "data": {
      "application/vnd.jupyter.widget-view+json": {
       "model_id": "",
       "version_major": 2,
       "version_minor": 0
      },
      "text/plain": [
       "  0%|          | 0/6 [00:00<?, ?it/s]"
      ]
     },
     "metadata": {},
     "output_type": "display_data"
    },
    {
     "data": {
      "application/vnd.jupyter.widget-view+json": {
       "model_id": "",
       "version_major": 2,
       "version_minor": 0
      },
      "text/plain": [
       "  0%|          | 0/6 [00:00<?, ?it/s]"
      ]
     },
     "metadata": {},
     "output_type": "display_data"
    },
    {
     "data": {
      "application/vnd.jupyter.widget-view+json": {
       "model_id": "",
       "version_major": 2,
       "version_minor": 0
      },
      "text/plain": [
       "  0%|          | 0/6 [00:00<?, ?it/s]"
      ]
     },
     "metadata": {},
     "output_type": "display_data"
    },
    {
     "data": {
      "application/vnd.jupyter.widget-view+json": {
       "model_id": "",
       "version_major": 2,
       "version_minor": 0
      },
      "text/plain": [
       "  0%|          | 0/6 [00:00<?, ?it/s]"
      ]
     },
     "metadata": {},
     "output_type": "display_data"
    },
    {
     "data": {
      "application/vnd.jupyter.widget-view+json": {
       "model_id": "",
       "version_major": 2,
       "version_minor": 0
      },
      "text/plain": [
       "  0%|          | 0/6 [00:00<?, ?it/s]"
      ]
     },
     "metadata": {},
     "output_type": "display_data"
    },
    {
     "data": {
      "application/vnd.jupyter.widget-view+json": {
       "model_id": "",
       "version_major": 2,
       "version_minor": 0
      },
      "text/plain": [
       "  0%|          | 0/6 [00:00<?, ?it/s]"
      ]
     },
     "metadata": {},
     "output_type": "display_data"
    },
    {
     "data": {
      "application/vnd.jupyter.widget-view+json": {
       "model_id": "",
       "version_major": 2,
       "version_minor": 0
      },
      "text/plain": [
       "  0%|          | 0/6 [00:00<?, ?it/s]"
      ]
     },
     "metadata": {},
     "output_type": "display_data"
    },
    {
     "data": {
      "application/vnd.jupyter.widget-view+json": {
       "model_id": "",
       "version_major": 2,
       "version_minor": 0
      },
      "text/plain": [
       "  0%|          | 0/6 [00:00<?, ?it/s]"
      ]
     },
     "metadata": {},
     "output_type": "display_data"
    },
    {
     "data": {
      "application/vnd.jupyter.widget-view+json": {
       "model_id": "",
       "version_major": 2,
       "version_minor": 0
      },
      "text/plain": [
       "  0%|          | 0/6 [00:00<?, ?it/s]"
      ]
     },
     "metadata": {},
     "output_type": "display_data"
    },
    {
     "data": {
      "application/vnd.jupyter.widget-view+json": {
       "model_id": "",
       "version_major": 2,
       "version_minor": 0
      },
      "text/plain": [
       "  0%|          | 0/6 [00:00<?, ?it/s]"
      ]
     },
     "metadata": {},
     "output_type": "display_data"
    },
    {
     "data": {
      "application/vnd.jupyter.widget-view+json": {
       "model_id": "",
       "version_major": 2,
       "version_minor": 0
      },
      "text/plain": [
       "  0%|          | 0/6 [00:00<?, ?it/s]"
      ]
     },
     "metadata": {},
     "output_type": "display_data"
    },
    {
     "data": {
      "application/vnd.jupyter.widget-view+json": {
       "model_id": "",
       "version_major": 2,
       "version_minor": 0
      },
      "text/plain": [
       "  0%|          | 0/6 [00:00<?, ?it/s]"
      ]
     },
     "metadata": {},
     "output_type": "display_data"
    },
    {
     "data": {
      "application/vnd.jupyter.widget-view+json": {
       "model_id": "",
       "version_major": 2,
       "version_minor": 0
      },
      "text/plain": [
       "  0%|          | 0/6 [00:00<?, ?it/s]"
      ]
     },
     "metadata": {},
     "output_type": "display_data"
    },
    {
     "data": {
      "application/vnd.jupyter.widget-view+json": {
       "model_id": "",
       "version_major": 2,
       "version_minor": 0
      },
      "text/plain": [
       "  0%|          | 0/6 [00:00<?, ?it/s]"
      ]
     },
     "metadata": {},
     "output_type": "display_data"
    },
    {
     "data": {
      "application/vnd.jupyter.widget-view+json": {
       "model_id": "",
       "version_major": 2,
       "version_minor": 0
      },
      "text/plain": [
       "  0%|          | 0/6 [00:00<?, ?it/s]"
      ]
     },
     "metadata": {},
     "output_type": "display_data"
    },
    {
     "data": {
      "application/vnd.jupyter.widget-view+json": {
       "model_id": "",
       "version_major": 2,
       "version_minor": 0
      },
      "text/plain": [
       "  0%|          | 0/6 [00:00<?, ?it/s]"
      ]
     },
     "metadata": {},
     "output_type": "display_data"
    },
    {
     "data": {
      "application/vnd.jupyter.widget-view+json": {
       "model_id": "",
       "version_major": 2,
       "version_minor": 0
      },
      "text/plain": [
       "  0%|          | 0/6 [00:00<?, ?it/s]"
      ]
     },
     "metadata": {},
     "output_type": "display_data"
    },
    {
     "data": {
      "application/vnd.jupyter.widget-view+json": {
       "model_id": "",
       "version_major": 2,
       "version_minor": 0
      },
      "text/plain": [
       "  0%|          | 0/6 [00:00<?, ?it/s]"
      ]
     },
     "metadata": {},
     "output_type": "display_data"
    },
    {
     "data": {
      "application/vnd.jupyter.widget-view+json": {
       "model_id": "",
       "version_major": 2,
       "version_minor": 0
      },
      "text/plain": [
       "  0%|          | 0/6 [00:00<?, ?it/s]"
      ]
     },
     "metadata": {},
     "output_type": "display_data"
    },
    {
     "data": {
      "application/vnd.jupyter.widget-view+json": {
       "model_id": "",
       "version_major": 2,
       "version_minor": 0
      },
      "text/plain": [
       "  0%|          | 0/6 [00:00<?, ?it/s]"
      ]
     },
     "metadata": {},
     "output_type": "display_data"
    },
    {
     "data": {
      "application/vnd.jupyter.widget-view+json": {
       "model_id": "",
       "version_major": 2,
       "version_minor": 0
      },
      "text/plain": [
       "  0%|          | 0/6 [00:00<?, ?it/s]"
      ]
     },
     "metadata": {},
     "output_type": "display_data"
    },
    {
     "data": {
      "application/vnd.jupyter.widget-view+json": {
       "model_id": "",
       "version_major": 2,
       "version_minor": 0
      },
      "text/plain": [
       "  0%|          | 0/6 [00:00<?, ?it/s]"
      ]
     },
     "metadata": {},
     "output_type": "display_data"
    },
    {
     "data": {
      "application/vnd.jupyter.widget-view+json": {
       "model_id": "",
       "version_major": 2,
       "version_minor": 0
      },
      "text/plain": [
       "  0%|          | 0/6 [00:00<?, ?it/s]"
      ]
     },
     "metadata": {},
     "output_type": "display_data"
    },
    {
     "data": {
      "application/vnd.jupyter.widget-view+json": {
       "model_id": "",
       "version_major": 2,
       "version_minor": 0
      },
      "text/plain": [
       "  0%|          | 0/6 [00:00<?, ?it/s]"
      ]
     },
     "metadata": {},
     "output_type": "display_data"
    },
    {
     "data": {
      "application/vnd.jupyter.widget-view+json": {
       "model_id": "",
       "version_major": 2,
       "version_minor": 0
      },
      "text/plain": [
       "  0%|          | 0/6 [00:00<?, ?it/s]"
      ]
     },
     "metadata": {},
     "output_type": "display_data"
    },
    {
     "data": {
      "application/vnd.jupyter.widget-view+json": {
       "model_id": "",
       "version_major": 2,
       "version_minor": 0
      },
      "text/plain": [
       "  0%|          | 0/6 [00:00<?, ?it/s]"
      ]
     },
     "metadata": {},
     "output_type": "display_data"
    },
    {
     "data": {
      "application/vnd.jupyter.widget-view+json": {
       "model_id": "",
       "version_major": 2,
       "version_minor": 0
      },
      "text/plain": [
       "  0%|          | 0/6 [00:00<?, ?it/s]"
      ]
     },
     "metadata": {},
     "output_type": "display_data"
    },
    {
     "data": {
      "application/vnd.jupyter.widget-view+json": {
       "model_id": "",
       "version_major": 2,
       "version_minor": 0
      },
      "text/plain": [
       "  0%|          | 0/6 [00:00<?, ?it/s]"
      ]
     },
     "metadata": {},
     "output_type": "display_data"
    },
    {
     "data": {
      "application/vnd.jupyter.widget-view+json": {
       "model_id": "",
       "version_major": 2,
       "version_minor": 0
      },
      "text/plain": [
       "  0%|          | 0/6 [00:00<?, ?it/s]"
      ]
     },
     "metadata": {},
     "output_type": "display_data"
    },
    {
     "data": {
      "application/vnd.jupyter.widget-view+json": {
       "model_id": "",
       "version_major": 2,
       "version_minor": 0
      },
      "text/plain": [
       "  0%|          | 0/6 [00:00<?, ?it/s]"
      ]
     },
     "metadata": {},
     "output_type": "display_data"
    }
   ],
   "source": [
    "analysis = ['ens', 'wa', 'delta', 'lm', 'nngp', 'cnn1']\n",
    "alpha = 0.1\n",
    "\n",
    "cover1 = np.zeros((nmod, nproj, 8))\n",
    "cover2 = np.zeros((nmod, nproj, 8))\n",
    "cover3 = np.zeros((nmod, nproj, 8))\n",
    "\n",
    "level = np.ceil((1 - alpha) * (nval + 1))/(nval + 1)\n",
    "\n",
    "\n",
    "for model_no in trange(nmod):\n",
    "    xtrain, xval, xtest, ytrain, yval, ytest = scale_and_split(xtrain_orig, xtest_orig, model_no = model_no, nval = nval)\n",
    "    \n",
    "    for k in trange(nproj, leave = False):\n",
    "        \n",
    "        yval_hat = np.load(save_loc + f'/yval_{analysis[k]}_{model_no}.npy')\n",
    "        ytest_hat = np.load(save_loc + f'/ytest_{analysis[k]}_{model_no}.npy')\n",
    "        \n",
    "        if analysis[k] == 'lm':\n",
    "            yval_hat = np.clip(yval_hat, -3, 3)\n",
    "            ytest_hat = np.clip(ytest_hat, -3, 3)\n",
    "        \n",
    "        resval = yval - yval_hat.reshape(yval.shape)\n",
    "        restest = ytest - ytest_hat.reshape(ytest.shape)\n",
    "\n",
    "        \n",
    "        dr1a, dr1b = 1-global_mmd_self(resval, resval), 1-global_mmd(resval, restest)\n",
    "        dr2a, dr2b = 1-inf_depth(resval), 1-inf_depth(restest)\n",
    "        dr3a, dr3b = 1-tukey_depth_self(resval, resval), 1-tukey_depth(resval, restest)\n",
    "        \n",
    "        q1 = np.sort(dr1a)[int(np.ceil((1 - alpha) * (nval + 1)))]\n",
    "        q2 = np.sort(dr2a)[int(np.ceil((1 - alpha) * (nval + 1)))]\n",
    "        q3 = np.sort(dr3a)[int(np.ceil((1 - alpha) * (nval + 1)))]\n",
    "        \n",
    "        q1 = (q1 + np.quantile(dr1a, level))/2\n",
    "        q2 = (q2 + np.quantile(dr2a, level))/2\n",
    "        q3 = (q3 + np.quantile(dr3a, level))/2\n",
    "        \n",
    "        cover1[model_no,k] = np.array([np.mean(dr1b[(120*i):(120*(i+1))] < q1) for i in range(8)])\n",
    "        cover2[model_no,k] = np.array([np.mean(dr2b[(120*i):(120*(i+1))] < q2) for i in range(8)])\n",
    "        cover3[model_no,k] = np.array([np.mean(dr3b[(120*i):(120*(i+1))] < q3) for i in range(8)])"
   ]
  },
  {
   "cell_type": "code",
   "execution_count": 17,
   "id": "e607212b",
   "metadata": {},
   "outputs": [],
   "source": [
    "pr_mean_cover1 = np.median(cover1, axis = 0).T\n",
    "pr_sd_cover1 = np.std(cover1, axis = 0).T/np.sqrt(cover1.shape[0])\n",
    "pr_lower_cover1 = pr_mean_cover1 - 2 * pr_sd_cover1\n",
    "pr_upper_cover1 = pr_mean_cover1 + 2 * pr_sd_cover1\n",
    "\n",
    "pr_mean_cover2 = np.median(cover2, axis = 0).T\n",
    "pr_sd_cover2 = np.std(cover2, axis = 0).T/np.sqrt(cover2.shape[0])\n",
    "pr_lower_cover2 = pr_mean_cover2 - 2 * pr_sd_cover2\n",
    "pr_upper_cover2 = pr_mean_cover2 + 2 * pr_sd_cover2\n",
    "\n",
    "pr_mean_cover3 = np.median(cover3, axis = 0).T\n",
    "pr_sd_cover3 = np.std(cover3, axis = 0).T/np.sqrt(cover3.shape[0])\n",
    "pr_lower_cover3 = pr_mean_cover3 - 2 * pr_sd_cover3\n",
    "pr_upper_cover3 = pr_mean_cover3 + 2 * pr_sd_cover3"
   ]
  },
  {
   "cell_type": "code",
   "execution_count": 18,
   "id": "ed01e9d4",
   "metadata": {},
   "outputs": [],
   "source": [
    "mean_cover1  = [tas_mean_cover1, tmax_mean_cover1, pr_mean_cover1]\n",
    "sd_cover1    = [tas_sd_cover1, tmax_sd_cover1, pr_sd_cover1]\n",
    "lower_cover1 = [tas_lower_cover1, tmax_lower_cover1, pr_lower_cover1]\n",
    "upper_cover1 = [tas_upper_cover1, tmax_upper_cover1, pr_upper_cover1]\n",
    "\n",
    "mean_cover2  = [tas_mean_cover2, tmax_mean_cover2, pr_mean_cover2]\n",
    "sd_cover2    = [tas_sd_cover2, tmax_sd_cover2, pr_sd_cover2]\n",
    "lower_cover2 = [tas_lower_cover2, tmax_lower_cover2, pr_lower_cover2]\n",
    "upper_cover2 = [tas_upper_cover2, tmax_upper_cover2, pr_upper_cover2]\n",
    "\n",
    "mean_cover3  = [tas_mean_cover3, tmax_mean_cover3, pr_mean_cover3]\n",
    "sd_cover3    = [tas_sd_cover3, tmax_sd_cover3, pr_sd_cover3]\n",
    "lower_cover3 = [tas_lower_cover3, tmax_lower_cover3, pr_lower_cover3]\n",
    "upper_cover3 = [tas_upper_cover3, tmax_upper_cover3, pr_upper_cover3]"
   ]
  },
  {
   "cell_type": "code",
   "execution_count": 37,
   "id": "ad1d547c",
   "metadata": {},
   "outputs": [
    {
     "data": {
      "application/vnd.jupyter.widget-view+json": {
       "model_id": "",
       "version_major": 2,
       "version_minor": 0
      },
      "text/plain": [
       "  0%|          | 0/3 [00:00<?, ?it/s]"
      ]
     },
     "metadata": {},
     "output_type": "display_data"
    },
    {
     "data": {
      "image/png": "[encoded data removed]",
      "text/plain": [
       "<Figure size 1440x720 with 9 Axes>"
      ]
     },
     "metadata": {
      "needs_background": "light"
     },
     "output_type": "display_data"
    }
   ],
   "source": [
    "fig = plt.figure(figsize = (20, 10))\n",
    "gs = GridSpec(3, 3, figure = fig)\n",
    "\n",
    "plt.rcParams['text.usetex'] = False\n",
    "\n",
    "s = np.arange(8)\n",
    "years = np.arange(2030, 2110, 10)\n",
    "models = ['EA', 'WA', 'Delta', 'LM', 'GP', 'CNN']\n",
    "for i in trange(3, leave = False):\n",
    "       \n",
    "    ## method 1\n",
    "    ax = plt.subplot(gs[0, i])\n",
    "    ax.xaxis.set_ticklabels([])\n",
    "    ax.yaxis.set_major_formatter('{x:0<3.2f}')\n",
    "    ax.yaxis.set_tick_params(labelsize=14)\n",
    "    ax.set_ylim((0.85, 1.0))\n",
    "    if i == 0: ax.set_ylabel(r'$\\ell_{\\infty}$ Depth', fontsize = 22)\n",
    "    \n",
    "    if i == 0:\n",
    "        ax.set_title('Empirical Coverage - TAS', fontsize = 22)\n",
    "    if i == 1:\n",
    "        ax.set_title('Empirical Coverage - TMAX', fontsize = 22)\n",
    "    if i == 2:\n",
    "        ax.set_title('Empirical Coverage - PR', fontsize = 22)\n",
    "    \n",
    "    for k in range(nproj):\n",
    "        ax.fill_between(s, lower_cover1[i][:,k], upper_cover1[i][:,k], alpha = 0.07, color = f'C{k}')\n",
    "        ax.plot(mean_cover1[i][:,k], c = f'C{k}', label = models[k])\n",
    "    ax.axhline(0.9, c = 'black')\n",
    "   \n",
    "    ## method 2\n",
    "    ax = plt.subplot(gs[1, i])\n",
    "    ax.xaxis.set_ticklabels([])\n",
    "    ax.yaxis.set_major_formatter('{x:0<3.2f}')\n",
    "    ax.yaxis.set_tick_params(labelsize=14)\n",
    "    ax.set_ylim((0.85, 1.0))\n",
    "    if i == 0: ax.set_ylabel('Tukey Depth', fontsize = 22)\n",
    "    \n",
    "    for k in range(nproj):\n",
    "        ax.fill_between(s, lower_cover2[i][:,k], upper_cover2[i][:,k], alpha = 0.07, color = f'C{k}')\n",
    "        ax.plot(mean_cover2[i][:,k], c = f'C{k}', label = models[k])\n",
    "    ax.axhline(0.9, c = 'black')\n",
    "        \n",
    "    ## method 3\n",
    "    ax = plt.subplot(gs[2, i])\n",
    "    ax.set_xticks(s, years, fontsize = 16, rotation=45)\n",
    "    ax.yaxis.set_major_formatter('{x:0<3.2f}')\n",
    "    ax.yaxis.set_tick_params(labelsize=14)\n",
    "    ax.set_ylim((0.6, 1.0))\n",
    "    if i == 0: ax.set_ylabel('Infinity Norm', fontsize = 22)\n",
    "\n",
    "    \n",
    "    for k in range(nproj):\n",
    "        ax.fill_between(s, lower_cover3[i][:,k], upper_cover3[i][:,k], alpha = 0.07, color = f'C{k}')\n",
    "        ax.plot(mean_cover3[i][:,k], c = f'C{k}', label = models[k])\n",
    "    ax.axhline(0.9, c = 'black')\n",
    "    \n",
    "ax.legend(fontsize = 16, ncol=3)\n",
    "plt.show()"
   ]
  },
  {
   "cell_type": "code",
   "execution_count": null,
   "id": "f92bb08a",
   "metadata": {},
   "outputs": [],
   "source": []
  },
  {
   "cell_type": "code",
   "execution_count": null,
   "id": "b2b51c6f",
   "metadata": {},
   "outputs": [],
   "source": []
  },
  {
   "cell_type": "code",
   "execution_count": 31,
   "id": "f860afd1",
   "metadata": {},
   "outputs": [],
   "source": [
    "wn_cover = np.round(np.vstack([wn_cover1, wn_cover3, wn_cover2]).T.reshape(-1), 3)\n",
    "tas_cover = np.round(np.vstack([tas_cover1, tas_cover3, tas_cover2]).T.reshape(-1), 3)\n",
    "tmax_cover = np.round(np.vstack([tmax_cover1, tmax_cover3, tmax_cover2]).T.reshape(-1), 3)\n",
    "pr_cover = np.round(np.vstack([pr_cover1, pr_cover3, pr_cover2]).T.reshape(-1), 3)\n",
    "cover = np.vstack([wn_cover, tas_cover, tmax_cover, pr_cover]).T\n",
    "\n",
    "wn_width = np.round(np.vstack([wn_width1, wn_width3, wn_width2]).T.reshape(-1), 3)\n",
    "tas_width = np.round(np.vstack([tas_width1, tas_width3, tas_width2]).T.reshape(-1), 3)\n",
    "tmax_width = np.round(np.vstack([tmax_width1, tmax_width3, tmax_width2]).T.reshape(-1), 3)\n",
    "pr_width = np.round(np.vstack([pr_width1, pr_width3, pr_width2]).T.reshape(-1), 3)\n",
    "width = np.vstack([wn_width, tas_width, tmax_width, pr_width]).T"
   ]
  },
  {
   "cell_type": "code",
   "execution_count": 78,
   "id": "aed6d640",
   "metadata": {},
   "outputs": [],
   "source": [
    "np.set_printoptions(precision=3, floatmode = 'fixed')\n",
    "table = np.hstack([cover, width])"
   ]
  },
  {
   "cell_type": "code",
   "execution_count": 79,
   "id": "94c55cf7",
   "metadata": {},
   "outputs": [
    {
     "name": "stdout",
     "output_type": "stream",
     "text": [
      "0.902 & 0.890 & 0.893 & 0.906 & 6.126 & 3.717 & 3.532 & 2.611\n",
      "0.900 & 0.928 & 0.929 & 0.929 & 6.100 & 3.717 & 3.534 & 2.617\n",
      "0.901 & 0.870 & 0.831 & 0.906 & 6.120 & 3.705 & 3.524 & 2.612\n",
      "0.900 & 0.921 & 0.922 & 0.910 & 6.220 & 3.563 & 3.474 & 2.884\n",
      "0.900 & 0.967 & 0.964 & 0.938 & 6.195 & 3.563 & 3.472 & 2.887\n",
      "0.901 & 0.933 & 0.925 & 0.920 & 6.213 & 3.562 & 3.474 & 2.885\n",
      "0.902 & 0.890 & 0.893 & 0.906 & 6.126 & 3.731 & 3.605 & 2.871\n",
      "0.900 & 0.928 & 0.929 & 0.929 & 6.100 & 3.731 & 3.605 & 2.877\n",
      "0.900 & 0.904 & 0.893 & 0.906 & 6.120 & 3.730 & 3.604 & 2.872\n",
      "0.902 & 0.900 & 0.913 & 0.912 & 6.323 & 5.341 & 4.831 & 3.121\n",
      "0.903 & 0.975 & 0.969 & 0.945 & 6.330 & 5.346 & 4.837 & 3.128\n",
      "0.901 & 0.874 & 0.868 & 0.903 & 6.332 & 5.328 & 4.816 & 3.119\n",
      "0.902 & 0.932 & 0.933 & 0.908 & 6.126 & 3.376 & 3.295 & 2.805\n",
      "0.900 & 0.977 & 0.975 & 0.949 & 6.100 & 3.375 & 3.293 & 2.809\n",
      "0.900 & 0.931 & 0.926 & 0.916 & 6.120 & 3.374 & 3.295 & 2.806\n",
      "0.900 & 0.876 & 0.856 & 0.901 & 6.353 & 3.686 & 3.646 & 2.952\n",
      "0.905 & 0.936 & 0.935 & 0.928 & 6.326 & 3.687 & 3.644 & 2.958\n",
      "0.894 & 0.895 & 0.882 & 0.909 & 6.347 & 3.684 & 3.645 & 2.955\n"
     ]
    }
   ],
   "source": [
    "for row in table:\n",
    "    x = [f\"{i:1.3f}\" for i in row]\n",
    "    print(' & '.join(x))"
   ]
  },
  {
   "cell_type": "code",
   "execution_count": 82,
   "id": "12cff982",
   "metadata": {},
   "outputs": [
    {
     "name": "stdout",
     "output_type": "stream",
     "text": [
      "EA \t 0.902 & 0.890 & 0.893 & 0.906 & 6.126 & 3.717 & 3.532 & 2.611\n",
      "EA \t 0.900 & 0.928 & 0.929 & 0.929 & 6.100 & 3.717 & 3.534 & 2.617\n",
      "EA \t 0.901 & 0.870 & 0.831 & 0.906 & 6.120 & 3.705 & 3.524 & 2.612\n",
      "WA \t 0.900 & 0.921 & 0.922 & 0.910 & 6.220 & 3.563 & 3.474 & 2.884\n",
      "WA \t 0.900 & 0.967 & 0.964 & 0.938 & 6.195 & 3.563 & 3.472 & 2.887\n",
      "WA \t 0.901 & 0.933 & 0.925 & 0.920 & 6.213 & 3.562 & 3.474 & 2.885\n",
      "Delta \t 0.902 & 0.890 & 0.893 & 0.906 & 6.126 & 3.731 & 3.605 & 2.871\n",
      "Delta \t 0.900 & 0.928 & 0.929 & 0.929 & 6.100 & 3.731 & 3.605 & 2.877\n",
      "Delta \t 0.900 & 0.904 & 0.893 & 0.906 & 6.120 & 3.730 & 3.604 & 2.872\n",
      "LM \t 0.902 & 0.900 & 0.913 & 0.912 & 6.323 & 5.341 & 4.831 & 3.121\n",
      "LM \t 0.903 & 0.975 & 0.969 & 0.945 & 6.330 & 5.346 & 4.837 & 3.128\n",
      "LM \t 0.901 & 0.874 & 0.868 & 0.903 & 6.332 & 5.328 & 4.816 & 3.119\n",
      "GP \t 0.902 & 0.932 & 0.933 & 0.908 & 6.126 & 3.376 & 3.295 & 2.805\n",
      "GP \t 0.900 & 0.977 & 0.975 & 0.949 & 6.100 & 3.375 & 3.293 & 2.809\n",
      "GP \t 0.900 & 0.931 & 0.926 & 0.916 & 6.120 & 3.374 & 3.295 & 2.806\n",
      "CNN \t 0.900 & 0.876 & 0.856 & 0.901 & 6.353 & 3.686 & 3.646 & 2.952\n",
      "CNN \t 0.905 & 0.936 & 0.935 & 0.928 & 6.326 & 3.687 & 3.644 & 2.958\n",
      "CNN \t 0.894 & 0.895 & 0.882 & 0.909 & 6.347 & 3.684 & 3.645 & 2.955\n"
     ]
    }
   ],
   "source": [
    "analysis = ['EA', 'WA', 'Delta', 'LM', 'GP', 'CNN']\n",
    "for i, row in enumerate(table):\n",
    "    x = [f\"{i:1.3f}\" for i in row]\n",
    "    print(analysis[i//3], '\\t', ' & '.join(x))"
   ]
  },
  {
   "cell_type": "code",
   "execution_count": null,
   "id": "143e3f17",
   "metadata": {},
   "outputs": [],
   "source": []
  }
 ],
 "metadata": {
  "kernelspec": {
   "display_name": "Python 3 (ipykernel)",
   "language": "python",
   "name": "python3"
  },
  "language_info": {
   "codemirror_mode": {
    "name": "ipython",
    "version": 3
   },
   "file_extension": ".py",
   "mimetype": "text/x-python",
   "name": "python",
   "nbconvert_exporter": "python",
   "pygments_lexer": "ipython3",
   "version": "3.9.12"
  }
 },
 "nbformat": 4,
 "nbformat_minor": 5
}
