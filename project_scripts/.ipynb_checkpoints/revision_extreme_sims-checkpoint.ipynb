{
 "cells": [
  {
   "cell_type": "code",
   "execution_count": null,
   "id": "c2cba3fc",
   "metadata": {},
   "outputs": [],
   "source": [
    "# numpy\n",
    "import numpy as np\n",
    "import scipy\n",
    "np.set_printoptions(suppress=True)\n",
    "\n",
    "# plotting\n",
    "import matplotlib\n",
    "import matplotlib.pyplot as plt\n",
    "from matplotlib import ticker\n",
    "from matplotlib.ticker import FormatStrFormatter\n",
    "plt.style.use('default')\n",
    "\n",
    "from matplotlib.gridspec import GridSpec\n",
    "from matplotlib import colors\n",
    "from matplotlib import cm\n",
    "from matplotlib.colors import ListedColormap, LinearSegmentedColormap\n",
    "\n",
    "from tqdm.notebook import tqdm\n",
    "from tqdm.notebook import trange\n",
    "\n",
    "from scipy.stats import genextreme, norm"
   ]
  },
  {
   "cell_type": "code",
   "execution_count": null,
   "id": "d6b41cc0-67c5-4241-a1c3-76fa96de7cfc",
   "metadata": {},
   "outputs": [],
   "source": [
    "nsim = 500\n",
    "params = [\n",
    "    [0, 0, 1],\n",
    "    [5, 0, 1],\n",
    "    [1, 0, 5],\n",
    "    [2, 5, 1],\n",
    "    [1, 1, 2]\n",
    "]\n",
    "\n",
    "cover = np.zeros((len(params), nsim))\n",
    "width = np.zeros((len(params), nsim))\n",
    "\n",
    "setting = 0\n",
    "for param in tqdm(params):\n",
    "    shape, loc, scale = param\n",
    "\n",
    "    for sim in trange(nsim, leave = False):\n",
    "        train = genextreme.rvs(shape, loc, scale, size=n)\n",
    "        val = genextreme.rvs(shape, loc, scale, size=n)\n",
    "        test = genextreme.rvs(shape, loc, scale, size=n)\n",
    "        \n",
    "        model = np.median(train)\n",
    "        res = np.abs(val - model)\n",
    "        k = np.quantile(res, alpha)\n",
    "\n",
    "        cover[setting, sim] = np.mean(np.abs(test - model) > k)\n",
    "        width[setting, sim] = 2*k\n",
    "\n",
    "    setting += 1"
   ]
  },
  {
   "cell_type": "code",
   "execution_count": null,
   "id": "872f8b47-e4cd-47ad-8e6f-be3797d3a8da",
   "metadata": {},
   "outputs": [],
   "source": [
    "np.round(np.mean(cover, axis = 1), 4), np.round(2*np.std(cover, axis = 1), 4)"
   ]
  },
  {
   "cell_type": "code",
   "execution_count": null,
   "id": "8c8cdcb1-fa23-41fb-b71a-3f9e392468f7",
   "metadata": {},
   "outputs": [],
   "source": [
    "np.round(np.mean(width, axis = 1), 4), np.round(2*np.std(width, axis = 1), 4)"
   ]
  },
  {
   "cell_type": "code",
   "execution_count": null,
   "id": "7c2670c4-addf-41fd-a42c-77af49547cc4",
   "metadata": {},
   "outputs": [],
   "source": [
    "nsim = 500\n",
    "base_shape, base_loc, base_scale = [0, 0, 1]\n",
    "params = [\n",
    "    [0, 0.25, 1],\n",
    "    [0, 0.50, 1],\n",
    "    [0, 0.75, 1],\n",
    "    [0, 1.00, 1],\n",
    "    [0, 1.25, 1]\n",
    "]\n",
    "\n",
    "ex_cover = np.zeros((len(params), nsim))\n",
    "ex_width = np.zeros((len(params), nsim))\n",
    "\n",
    "norm_cover = np.zeros((len(params), nsim))\n",
    "norm_width = np.zeros((len(params), nsim))\n",
    "\n",
    "setting = 0\n",
    "for param in tqdm(params):\n",
    "    shape, loc, scale = param\n",
    "\n",
    "    for sim in trange(nsim, leave = False):\n",
    "        ex_train = genextreme.rvs(base_shape, base_loc, base_scale, size=n)\n",
    "        ex_val = genextreme.rvs(base_shape, base_loc, base_scale, size=n)\n",
    "        ex_test = genextreme.rvs(shape, loc, scale, size=n)\n",
    "        ex_model = np.median(ex_train)\n",
    "        ex_res = np.abs(ex_val - ex_model)\n",
    "        ex_k = np.quantile(ex_res, alpha)\n",
    "        ex_cover[setting, sim] = np.mean(np.abs(ex_test - ex_model) > ex_k)\n",
    "        ex_width[setting, sim] = 2*ex_k\n",
    "\n",
    "\n",
    "        norm_train = norm.rvs(base_loc, base_scale, size=n)\n",
    "        norm_val = norm.rvs(base_loc, base_scale, size=n)\n",
    "        norm_test = norm.rvs(loc, scale, size=n)\n",
    "        norm_model = np.median(norm_train)\n",
    "        norm_res = np.abs(norm_val - norm_model)\n",
    "        norm_k = np.quantile(norm_res, alpha)\n",
    "        norm_cover[setting, sim] = np.mean(np.abs(norm_test - norm_model) > norm_k)\n",
    "        norm_width[setting, sim] = 2*norm_k\n",
    "\n",
    "    setting += 1"
   ]
  },
  {
   "cell_type": "code",
   "execution_count": null,
   "id": "a20e1fba-2a55-434b-9fcd-dd8ccb6ffea5",
   "metadata": {},
   "outputs": [],
   "source": [
    "np.round(np.mean(ex_cover, axis = 1), 4), np.round(2*np.std(ex_cover, axis = 1), 4)"
   ]
  },
  {
   "cell_type": "code",
   "execution_count": null,
   "id": "43c00aff-45d7-4ba0-9dec-356cffd80e36",
   "metadata": {},
   "outputs": [],
   "source": [
    "np.round(np.mean(norm_cover, axis = 1), 4), np.round(2*np.std(norm_cover, axis = 1), 4)"
   ]
  }
 ],
 "metadata": {
  "kernelspec": {
   "display_name": "Python 3 (ipykernel)",
   "language": "python",
   "name": "python3"
  },
  "language_info": {
   "codemirror_mode": {
    "name": "ipython",
    "version": 3
   },
   "file_extension": ".py",
   "mimetype": "text/x-python",
   "name": "python",
   "nbconvert_exporter": "python",
   "pygments_lexer": "ipython3",
   "version": "3.12.3"
  }
 },
 "nbformat": 4,
 "nbformat_minor": 5
}
