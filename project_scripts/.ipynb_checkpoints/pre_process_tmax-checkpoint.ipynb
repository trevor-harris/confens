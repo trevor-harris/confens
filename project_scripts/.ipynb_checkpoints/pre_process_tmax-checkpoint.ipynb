{
 "cells": [
  {
   "cell_type": "code",
   "execution_count": 1,
   "metadata": {},
   "outputs": [
    {
     "name": "stderr",
     "output_type": "stream",
     "text": [
      "/home/trevorh2/anaconda3/lib/python3.9/site-packages/esmpy/interface/loadESMF.py:92: VersionWarning: ESMF installation version 8.7.0 beta snapshot, ESMPy version 8.7.0b0\n",
      "  warnings.warn(\"ESMF installation version {}, ESMPy version {}\".format(\n"
     ]
    }
   ],
   "source": [
    "import os\n",
    "import pickle\n",
    "\n",
    "# numpy\n",
    "import numpy as np\n",
    "import numpy.ma as ma\n",
    "\n",
    "from skimage.transform import resize\n",
    "from math import pi\n",
    "\n",
    "# plotting\n",
    "import matplotlib\n",
    "import matplotlib.pyplot as plt\n",
    "plt.style.use('default')\n",
    "\n",
    "# netCDF\n",
    "import netCDF4 as nc\n",
    "\n",
    "from tqdm.notebook import tqdm\n",
    "from tqdm.notebook import trange\n",
    "\n",
    "import xarray as xr\n",
    "import xesmf as xe"
   ]
  },
  {
   "cell_type": "code",
   "execution_count": 2,
   "metadata": {},
   "outputs": [],
   "source": [
    "def get_timeperiod(f):\n",
    "    rng = f.split('_')[-1][:-3]\n",
    "    return [s[:-2] for s in rng.split('-')]"
   ]
  },
  {
   "cell_type": "code",
   "execution_count": 3,
   "metadata": {},
   "outputs": [],
   "source": [
    "def model_info(x):\n",
    "    _, _, model, _, ens, _, date = x.split('_')\n",
    "#     date = get_timeperiod(date)\n",
    "    return [model, ens]"
   ]
  },
  {
   "cell_type": "code",
   "execution_count": 4,
   "metadata": {},
   "outputs": [],
   "source": [
    "def process_tas(ncdata, var, nlat, nlon):\n",
    "    _data = np.array(ncdata.variables[var])\n",
    "    _lats = np.array(ncdata.variables['lat'])\n",
    "    _lons = np.array(ncdata.variables['lon'])\n",
    "\n",
    "    grid_in = {\"lon\": _lons, \"lat\": _lats}\n",
    "    grid_out = {\"lon\": np.linspace(np.min(_lons), np.max(_lons), 180), \n",
    "                \"lat\": np.linspace(np.min(_lats), np.max(_lats), 90)}\n",
    "    regridder = xe.Regridder(grid_in, grid_out, \"bilinear\")\n",
    "\n",
    "    _data = np.array(_data) - 272.15\n",
    "    _data = regridder(_data)\n",
    "    _data = np.rot90(_data, k = 2, axes = (1, 2))\n",
    "    _data = np.flip(_data, axis = 2)\n",
    "    \n",
    "    return _data"
   ]
  },
  {
   "cell_type": "code",
   "execution_count": 5,
   "metadata": {},
   "outputs": [
    {
     "name": "stdout",
     "output_type": "stream",
     "text": [
      "['ACCESS-ESM1-5', 'r2i1p1f1']\n",
      "['CIESM', 'r1i1p1f1']\n",
      "['CMCC-ESM2', 'r1i1p1f1']\n",
      "['CNRM-CM6-1', 'r1i1p1f2']\n",
      "['CNRM-ESM2-1', 'r1i1p1f2']\n",
      "['FGOALS-g3', 'r2i1p1f1']\n",
      "['FGOALS-g3', 'r2i1p1f1']\n",
      "['FGOALS-g3', 'r2i1p1f1']\n",
      "['FGOALS-g3', 'r2i1p1f1']\n",
      "['FGOALS-g3', 'r2i1p1f1']\n",
      "['FGOALS-g3', 'r2i1p1f1']\n",
      "['FGOALS-g3', 'r2i1p1f1']\n",
      "['FGOALS-g3', 'r2i1p1f1']\n",
      "['FGOALS-g3', 'r2i1p1f1']\n",
      "['FGOALS-g3', 'r2i1p1f1']\n",
      "['FGOALS-g3', 'r2i1p1f1']\n",
      "['FGOALS-g3', 'r2i1p1f1']\n",
      "['FGOALS-g3', 'r2i1p1f1']\n",
      "['FGOALS-g3', 'r2i1p1f1']\n",
      "['FGOALS-g3', 'r2i1p1f1']\n",
      "['FGOALS-g3', 'r2i1p1f1']\n",
      "['FGOALS-g3', 'r2i1p1f1']\n",
      "['FGOALS-g3', 'r3i1p1f1']\n",
      "['FGOALS-g3', 'r3i1p1f1']\n",
      "['FGOALS-g3', 'r3i1p1f1']\n",
      "['FGOALS-g3', 'r3i1p1f1']\n",
      "['FGOALS-g3', 'r3i1p1f1']\n",
      "['FGOALS-g3', 'r3i1p1f1']\n",
      "['FGOALS-g3', 'r3i1p1f1']\n",
      "['FGOALS-g3', 'r3i1p1f1']\n",
      "['FGOALS-g3', 'r3i1p1f1']\n",
      "['FGOALS-g3', 'r3i1p1f1']\n",
      "['FGOALS-g3', 'r3i1p1f1']\n",
      "['FGOALS-g3', 'r3i1p1f1']\n",
      "['FGOALS-g3', 'r3i1p1f1']\n",
      "['FGOALS-g3', 'r3i1p1f1']\n",
      "['FGOALS-g3', 'r3i1p1f1']\n",
      "['FGOALS-g3', 'r3i1p1f1']\n",
      "['FGOALS-g3', 'r3i1p1f1']\n",
      "['FIO-ESM-2-0', 'r1i1p1f1']\n",
      "['FIO-ESM-2-0', 'r2i1p1f1']\n",
      "['GFDL-ESM4', 'r1i1p1f1']\n",
      "['GFDL-ESM4', 'r1i1p1f1']\n",
      "['GFDL-ESM4', 'r2i1p1f1']\n",
      "['GFDL-ESM4', 'r2i1p1f1']\n",
      "['INM-CM4-8', 'r1i1p1f1']\n",
      "['INM-CM4-8', 'r1i1p1f1']\n",
      "['INM-CM4-8', 'r1i1p1f1']\n",
      "['IPSL-CM6A-LR', 'r1i1p1f1']\n",
      "['IPSL-CM6A-LR', 'r2i1p1f1']\n",
      "['MIROC6', 'r1i1p1f1']\n",
      "['MIROC6', 'r1i1p1f1']\n",
      "['MIROC6', 'r2i1p1f1']\n",
      "['MIROC6', 'r2i1p1f1']\n",
      "['MRI-ESM2-0', 'r1i1p1f1']\n",
      "['MRI-ESM2-0', 'r2i1p1f1']\n",
      "['NESM3', 'r1i1p1f1']\n"
     ]
    }
   ],
   "source": [
    "_path = 'ncdata/hist_max/'\n",
    "_files = sorted(os.listdir(_path))\n",
    "_files.reverse()\n",
    "\n",
    "nlat, nlon = 90, 180\n",
    "\n",
    "xhist = []\n",
    "i = 0\n",
    "\n",
    "model_prev = _files.pop()\n",
    "\n",
    "ncdata = nc.Dataset(_path + model_prev, \"r\")\n",
    "curr_data = process_tas(ncdata, 'tasmax', nlat, nlon)\n",
    "\n",
    "model_prev = model_info(model_prev)\n",
    "\n",
    "xhist.append(curr_data)\n",
    "\n",
    "while _files:\n",
    "    model_curr = _files.pop()\n",
    "    \n",
    "    ncdata = nc.Dataset(_path + model_curr, \"r\")\n",
    "    curr_data = process_tas(ncdata, 'tasmax', nlat, nlon)\n",
    "    \n",
    "    model_curr = model_info(model_curr)    \n",
    "    if model_prev == model_curr:\n",
    "        xhist[i] = np.vstack([xhist[i], curr_data])\n",
    "    else:\n",
    "        xhist.append(curr_data)\n",
    "        i += 1\n",
    "    \n",
    "    model_prev = model_curr\n",
    "    print(model_curr)"
   ]
  },
  {
   "cell_type": "code",
   "execution_count": 6,
   "metadata": {},
   "outputs": [],
   "source": [
    "xhist2 = []\n",
    "for x in xhist:\n",
    "    if x.shape[0] == 2004:\n",
    "        xhist2.append(x[:-24])\n",
    "    else:\n",
    "        xhist2.append(x)"
   ]
  },
  {
   "cell_type": "code",
   "execution_count": 7,
   "metadata": {},
   "outputs": [
    {
     "data": {
      "text/plain": [
       "[(1980, 90, 180),\n",
       " (1980, 90, 180),\n",
       " (1980, 90, 180),\n",
       " (1980, 90, 180),\n",
       " (1980, 90, 180),\n",
       " (1980, 90, 180),\n",
       " (1980, 90, 180),\n",
       " (1980, 90, 180),\n",
       " (1980, 90, 180),\n",
       " (1980, 90, 180),\n",
       " (1980, 90, 180),\n",
       " (1980, 90, 180),\n",
       " (1980, 90, 180),\n",
       " (1980, 90, 180),\n",
       " (1980, 90, 180),\n",
       " (1980, 90, 180),\n",
       " (1980, 90, 180),\n",
       " (1980, 90, 180),\n",
       " (1980, 90, 180),\n",
       " (1980, 90, 180)]"
      ]
     },
     "execution_count": 7,
     "metadata": {},
     "output_type": "execute_result"
    }
   ],
   "source": [
    "[x.shape for x in xhist2]"
   ]
  },
  {
   "cell_type": "code",
   "execution_count": 8,
   "metadata": {},
   "outputs": [],
   "source": [
    "xhist = np.stack(xhist2, axis = 1)"
   ]
  },
  {
   "cell_type": "code",
   "execution_count": 9,
   "metadata": {},
   "outputs": [
    {
     "data": {
      "text/plain": [
       "([52.34741,\n",
       "  51.888626,\n",
       "  71.87354,\n",
       "  50.724014,\n",
       "  48.301174,\n",
       "  50.355854,\n",
       "  50.575623,\n",
       "  50.93964,\n",
       "  51.70199,\n",
       "  51.161297,\n",
       "  49.980766,\n",
       "  50.74135,\n",
       "  51.311016,\n",
       "  48.08822,\n",
       "  47.064384,\n",
       "  71.75849,\n",
       "  71.30644,\n",
       "  54.15121,\n",
       "  53.370815,\n",
       "  46.502056],\n",
       " [-65.699234,\n",
       "  -66.33894,\n",
       "  -62.228806,\n",
       "  -75.0533,\n",
       "  -71.088806,\n",
       "  -70.22678,\n",
       "  -64.109184,\n",
       "  -64.93676,\n",
       "  -71.85775,\n",
       "  -74.45604,\n",
       "  -70.99644,\n",
       "  -71.231514,\n",
       "  -75.983376,\n",
       "  -76.32341,\n",
       "  -77.42581,\n",
       "  -68.03152,\n",
       "  -68.81435,\n",
       "  -65.47919,\n",
       "  -63.272266,\n",
       "  -75.25131])"
      ]
     },
     "execution_count": 9,
     "metadata": {},
     "output_type": "execute_result"
    }
   ],
   "source": [
    "[np.max(xhist[:,i]) for i in range(20)], [np.min(xhist[:,i]) for i in range(20)]"
   ]
  },
  {
   "cell_type": "code",
   "execution_count": null,
   "metadata": {},
   "outputs": [],
   "source": []
  },
  {
   "cell_type": "code",
   "execution_count": null,
   "metadata": {},
   "outputs": [],
   "source": []
  },
  {
   "cell_type": "code",
   "execution_count": 10,
   "metadata": {},
   "outputs": [
    {
     "name": "stdout",
     "output_type": "stream",
     "text": [
      "['ACCESS-ESM1-5', 'r2i1p1f1']\n",
      "['CIESM', 'r1i1p1f1']\n",
      "['CMCC-ESM2', 'r1i1p1f1']\n",
      "['CNRM-CM6-1', 'r1i1p1f2']\n",
      "['CNRM-ESM2-1', 'r1i1p1f2']\n",
      "['FGOALS-g3', 'r2i1p1f1']\n",
      "['FGOALS-g3', 'r2i1p1f1']\n",
      "['FGOALS-g3', 'r2i1p1f1']\n",
      "['FGOALS-g3', 'r2i1p1f1']\n",
      "['FGOALS-g3', 'r2i1p1f1']\n",
      "['FGOALS-g3', 'r2i1p1f1']\n",
      "['FGOALS-g3', 'r2i1p1f1']\n",
      "['FGOALS-g3', 'r2i1p1f1']\n",
      "['FGOALS-g3', 'r2i1p1f1']\n",
      "['FGOALS-g3', 'r3i1p1f1']\n",
      "['FGOALS-g3', 'r3i1p1f1']\n",
      "['FGOALS-g3', 'r3i1p1f1']\n",
      "['FGOALS-g3', 'r3i1p1f1']\n",
      "['FGOALS-g3', 'r3i1p1f1']\n",
      "['FGOALS-g3', 'r3i1p1f1']\n",
      "['FGOALS-g3', 'r3i1p1f1']\n",
      "['FGOALS-g3', 'r3i1p1f1']\n",
      "['FGOALS-g3', 'r3i1p1f1']\n",
      "['FIO-ESM-2-0', 'r1i1p1f1']\n",
      "['FIO-ESM-2-0', 'r2i1p1f1']\n",
      "['GFDL-ESM4', 'r1i1p1f1']\n",
      "['GFDL-ESM4', 'r2i1p1f1']\n",
      "['INM-CM5-0', 'r1i1p1f1']\n",
      "['IPSL-CM6A-LR', 'r1i1p1f1']\n",
      "['IPSL-CM6A-LR', 'r2i1p1f1']\n",
      "['MIROC6', 'r1i1p1f1']\n",
      "['MIROC6', 'r2i1p1f1']\n",
      "['MRI-ESM2-0', 'r1i1p1f1']\n",
      "['MRI-ESM2-0', 'r2i1p1f1']\n",
      "['MRI-ESM2-0', 'r2i1p1f1']\n",
      "['NESM3', 'r1i1p1f1']\n"
     ]
    }
   ],
   "source": [
    "_path = 'ncdata/ssp245_max/'\n",
    "_files = sorted(os.listdir(_path))\n",
    "_files.reverse()\n",
    "\n",
    "xrcp = []\n",
    "i = 0\n",
    "\n",
    "model_prev = _files.pop()\n",
    "\n",
    "ncdata = nc.Dataset(_path + model_prev, \"r\")\n",
    "curr_data = process_tas(ncdata, 'tasmax', nlat, nlon)\n",
    "\n",
    "model_prev = model_info(model_prev)\n",
    "\n",
    "xrcp.append(curr_data)\n",
    "\n",
    "while _files:\n",
    "    model_curr = _files.pop()\n",
    "    \n",
    "    ncdata = nc.Dataset(_path + model_curr, \"r\")\n",
    "    curr_data = process_tas(ncdata, 'tasmax', nlat, nlon)\n",
    "    \n",
    "    model_curr = model_info(model_curr)    \n",
    "    if model_prev == model_curr:\n",
    "        xrcp[i] = np.vstack([xrcp[i], curr_data])\n",
    "    else:\n",
    "        xrcp.append(curr_data)\n",
    "        i += 1\n",
    "    \n",
    "    model_prev = model_curr\n",
    "    print(model_curr)"
   ]
  },
  {
   "cell_type": "code",
   "execution_count": 11,
   "metadata": {},
   "outputs": [
    {
     "data": {
      "text/plain": [
       "[(1032, 90, 180),\n",
       " (1032, 90, 180),\n",
       " (1032, 90, 180),\n",
       " (1032, 90, 180),\n",
       " (1032, 90, 180),\n",
       " (1032, 90, 180),\n",
       " (1032, 90, 180),\n",
       " (1032, 90, 180),\n",
       " (1032, 90, 180),\n",
       " (1032, 90, 180),\n",
       " (1032, 90, 180),\n",
       " (1032, 90, 180),\n",
       " (1032, 90, 180),\n",
       " (1032, 90, 180),\n",
       " (1032, 90, 180),\n",
       " (1032, 90, 180),\n",
       " (1032, 90, 180),\n",
       " (1032, 90, 180),\n",
       " (1032, 90, 180),\n",
       " (1032, 90, 180)]"
      ]
     },
     "execution_count": 11,
     "metadata": {},
     "output_type": "execute_result"
    }
   ],
   "source": [
    "[x.shape for x in xrcp]"
   ]
  },
  {
   "cell_type": "code",
   "execution_count": 12,
   "metadata": {},
   "outputs": [],
   "source": [
    "xrcp = np.stack(xrcp, axis = 1)"
   ]
  },
  {
   "cell_type": "code",
   "execution_count": 13,
   "metadata": {},
   "outputs": [
    {
     "data": {
      "text/plain": [
       "([55.998966,\n",
       "  55.876606,\n",
       "  75.75146,\n",
       "  54.42928,\n",
       "  52.304234,\n",
       "  53.667316,\n",
       "  52.950428,\n",
       "  51.984604,\n",
       "  54.10825,\n",
       "  54.128654,\n",
       "  53.35738,\n",
       "  54.660496,\n",
       "  53.076008,\n",
       "  51.679268,\n",
       "  51.158104,\n",
       "  74.141426,\n",
       "  74.037834,\n",
       "  56.427223,\n",
       "  56.55018,\n",
       "  50.20235],\n",
       " [-62.737225,\n",
       "  -62.69572,\n",
       "  -59.88652,\n",
       "  -69.78233,\n",
       "  -69.687355,\n",
       "  -68.13495,\n",
       "  -62.498264,\n",
       "  -62.331127,\n",
       "  -68.239105,\n",
       "  -69.38486,\n",
       "  -69.797134,\n",
       "  -69.77264,\n",
       "  -74.498276,\n",
       "  -73.49416,\n",
       "  -74.531364,\n",
       "  -66.68714,\n",
       "  -65.93386,\n",
       "  -62.914543,\n",
       "  -63.015667,\n",
       "  -72.33831])"
      ]
     },
     "execution_count": 13,
     "metadata": {},
     "output_type": "execute_result"
    }
   ],
   "source": [
    "[np.max(xrcp[:,i]) for i in range(20)], [np.min(xrcp[:,i]) for i in range(20)]"
   ]
  },
  {
   "cell_type": "code",
   "execution_count": null,
   "metadata": {},
   "outputs": [],
   "source": []
  },
  {
   "cell_type": "code",
   "execution_count": 14,
   "metadata": {},
   "outputs": [
    {
     "data": {
      "text/plain": [
       "(1980, 20, 90, 180)"
      ]
     },
     "execution_count": 14,
     "metadata": {},
     "output_type": "execute_result"
    }
   ],
   "source": [
    "xhist.shape"
   ]
  },
  {
   "cell_type": "code",
   "execution_count": 15,
   "metadata": {},
   "outputs": [
    {
     "data": {
      "text/plain": [
       "(1032, 20, 90, 180)"
      ]
     },
     "execution_count": 15,
     "metadata": {},
     "output_type": "execute_result"
    }
   ],
   "source": [
    "xrcp.shape"
   ]
  },
  {
   "cell_type": "code",
   "execution_count": 16,
   "metadata": {},
   "outputs": [],
   "source": [
    "!touch data/xhist_tasmax_hr.pkl\n",
    "!touch data/xrcp_tasmax_hr.pkl"
   ]
  },
  {
   "cell_type": "code",
   "execution_count": 17,
   "metadata": {},
   "outputs": [],
   "source": [
    "pickle.dump(xhist, open(\"data/xhist_tasmax_hr.pkl\", \"wb\"))\n",
    "pickle.dump(xrcp, open(\"data/xrcp_tasmax_hr.pkl\", \"wb\"))"
   ]
  },
  {
   "cell_type": "code",
   "execution_count": null,
   "metadata": {},
   "outputs": [],
   "source": []
  }
 ],
 "metadata": {
  "kernelspec": {
   "display_name": "Python 3 (ipykernel)",
   "language": "python",
   "name": "python3"
  },
  "language_info": {
   "codemirror_mode": {
    "name": "ipython",
    "version": 3
   },
   "file_extension": ".py",
   "mimetype": "text/x-python",
   "name": "python",
   "nbconvert_exporter": "python",
   "pygments_lexer": "ipython3",
   "version": "3.9.12"
  }
 },
 "nbformat": 4,
 "nbformat_minor": 4
}
