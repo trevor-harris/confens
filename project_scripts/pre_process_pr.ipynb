{
 "cells": [
  {
   "cell_type": "code",
   "execution_count": 1,
   "metadata": {},
   "outputs": [
    {
     "name": "stderr",
     "output_type": "stream",
     "text": [
      "/home/trevorh2/anaconda3/lib/python3.9/site-packages/esmpy/interface/loadESMF.py:92: VersionWarning: ESMF installation version 8.7.0 beta snapshot, ESMPy version 8.7.0b0\n",
      "  warnings.warn(\"ESMF installation version {}, ESMPy version {}\".format(\n"
     ]
    }
   ],
   "source": [
    "import os\n",
    "import pickle\n",
    "\n",
    "# numpy\n",
    "import numpy as np\n",
    "import numpy.ma as ma\n",
    "\n",
    "from skimage.transform import resize\n",
    "from math import pi\n",
    "\n",
    "# plotting\n",
    "import matplotlib\n",
    "import matplotlib.pyplot as plt\n",
    "plt.style.use('default')\n",
    "\n",
    "# netCDF\n",
    "import netCDF4 as nc\n",
    "\n",
    "from tqdm.notebook import tqdm\n",
    "from tqdm.notebook import trange\n",
    "\n",
    "import xarray as xr\n",
    "import xesmf as xe"
   ]
  },
  {
   "cell_type": "code",
   "execution_count": 2,
   "metadata": {},
   "outputs": [],
   "source": [
    "def get_timeperiod(f):\n",
    "    rng = f.split('_')[-1][:-3]\n",
    "    return [s[:-2] for s in rng.split('-')]"
   ]
  },
  {
   "cell_type": "code",
   "execution_count": 3,
   "metadata": {},
   "outputs": [],
   "source": [
    "def model_info(x):\n",
    "    _, _, model, _, ens, _, date = x.split('_')\n",
    "#     date = get_timeperiod(date)\n",
    "    return [model, ens]"
   ]
  },
  {
   "cell_type": "code",
   "execution_count": 4,
   "metadata": {},
   "outputs": [],
   "source": [
    "def process_pr(ncdata, var, nlat, nlon):\n",
    "    _data = np.array(ncdata.variables[var])\n",
    "    _lats = np.array(ncdata.variables['lat'])\n",
    "    _lons = np.array(ncdata.variables['lon'])\n",
    "\n",
    "    grid_in = {\"lon\": _lons, \"lat\": _lats}\n",
    "    grid_out = {\"lon\": np.linspace(np.min(_lons), np.max(_lons), 180), \n",
    "                \"lat\": np.linspace(np.min(_lats), np.max(_lats), 90)}\n",
    "    regridder = xe.Regridder(grid_in, grid_out, \"bilinear\")\n",
    "\n",
    "    _data = regridder(_data)\n",
    "    _data = np.array(_data) * 86400\n",
    "    _data = np.rot90(_data, k = 2, axes = (1, 2))\n",
    "    _data = np.flip(_data, axis = 2)\n",
    "    \n",
    "    return _data"
   ]
  },
  {
   "cell_type": "code",
   "execution_count": 5,
   "metadata": {},
   "outputs": [],
   "source": [
    "# _path = 'ncdata/hist_pr/'\n",
    "# _files = sorted(os.listdir(_path))\n",
    "# _files.reverse()\n",
    "# _files"
   ]
  },
  {
   "cell_type": "code",
   "execution_count": 6,
   "metadata": {},
   "outputs": [
    {
     "name": "stdout",
     "output_type": "stream",
     "text": [
      "1 ['ACCESS-ESM1-5', 'r2i1p1f1']\n",
      "2 ['CAMS-CSM1-0', 'r1i1p1f1']\n",
      "3 ['CAMS-CSM1-0', 'r2i1p1f1']\n"
     ]
    },
    {
     "name": "stderr",
     "output_type": "stream",
     "text": [
      "/tmp/ipykernel_2343/2416024827.py:2: UserWarning: WARNING: missing_value not used since it\n",
      "cannot be safely cast to variable data type\n",
      "  _data = np.array(ncdata.variables[var])\n"
     ]
    },
    {
     "name": "stdout",
     "output_type": "stream",
     "text": [
      "4 ['CESM2-WACCM', 'r1i1p1f1']\n",
      "5 ['CESM2-WACCM', 'r2i1p1f1']\n",
      "6 ['CIESM', 'r1i1p1f1']\n",
      "7 ['CMCC-CM2-HR4', 'r1i1p1f1']\n",
      "8 ['CMCC-CM2-SR5', 'r1i1p1f1']\n",
      "9 ['CNRM-ESM2-1', 'r1i1p1f2']\n",
      "10 ['CNRM-ESM2-1', 'r2i1p1f2']\n",
      "11 ['FGOALS-f3-L', 'r1i1p1f1']\n",
      "12 ['FIO-ESM-2-0', 'r2i1p1f1']\n",
      "13 ['GFDL-ESM4', 'r1i1p1f1']\n",
      "13 ['GFDL-ESM4', 'r1i1p1f1']\n",
      "14 ['GFDL-ESM4', 'r3i1p1f1']\n",
      "14 ['GFDL-ESM4', 'r3i1p1f1']\n",
      "15 ['IPSL-CM6A-LR', 'r1i1p1f1']\n",
      "16 ['IPSL-CM6A-LR', 'r2i1p1f1']\n",
      "17 ['IPSL-CM6A-LR', 'r3i1p1f1']\n",
      "18 ['KACE-1-0-G', 'r1i1p1f1']\n",
      "19 ['KACE-1-0-G', 'r3i1p1f1']\n",
      "20 ['MIROC6', 'r1i1p1f1']\n",
      "20 ['MIROC6', 'r1i1p1f1']\n",
      "21 ['MIROC6', 'r3i1p1f1']\n",
      "21 ['MIROC6', 'r3i1p1f1']\n",
      "22 ['MPI-ESM1-2-LR', 'r1i1p1f1']\n",
      "22 ['MPI-ESM1-2-LR', 'r1i1p1f1']\n",
      "22 ['MPI-ESM1-2-LR', 'r1i1p1f1']\n",
      "22 ['MPI-ESM1-2-LR', 'r1i1p1f1']\n",
      "22 ['MPI-ESM1-2-LR', 'r1i1p1f1']\n",
      "22 ['MPI-ESM1-2-LR', 'r1i1p1f1']\n",
      "22 ['MPI-ESM1-2-LR', 'r1i1p1f1']\n",
      "22 ['MPI-ESM1-2-LR', 'r1i1p1f1']\n",
      "22 ['MPI-ESM1-2-LR', 'r1i1p1f1']\n",
      "23 ['MPI-ESM1-2-LR', 'r2i1p1f1']\n",
      "23 ['MPI-ESM1-2-LR', 'r2i1p1f1']\n",
      "23 ['MPI-ESM1-2-LR', 'r2i1p1f1']\n",
      "23 ['MPI-ESM1-2-LR', 'r2i1p1f1']\n",
      "23 ['MPI-ESM1-2-LR', 'r2i1p1f1']\n",
      "23 ['MPI-ESM1-2-LR', 'r2i1p1f1']\n",
      "23 ['MPI-ESM1-2-LR', 'r2i1p1f1']\n",
      "23 ['MPI-ESM1-2-LR', 'r2i1p1f1']\n",
      "23 ['MPI-ESM1-2-LR', 'r2i1p1f1']\n",
      "24 ['MRI-ESM2-0', 'r1i1p1f1']\n",
      "25 ['MRI-ESM2-0', 'r2i1p1f1']\n",
      "26 ['NESM3', 'r1i1p1f1']\n",
      "27 ['NorESM2-LM', 'r1i1p1f1']\n",
      "27 ['NorESM2-LM', 'r1i1p1f1']\n",
      "27 ['NorESM2-LM', 'r1i1p1f1']\n",
      "27 ['NorESM2-LM', 'r1i1p1f1']\n",
      "27 ['NorESM2-LM', 'r1i1p1f1']\n",
      "27 ['NorESM2-LM', 'r1i1p1f1']\n",
      "27 ['NorESM2-LM', 'r1i1p1f1']\n",
      "28 ['NorESM2-LM', 'r2i1p1f1']\n",
      "28 ['NorESM2-LM', 'r2i1p1f1']\n",
      "28 ['NorESM2-LM', 'r2i1p1f1']\n",
      "28 ['NorESM2-LM', 'r2i1p1f1']\n",
      "28 ['NorESM2-LM', 'r2i1p1f1']\n",
      "28 ['NorESM2-LM', 'r2i1p1f1']\n",
      "28 ['NorESM2-LM', 'r2i1p1f1']\n",
      "28 ['NorESM2-LM', 'r2i1p1f1']\n",
      "28 ['NorESM2-LM', 'r2i1p1f1']\n",
      "28 ['NorESM2-LM', 'r2i1p1f1']\n",
      "28 ['NorESM2-LM', 'r2i1p1f1']\n",
      "28 ['NorESM2-LM', 'r2i1p1f1']\n",
      "28 ['NorESM2-LM', 'r2i1p1f1']\n",
      "28 ['NorESM2-LM', 'r2i1p1f1']\n",
      "28 ['NorESM2-LM', 'r2i1p1f1']\n",
      "28 ['NorESM2-LM', 'r2i1p1f1']\n",
      "28 ['NorESM2-LM', 'r2i1p1f1']\n",
      "29 ['NorESM2-MM', 'r2i1p1f1']\n",
      "29 ['NorESM2-MM', 'r2i1p1f1']\n",
      "29 ['NorESM2-MM', 'r2i1p1f1']\n",
      "29 ['NorESM2-MM', 'r2i1p1f1']\n",
      "29 ['NorESM2-MM', 'r2i1p1f1']\n",
      "29 ['NorESM2-MM', 'r2i1p1f1']\n",
      "29 ['NorESM2-MM', 'r2i1p1f1']\n",
      "29 ['NorESM2-MM', 'r2i1p1f1']\n",
      "29 ['NorESM2-MM', 'r2i1p1f1']\n",
      "29 ['NorESM2-MM', 'r2i1p1f1']\n",
      "29 ['NorESM2-MM', 'r2i1p1f1']\n",
      "29 ['NorESM2-MM', 'r2i1p1f1']\n",
      "29 ['NorESM2-MM', 'r2i1p1f1']\n",
      "29 ['NorESM2-MM', 'r2i1p1f1']\n",
      "29 ['NorESM2-MM', 'r2i1p1f1']\n",
      "29 ['NorESM2-MM', 'r2i1p1f1']\n",
      "29 ['NorESM2-MM', 'r2i1p1f1']\n",
      "30 ['UKESM1-0-LL', 'r1i1p1f2']\n",
      "30 ['UKESM1-0-LL', 'r1i1p1f2']\n"
     ]
    }
   ],
   "source": [
    "_path = 'ncdata/hist_pr/'\n",
    "_files = sorted(os.listdir(_path))\n",
    "_files.reverse()\n",
    "\n",
    "nlat, nlon = 90, 180\n",
    "\n",
    "xhist = []\n",
    "i = 0\n",
    "\n",
    "model_prev = _files.pop()\n",
    "\n",
    "ncdata = nc.Dataset(_path + model_prev, \"r\")\n",
    "curr_data = process_pr(ncdata, 'pr', nlat, nlon)\n",
    "model_prev = model_info(model_prev)\n",
    "\n",
    "xhist.append(curr_data)\n",
    "\n",
    "while _files:\n",
    "    model_curr = _files.pop()\n",
    "    \n",
    "    ncdata = nc.Dataset(_path + model_curr, \"r\")\n",
    "    curr_data = process_pr(ncdata, 'pr', nlat, nlon)\n",
    "    \n",
    "    model_curr = model_info(model_curr)    \n",
    "    if model_prev == model_curr:\n",
    "        xhist[i] = np.vstack([xhist[i], curr_data])\n",
    "    else:\n",
    "        xhist.append(curr_data)\n",
    "        i += 1\n",
    "    \n",
    "    model_prev = model_curr\n",
    "    print(i, model_curr)"
   ]
  },
  {
   "cell_type": "code",
   "execution_count": 7,
   "metadata": {},
   "outputs": [
    {
     "data": {
      "text/plain": [
       "[(0, (1980, 90, 180)),\n",
       " (1, (1980, 90, 180)),\n",
       " (2, (1980, 90, 180)),\n",
       " (3, (1980, 90, 180)),\n",
       " (4, (1980, 90, 180)),\n",
       " (5, (1980, 90, 180)),\n",
       " (6, (1980, 90, 180)),\n",
       " (7, (1980, 90, 180)),\n",
       " (8, (1980, 90, 180)),\n",
       " (9, (1980, 90, 180)),\n",
       " (10, (1980, 90, 180)),\n",
       " (11, (1980, 90, 180)),\n",
       " (12, (1980, 90, 180)),\n",
       " (13, (1980, 90, 180)),\n",
       " (14, (1980, 90, 180)),\n",
       " (15, (1980, 90, 180)),\n",
       " (16, (1980, 90, 180)),\n",
       " (17, (1980, 90, 180)),\n",
       " (18, (1980, 90, 180)),\n",
       " (19, (1980, 90, 180)),\n",
       " (20, (1980, 90, 180)),\n",
       " (21, (1980, 90, 180)),\n",
       " (22, (1980, 90, 180)),\n",
       " (23, (1980, 90, 180)),\n",
       " (24, (1980, 90, 180)),\n",
       " (25, (1980, 90, 180)),\n",
       " (26, (1980, 90, 180)),\n",
       " (27, (780, 90, 180)),\n",
       " (28, (1980, 90, 180)),\n",
       " (29, (1980, 90, 180)),\n",
       " (30, (1980, 90, 180))]"
      ]
     },
     "execution_count": 7,
     "metadata": {},
     "output_type": "execute_result"
    }
   ],
   "source": [
    "[(i, x.shape) for i, x in enumerate(xhist)]"
   ]
  },
  {
   "cell_type": "code",
   "execution_count": 8,
   "metadata": {},
   "outputs": [],
   "source": [
    "xhist2 = []\n",
    "for x in xhist:\n",
    "    if x.shape[0] == 1980:\n",
    "        xhist2.append(x)\n",
    "#     else:\n",
    "#         xhist2.append(x)"
   ]
  },
  {
   "cell_type": "code",
   "execution_count": 9,
   "metadata": {},
   "outputs": [
    {
     "data": {
      "text/plain": [
       "[(1980, 90, 180),\n",
       " (1980, 90, 180),\n",
       " (1980, 90, 180),\n",
       " (1980, 90, 180),\n",
       " (1980, 90, 180),\n",
       " (1980, 90, 180),\n",
       " (1980, 90, 180),\n",
       " (1980, 90, 180),\n",
       " (1980, 90, 180),\n",
       " (1980, 90, 180),\n",
       " (1980, 90, 180),\n",
       " (1980, 90, 180),\n",
       " (1980, 90, 180),\n",
       " (1980, 90, 180),\n",
       " (1980, 90, 180),\n",
       " (1980, 90, 180),\n",
       " (1980, 90, 180),\n",
       " (1980, 90, 180),\n",
       " (1980, 90, 180),\n",
       " (1980, 90, 180),\n",
       " (1980, 90, 180),\n",
       " (1980, 90, 180),\n",
       " (1980, 90, 180),\n",
       " (1980, 90, 180),\n",
       " (1980, 90, 180),\n",
       " (1980, 90, 180),\n",
       " (1980, 90, 180),\n",
       " (1980, 90, 180),\n",
       " (1980, 90, 180),\n",
       " (1980, 90, 180)]"
      ]
     },
     "execution_count": 9,
     "metadata": {},
     "output_type": "execute_result"
    }
   ],
   "source": [
    "[x.shape for x in xhist2]"
   ]
  },
  {
   "cell_type": "code",
   "execution_count": 10,
   "metadata": {},
   "outputs": [],
   "source": [
    "xhist = np.stack(xhist2, axis = 1)"
   ]
  },
  {
   "cell_type": "code",
   "execution_count": null,
   "metadata": {},
   "outputs": [],
   "source": []
  },
  {
   "cell_type": "code",
   "execution_count": 11,
   "metadata": {},
   "outputs": [
    {
     "name": "stdout",
     "output_type": "stream",
     "text": [
      "1 ['ACCESS-ESM1-5', 'r2i1p1f1']\n",
      "2 ['CAMS-CSM1-0', 'r1i1p1f1']\n",
      "3 ['CAMS-CSM1-0', 'r2i1p1f1']\n"
     ]
    },
    {
     "name": "stderr",
     "output_type": "stream",
     "text": [
      "/tmp/ipykernel_2343/2416024827.py:2: UserWarning: WARNING: missing_value not used since it\n",
      "cannot be safely cast to variable data type\n",
      "  _data = np.array(ncdata.variables[var])\n"
     ]
    },
    {
     "name": "stdout",
     "output_type": "stream",
     "text": [
      "4 ['CESM2-WACCM', 'r1i1p1f1']\n",
      "4 ['CESM2-WACCM', 'r1i1p1f1']\n",
      "5 ['CESM2-WACCM', 'r2i1p1f1']\n",
      "5 ['CESM2-WACCM', 'r2i1p1f1']\n",
      "6 ['CIESM', 'r1i1p1f1']\n",
      "7 ['CMCC-CM2-SR5', 'r1i1p1f1']\n",
      "8 ['CMCC-ESM2', 'r1i1p1f1']\n",
      "9 ['CNRM-ESM2-1', 'r1i1p1f2']\n",
      "10 ['CNRM-ESM2-1', 'r2i1p1f2']\n",
      "11 ['FGOALS-f3-L', 'r1i1p1f1']\n",
      "12 ['FIO-ESM-2-0', 'r2i1p1f1']\n",
      "13 ['GFDL-ESM4', 'r1i1p1f1']\n",
      "14 ['GFDL-ESM4', 'r3i1p1f1']\n",
      "15 ['IPSL-CM6A-LR', 'r1i1p1f1']\n",
      "16 ['IPSL-CM6A-LR', 'r2i1p1f1']\n",
      "17 ['IPSL-CM6A-LR', 'r3i1p1f1']\n",
      "18 ['KACE-1-0-G', 'r1i1p1f1']\n",
      "19 ['KACE-1-0-G', 'r3i1p1f1']\n",
      "20 ['MIROC6', 'r1i1p1f1']\n",
      "21 ['MIROC6', 'r3i1p1f1']\n",
      "22 ['MPI-ESM1-2-LR', 'r1i1p1f1']\n",
      "22 ['MPI-ESM1-2-LR', 'r1i1p1f1']\n",
      "22 ['MPI-ESM1-2-LR', 'r1i1p1f1']\n",
      "22 ['MPI-ESM1-2-LR', 'r1i1p1f1']\n",
      "22 ['MPI-ESM1-2-LR', 'r1i1p1f1']\n",
      "23 ['MPI-ESM1-2-LR', 'r2i1p1f1']\n",
      "23 ['MPI-ESM1-2-LR', 'r2i1p1f1']\n",
      "23 ['MPI-ESM1-2-LR', 'r2i1p1f1']\n",
      "23 ['MPI-ESM1-2-LR', 'r2i1p1f1']\n",
      "23 ['MPI-ESM1-2-LR', 'r2i1p1f1']\n",
      "24 ['MRI-ESM2-0', 'r1i1p1f1']\n",
      "25 ['MRI-ESM2-0', 'r2i1p1f1']\n",
      "25 ['MRI-ESM2-0', 'r2i1p1f1']\n",
      "26 ['NESM3', 'r1i1p1f1']\n",
      "27 ['NorESM2-LM', 'r1i1p1f1']\n",
      "27 ['NorESM2-LM', 'r1i1p1f1']\n",
      "27 ['NorESM2-LM', 'r1i1p1f1']\n",
      "27 ['NorESM2-LM', 'r1i1p1f1']\n",
      "27 ['NorESM2-LM', 'r1i1p1f1']\n",
      "27 ['NorESM2-LM', 'r1i1p1f1']\n",
      "27 ['NorESM2-LM', 'r1i1p1f1']\n",
      "27 ['NorESM2-LM', 'r1i1p1f1']\n",
      "27 ['NorESM2-LM', 'r1i1p1f1']\n",
      "28 ['NorESM2-LM', 'r2i1p1f1']\n",
      "28 ['NorESM2-LM', 'r2i1p1f1']\n",
      "28 ['NorESM2-LM', 'r2i1p1f1']\n",
      "28 ['NorESM2-LM', 'r2i1p1f1']\n",
      "28 ['NorESM2-LM', 'r2i1p1f1']\n",
      "28 ['NorESM2-LM', 'r2i1p1f1']\n",
      "28 ['NorESM2-LM', 'r2i1p1f1']\n",
      "28 ['NorESM2-LM', 'r2i1p1f1']\n",
      "28 ['NorESM2-LM', 'r2i1p1f1']\n",
      "29 ['NorESM2-MM', 'r1i1p1f1']\n",
      "29 ['NorESM2-MM', 'r1i1p1f1']\n",
      "29 ['NorESM2-MM', 'r1i1p1f1']\n",
      "29 ['NorESM2-MM', 'r1i1p1f1']\n",
      "29 ['NorESM2-MM', 'r1i1p1f1']\n",
      "29 ['NorESM2-MM', 'r1i1p1f1']\n",
      "29 ['NorESM2-MM', 'r1i1p1f1']\n",
      "29 ['NorESM2-MM', 'r1i1p1f1']\n",
      "29 ['NorESM2-MM', 'r1i1p1f1']\n",
      "30 ['NorESM2-MM', 'r2i1p1f1']\n",
      "30 ['NorESM2-MM', 'r2i1p1f1']\n",
      "30 ['NorESM2-MM', 'r2i1p1f1']\n",
      "30 ['NorESM2-MM', 'r2i1p1f1']\n",
      "30 ['NorESM2-MM', 'r2i1p1f1']\n",
      "30 ['NorESM2-MM', 'r2i1p1f1']\n",
      "30 ['NorESM2-MM', 'r2i1p1f1']\n",
      "30 ['NorESM2-MM', 'r2i1p1f1']\n",
      "30 ['NorESM2-MM', 'r2i1p1f1']\n",
      "31 ['UKESM1-0-LL', 'r1i1p1f2']\n",
      "31 ['UKESM1-0-LL', 'r1i1p1f2']\n"
     ]
    }
   ],
   "source": [
    "_path = 'ncdata/ssp245_pr/'\n",
    "_files = sorted(os.listdir(_path))\n",
    "_files.reverse()\n",
    "\n",
    "xrcp = []\n",
    "i = 0\n",
    "\n",
    "model_prev = _files.pop()\n",
    "\n",
    "ncdata = nc.Dataset(_path + model_prev, \"r\")\n",
    "curr_data = process_pr(ncdata, 'pr', nlat, nlon)\n",
    "\n",
    "model_prev = model_info(model_prev)\n",
    "\n",
    "xrcp.append(curr_data)\n",
    "\n",
    "while _files:\n",
    "    model_curr = _files.pop()\n",
    "    \n",
    "    ncdata = nc.Dataset(_path + model_curr, \"r\")\n",
    "    curr_data = process_pr(ncdata, 'pr', nlat, nlon)\n",
    "    \n",
    "    model_curr = model_info(model_curr)    \n",
    "    if model_prev == model_curr:\n",
    "        xrcp[i] = np.vstack([xrcp[i], curr_data])\n",
    "    else:\n",
    "        xrcp.append(curr_data)\n",
    "        i += 1\n",
    "    \n",
    "    model_prev = model_curr\n",
    "    print(i, model_curr)"
   ]
  },
  {
   "cell_type": "code",
   "execution_count": 12,
   "metadata": {},
   "outputs": [
    {
     "data": {
      "text/plain": [
       "([(1032, 90, 180),\n",
       "  (1032, 90, 180),\n",
       "  (1020, 90, 180),\n",
       "  (1020, 90, 180),\n",
       "  (1032, 90, 180),\n",
       "  (1032, 90, 180),\n",
       "  (1032, 90, 180),\n",
       "  (1032, 90, 180),\n",
       "  (1032, 90, 180),\n",
       "  (1032, 90, 180),\n",
       "  (1032, 90, 180),\n",
       "  (1032, 90, 180),\n",
       "  (1032, 90, 180),\n",
       "  (1032, 90, 180),\n",
       "  (1032, 90, 180),\n",
       "  (1032, 90, 180),\n",
       "  (1032, 90, 180),\n",
       "  (1032, 90, 180),\n",
       "  (1032, 90, 180),\n",
       "  (1032, 90, 180),\n",
       "  (1032, 90, 180),\n",
       "  (1032, 90, 180),\n",
       "  (1032, 90, 180),\n",
       "  (1032, 90, 180),\n",
       "  (1032, 90, 180),\n",
       "  (1032, 90, 180),\n",
       "  (1032, 90, 180),\n",
       "  (1032, 90, 180),\n",
       "  (1032, 90, 180),\n",
       "  (1032, 90, 180),\n",
       "  (1032, 90, 180),\n",
       "  (1032, 90, 180)],\n",
       " 32)"
      ]
     },
     "execution_count": 12,
     "metadata": {},
     "output_type": "execute_result"
    }
   ],
   "source": [
    "[x.shape for x in xrcp], len(xrcp)"
   ]
  },
  {
   "cell_type": "code",
   "execution_count": 13,
   "metadata": {},
   "outputs": [],
   "source": [
    "xrcp2 = []\n",
    "for x in xrcp:\n",
    "    if x.shape[0] == 1032:\n",
    "        xrcp2.append(x[:-12])\n",
    "    else:\n",
    "        xrcp2.append(x)"
   ]
  },
  {
   "cell_type": "code",
   "execution_count": 14,
   "metadata": {},
   "outputs": [],
   "source": [
    "xrcp = np.stack(xrcp2, axis = 1)\n",
    "xrcp = np.delete(xrcp, 27, axis=1)\n",
    "xrcp = np.delete(xrcp, 28, axis=1)"
   ]
  },
  {
   "cell_type": "code",
   "execution_count": 15,
   "metadata": {},
   "outputs": [
    {
     "data": {
      "text/plain": [
       "(1980, 30, 90, 180)"
      ]
     },
     "execution_count": 15,
     "metadata": {},
     "output_type": "execute_result"
    }
   ],
   "source": [
    "xhist.shape"
   ]
  },
  {
   "cell_type": "code",
   "execution_count": 16,
   "metadata": {},
   "outputs": [
    {
     "data": {
      "text/plain": [
       "(1020, 30, 90, 180)"
      ]
     },
     "execution_count": 16,
     "metadata": {},
     "output_type": "execute_result"
    }
   ],
   "source": [
    "xrcp.shape"
   ]
  },
  {
   "cell_type": "code",
   "execution_count": 17,
   "metadata": {},
   "outputs": [],
   "source": [
    "!touch data/xhist_pr_hr.pkl\n",
    "!touch data/xrcp_pr_hr.pkl"
   ]
  },
  {
   "cell_type": "code",
   "execution_count": 18,
   "metadata": {},
   "outputs": [],
   "source": [
    "pickle.dump(xhist, open(\"data/xhist_pr_hr.pkl\", \"wb\"))\n",
    "pickle.dump(xrcp, open(\"data/xrcp_pr_hr.pkl\", \"wb\"))"
   ]
  },
  {
   "cell_type": "code",
   "execution_count": null,
   "metadata": {},
   "outputs": [],
   "source": []
  }
 ],
 "metadata": {
  "kernelspec": {
   "display_name": "Python 3 (ipykernel)",
   "language": "python",
   "name": "python3"
  },
  "language_info": {
   "codemirror_mode": {
    "name": "ipython",
    "version": 3
   },
   "file_extension": ".py",
   "mimetype": "text/x-python",
   "name": "python",
   "nbconvert_exporter": "python",
   "pygments_lexer": "ipython3",
   "version": "3.9.12"
  }
 },
 "nbformat": 4,
 "nbformat_minor": 4
}
